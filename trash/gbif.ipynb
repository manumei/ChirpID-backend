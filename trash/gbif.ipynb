{
 "cells": [
  {
   "cell_type": "code",
   "execution_count": 2,
   "id": "625bdcee",
   "metadata": {},
   "outputs": [
    {
     "name": "stdout",
     "output_type": "stream",
     "text": [
      "       gbifID  accessRights  bibliographicCitation  language       license  \\\n",
      "0  2243612868           NaN                    NaN       NaN  CC_BY_NC_4_0   \n",
      "1  4062431942           NaN                    NaN       NaN  CC_BY_NC_4_0   \n",
      "2  2243864926           NaN                    NaN       NaN  CC_BY_NC_4_0   \n",
      "3  4062431947           NaN                    NaN       NaN  CC_BY_NC_4_0   \n",
      "4  2243888155           NaN                    NaN       NaN  CC_BY_NC_4_0   \n",
      "\n",
      "   modified                                publisher  \\\n",
      "0       NaN  Xeno-canto Foundation for Nature Sounds   \n",
      "1       NaN  Xeno-canto Foundation for Nature Sounds   \n",
      "2       NaN  Xeno-canto Foundation for Nature Sounds   \n",
      "3       NaN  Xeno-canto Foundation for Nature Sounds   \n",
      "4       NaN  Xeno-canto Foundation for Nature Sounds   \n",
      "\n",
      "                                          references   rightsHolder  type  \n",
      "0  https://data.biodiversitydata.nl/xeno-canto/ob...    Bob Planqué   NaN  \n",
      "1  https://data.biodiversitydata.nl/xeno-canto/ob...        david m   NaN  \n",
      "2  https://data.biodiversitydata.nl/xeno-canto/ob...    Bob Planqué   NaN  \n",
      "3  https://data.biodiversitydata.nl/xeno-canto/ob...  Stephan Risch   NaN  \n",
      "4  https://data.biodiversitydata.nl/xeno-canto/ob...    Bob Planqué   NaN  \n"
     ]
    }
   ],
   "source": [
    "import pandas as pd\n",
    "\n",
    "# Replace with actual path\n",
    "file_path = \"data/gbif3/occurrence.txt\"\n",
    "\n",
    "# Example: Load first 10 columns (full map is in meta.xml)\n",
    "columns = [\n",
    "    \"gbifID\", \"accessRights\", \"bibliographicCitation\", \"language\", \"license\",\n",
    "    \"modified\", \"publisher\", \"references\", \"rightsHolder\", \"type\"\n",
    "]\n",
    "\n",
    "df = pd.read_csv(file_path, sep=\"\\t\", header=0, names=columns, usecols=range(len(columns)))\n",
    "print(df.head())"
   ]
  }
 ],
 "metadata": {
  "kernelspec": {
   "display_name": "birds",
   "language": "python",
   "name": "python3"
  },
  "language_info": {
   "codemirror_mode": {
    "name": "ipython",
    "version": 3
   },
   "file_extension": ".py",
   "mimetype": "text/x-python",
   "name": "python",
   "nbconvert_exporter": "python",
   "pygments_lexer": "ipython3",
   "version": "3.13.4"
  }
 },
 "nbformat": 4,
 "nbformat_minor": 5
}
