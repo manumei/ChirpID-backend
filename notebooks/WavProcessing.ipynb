{
 "cells": [
  {
   "cell_type": "markdown",
   "id": "e95c61d3",
   "metadata": {},
   "source": [
    "Este agarra los audios en wav/, los procesa, y carga los spectrograms finales a spect/"
   ]
  },
  {
   "cell_type": "markdown",
   "id": "089eb36c",
   "metadata": {},
   "source": [
    "## esto es ya processing, hay que ver donde meterlo"
   ]
  },
  {
   "cell_type": "code",
   "execution_count": null,
   "id": "0cfba78e",
   "metadata": {},
   "outputs": [],
   "source": [
    "import os, sys\n",
    "import pandas as pd\n",
    "import librosa as lbrs\n",
    "import numpy as np\n",
    "import soundfile as sf\n",
    "import matplotlib.pyplot as plt\n",
    "import noisereduce as nr\n",
    "\n",
    "sys.path.append(os.path.abspath(os.path.join(os.getcwd(), '..'))) # Para no tener problemas de relative imports with packages\n",
    "from utils import util"
   ]
  },
  {
   "cell_type": "code",
   "execution_count": null,
   "id": "c7a897ce",
   "metadata": {},
   "outputs": [],
   "source": [
    "# Functions\n",
    "def load_spectrograms(train_data, source, dest):\n",
    "    ''' Searches in the source dir, the waveform audio files present in the dataframe \n",
    "    Then creates the noise-reduced spectrograms and saves them in the dest dir as pngs. '''\n",
    "\n",
    "    for row in train_data.itertuples(index=False):\n",
    "        name = row.filename.replace('.ogg', '')\n",
    "        class_id = row.class_id\n",
    "        audio_path = os.path.join(source, str(class_id),f\"{name}.wav\")\n",
    "        \n",
    "        wav, srate = lbrs.load(audio_path, sr=32000)\n",
    "        wav=nr.reduce_noise(y=wav, sr=srate, stationary=False)\n",
    "        if np.any(~np.isfinite(wav)):\n",
    "            print(f\"Warning: {name} from {class_id} contains nan or inf values, replacing with zeros.\")\n",
    "            # TODO CHECK THESE LINES, CHECK HOW TO PROPERLY HANDLE THIS\n",
    "            wav = np.nan_to_num(wav, nan=0.0, posinf=0.0, neginf=0.0) # clean up nans or infs\n",
    "        \n",
    "        ffourier = lbrs.stft(wav)\n",
    "        S=lbrs.amplitude_to_db(np.abs(ffourier), ref=np.max)\n",
    "\n",
    "        class_dir = os.path.join(dest, str(class_id))                             # crear directorio para la clase\n",
    "        os.makedirs(class_dir, exist_ok=True)\n",
    "        filename = f\"{name}.png\"\n",
    "        path = os.path.join(class_dir, filename)\n",
    "        plt.imsave(path, S, cmap='inferno', format='png') # save spectrogram as png"
   ]
  },
  {
   "cell_type": "code",
   "execution_count": null,
   "id": "0fb65cd4",
   "metadata": {},
   "outputs": [],
   "source": [
    "# Define Paths\n",
    "wavs_dir = os.path.join('..', 'database', 'assets', 'wav')\n",
    "spect_dir = os.path.join('..', 'database', 'assets', 'spect')\n",
    "train_data = pd.read_csv(os.path.join('..', 'database', 'meta', 'train_data.csv'))"
   ]
  },
  {
   "cell_type": "code",
   "execution_count": null,
   "id": "2780ecad",
   "metadata": {},
   "outputs": [],
   "source": [
    "# Reset, then load the raw audio files\n",
    "print(\"Resetting spectrogram imgs...\")\n",
    "util.clean_dir(spect_dir)\n",
    "\n",
    "print(\"Loading spectrogram imgs...\")\n",
    "load_spectrograms(train_data, wavs_dir, spect_dir)"
   ]
  }
 ],
 "metadata": {
  "kernelspec": {
   "display_name": "birds",
   "language": "python",
   "name": "python3"
  },
  "language_info": {
   "codemirror_mode": {
    "name": "ipython",
    "version": 3
   },
   "file_extension": ".py",
   "mimetype": "text/x-python",
   "name": "python",
   "nbconvert_exporter": "python",
   "pygments_lexer": "ipython3",
   "version": "3.13.4"
  }
 },
 "nbformat": 4,
 "nbformat_minor": 5
}
