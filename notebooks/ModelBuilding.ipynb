{
 "cells": [
  {
   "cell_type": "markdown",
   "id": "5f7495a4",
   "metadata": {},
   "source": [
    "In this one, test the different architectures with the top candidate configurations"
   ]
  }
 ],
 "metadata": {
  "language_info": {
   "name": "python"
  }
 },
 "nbformat": 4,
 "nbformat_minor": 5
}
