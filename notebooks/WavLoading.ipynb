{
 "cells": [
  {
   "cell_type": "markdown",
   "id": "e485783a",
   "metadata": {},
   "source": [
    "Este agarra los .oggs en raw/ y los carga en format .wav a wav/"
   ]
  },
  {
   "cell_type": "code",
   "execution_count": 1,
   "id": "15775431",
   "metadata": {},
   "outputs": [],
   "source": [
    "import os\n",
    "import pandas as pd\n",
    "import librosa as lbrs\n",
    "import numpy as np\n",
    "import soundfile as sf\n",
    "import shutil"
   ]
  },
  {
   "cell_type": "code",
   "execution_count": null,
   "id": "7a6ed08d",
   "metadata": {},
   "outputs": [],
   "source": [
    "# Functions\n",
    "def load_wav_audios(train_data, source_dir, dest_dir):\n",
    "    ''' Searches in the source_dir, the audio files present in the dataframe and copies them to the dest_dir.'''\n",
    "\n",
    "    for row in train_data.itertuples(index=False):\n",
    "        filename = row.filename\n",
    "        class_id = row.class_id\n",
    "        audio_path = os.path.join(source_dir, filename)\n",
    "        \n",
    "        wav, srate = lbrs.load(audio_path, sr=32000)\n",
    "        class_dir = os.path.join(dest_dir, str(class_id))\n",
    "        os.makedirs(class_dir, exist_ok=True)\n",
    "        output_path = os.path.join(class_dir, os.path.splitext(filename)[0] + '.wav')\n",
    "        sf.write(output_path, wav, srate)\n",
    "\n",
    "def clean_dir(dest_dir):\n",
    "    ''' Deletes the raw audio files in the dest_dir.'''\n",
    "    if os.path.exists(dest_dir):\n",
    "        shutil.rmtree(dest_dir)\n",
    "    os.makedirs(dest_dir, exist_ok=True)"
   ]
  },
  {
   "cell_type": "code",
   "execution_count": 3,
   "id": "5af2d529",
   "metadata": {},
   "outputs": [],
   "source": [
    "# Define Paths\n",
    "oggs_dir = os.path.join('..', 'database', 'assets', 'raw')\n",
    "wavs_dir = os.path.join('..', 'database', 'assets', 'wav') \n",
    "train_data = pd.read_csv(os.path.join('..', 'database', 'meta', 'train_data.csv'))"
   ]
  },
  {
   "cell_type": "code",
   "execution_count": null,
   "id": "187ea35b",
   "metadata": {},
   "outputs": [
    {
     "name": "stdout",
     "output_type": "stream",
     "text": [
      "Resetting wav audio files...\n",
      "Loading wav audio files...\n"
     ]
    }
   ],
   "source": [
    "# Reset, then load the raw audio files\n",
    "print(\"Resetting wav audio files...\")\n",
    "clean_dir(wavs_dir)\n",
    "\n",
    "print(\"Loading wav audio files...\")\n",
    "load_wav_audios(train_data, oggs_dir, wavs_dir)"
   ]
  }
 ],
 "metadata": {
  "kernelspec": {
   "display_name": "birds",
   "language": "python",
   "name": "python3"
  },
  "language_info": {
   "codemirror_mode": {
    "name": "ipython",
    "version": 3
   },
   "file_extension": ".py",
   "mimetype": "text/x-python",
   "name": "python",
   "nbconvert_exporter": "python",
   "pygments_lexer": "ipython3",
   "version": "3.13.4"
  }
 },
 "nbformat": 4,
 "nbformat_minor": 5
}
