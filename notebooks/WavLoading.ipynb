{
 "cells": [
  {
   "cell_type": "markdown",
   "id": "e485783a",
   "metadata": {},
   "source": [
    "Este agarra los .oggs en raw/ y los carga en format .wav a wav/"
   ]
  },
  {
   "cell_type": "code",
   "execution_count": null,
   "id": "15775431",
   "metadata": {},
   "outputs": [],
   "source": [
    "import os, sys\n",
    "import pandas as pd\n",
    "import librosa as lbrs\n",
    "import numpy as np\n",
    "import soundfile as sf\n",
    "\n",
    "sys.path.append(os.path.abspath(os.path.join(os.getcwd(), '..'))) # Para no tener problemas de relative imports with packages\n",
    "from utils import util"
   ]
  },
  {
   "cell_type": "code",
   "execution_count": null,
   "id": "7a6ed08d",
   "metadata": {},
   "outputs": [],
   "source": [
    "# Functions\n",
    "def load_wav_audios(train_data, source, dest):\n",
    "    ''' Searches in the source dir, the audio files present in the dataframe, and copies them as .wav to the dest dir.'''\n",
    "\n",
    "    for row in train_data.itertuples(index=False):\n",
    "        filename = row.filename\n",
    "        class_id = row.class_id\n",
    "        audio_path = os.path.join(source, filename)\n",
    "        \n",
    "        wav, srate = lbrs.load(audio_path, sr=32000)\n",
    "        class_dir = os.path.join(dest, str(class_id))\n",
    "        os.makedirs(class_dir, exist_ok=True)\n",
    "        output_path = os.path.join(class_dir, os.path.splitext(filename)[0] + '.wav')\n",
    "        sf.write(output_path, wav, srate)"
   ]
  },
  {
   "cell_type": "code",
   "execution_count": null,
   "id": "5af2d529",
   "metadata": {},
   "outputs": [],
   "source": [
    "# Define Paths\n",
    "oggs_dir = os.path.join('..', 'database', 'assets', 'raw')\n",
    "wavs_dir = os.path.join('..', 'database', 'assets', 'wav')\n",
    "train_data = pd.read_csv(os.path.join('..', 'database', 'meta', 'train_data.csv'))"
   ]
  },
  {
   "cell_type": "code",
   "execution_count": 4,
   "id": "187ea35b",
   "metadata": {},
   "outputs": [
    {
     "name": "stdout",
     "output_type": "stream",
     "text": [
      "Resetting wav audio files...\n",
      "Loading wav audio files...\n"
     ]
    },
    {
     "name": "stderr",
     "output_type": "stream",
     "text": [
      "/usr/lib/python3/dist-packages/scipy/__init__.py:146: UserWarning: A NumPy version >=1.17.3 and <1.25.0 is required for this version of SciPy (detected version 1.26.4\n",
      "  warnings.warn(f\"A NumPy version >={np_minversion} and <{np_maxversion}\"\n"
     ]
    }
   ],
   "source": [
    "# Reset, then load the raw audio files\n",
    "print(\"Resetting wav audio files...\")\n",
    "util.clean_dir(wavs_dir)\n",
    "\n",
    "print(\"Loading wav audio files...\")\n",
    "load_wav_audios(train_data, oggs_dir, wavs_dir)"
   ]
  }
 ],
 "metadata": {
  "kernelspec": {
   "display_name": "Python 3",
   "language": "python",
   "name": "python3"
  },
  "language_info": {
   "codemirror_mode": {
    "name": "ipython",
    "version": 3
   },
   "file_extension": ".py",
   "mimetype": "text/x-python",
   "name": "python",
   "nbconvert_exporter": "python",
   "pygments_lexer": "ipython3",
   "version": "3.10.12"
  }
 },
 "nbformat": 4,
 "nbformat_minor": 5
}
