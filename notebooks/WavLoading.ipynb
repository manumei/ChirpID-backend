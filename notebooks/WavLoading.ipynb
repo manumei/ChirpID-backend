{
 "cells": [
  {
   "cell_type": "markdown",
   "id": "e485783a",
   "metadata": {},
   "source": [
    "Este agarra los .oggs en raw/ y los carga en format .wav a wav/"
   ]
  }
 ],
 "metadata": {
  "language_info": {
   "name": "python"
  }
 },
 "nbformat": 4,
 "nbformat_minor": 5
}
