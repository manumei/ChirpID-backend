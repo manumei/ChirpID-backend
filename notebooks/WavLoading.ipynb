{
 "cells": [
  {
   "cell_type": "markdown",
   "id": "e485783a",
   "metadata": {},
   "source": [
    "Este agarra los .oggs en raw/ y los carga en format .wav a wav/"
   ]
  },
  {
   "cell_type": "code",
   "execution_count": 1,
   "id": "15775431",
   "metadata": {},
   "outputs": [],
   "source": [
    "import os\n",
    "import pandas as pd\n",
    "import librosa as lbrs\n",
    "import numpy as np\n",
    "import soundfile as sf\n",
    "import shutil"
   ]
  },
  {
   "cell_type": "code",
   "execution_count": null,
   "id": "5af2d529",
   "metadata": {},
   "outputs": [
    {
     "name": "stderr",
     "output_type": "stream",
     "text": [
      "/usr/lib/python3/dist-packages/scipy/__init__.py:146: UserWarning: A NumPy version >=1.17.3 and <1.25.0 is required for this version of SciPy (detected version 1.26.4\n",
      "  warnings.warn(f\"A NumPy version >={np_minversion} and <{np_maxversion}\"\n"
     ]
    }
   ],
   "source": [
    "## Load oggs into wav format, chop them, save them in class folder in database/assets/wav\n",
    "\n",
    "# defining params\n",
    "\n",
    "csv_path = os.path.join(os.pardir, 'database', 'meta', 'train_data.csv') # ../database/meta/train_data.csv\n",
    "abs_csv_path = os.path.abspath(csv_path)    # /home/.../database/meta/train_data.csv\n",
    "train_data=pd.read_csv(abs_csv_path)\n",
    "\n",
    "output_dir = os.path.join(os.pardir, 'database', 'assets', 'wav') \n",
    "output_dir = os.path.abspath(output_dir)\n",
    "\n",
    "input_dir = os.path.join(os.pardir, 'database', 'assets', 'raw')\n",
    "input_dir = os.path.abspath(input_dir)\n",
    "\n",
    "# clear out wav folder\n",
    "if os.path.exists(output_dir):\n",
    "    shutil.rmtree(output_dir)\n",
    "os.makedirs(output_dir, exist_ok=True)\n",
    "\n",
    "# action below\n",
    "\n",
    "for row in train_data.itertuples(index=False):\n",
    "    filename = row.filename\n",
    "    class_id = row.class_id\n",
    "    audio_path = os.path.join(input_dir, filename)\n",
    "    \n",
    "    wav, srate = lbrs.load(audio_path, sr=32000)\n",
    "    class_dir = os.path.join(output_dir, str(class_id))\n",
    "    os.makedirs(class_dir, exist_ok=True)\n",
    "    output_path = os.path.join(class_dir, os.path.splitext(filename)[0] + '.wav')\n",
    "    sf.write(output_path, wav, srate)\n"
   ]
  }
 ],
 "metadata": {
  "kernelspec": {
   "display_name": "Python 3",
   "language": "python",
   "name": "python3"
  },
  "language_info": {
   "codemirror_mode": {
    "name": "ipython",
    "version": 3
   },
   "file_extension": ".py",
   "mimetype": "text/x-python",
   "name": "python",
   "nbconvert_exporter": "python",
   "pygments_lexer": "ipython3",
   "version": "3.10.12"
  }
 },
 "nbformat": 4,
 "nbformat_minor": 5
}
