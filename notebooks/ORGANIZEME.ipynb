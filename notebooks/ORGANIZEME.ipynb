{
 "cells": [
  {
   "cell_type": "markdown",
   "id": "089eb36c",
   "metadata": {},
   "source": [
    "## esto es ya processing, hay que ver donde meterlo"
   ]
  },
  {
   "cell_type": "code",
   "execution_count": null,
   "id": "0cfba78e",
   "metadata": {},
   "outputs": [],
   "source": [
    "import librosa as lbrs\n",
    "import numpy as np\n",
    "import soundfile as sf"
   ]
  },
  {
   "cell_type": "code",
   "execution_count": null,
   "id": "2780ecad",
   "metadata": {},
   "outputs": [],
   "source": [
    "## Load oggs into wav format, save them in \"wavs\" array and in 'database/assets/wav'\n",
    "\n",
    "# defining params\n",
    "wavs=[]\n",
    "output_dir = 'database/assets/wav'\n",
    "input_dir = 'database/assets/raw'\n",
    "\n",
    "# action below\n",
    "\n",
    "for row in train_metadata.itertuples(index=False):\n",
    "    filename = row.filename\n",
    "    class_id = row.class_id\n",
    "    audio_path = os.path.join(input_dir, filename)\n",
    "    \n",
    "    wav, srate = lbrs.load(audio_path, sr=None)\n",
    "    duration = len(wav) / srate\n",
    "    wavs.append(wav)\n",
    "\n",
    "    os.makedirs(output_dir, exist_ok=True)\n",
    "    output_path = os.path.join(output_dir, filename.replace('.ogg', '.wav'))\n",
    "    sf.write(output_path, wav, srate)"
   ]
  },
  {
   "cell_type": "code",
   "execution_count": null,
   "id": "59cf53af",
   "metadata": {},
   "outputs": [],
   "source": [
    "pajaro=wavs[0]\n",
    "\n",
    "# fourier -> espectograma en db -> grafico\n",
    "\n",
    "ffourier=lbrs.stft(pajaro)\n",
    "S_db = lbrs.amplitude_to_db(np.abs(ffourier), ref=np.max)          # spectogram in dB\n",
    "\n",
    "plt.figure(figsize=(10, 4))\n",
    "plt.imshow(S_db, aspect='auto', origin='lower', cmap='viridis')\n",
    "plt.colorbar(format='%+2.0f dB')\n",
    "plt.title('Spectrogram (dB)')\n",
    "plt.xlabel('Frames/samples')\n",
    "plt.ylabel('Frequency bins')\n",
    "plt.tight_layout()\n",
    "plt.show()"
   ]
  },
  {
   "cell_type": "code",
   "execution_count": null,
   "id": "a9dc0465",
   "metadata": {},
   "outputs": [],
   "source": [
    "# calculo de energia para este pajaro. revisar hop\n",
    "hop=1\n",
    "rms = lbrs.feature.rms(S=ffourier, hop_length=hop)  # root-mean-square value for each window, hop-length es la cantidad de frames de audio que se usan para calcular cada valor de energía\n",
    "print(\"La energia de este pájaro en cada ventana de\", hop,\"frames =\", rms)\n",
    "print(\"La suma de las energías =\", np.sum(rms))"
   ]
  }
 ],
 "metadata": {
  "kernelspec": {
   "display_name": "base",
   "language": "python",
   "name": "python3"
  },
  "language_info": {
   "name": "python",
   "version": "3.12.4"
  }
 },
 "nbformat": 4,
 "nbformat_minor": 5
}
