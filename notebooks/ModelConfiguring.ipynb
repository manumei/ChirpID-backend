{
 "cells": [
  {
   "cell_type": "markdown",
   "id": "ee4df743",
   "metadata": {},
   "source": [
    "Used for testing configurations for models"
   ]
  }
 ],
 "metadata": {
  "language_info": {
   "name": "python"
  }
 },
 "nbformat": 4,
 "nbformat_minor": 5
}
