{
 "cells": [
  {
   "cell_type": "markdown",
   "id": "078545a6",
   "metadata": {},
   "source": [
    "Este agarra los datos del csv con la matriz de grayscale de cada espectrograma, y se los pasa al modelo de CNN de PyTorch (definido en aux file models.py), los guarda para poder llamarlo sin re-entrenar desde otros archivos"
   ]
  },
  {
   "cell_type": "code",
   "execution_count": null,
   "id": "b882da29",
   "metadata": {},
   "outputs": [],
   "source": [
    "import os, sys\n",
    "import pandas as pd\n",
    "import numpy as np\n",
    "import torch\n",
    "from torch.utils.data import TensorDataset, DataLoader\n",
    "import torch.nn as nn\n",
    "import torch.optim as optim\n",
    "import matplotlib.pyplot as plt\n",
    "from sklearn.model_selection import train_test_split\n",
    "from tqdm import tqdm\n",
    "import torch.nn.functional as F\n",
    "\n",
    "sys.path.append(os.path.abspath(os.path.join(os.getcwd(), '..')))\n",
    "from utils import util, models, split"
   ]
  },
  {
   "cell_type": "code",
   "execution_count": 3,
   "id": "5744e5ac",
   "metadata": {},
   "outputs": [
    {
     "name": "stdout",
     "output_type": "stream",
     "text": [
      "Using device: cuda\n",
      "NVIDIA GeForce RTX 5080\n"
     ]
    }
   ],
   "source": [
    "device = torch.device(\"cuda\" if torch.cuda.is_available() else \"cpu\")\n",
    "print(f\"Using device: {device}\")\n",
    "if device.type == 'cuda':\n",
    "    print(torch.cuda.get_device_name(device))\n",
    "else:\n",
    "    print(\"CUDA not available\")"
   ]
  },
  {
   "cell_type": "code",
   "execution_count": null,
   "id": "ae6d270c",
   "metadata": {},
   "outputs": [],
   "source": [
    "# UNCOMMENT THE ONE BEING USED\n",
    "\n",
    "# NOT NOISE-REDUCED\n",
    "df = pd.read_csv(os.path.join('..', 'database', 'meta', 'final', 'train_data.csv'))\n",
    "\n",
    "# NOISE-REDUCED\n",
    "# df = pd.read_csv(os.path.join('..', 'database', 'meta', 'final', 'train_data2.csv'))"
   ]
  },
  {
   "cell_type": "code",
   "execution_count": null,
   "id": "3f9e4b40",
   "metadata": {},
   "outputs": [],
   "source": [
    "# Extract labels, authors, and pixel values\n",
    "labels = df['label'].values.astype(np.int64)\n",
    "authors = df['author'].values\n",
    "features = df.drop(columns=['label', 'author']).values.astype(np.float32)\n",
    "# Convert to 0-1 range first, then standardization will be applied per fold\n",
    "features /= 255.0\n",
    "features = features.reshape(-1, 1, 313, 224)\n",
    "\n",
    "print(\"features shape:\", features.shape)\n",
    "print(\"labels shape:\", labels.shape)\n",
    "print(\"authors shape:\", authors.shape)\n",
    "\n",
    "# Create metadata DataFrame for splitting (with sample indices)\n",
    "metadata_df = pd.DataFrame({\n",
    "    'sample_idx': range(len(df)),\n",
    "    'class_id': labels,\n",
    "    'author': authors,\n",
    "    'usable_segments': 1  # Each sample represents 1 segment\n",
    "})\n",
    "\n",
    "print(\"metadata_df shape:\", metadata_df.shape)\n",
    "print(\"Unique authors:\", len(metadata_df['author'].unique()))\n",
    "print(\"Unique classes:\", len(metadata_df['class_id'].unique()))"
   ]
  },
  {
   "cell_type": "code",
   "execution_count": null,
   "id": "f77f1a0c",
   "metadata": {},
   "outputs": [],
   "source": [
    "plt.figure(figsize=(10, 5))\n",
    "df['label'].value_counts().sort_index().plot(kind='bar')\n",
    "plt.xlabel('Label')\n",
    "plt.ylabel('Number of Samples')\n",
    "plt.title('Number of Samples per Label')\n",
    "plt.show()"
   ]
  },
  {
   "cell_type": "code",
   "execution_count": null,
   "id": "9406449f",
   "metadata": {},
   "outputs": [],
   "source": [
    "import importlib\n",
    "importlib.reload(models)\n",
    "importlib.reload(util)\n",
    "importlib.reload(split)\n",
    "\n",
    "# Reload to pick up the StandardizedDataset fix and scheduler changes\n",
    "from utils import util"
   ]
  },
  {
   "cell_type": "code",
   "execution_count": null,
   "id": "f0dd6e4b",
   "metadata": {},
   "outputs": [],
   "source": [
    "# Prepare tensors\n",
    "X_tensor = torch.tensor(features, dtype=torch.float32)\n",
    "y_tensor = torch.tensor(labels, dtype=torch.long)\n",
    "dataset = TensorDataset(X_tensor, y_tensor)"
   ]
  },
  {
   "cell_type": "markdown",
   "id": "3ff7b142",
   "metadata": {},
   "source": [
    "## K Fold Training with Predefined Splits"
   ]
  },
  {
   "cell_type": "code",
   "execution_count": null,
   "id": "efb64d8f",
   "metadata": {},
   "outputs": [],
   "source": [
    "# Find the best K-fold splits using author grouping\n",
    "print(\"Finding best 4-fold split with author grouping...\")\n",
    "best_folds, best_score, best_seed = split.search_best_group_seed_kfold(\n",
    "    df=metadata_df,\n",
    "    max_attempts=30_000,\n",
    "    min_val_segments=0,\n",
    "    n_splits=4\n",
    ")"
   ]
  },
  {
   "cell_type": "code",
   "execution_count": null,
   "id": "a6cd6544",
   "metadata": {},
   "outputs": [],
   "source": [
    "print(f\"\\nBest fold configuration found with seed {best_seed}\")\n",
    "print(f\"Average stratification score: {best_score:.3f}\")\n",
    "\n",
    "# Convert fold indices back to sample indices for dataset\n",
    "fold_indices = []\n",
    "for train_df, val_df in best_folds:\n",
    "    train_indices = train_df['sample_idx'].values\n",
    "    val_indices = val_df['sample_idx'].values\n",
    "    fold_indices.append((train_indices, val_indices))\n",
    "\n",
    "print(f\"Created {len(fold_indices)} folds with proper author grouping\")"
   ]
  },
  {
   "cell_type": "code",
   "execution_count": null,
   "id": "ce43ec96",
   "metadata": {},
   "outputs": [],
   "source": [
    "# Run K-Fold training with predefined folds and standardization\n",
    "results, best_results = util.k_fold_cross_validation_with_predefined_folds(\n",
    "    dataset=dataset,\n",
    "    fold_indices=fold_indices,\n",
    "    model_class=models.BirdCNN,\n",
    "    num_classes=31,\n",
    "    num_epochs=220,\n",
    "    batch_size=24,\n",
    "    lr=0.001,\n",
    "    aggregate_predictions=True,\n",
    "    use_class_weights=False,\n",
    "    standardize=True\n",
    ")"
   ]
  },
  {
   "cell_type": "code",
   "execution_count": null,
   "id": "d11b8105",
   "metadata": {},
   "outputs": [],
   "source": [
    "# Plot accuracy and loss curves\n",
    "util.plot_kfold_results(results, best_results)"
   ]
  },
  {
   "cell_type": "markdown",
   "id": "a9411378",
   "metadata": {},
   "source": [
    "## Single Fold Training with Predefined Splits"
   ]
  },
  {
   "cell_type": "code",
   "execution_count": null,
   "id": "dbc91a39",
   "metadata": {},
   "outputs": [],
   "source": [
    "# Find the best 80-20 split using author grouping\n",
    "print(\"Finding best 80-20 split with author grouping...\")\n",
    "dev_df, test_df, best_split_score = split.search_best_group_seed(\n",
    "    df=metadata_df,\n",
    "    test_size=0.2,\n",
    "    max_attempts=10_000,\n",
    "    min_test_segments=5\n",
    ")\n",
    "\n",
    "# Extract indices for single fold training\n",
    "train_indices_single = dev_df['sample_idx'].values\n",
    "val_indices_single = test_df['sample_idx'].values\n",
    "\n",
    "print(f\"Best 80-20 split found with score: {best_split_score:.3f}\")\n",
    "print(f\"Train samples: {len(train_indices_single)}, Validation samples: {len(val_indices_single)}\")"
   ]
  },
  {
   "cell_type": "code",
   "execution_count": null,
   "id": "6c66a165",
   "metadata": {},
   "outputs": [],
   "source": [
    "# Run single fold training with best 80-20 split found above\n",
    "# This uses the optimal train/validation split with author grouping\n",
    "train_indices, val_indices = train_indices_single, val_indices_single\n",
    "\n",
    "single_results = util.single_fold_training_with_predefined_split(\n",
    "    dataset=dataset,\n",
    "    train_indices=train_indices,\n",
    "    val_indices=val_indices,\n",
    "    model_class=models.BirdCNN,\n",
    "    num_classes=31,\n",
    "    num_epochs=250,\n",
    "    batch_size=48,\n",
    "    lr=0.001,\n",
    "    use_class_weights=False,\n",
    "    estop=35,\n",
    "    standardize=True\n",
    ")"
   ]
  },
  {
   "cell_type": "code",
   "execution_count": null,
   "id": "3a546c3a",
   "metadata": {},
   "outputs": [],
   "source": [
    "# Plot individual training curves for single fold\n",
    "util.plot_single_fold_curve(single_results, metric_key='accuracies', title=\"Single Fold - Accuracy Curves\", ylabel=\"Accuracy\")\n",
    "util.plot_single_fold_curve(single_results, metric_key='losses', title=\"Single Fold - Loss Curves\", ylabel=\"Cross Entropy Loss\")\n",
    "util.plot_single_fold_curve(single_results, metric_key='f1s', title=\"Single Fold - F1 Score Curves\", ylabel=\"Macro F1 Score\")\n",
    "\n",
    "# Print results summary\n",
    "util.print_single_fold_results(single_results)"
   ]
  },
  {
   "cell_type": "markdown",
   "id": "5aaddb04",
   "metadata": {},
   "source": [
    "## Single Fold Training with Regular 80-20 Split"
   ]
  },
  {
   "cell_type": "code",
   "execution_count": null,
   "id": "54fc9801",
   "metadata": {},
   "outputs": [],
   "source": [
    "# Run single fold training with regular 80-20 stratified split\n",
    "single_results_80_20 = util.single_fold_training(\n",
    "    dataset=dataset,\n",
    "    model_class=models.BirdCNN,\n",
    "    num_classes=31,\n",
    "    num_epochs=250,\n",
    "    batch_size=48,\n",
    "    lr=0.001,\n",
    "    test_size=0.2,\n",
    "    random_state=435,\n",
    "    use_class_weights=False,\n",
    "    estop=35\n",
    ")"
   ]
  },
  {
   "cell_type": "code",
   "execution_count": null,
   "id": "f20b131a",
   "metadata": {},
   "outputs": [],
   "source": [
    "# Plot individual training curves for 80-20 split\n",
    "util.plot_single_fold_curve(single_results_80_20, metric_key='accuracies', title=\"80-20 Split - Accuracy Curves\", ylabel=\"Accuracy\")\n",
    "util.plot_single_fold_curve(single_results_80_20, metric_key='losses', title=\"80-20 Split - Loss Curves\", ylabel=\"Cross Entropy Loss\")\n",
    "util.plot_single_fold_curve(single_results_80_20, metric_key='f1s', title=\"80-20 Split - F1 Score Curves\", ylabel=\"Macro F1 Score\")\n",
    "\n",
    "# Print results summary\n",
    "util.print_single_fold_results(single_results_80_20)"
   ]
  },
  {
   "cell_type": "markdown",
   "id": "7518c905",
   "metadata": {},
   "source": [
    "leave this code commented for now"
   ]
  },
  {
   "cell_type": "code",
   "execution_count": null,
   "id": "3a663d51",
   "metadata": {},
   "outputs": [],
   "source": [
    "# import cProfile\n",
    "\n",
    "# cProfile.run(\n",
    "#     \"util.k_fold_cross_validation(dataset=dataset, model_class=models.BirdCNN, num_classes=28, k_folds=5, num_epochs=250, batch_size=48, lr=0.001, aggregate_predictions=True, random_state=435, use_class_weights=True)\",\n",
    "#     filename=\"../profiler/profile_output.prof\"\n",
    "# )"
   ]
  },
  {
   "cell_type": "code",
   "execution_count": null,
   "id": "f792d4e3",
   "metadata": {},
   "outputs": [],
   "source": [
    "# # Run K-Fold training with standardization\n",
    "# results_unb, best_runb = util.k_fold_cross_validation(\n",
    "#     dataset=dataset,\n",
    "#     model_class=models.BirdCNN,\n",
    "#     num_classes=28,\n",
    "#     k_folds=5,\n",
    "#     num_epochs=220,\n",
    "#     batch_size=24,\n",
    "#     lr=0.001,\n",
    "#     aggregate_predictions=True,\n",
    "#     random_state=1789,\n",
    "#     use_class_weights=False,\n",
    "#     standardize=True\n",
    "# )"
   ]
  },
  {
   "cell_type": "code",
   "execution_count": null,
   "id": "0da36922",
   "metadata": {},
   "outputs": [],
   "source": [
    "# util.plot_kfold_results(results_unb, best_runb)"
   ]
  },
  {
   "cell_type": "code",
   "execution_count": null,
   "id": "69bad7a8",
   "metadata": {},
   "outputs": [],
   "source": [
    "# # Select Name, Best Fold, and Model\n",
    "# model_name = 'bird_cnn'\n",
    "# best_model_state = results['fold_results']['fold_3']['model_state']\n",
    "# model = models.BirdCNN(num_classes=28).to(device)\n",
    "\n",
    "# # ============= Don't modify below this line ============= Ensure variables above are set correctly ============\n",
    "# model.load_state_dict(best_model_state)\n",
    "# model_dir = os.path.join('..', 'models')\n",
    "# os.makedirs(model_dir, exist_ok=True)\n",
    "# save_path = os.path.join(model_dir, f\"{model_name}.pth\")\n",
    "\n",
    "# util.save_model(model, model_name, model_save_path=save_path)\n",
    "# util.test_saved_model(save_path)"
   ]
  },
  {
   "cell_type": "markdown",
   "id": "84b1719c",
   "metadata": {},
   "source": [
    "Call Single Model"
   ]
  },
  {
   "cell_type": "code",
   "execution_count": null,
   "id": "2722a241",
   "metadata": {},
   "outputs": [],
   "source": [
    "# # Run single fold 80-20 training\n",
    "# single_results = util.single_fold_training(\n",
    "#     dataset=dataset,\n",
    "#     model_class=models.BirdCNN,\n",
    "#     num_classes=28,\n",
    "#     num_epochs=250,\n",
    "#     batch_size=48,\n",
    "#     lr=0.001,\n",
    "#     test_size=0.2,\n",
    "#     random_state=435,\n",
    "#     use_class_weights=True\n",
    "# )"
   ]
  },
  {
   "cell_type": "code",
   "execution_count": null,
   "id": "0cd677ea",
   "metadata": {},
   "outputs": [],
   "source": [
    "# # Plot individual training curves\n",
    "# util.plot_single_fold_curve(single_results, metric_key='accuracies', title=\"Single Fold - Accuracy Curves\", ylabel=\"Accuracy\")\n",
    "# util.plot_single_fold_curve(single_results, metric_key='losses', title=\"Single Fold - Loss Curves\", ylabel=\"Cross Entropy Loss\")\n",
    "# util.plot_single_fold_curve(single_results, metric_key='f1s', title=\"Single Fold - F1 Score Curves\", ylabel=\"Macro F1 Score\")\n",
    "\n",
    "# # Print results summary\n",
    "# util.print_single_fold_results(single_results)\n",
    "\n",
    "# # Save the trained model\n",
    "# util.save_model(single_results['model'], \"bird_cnn_single_fold\", model_save_path=os.path.join(model_dir, \"bird_cnn_single_fold.pth\"))"
   ]
  }
 ],
 "metadata": {
  "kernelspec": {
   "display_name": "birds",
   "language": "python",
   "name": "python3"
  },
  "language_info": {
   "codemirror_mode": {
    "name": "ipython",
    "version": 3
   },
   "file_extension": ".py",
   "mimetype": "text/x-python",
   "name": "python",
   "nbconvert_exporter": "python",
   "pygments_lexer": "ipython3",
   "version": "3.13.4"
  }
 },
 "nbformat": 4,
 "nbformat_minor": 5
}
