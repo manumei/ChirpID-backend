{
 "cells": [
  {
   "cell_type": "markdown",
   "id": "078545a6",
   "metadata": {},
   "source": [
    "Este agarra los datos del csv con la matriz de grayscale de cada espectrograma, y se los pasa al modelo de CNN de PyTorch (definido en aux file models.py), los guarda para poder llamarlo sin re-entrenar desde otros archivos"
   ]
  },
  {
   "cell_type": "code",
   "execution_count": null,
   "id": "af70d17d",
   "metadata": {},
   "outputs": [],
   "source": [
    "import pandas as pd\n",
    "import numpy as np\n",
    "import cupy as cp\n",
    "import torch"
   ]
  },
  {
   "cell_type": "code",
   "execution_count": null,
   "id": "ae6d270c",
   "metadata": {},
   "outputs": [],
   "source": [
    "# Load data\n",
    "df = pd.read_csv(os.path.join('..', 'database', 'meta', 'train_data.csv'))"
   ]
  },
  {
   "cell_type": "code",
   "execution_count": null,
   "id": "3f9e4b40",
   "metadata": {},
   "outputs": [],
   "source": [
    "# Extract labels and pixel values\n",
    "labels = df['label'].values.astype(np.int64)\n",
    "features = df.drop(columns=['label']).values.astype(np.float32)\n",
    "features /= 255.0"
   ]
  }
 ],
 "metadata": {
  "kernelspec": {
   "display_name": "birds",
   "language": "python",
   "name": "python3"
  },
  "language_info": {
   "codemirror_mode": {
    "name": "ipython",
    "version": 3
   },
   "file_extension": ".py",
   "mimetype": "text/x-python",
   "name": "python",
   "nbconvert_exporter": "python",
   "pygments_lexer": "ipython3",
   "version": "3.13.4"
  }
 },
 "nbformat": 4,
 "nbformat_minor": 5
}
