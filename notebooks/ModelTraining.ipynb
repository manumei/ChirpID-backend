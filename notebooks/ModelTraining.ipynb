{
 "cells": [
  {
   "cell_type": "markdown",
   "id": "078545a6",
   "metadata": {},
   "source": [
    "Este agarra los datos del csv con la matriz de grayscale de cada espectrograma, y se los pasa al modelo de CNN de PyTorch (definido en aux file models.py), los guarda para poder llamarlo sin re-entrenar desde otros archivos"
   ]
  },
  {
   "cell_type": "code",
   "execution_count": null,
   "id": "b882da29",
   "metadata": {},
   "outputs": [],
   "source": [
    "import os, sys\n",
    "import pandas as pd\n",
    "import numpy as np\n",
    "import torch\n",
    "from torch.utils.data import TensorDataset, DataLoader\n",
    "import torch.nn as nn\n",
    "import torch.optim as optim\n",
    "import matplotlib.pyplot as plt\n",
    "from sklearn.model_selection import train_test_split\n",
    "from tqdm import tqdm\n",
    "import torch.nn.functional as F\n",
    "\n",
    "sys.path.append(os.path.abspath(os.path.join(os.getcwd(), '..')))\n",
    "\n",
    "# New clean training API\n",
    "from utils.training_core import cross_val_training, single_fold_training\n",
    "from utils.models import BirdCNN\n",
    "from utils.evaluation_utils import plot_kfold_results, plot_single_fold_curve, print_single_fold_results\n",
    "\n",
    "# Legacy imports for backward compatibility\n",
    "from utils.dataset_utils import StandardizedDataset\n",
    "from utils.training_utils import train_single_fold, single_fold_training_with_predefined_split\n",
    "from utils.cross_validation import k_fold_cross_validation_with_predefined_folds\n",
    "import utils.split as split"
   ]
  },
  {
   "cell_type": "code",
   "execution_count": 3,
   "id": "5744e5ac",
   "metadata": {},
   "outputs": [
    {
     "name": "stdout",
     "output_type": "stream",
     "text": [
      "Using device: cuda\n",
      "NVIDIA GeForce RTX 5080\n"
     ]
    }
   ],
   "source": [
    "device = torch.device(\"cuda\" if torch.cuda.is_available() else \"cpu\")\n",
    "print(f\"Using device: {device}\")\n",
    "if device.type == 'cuda':\n",
    "    print(torch.cuda.get_device_name(device))\n",
    "else:\n",
    "    print(\"CUDA not available\")"
   ]
  },
  {
   "cell_type": "code",
   "execution_count": null,
   "id": "ae6d270c",
   "metadata": {},
   "outputs": [],
   "source": [
    "# UNCOMMENT THE ONE BEING USED\n",
    "\n",
    "# NOT NOISE-REDUCED\n",
    "df = pd.read_csv(os.path.join('..', 'database', 'meta', 'final', 'train_data.csv'))\n",
    "\n",
    "# NOISE-REDUCED\n",
    "# df = pd.read_csv(os.path.join('..', 'database', 'meta', 'final', 'train_data2.csv'))"
   ]
  },
  {
   "cell_type": "code",
   "execution_count": null,
   "id": "3f9e4b40",
   "metadata": {},
   "outputs": [],
   "source": [
    "# Extract labels, authors, and pixel values\n",
    "labels = df['label'].values.astype(np.int64)\n",
    "authors = df['author'].values\n",
    "features = df.drop(columns=['label', 'author']).values.astype(np.float32)\n",
    "# Convert to 0-1 range first, then standardization will be applied per fold\n",
    "features /= 255.0\n",
    "features = features.reshape(-1, 1, 313, 224)\n",
    "\n",
    "print(\"features shape:\", features.shape)\n",
    "print(\"labels shape:\", labels.shape)\n",
    "print(\"authors shape:\", authors.shape)\n",
    "\n",
    "# Create metadata DataFrame for splitting (with sample indices)\n",
    "metadata_df = pd.DataFrame({\n",
    "    'sample_idx': range(len(df)),\n",
    "    'class_id': labels,\n",
    "    'author': authors,\n",
    "    'usable_segments': 1  # Each sample represents 1 segment\n",
    "})\n",
    "\n",
    "print(\"metadata_df shape:\", metadata_df.shape)\n",
    "print(\"Unique authors:\", len(metadata_df['author'].unique()))\n",
    "print(\"Unique classes:\", len(metadata_df['class_id'].unique()))"
   ]
  },
  {
   "cell_type": "code",
   "execution_count": null,
   "id": "f77f1a0c",
   "metadata": {},
   "outputs": [],
   "source": [
    "plt.figure(figsize=(10, 5))\n",
    "df['label'].value_counts().sort_index().plot(kind='bar')\n",
    "plt.xlabel('Label')\n",
    "plt.ylabel('Number of Samples')\n",
    "plt.title('Number of Samples per Label')\n",
    "plt.show()"
   ]
  },
  {
   "cell_type": "code",
   "execution_count": null,
   "id": "9406449f",
   "metadata": {},
   "outputs": [],
   "source": [
    "import importlib\n",
    "import utils.models\n",
    "import utils.dataset_utils\n",
    "import utils.training_utils\n",
    "import utils.cross_validation\n",
    "import utils.evaluation_utils\n",
    "import utils.split\n",
    "\n",
    "importlib.reload(utils.models)\n",
    "importlib.reload(utils.dataset_utils)\n",
    "importlib.reload(utils.training_utils)\n",
    "importlib.reload(utils.cross_validation)\n",
    "importlib.reload(utils.evaluation_utils)\n",
    "importlib.reload(utils.split)\n",
    "\n",
    "# Import specific functions\n",
    "from utils.dataset_utils import StandardizedDataset"
   ]
  },
  {
   "cell_type": "code",
   "execution_count": null,
   "id": "f0dd6e4b",
   "metadata": {},
   "outputs": [],
   "source": [
    "# Data is now handled automatically by the new training API\n",
    "# The training functions will create the dataset internally\n",
    "print(\"Using new clean training API - data preparation is handled automatically\")"
   ]
  },
  {
   "cell_type": "markdown",
   "id": "3ff7b142",
   "metadata": {},
   "source": [
    "## K Fold Training with Predefined Splits"
   ]
  },
  {
   "cell_type": "code",
   "execution_count": null,
   "id": "efb64d8f",
   "metadata": {},
   "outputs": [],
   "source": [
    "# Split finding is now handled automatically by the new training API\n",
    "# The cross_val_training function will find optimal splits internally\n",
    "print(\"Split finding is now handled automatically by the cross_val_training function\")"
   ]
  },
  {
   "cell_type": "code",
   "execution_count": null,
   "id": "a6cd6544",
   "metadata": {},
   "outputs": [],
   "source": [
    "print(\"Fold conversion is now handled automatically by the cross_val_training function\")"
   ]
  },
  {
   "cell_type": "code",
   "execution_count": null,
   "id": "ce43ec96",
   "metadata": {},
   "outputs": [],
   "source": [
    "# Run K-Fold training using the new clean API\n",
    "results, best_results = cross_val_training(\n",
    "    features=features,\n",
    "    labels=labels,\n",
    "    authors=authors,\n",
    "    model_class=BirdCNN,\n",
    "    num_classes=31,\n",
    "    config={\n",
    "        'k_folds': 4,\n",
    "        'num_epochs': 220,\n",
    "        'batch_size': 24,\n",
    "        'learning_rate': 0.001,\n",
    "        'use_class_weights': False,\n",
    "        'early_stopping': 35,\n",
    "        'standardize': True,\n",
    "        'aggregate_predictions': True,\n",
    "        'max_split_attempts': 30000,\n",
    "        'min_val_segments': 0\n",
    "    }\n",
    ")"
   ]
  },
  {
   "cell_type": "code",
   "execution_count": null,
   "id": "d11b8105",
   "metadata": {},
   "outputs": [],
   "source": [
    "# Plot accuracy and loss curves\n",
    "plot_kfold_results(results, best_results)"
   ]
  },
  {
   "cell_type": "markdown",
   "id": "a9411378",
   "metadata": {},
   "source": [
    "## Single Fold Training with Predefined Splits"
   ]
  },
  {
   "cell_type": "code",
   "execution_count": null,
   "id": "dbc91a39",
   "metadata": {},
   "outputs": [],
   "source": [
    "# Split finding is now handled automatically by the single_fold_training function\n",
    "print(\"Split finding is now handled automatically by the single_fold_training function\")"
   ]
  },
  {
   "cell_type": "code",
   "execution_count": null,
   "id": "6c66a165",
   "metadata": {},
   "outputs": [],
   "source": [
    "# Run single fold training using the new clean API with predefined split\n",
    "single_results = single_fold_training(\n",
    "    features=features,\n",
    "    labels=labels,\n",
    "    authors=authors,\n",
    "    model_class=BirdCNN,\n",
    "    num_classes=31,\n",
    "    config={\n",
    "        'num_epochs': 250,\n",
    "        'batch_size': 48,\n",
    "        'learning_rate': 0.001,\n",
    "        'use_class_weights': False,\n",
    "        'early_stopping': 35,\n",
    "        'standardize': True,\n",
    "        'test_size': 0.2,\n",
    "        'max_split_attempts': 10000,\n",
    "        'min_test_segments': 5\n",
    "    },\n",
    "    use_predefined_split=True\n",
    ")"
   ]
  },
  {
   "cell_type": "code",
   "execution_count": null,
   "id": "3a546c3a",
   "metadata": {},
   "outputs": [],
   "source": [
    "# Plot individual training curves for single fold\n",
    "plot_single_fold_curve(single_results, metric_key='accuracies', title=\"Single Fold - Accuracy Curves\", ylabel=\"Accuracy\")\n",
    "plot_single_fold_curve(single_results, metric_key='losses', title=\"Single Fold - Loss Curves\", ylabel=\"Cross Entropy Loss\")\n",
    "plot_single_fold_curve(single_results, metric_key='f1s', title=\"Single Fold - F1 Score Curves\", ylabel=\"Macro F1 Score\")\n",
    "\n",
    "# Print results summary\n",
    "print_single_fold_results(single_results)"
   ]
  },
  {
   "cell_type": "markdown",
   "id": "5aaddb04",
   "metadata": {},
   "source": [
    "## Single Fold Training with Regular 80-20 Split"
   ]
  },
  {
   "cell_type": "code",
   "execution_count": null,
   "id": "54fc9801",
   "metadata": {},
   "outputs": [],
   "source": [
    "# Run single fold training using the new clean API with regular 80-20 split\n",
    "single_results_80_20 = single_fold_training(\n",
    "    features=features,\n",
    "    labels=labels,\n",
    "    authors=authors,\n",
    "    model_class=BirdCNN,\n",
    "    num_classes=31,\n",
    "    config={\n",
    "        'num_epochs': 250,\n",
    "        'batch_size': 48,\n",
    "        'learning_rate': 0.001,\n",
    "        'use_class_weights': False,\n",
    "        'early_stopping': 35,\n",
    "        'test_size': 0.2,\n",
    "        'random_state': 435\n",
    "    },\n",
    "    use_predefined_split=False\n",
    ")"
   ]
  },
  {
   "cell_type": "code",
   "execution_count": null,
   "id": "f20b131a",
   "metadata": {},
   "outputs": [],
   "source": [
    "# Plot individual training curves for 80-20 split\n",
    "plot_single_fold_curve(single_results_80_20, metric_key='accuracies', title=\"80-20 Split - Accuracy Curves\", ylabel=\"Accuracy\")\n",
    "plot_single_fold_curve(single_results_80_20, metric_key='losses', title=\"80-20 Split - Loss Curves\", ylabel=\"Cross Entropy Loss\")\n",
    "plot_single_fold_curve(single_results_80_20, metric_key='f1s', title=\"80-20 Split - F1 Score Curves\", ylabel=\"Macro F1 Score\")\n",
    "\n",
    "# Print results summary\n",
    "print_single_fold_results(single_results_80_20)"
   ]
  },
  {
   "cell_type": "markdown",
   "id": "7518c905",
   "metadata": {},
   "source": [
    "leave this code commented for now"
   ]
  },
  {
   "cell_type": "code",
   "execution_count": null,
   "id": "3a663d51",
   "metadata": {},
   "outputs": [],
   "source": [
    "# import cProfile\n",
    "\n",
    "# cProfile.run(\n",
    "#     \"util.k_fold_cross_validation(dataset=dataset, model_class=models.BirdCNN, num_classes=28, k_folds=5, num_epochs=250, batch_size=48, lr=0.001, aggregate_predictions=True, random_state=435, use_class_weights=True)\",\n",
    "#     filename=\"../profiler/profile_output.prof\"\n",
    "# )"
   ]
  },
  {
   "cell_type": "code",
   "execution_count": null,
   "id": "f792d4e3",
   "metadata": {},
   "outputs": [],
   "source": [
    "# # Run K-Fold training with standardization\n",
    "# results_unb, best_runb = util.k_fold_cross_validation(\n",
    "#     dataset=dataset,\n",
    "#     model_class=models.BirdCNN,\n",
    "#     num_classes=28,\n",
    "#     k_folds=5,\n",
    "#     num_epochs=220,\n",
    "#     batch_size=24,\n",
    "#     lr=0.001,\n",
    "#     aggregate_predictions=True,\n",
    "#     random_state=1789,\n",
    "#     use_class_weights=False,\n",
    "#     standardize=True\n",
    "# )"
   ]
  },
  {
   "cell_type": "code",
   "execution_count": null,
   "id": "0da36922",
   "metadata": {},
   "outputs": [],
   "source": [
    "# util.plot_kfold_results(results_unb, best_runb)"
   ]
  },
  {
   "cell_type": "code",
   "execution_count": null,
   "id": "69bad7a8",
   "metadata": {},
   "outputs": [],
   "source": [
    "# # Select Name, Best Fold, and Model\n",
    "# model_name = 'bird_cnn'\n",
    "# best_model_state = results['fold_results']['fold_3']['model_state']\n",
    "# model = models.BirdCNN(num_classes=28).to(device)\n",
    "\n",
    "# # ============= Don't modify below this line ============= Ensure variables above are set correctly ============\n",
    "# model.load_state_dict(best_model_state)\n",
    "# model_dir = os.path.join('..', 'models')\n",
    "# os.makedirs(model_dir, exist_ok=True)\n",
    "# save_path = os.path.join(model_dir, f\"{model_name}.pth\")\n",
    "\n",
    "# util.save_model(model, model_name, model_save_path=save_path)\n",
    "# util.test_saved_model(save_path)"
   ]
  },
  {
   "cell_type": "markdown",
   "id": "84b1719c",
   "metadata": {},
   "source": [
    "Call Single Model"
   ]
  },
  {
   "cell_type": "code",
   "execution_count": null,
   "id": "2722a241",
   "metadata": {},
   "outputs": [],
   "source": [
    "# # Run single fold 80-20 training\n",
    "# single_results = util.single_fold_training(\n",
    "#     dataset=dataset,\n",
    "#     model_class=models.BirdCNN,\n",
    "#     num_classes=28,\n",
    "#     num_epochs=250,\n",
    "#     batch_size=48,\n",
    "#     lr=0.001,\n",
    "#     test_size=0.2,\n",
    "#     random_state=435,\n",
    "#     use_class_weights=True\n",
    "# )"
   ]
  },
  {
   "cell_type": "code",
   "execution_count": null,
   "id": "0cd677ea",
   "metadata": {},
   "outputs": [],
   "source": [
    "# # Plot individual training curves\n",
    "# util.plot_single_fold_curve(single_results, metric_key='accuracies', title=\"Single Fold - Accuracy Curves\", ylabel=\"Accuracy\")\n",
    "# util.plot_single_fold_curve(single_results, metric_key='losses', title=\"Single Fold - Loss Curves\", ylabel=\"Cross Entropy Loss\")\n",
    "# util.plot_single_fold_curve(single_results, metric_key='f1s', title=\"Single Fold - F1 Score Curves\", ylabel=\"Macro F1 Score\")\n",
    "\n",
    "# # Print results summary\n",
    "# util.print_single_fold_results(single_results)\n",
    "\n",
    "# # Save the trained model\n",
    "# util.save_model(single_results['model'], \"bird_cnn_single_fold\", model_save_path=os.path.join(model_dir, \"bird_cnn_single_fold.pth\"))"
   ]
  }
 ],
 "metadata": {
  "kernelspec": {
   "display_name": "birds",
   "language": "python",
   "name": "python3"
  },
  "language_info": {
   "codemirror_mode": {
    "name": "ipython",
    "version": 3
   },
   "file_extension": ".py",
   "mimetype": "text/x-python",
   "name": "python",
   "nbconvert_exporter": "python",
   "pygments_lexer": "ipython3",
   "version": "3.13.4"
  }
 },
 "nbformat": 4,
 "nbformat_minor": 5
}
