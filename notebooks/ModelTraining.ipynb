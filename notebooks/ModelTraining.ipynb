{
 "cells": [
  {
   "cell_type": "markdown",
   "id": "078545a6",
   "metadata": {},
   "source": [
    "Este agarra los datos del csv con la matriz de grayscale de cada espectrograma, y se los pasa al modelo de CNN de PyTorch (definido en aux file models.py), los guarda para poder llamarlo sin re-entrenar desde otros archivos"
   ]
  }
 ],
 "metadata": {
  "language_info": {
   "name": "python"
  }
 },
 "nbformat": 4,
 "nbformat_minor": 5
}
