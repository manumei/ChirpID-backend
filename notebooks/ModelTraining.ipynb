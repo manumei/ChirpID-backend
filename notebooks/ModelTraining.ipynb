{
 "cells": [
  {
   "cell_type": "markdown",
   "id": "078545a6",
   "metadata": {},
   "source": [
    "Este agarra los datos del csv con la matriz de grayscale de cada espectrograma, y se los pasa al modelo de CNN de PyTorch (definido en aux file models.py), los guarda para poder llamarlo sin re-entrenar desde otros archivos"
   ]
  },
  {
   "cell_type": "code",
   "execution_count": null,
   "id": "af70d17d",
   "metadata": {},
   "outputs": [],
   "source": [
    "import os, sys\n",
    "import pandas as pd\n",
    "import numpy as np\n",
    "import cupy as cp\n",
    "import torch\n",
    "import torch.nn as nn\n",
    "from torch.utils.data import TensorDataset, DataLoader\n",
    "\n",
    "sys.path.append(os.path.abspath(os.path.join(os.getcwd(), '..')))\n",
    "from utils import util, models"
   ]
  },
  {
   "cell_type": "code",
   "execution_count": 5,
   "id": "ae6d270c",
   "metadata": {},
   "outputs": [],
   "source": [
    "# UNCOMMENT THE ONE BEING USED\n",
    "\n",
    "# NOT NOISE-REDUCED\n",
    "df = pd.read_csv(os.path.join('..', 'database', 'meta', 'final', 'train_data.csv'))\n",
    "\n",
    "# NOISE-REDUCED\n",
    "# df = pd.read_csv(os.path.join('..', 'database', 'meta', 'final', 'train_data2.csv'))"
   ]
  },
  {
   "cell_type": "code",
   "execution_count": null,
   "id": "3f9e4b40",
   "metadata": {},
   "outputs": [],
   "source": [
    "# Extract labels and pixel values\n",
    "labels = df['label'].values.astype(np.int64)\n",
    "features = df.drop(columns=['label']).values.astype(np.float32)\n",
    "features /= 255.0\n",
    "# features = features.reshape(-1, 1, 313, 224) # TODO Try Uncommenting Me and comment the line below instead\n",
    "features = features.reshape(-1, 1, 224, 313)"
   ]
  },
  {
   "cell_type": "code",
   "execution_count": null,
   "id": "0c007d8e",
   "metadata": {},
   "outputs": [],
   "source": [
    "print(features[:3])"
   ]
  },
  {
   "cell_type": "code",
   "execution_count": null,
   "id": "4dea2f03",
   "metadata": {},
   "outputs": [],
   "source": [
    "X = torch.tensor(features, dtype=torch.float32)\n",
    "y = torch.tensor(labels, dtype=torch.long)\n",
    "\n",
    "dataset = TensorDataset(X, y)\n",
    "train_loader = DataLoader(dataset, batch_size=32, shuffle=True)"
   ]
  },
  {
   "cell_type": "code",
   "execution_count": 4,
   "id": "5744e5ac",
   "metadata": {},
   "outputs": [
    {
     "name": "stdout",
     "output_type": "stream",
     "text": [
      "Using device: cuda\n",
      "NVIDIA GeForce RTX 5080\n"
     ]
    }
   ],
   "source": [
    "device = torch.device(\"cuda\" if torch.cuda.is_available() else \"cpu\")\n",
    "print(f\"Using device: {device}\")\n",
    "if device.type == 'cuda':\n",
    "    print(torch.cuda.get_device_name(device))\n",
    "else:\n",
    "    print(\"CUDA not available\")"
   ]
  },
  {
   "cell_type": "code",
   "execution_count": null,
   "id": "01341829",
   "metadata": {},
   "outputs": [],
   "source": [
    "model = BirdCNN(num_classes=28).to(device) # import from models.py\n",
    "criterion = nn.CrossEntropyLoss()\n",
    "optimizer = torch.optim.Adam(model.parameters(), lr=0.001)\n",
    "\n",
    "for epoch in range(10):\n",
    "    model.train()\n",
    "    for batch_X, batch_y in train_loader:\n",
    "        batch_X, batch_y = batch_X.to(device), batch_y.to(device)\n",
    "\n",
    "        preds = model(batch_X)\n",
    "        loss = criterion(preds, batch_y)\n",
    "\n",
    "        optimizer.zero_grad()\n",
    "        loss.backward()\n",
    "        optimizer.step()"
   ]
  },
  {
   "cell_type": "markdown",
   "id": "e66f60fc",
   "metadata": {},
   "source": [
    "### Pedirle a Chat que haga un Snippet de Train & Val\n",
    "\n",
    "### Que muestre la Cross-Entropy Loss Curve, y la Accuracy\n",
    "\n",
    "#### Hacer un training y mostrar accuracy, cross-entropy curve, decirle a chat. El tensor X, ya tiene toda la info de todas las muestras tomadas con panda dataframe. Mostrarle las celdas de arriba a Chat y va a entender lo que estamos haciendo. Decirle que nos edite esta ultima celda de arriba para hacer un training & val que muestre las metricas. \n",
    "\n",
    "#### Definir el modelo en utils/models.py, y reemplazar BirdCNN por models.BirdCNN (BirdCNN siendo el modelo definido en models.py)"
   ]
  },
  {
   "cell_type": "markdown",
   "id": "91cc10d5",
   "metadata": {},
   "source": [
    "para despues (para test)\n",
    "\n",
    "#### Use SK Learn Metrics\n",
    "\n",
    "#### Creo que la mejor forma para el test set es recorrer uno por uno los audios de test/, hacerles la pipeline, a ir acumulando las metrics."
   ]
  }
 ],
 "metadata": {
  "kernelspec": {
   "display_name": "birds",
   "language": "python",
   "name": "python3"
  },
  "language_info": {
   "codemirror_mode": {
    "name": "ipython",
    "version": 3
   },
   "file_extension": ".py",
   "mimetype": "text/x-python",
   "name": "python",
   "nbconvert_exporter": "python",
   "pygments_lexer": "ipython3",
   "version": "3.13.4"
  }
 },
 "nbformat": 4,
 "nbformat_minor": 5
}
