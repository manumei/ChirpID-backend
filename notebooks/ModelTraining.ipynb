{
 "cells": [
  {
   "cell_type": "markdown",
   "id": "078545a6",
   "metadata": {},
   "source": [
    "Este agarra los datos del csv con la matriz de grayscale de cada espectrograma, y se los pasa al modelo de CNN de PyTorch (definido en aux file models.py), los guarda para poder llamarlo sin re-entrenar desde otros archivos"
   ]
  },
  {
   "cell_type": "code",
   "execution_count": 6,
   "id": "af70d17d",
   "metadata": {},
   "outputs": [],
   "source": [
    "import os, sys\n",
    "import pandas as pd\n",
    "import numpy as np\n",
    "import torch\n",
    "from torch.utils.data import TensorDataset, DataLoader\n",
    "import torch.nn as nn\n",
    "import torch.optim as optim\n",
    "import matplotlib.pyplot as plt\n",
    "from sklearn.model_selection import train_test_split\n",
    "from tqdm import tqdm\n",
    "import torch.nn.functional as F\n",
    "\n",
    "sys.path.append(os.path.abspath(os.path.join(os.getcwd(), '..')))\n",
    "from utils import util, models"
   ]
  },
  {
   "cell_type": "code",
   "execution_count": 7,
   "id": "5744e5ac",
   "metadata": {},
   "outputs": [
    {
     "name": "stdout",
     "output_type": "stream",
     "text": [
      "Using device: cuda\n",
      "NVIDIA GeForce RTX 5080\n"
     ]
    }
   ],
   "source": [
    "device = torch.device(\"cuda\" if torch.cuda.is_available() else \"cpu\")\n",
    "print(f\"Using device: {device}\")\n",
    "if device.type == 'cuda':\n",
    "    print(torch.cuda.get_device_name(device))\n",
    "else:\n",
    "    print(\"CUDA not available\")"
   ]
  },
  {
   "cell_type": "code",
   "execution_count": 8,
   "id": "ae6d270c",
   "metadata": {},
   "outputs": [],
   "source": [
    "# UNCOMMENT THE ONE BEING USED\n",
    "\n",
    "# NOT NOISE-REDUCED\n",
    "# df = pd.read_csv(os.path.join('..', 'database', 'meta', 'final', 'train_data.csv'))\n",
    "\n",
    "# NOISE-REDUCED\n",
    "df = pd.read_csv(os.path.join('..', 'database', 'meta', 'final', 'train_data2.csv'))"
   ]
  },
  {
   "cell_type": "code",
   "execution_count": 9,
   "id": "3f9e4b40",
   "metadata": {},
   "outputs": [
    {
     "name": "stdout",
     "output_type": "stream",
     "text": [
      "features shape: (3070, 1, 313, 224)\n",
      "labels shape: (3070,)\n"
     ]
    }
   ],
   "source": [
    "# Extract labels and pixel values\n",
    "labels = df['label'].values.astype(np.int64)\n",
    "features = df.drop(columns=['label']).values.astype(np.float32)\n",
    "features /= 255.0\n",
    "features = features.reshape(-1, 1, 313, 224)\n",
    "\n",
    "print(\"features shape:\", features.shape)\n",
    "print(\"labels shape:\", labels.shape)"
   ]
  },
  {
   "cell_type": "code",
   "execution_count": 10,
   "id": "f77f1a0c",
   "metadata": {},
   "outputs": [
    {
     "data": {
      "image/png": "[encoded data removed]",
      "text/plain": [
       "<Figure size 1000x500 with 1 Axes>"
      ]
     },
     "metadata": {},
     "output_type": "display_data"
    }
   ],
   "source": [
    "plt.figure(figsize=(10, 5))\n",
    "df['label'].value_counts().sort_index().plot(kind='bar')\n",
    "plt.xlabel('Label')\n",
    "plt.ylabel('Number of Samples')\n",
    "plt.title('Number of Samples per Label')\n",
    "plt.show()"
   ]
  },
  {
   "cell_type": "code",
   "execution_count": 18,
   "id": "9406449f",
   "metadata": {},
   "outputs": [
    {
     "data": {
      "text/plain": [
       "<module 'utils.util' from 'c:\\\\Users\\\\manue\\\\Desktop\\\\manum\\\\coding\\\\ChirpID-backend\\\\utils\\\\util.py'>"
      ]
     },
     "execution_count": 18,
     "metadata": {},
     "output_type": "execute_result"
    }
   ],
   "source": [
    "import importlib\n",
    "importlib.reload(models)\n",
    "importlib.reload(util)"
   ]
  },
  {
   "cell_type": "code",
   "execution_count": 12,
   "id": "f0dd6e4b",
   "metadata": {},
   "outputs": [],
   "source": [
    "# Prepare tensors\n",
    "X_tensor = torch.tensor(features, dtype=torch.float32)\n",
    "y_tensor = torch.tensor(labels, dtype=torch.long)\n",
    "dataset = TensorDataset(X_tensor, y_tensor)"
   ]
  },
  {
   "cell_type": "markdown",
   "id": "3ff7b142",
   "metadata": {},
   "source": [
    "Run to Train"
   ]
  },
  {
   "cell_type": "code",
   "execution_count": null,
   "id": "ce43ec96",
   "metadata": {},
   "outputs": [],
   "source": [
    "# Run K-Fold training\n",
    "results, best_results = util.k_fold_cross_validation(\n",
    "    dataset=dataset,\n",
    "    model_class=models.BirdCNN,\n",
    "    num_classes=28,\n",
    "    k_folds=5,\n",
    "    num_epochs=220,\n",
    "    batch_size=24,\n",
    "    lr=0.001,\n",
    "    aggregate_predictions=True,\n",
    "    random_state=1789,\n",
    "    use_class_weights=True\n",
    ")"
   ]
  },
  {
   "cell_type": "code",
   "execution_count": null,
   "id": "d11b8105",
   "metadata": {},
   "outputs": [],
   "source": [
    "# Plot accuracy and loss curves\n",
    "util.plot_kfold_results(results, best_results)"
   ]
  },
  {
   "cell_type": "code",
   "execution_count": null,
   "id": "f792d4e3",
   "metadata": {},
   "outputs": [],
   "source": [
    "# Run K-Fold training\n",
    "results_unb, best_runb = util.k_fold_cross_validation(\n",
    "    dataset=dataset,\n",
    "    model_class=models.BirdCNN,\n",
    "    num_classes=28,\n",
    "    k_folds=5,\n",
    "    num_epochs=220,\n",
    "    batch_size=24,\n",
    "    lr=0.001,\n",
    "    aggregate_predictions=True,\n",
    "    random_state=1789,\n",
    "    use_class_weights=False\n",
    ")"
   ]
  },
  {
   "cell_type": "code",
   "execution_count": null,
   "id": "0da36922",
   "metadata": {},
   "outputs": [],
   "source": [
    "util.plot_kfold_results(results_unb, best_runb)"
   ]
  },
  {
   "cell_type": "markdown",
   "id": "7518c905",
   "metadata": {},
   "source": [
    "#### here be dragons\n",
    "\n",
    "\n",
    "\n",
    "\n",
    ".\n",
    "\n",
    ".\n",
    "\n",
    ".\n",
    "\n",
    ".\n",
    "\n",
    ".\n",
    "\n",
    "\n",
    "\n",
    "\n",
    "juanchi..."
   ]
  },
  {
   "cell_type": "code",
   "execution_count": null,
   "id": "3a663d51",
   "metadata": {},
   "outputs": [],
   "source": [
    "import cProfile\n",
    "\n",
    "cProfile.run(\n",
    "    \"util.k_fold_cross_validation(dataset=dataset, model_class=models.BirdCNN, num_classes=28, k_folds=5, num_epochs=250, batch_size=48, lr=0.001, aggregate_predictions=True, random_state=435, use_class_weights=True)\",\n",
    "    filename=\"profile_output.prof\"\n",
    ")"
   ]
  },
  {
   "cell_type": "code",
   "execution_count": null,
   "id": "0fab2865",
   "metadata": {},
   "outputs": [],
   "source": [
    "# Print detailed F1 results\n",
    "print(\"F1 Score Results:\")\n",
    "print(\"=\"*50)\n",
    "\n",
    "if 'aggregated_f1' in results['summary']:\n",
    "    print(f\"Aggregated F1 Score: {results['summary']['aggregated_f1']:.4f}\")\n",
    "    \n",
    "print(f\"Mean F1 Score: {results['summary']['mean_val_f1']:.4f} ± {results['summary']['std_val_f1']:.4f}\")\n",
    "print(f\"Individual Fold F1 Scores: {[f'{f1:.4f}' for f1 in results['summary']['individual_f1s']]}\")\n",
    "\n",
    "# Show best F1 per fold\n",
    "print(\"\\nBest F1 per fold:\")\n",
    "for fold_name, fold_data in results['fold_results'].items():\n",
    "    print(f\"{fold_name}: {fold_data['best_val_f1']:.4f}\")"
   ]
  },
  {
   "cell_type": "code",
   "execution_count": null,
   "id": "69bad7a8",
   "metadata": {},
   "outputs": [],
   "source": [
    "# Select Name, Best Fold, and Model\n",
    "model_name = 'bird_cnn'\n",
    "best_model_state = results['fold_results']['fold_3']['model_state']\n",
    "model = models.BirdCNN(num_classes=28).to(device)\n",
    "\n",
    "# ============= Don't modify below this line ============= Ensure variables above are set correctly ============\n",
    "model.load_state_dict(best_model_state)\n",
    "model_dir = os.path.join('..', 'models')\n",
    "os.makedirs(model_dir, exist_ok=True)\n",
    "save_path = os.path.join(model_dir, f\"{model_name}.pth\")\n",
    "\n",
    "util.save_model(model, model_name, model_save_path=save_path)\n",
    "util.test_saved_model(save_path)"
   ]
  },
  {
   "cell_type": "markdown",
   "id": "84b1719c",
   "metadata": {},
   "source": [
    "Call Single Model"
   ]
  },
  {
   "cell_type": "code",
   "execution_count": null,
   "id": "2722a241",
   "metadata": {},
   "outputs": [],
   "source": [
    "# Run single fold 80-20 training\n",
    "single_results = util.single_fold_training(\n",
    "    dataset=dataset,\n",
    "    model_class=models.BirdCNN,\n",
    "    num_classes=28,\n",
    "    num_epochs=250,\n",
    "    batch_size=48,\n",
    "    lr=0.001,\n",
    "    test_size=0.2,\n",
    "    random_state=435,\n",
    "    use_class_weights=True\n",
    ")"
   ]
  },
  {
   "cell_type": "code",
   "execution_count": null,
   "id": "0cd677ea",
   "metadata": {},
   "outputs": [],
   "source": [
    "# Plot individual training curves\n",
    "util.plot_single_fold_curve(single_results, metric_key='accuracies', title=\"Single Fold - Accuracy Curves\", ylabel=\"Accuracy\")\n",
    "util.plot_single_fold_curve(single_results, metric_key='losses', title=\"Single Fold - Loss Curves\", ylabel=\"Cross Entropy Loss\")\n",
    "util.plot_single_fold_curve(single_results, metric_key='f1s', title=\"Single Fold - F1 Score Curves\", ylabel=\"Macro F1 Score\")\n",
    "\n",
    "# Print results summary\n",
    "util.print_single_fold_results(single_results)\n",
    "\n",
    "# Save the trained model\n",
    "util.save_model(single_results['model'], \"bird_cnn_single_fold\", model_save_path=os.path.join(model_dir, \"bird_cnn_single_fold.pth\"))"
   ]
  }
 ],
 "metadata": {
  "kernelspec": {
   "display_name": "birds",
   "language": "python",
   "name": "python3"
  },
  "language_info": {
   "codemirror_mode": {
    "name": "ipython",
    "version": 3
   },
   "file_extension": ".py",
   "mimetype": "text/x-python",
   "name": "python",
   "nbconvert_exporter": "python",
   "pygments_lexer": "ipython3",
   "version": "3.13.4"
  }
 },
 "nbformat": 4,
 "nbformat_minor": 5
}
