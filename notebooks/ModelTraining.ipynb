{
 "cells": [
  {
   "cell_type": "markdown",
   "id": "078545a6",
   "metadata": {},
   "source": [
    "Este agarra los datos del csv con la matriz de grayscale de cada espectrograma, y se los pasa al modelo de CNN de PyTorch (definido en aux file models.py), los guarda para poder llamarlo sin re-entrenar desde otros archivos"
   ]
  },
  {
   "cell_type": "code",
   "execution_count": null,
   "id": "af70d17d",
   "metadata": {},
   "outputs": [],
   "source": [
    "import os, sys\n",
    "import pandas as pd\n",
    "import numpy as np\n",
    "import cupy as cp\n",
    "import torch\n",
    "from torch.utils.data import TensorDataset, DataLoader\n",
    "import torch.nn as nn\n",
    "import torch.optim as optim\n",
    "import matplotlib.pyplot as plt\n",
    "from sklearn.model_selection import train_test_split\n",
    "from tqdm import tqdm\n",
    "import torch.nn.functional as F\n",
    "\n",
    "sys.path.append(os.path.abspath(os.path.join(os.getcwd(), '..')))\n",
    "from utils import util, models"
   ]
  },
  {
   "cell_type": "code",
   "execution_count": 23,
   "id": "5744e5ac",
   "metadata": {},
   "outputs": [
    {
     "name": "stdout",
     "output_type": "stream",
     "text": [
      "Using device: cuda\n",
      "NVIDIA GeForce RTX 5080\n"
     ]
    }
   ],
   "source": [
    "device = torch.device(\"cuda\" if torch.cuda.is_available() else \"cpu\")\n",
    "print(f\"Using device: {device}\")\n",
    "if device.type == 'cuda':\n",
    "    print(torch.cuda.get_device_name(device))\n",
    "else:\n",
    "    print(\"CUDA not available\")"
   ]
  },
  {
   "cell_type": "code",
   "execution_count": 45,
   "id": "ae6d270c",
   "metadata": {},
   "outputs": [],
   "source": [
    "# UNCOMMENT THE ONE BEING USED\n",
    "\n",
    "# NOT NOISE-REDUCED\n",
    "# df = pd.read_csv(os.path.join('..', 'database', 'meta', 'final', 'train_data.csv'))\n",
    "\n",
    "# NOISE-REDUCED\n",
    "df = pd.read_csv(os.path.join('..', 'database', 'meta', 'final', 'train_data2.csv'))"
   ]
  },
  {
   "cell_type": "code",
   "execution_count": 47,
   "id": "3f9e4b40",
   "metadata": {},
   "outputs": [],
   "source": [
    "# Extract labels and pixel values\n",
    "labels = df['label'].values.astype(np.int64)\n",
    "features = df.drop(columns=['label']).values.astype(np.float32)\n",
    "features /= 255.0\n",
    "features = features.reshape(-1, 1, 313, 224)"
   ]
  },
  {
   "cell_type": "code",
   "execution_count": null,
   "id": "9406449f",
   "metadata": {},
   "outputs": [],
   "source": [
    "print(\"features shape:\", features.shape)\n",
    "print(\"labels shape:\", labels.shape)\n",
    "\n",
    "import importlib\n",
    "importlib.reload(models)\n",
    "importlib.reload(util)"
   ]
  },
  {
   "cell_type": "code",
   "execution_count": null,
   "id": "f0dd6e4b",
   "metadata": {},
   "outputs": [],
   "source": [
    "# Prepare tensors\n",
    "X_tensor = torch.tensor(features, dtype=torch.float32)\n",
    "y_tensor = torch.tensor(labels, dtype=torch.long)\n",
    "dataset = TensorDataset(X_tensor, y_tensor)"
   ]
  },
  {
   "cell_type": "markdown",
   "id": "ebf451c3",
   "metadata": {},
   "source": [
    "Reset the Model"
   ]
  },
  {
   "cell_type": "code",
   "execution_count": 53,
   "id": "4f4d1225",
   "metadata": {},
   "outputs": [],
   "source": [
    "def reset_model(lr=0.001, num_classes=28):\n",
    "    device = torch.device(\"cuda\" if torch.cuda.is_available() else \"cpu\")\n",
    "    model = models.BirdCNN(num_classes=num_classes).to(device)\n",
    "    optimizer = optim.Adam(model.parameters(), lr=lr)\n",
    "    criterion = nn.CrossEntropyLoss()\n",
    "    return model, optimizer, criterion, device\n",
    "\n",
    "# Usage:\n",
    "model, optimizer, criterion, device = reset_model()"
   ]
  },
  {
   "cell_type": "markdown",
   "id": "3ff7b142",
   "metadata": {},
   "source": [
    "Run to Train"
   ]
  },
  {
   "cell_type": "code",
   "execution_count": null,
   "id": "ce43ec96",
   "metadata": {},
   "outputs": [],
   "source": [
    "# Run K-Fold training\n",
    "results = util.k_fold_cross_validation(\n",
    "    dataset=dataset,\n",
    "    model_class=models.BirdCNN,\n",
    "    num_classes=28,\n",
    "    k_folds=5,\n",
    "    num_epochs=250,\n",
    "    batch_size=48,\n",
    "    lr=0.001,\n",
    "    aggregate_predictions=True\n",
    ")"
   ]
  }
 ],
 "metadata": {
  "kernelspec": {
   "display_name": "birds",
   "language": "python",
   "name": "python3"
  },
  "language_info": {
   "codemirror_mode": {
    "name": "ipython",
    "version": 3
   },
   "file_extension": ".py",
   "mimetype": "text/x-python",
   "name": "python",
   "nbconvert_exporter": "python",
   "pygments_lexer": "ipython3",
   "version": "3.13.4"
  }
 },
 "nbformat": 4,
 "nbformat_minor": 5
}
