{
 "cells": [
  {
   "cell_type": "code",
   "execution_count": 2,
   "id": "4b4c39cc",
   "metadata": {},
   "outputs": [],
   "source": [
    "import os, sys\n",
    "import pandas as pd\n",
    "\n",
    "sys.path.append(os.path.abspath(os.path.join(os.getcwd(), '..')))\n",
    "from utils import util"
   ]
  },
  {
   "cell_type": "code",
   "execution_count": 3,
   "id": "2a17ccd9",
   "metadata": {},
   "outputs": [],
   "source": [
    "def extract_audio_segments(segments_df, segments_dir, sr=32000, segment_sec=5.0, \n",
    "                            threshold_factor=0.75, cap_per_class=100):\n",
    "    \"\"\"\n",
    "    Extract high-energy audio segments from audio files with balanced sampling per class.\n",
    "    \n",
    "    Args:\n",
    "        segments_df (pd.DataFrame): DataFrame with 'filename' and 'class_id' columns\n",
    "        segments_dir (str): Directory containing original audio .wav files\n",
    "        sr (int): Target sampling rate\n",
    "        segment_sec (float): Duration of each segment in seconds\n",
    "        threshold_factor (float): RMS threshold factor for segment filtering\n",
    "        cap_per_class (int): Maximum segments per class\n",
    "        \n",
    "    Returns:\n",
    "        list: List of segment dictionaries with metadata\n",
    "    \"\"\"\n",
    "    \n",
    "    # Load and prepare audio files\n",
    "    audio_files = util.load_audio_files(segments_df, segments_dir, sr, segment_sec, threshold_factor)\n",
    "    \n",
    "    if not audio_files:\n",
    "        print(\"No valid audio files loaded!\")\n",
    "        return []\n",
    "    \n",
    "    print(f\"Loaded {len(audio_files)} audio files successfully.\")\n",
    "    \n",
    "    # Calculate total segments per class for metadata\n",
    "    class_total_segments = util.calculate_class_totals(audio_files)\n",
    "    \n",
    "    # Extract segments with balanced sampling\n",
    "    segments = util.extract_balanced_segments(audio_files, cap_per_class, segment_sec, sr, class_total_segments)\n",
    "    \n",
    "    print(f\"Extracted {len(segments)} total segments\")\n",
    "    return segments"
   ]
  },
  {
   "cell_type": "code",
   "execution_count": 4,
   "id": "d6219b23",
   "metadata": {},
   "outputs": [],
   "source": [
    "# Define Paths\n",
    "audios_dir = os.path.join('..', 'database', 'audio', 'dev')\n",
    "dev_data = pd.read_csv(os.path.join('..', 'database', 'meta', 'dev_data.csv'))\n",
    "\n",
    "# Output directories for extracted segments\n",
    "segments_output_dir = os.path.join('..', 'database', 'audio_segments')\n",
    "segments_csv_path = os.path.join('..', 'database', 'meta', 'audio_segments.csv')\n",
    "\n",
    "# Solo los que estan en dev/ para no encontrar errores\n",
    "dev_df = dev_data"
   ]
  },
  {
   "cell_type": "code",
   "execution_count": 5,
   "id": "e18c83a7",
   "metadata": {},
   "outputs": [
    {
     "name": "stdout",
     "output_type": "stream",
     "text": [
      "Resetting ..\\database\\audio_segments directory...\n",
      "Extracting audio segments...\n",
      "Loaded 474 audio files successfully.\n",
      "Loaded 474 audio files successfully.\n",
      "Extracted 2042 total segments\n",
      "Extracted 2042 segments total\n",
      "Saving audio segments to disk...\n",
      "Extracted 2042 total segments\n",
      "Extracted 2042 segments total\n",
      "Saving audio segments to disk...\n",
      "Saved 2042 audio segments to ..\\database\\audio_segments\n",
      "Metadata saved to ..\\database\\meta\\audio_segments.csv\n",
      "Saved 2042 audio segments to ..\\database\\audio_segments\n",
      "Metadata saved to ..\\database\\meta\\audio_segments.csv\n"
     ]
    }
   ],
   "source": [
    "# Step 1: Extract audio segments and save to disk\n",
    "util.clean_dir(segments_output_dir)\n",
    "\n",
    "print(\"Extracting audio segments...\")\n",
    "segments = extract_audio_segments(\n",
    "    dev_df, audios_dir, sr=32000, segment_sec=5.0, \n",
    "    threshold_factor=0.75, cap_per_class=100\n",
    ")\n",
    "\n",
    "print(f\"Extracted {len(segments)} segments total\")\n",
    "\n",
    "# Save segments to disk\n",
    "print(\"Saving audio segments to disk...\")\n",
    "segments_df = util.save_audio_segments_to_disk(segments, segments_output_dir)\n",
    "segments_df.to_csv(segments_csv_path, index=False)\n",
    "\n",
    "print(f\"Saved {len(segments_df)} audio segments to {segments_output_dir}\")\n",
    "print(f\"Metadata saved to {segments_csv_path}\")"
   ]
  }
 ],
 "metadata": {
  "kernelspec": {
   "display_name": "birds",
   "language": "python",
   "name": "python3"
  },
  "language_info": {
   "codemirror_mode": {
    "name": "ipython",
    "version": 3
   },
   "file_extension": ".py",
   "mimetype": "text/x-python",
   "name": "python",
   "nbconvert_exporter": "python",
   "pygments_lexer": "ipython3",
   "version": "3.13.4"
  }
 },
 "nbformat": 4,
 "nbformat_minor": 5
}
