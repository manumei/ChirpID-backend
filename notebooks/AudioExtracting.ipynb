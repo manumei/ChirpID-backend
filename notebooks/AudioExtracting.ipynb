{
 "cells": [
  {
   "cell_type": "code",
   "execution_count": 12,
   "id": "4b4c39cc",
   "metadata": {},
   "outputs": [],
   "source": [
    "import os, sys\n",
    "import pandas as pd\n",
    "import matplotlib.pyplot as plt\n",
    "\n",
    "sys.path.append(os.path.abspath(os.path.join(os.getcwd(), '..')))\n",
    "from utils.data_processing import clean_dir, save_audio_segments_to_disk, load_audio_files, calculate_class_totals, extract_balanced_segments"
   ]
  },
  {
   "cell_type": "code",
   "execution_count": null,
   "id": "35525c99",
   "metadata": {},
   "outputs": [],
   "source": [
    "CLASS_CAP = 100\n",
    "SEG_LENGTH = 5.0  # seconds\n",
    "THRESH = 0.75  # energy threshold"
   ]
  },
  {
   "cell_type": "code",
   "execution_count": null,
   "id": "2a17ccd9",
   "metadata": {},
   "outputs": [],
   "source": [
    "def extract_audio_segments(audio_files, sr=32000, segment_sec=SEG_LENGTH, cap_per_class=CLASS_CAP):\n",
    "    \"\"\"\n",
    "    Extract high-energy audio segments from audio files with balanced sampling per class.\n",
    "    \n",
    "    Args:\n",
    "        segments_df (pd.DataFrame): DataFrame with 'filename', 'class_id', and 'author' columns\n",
    "        segments_dir (str): Directory containing original audio .wav files\n",
    "        sr (int): Target sampling rate\n",
    "        segment_sec (float): Duration of each segment in seconds\n",
    "        thresh_factor (float): RMS threshold factor for segment filtering\n",
    "        cap_per_class (int): Maximum segments per class\n",
    "        \n",
    "    Returns:\n",
    "        list: List of segment dictionaries with metadata including author\n",
    "    \"\"\"\n",
    "    \n",
    "    # Load and prepare audio files\n",
    "\n",
    "    if not audio_files:\n",
    "        print(\"No valid audio files loaded!\")\n",
    "        return []\n",
    "    \n",
    "    print(f\"Loaded {len(audio_files)} audio files successfully.\")\n",
    "    \n",
    "    # Calculate total segments per class for metadata\n",
    "    class_total_segments = calculate_class_totals(audio_files)\n",
    "    \n",
    "    # Extract segments with balanced sampling\n",
    "    segments = extract_balanced_segments(audio_files, cap_per_class, segment_sec, sr, class_total_segments)\n",
    "    \n",
    "    print(f\"Extracted {len(segments)} total segments\")\n",
    "    return segments"
   ]
  },
  {
   "cell_type": "code",
   "execution_count": 15,
   "id": "d6219b23",
   "metadata": {},
   "outputs": [],
   "source": [
    "# Define Paths\n",
    "audios_dir = os.path.join('..', 'database', 'audio', 'dev')\n",
    "dev_df = pd.read_csv(os.path.join('..', 'database', 'meta', 'dev_data.csv'))\n",
    "\n",
    "# Output directories for extracted segments\n",
    "segments_output_dir = os.path.join('..', 'database', 'audio_segments')\n",
    "segments_csv_path = os.path.join('..', 'database', 'meta', 'audio_segments.csv')\n",
    "\n",
    "# Get the files\n",
    "audio_files = load_audio_files(dev_df, audios_dir, sr=32000, segment_sec=SEG_LENGTH, thresh_factor=THRESH)"
   ]
  },
  {
   "cell_type": "code",
   "execution_count": 28,
   "id": "677757d9",
   "metadata": {},
   "outputs": [],
   "source": [
    "import importlib\n",
    "importlib.reload(sys.modules['utils.data_processing'])\n",
    "from utils.data_processing import clean_dir, save_audio_segments_to_disk, load_audio_files, calculate_class_totals, extract_balanced_segments"
   ]
  },
  {
   "cell_type": "code",
   "execution_count": 29,
   "id": "e18c83a7",
   "metadata": {},
   "outputs": [
    {
     "name": "stdout",
     "output_type": "stream",
     "text": [
      "Loaded 876 audio files successfully.\n"
     ]
    },
    {
     "name": "stderr",
     "output_type": "stream",
     "text": [
      "Extracting segments: 100%|██████████| 876/876 [00:00<00:00, 3462.43it/s]"
     ]
    },
    {
     "name": "stdout",
     "output_type": "stream",
     "text": [
      "Extracted 3101 total segments\n",
      "Extracted 3101 segments total\n"
     ]
    },
    {
     "name": "stderr",
     "output_type": "stream",
     "text": [
      "\n"
     ]
    }
   ],
   "source": [
    "segments = extract_audio_segments(audio_files, sr=32000, segment_sec=SEG_LENGTH, cap_per_class=CLASS_CAP)\n",
    "\n",
    "print(f\"Extracted {len(segments)} segments total\")"
   ]
  },
  {
   "cell_type": "code",
   "execution_count": null,
   "id": "bfe850be",
   "metadata": {},
   "outputs": [],
   "source": [
    "# Clan & Save\n",
    "clean_dir(segments_output_dir)\n",
    "\n",
    "print(\"Saving audio segments to disk...\")\n",
    "segments_df = save_audio_segments_to_disk(segments, segments_output_dir)\n",
    "segments_df.to_csv(segments_csv_path, index=False)\n",
    "\n",
    "print(f\"Saved {len(segments_df)} audio segments to {segments_output_dir}\")\n",
    "print(f\"Metadata saved to {segments_csv_path}\")"
   ]
  },
  {
   "cell_type": "code",
   "execution_count": null,
   "id": "630d9a1e",
   "metadata": {},
   "outputs": [],
   "source": [
    "# Check for repeated values in segments_df 'filename' column\n",
    "filename_counts = segments_df['filename'].value_counts()\n",
    "duplicates = filename_counts[filename_counts > 1]\n",
    "\n",
    "if len(duplicates) > 0:\n",
    "    print(f\"Found {len(duplicates)} repeated filenames:\")\n",
    "    print(duplicates)\n",
    "else:\n",
    "    print(\"No repeated filenames found\")\n",
    "\n",
    "print(f\"\\nTotal unique filenames: {segments_df['filename'].nunique()}\")\n",
    "print(f\"Total rows: {len(segments_df)}\")"
   ]
  },
  {
   "cell_type": "code",
   "execution_count": null,
   "id": "404c1f71",
   "metadata": {},
   "outputs": [],
   "source": [
    "# Create histogram showing amount of samples for each class_id\n",
    "class_counts = segments_df['class_id'].value_counts().sort_index()\n",
    "\n",
    "plt.figure(figsize=(10, 6))\n",
    "plt.bar(class_counts.index, class_counts.values)\n",
    "plt.xlabel('Class ID')\n",
    "plt.ylabel('Number of Samples')\n",
    "plt.title('Distribution of Audio Segments by Class ID')\n",
    "plt.xticks(class_counts.index)\n",
    "plt.grid(axis='y', alpha=0.3)\n",
    "\n",
    "# Add value labels on top of bars\n",
    "for i, v in enumerate(class_counts.values):\n",
    "    plt.text(class_counts.index[i], v + 0.5, str(v), ha='center', va='bottom')\n",
    "\n",
    "plt.tight_layout()\n",
    "plt.show()\n",
    "\n",
    "print(f\"Class distribution:\")\n",
    "for class_id, count in class_counts.items():\n",
    "    print(f\"Class {class_id}: {count} samples\")"
   ]
  }
 ],
 "metadata": {
  "kernelspec": {
   "display_name": "birds",
   "language": "python",
   "name": "python3"
  },
  "language_info": {
   "codemirror_mode": {
    "name": "ipython",
    "version": 3
   },
   "file_extension": ".py",
   "mimetype": "text/x-python",
   "name": "python",
   "nbconvert_exporter": "python",
   "pygments_lexer": "ipython3",
   "version": "3.13.4"
  }
 },
 "nbformat": 4,
 "nbformat_minor": 5
}
