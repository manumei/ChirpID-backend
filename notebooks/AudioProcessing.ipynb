{
 "cells": [
  {
   "cell_type": "markdown",
   "id": "e95c61d3",
   "metadata": {},
   "source": [
    "Este agarra los audios en wav/, los procesa, y carga los spectrograms finales a spect/"
   ]
  },
  {
   "cell_type": "markdown",
   "id": "089eb36c",
   "metadata": {},
   "source": [
    "## esto es ya processing, hay que ver donde meterlo"
   ]
  },
  {
   "cell_type": "code",
   "execution_count": 1,
   "id": "0cfba78e",
   "metadata": {},
   "outputs": [],
   "source": [
    "import os, sys\n",
    "import pandas as pd\n",
    "import librosa as lbrs\n",
    "import numpy as np\n",
    "from PIL import Image\n",
    "\n",
    "sys.path.append(os.path.abspath(os.path.join(os.getcwd(), '..')))\n",
    "from utils import util"
   ]
  },
  {
   "cell_type": "code",
   "execution_count": 2,
   "id": "c7a897ce",
   "metadata": {},
   "outputs": [],
   "source": [
    "def load_spectrograms(df, source_dir, spectrogram_dir, output_csv_path, sr=32000, segment_sec=5.0, threshold_factor=0.5):\n",
    "    '''Gets the audio files from the source directory, processes them to create spectrograms, and saves \n",
    "    the spectrograms as images in the specified directory. It also creates a CSV file denoting all the \n",
    "    final spectrogram samples and their corresponding class IDs after generating new samples from segments.\n",
    "\n",
    "    Args:\n",
    "        df (pd.DataFrame): DataFrame containing at least 'filename' and 'class_id' columns.\n",
    "        source_dir (str): Directory where the original audio (.ogg) files are located.\n",
    "        spectrogram_dir (str): Directory to save generated spectrogram .png files.\n",
    "        output_csv_path (str): Path to save the output CSV mapping 'filename_spec' to 'class_id'.\n",
    "        sr (int, optional): Target sampling rate for audio loading. Defaults to 32000.\n",
    "        segment_sec (float, optional): Duration (in seconds) of each extracted segment. Defaults to 5.0.\n",
    "        threshold_factor (float, optional): Factor to multiply global RMS mean to set segment inclusion threshold. Defaults to 0.5.\n",
    "    '''\n",
    "\n",
    "    samples_per_segment = int(sr * segment_sec)\n",
    "    rows = []\n",
    "\n",
    "    for _, row in df.iterrows():\n",
    "        filename = row['filename']\n",
    "        class_id = row['class_id']\n",
    "        audio_path = os.path.join(source_dir, filename)\n",
    "\n",
    "        try:\n",
    "            y, _ = lbrs.load(audio_path, sr=sr, mono=True)\n",
    "        except:\n",
    "            continue\n",
    "\n",
    "        rms = lbrs.feature.rms(y=y, frame_length=2048, hop_length=512)[0]\n",
    "        threshold = threshold_factor * np.mean(rms)\n",
    "\n",
    "        for start in range(0, len(y) - samples_per_segment + 1, samples_per_segment):\n",
    "            segment = y[start:start + samples_per_segment]\n",
    "            seg_rms = np.mean(lbrs.feature.rms(y=segment)[0])\n",
    "            if seg_rms < threshold:\n",
    "                continue\n",
    "\n",
    "            spec = lbrs.feature.melspectrogram(y=segment, sr=sr, n_mels=128)\n",
    "            spec_db = lbrs.power_to_db(spec, ref=np.max)\n",
    "            norm_spec = (spec_db - spec_db.min()) / (spec_db.max() - spec_db.min())\n",
    "            img = (norm_spec * 255).astype(np.uint8)\n",
    "\n",
    "            spec_filename = f\"{os.path.splitext(filename)[0]}_{start}.png\"\n",
    "            spec_path = os.path.join(spectrogram_dir, spec_filename)\n",
    "            Image.fromarray(img).save(spec_path)\n",
    "\n",
    "            rows.append({'filename_spec': spec_filename, 'class_id': class_id})\n",
    "\n",
    "    pd.DataFrame(rows).to_csv(output_csv_path, index=False)"
   ]
  },
  {
   "cell_type": "code",
   "execution_count": 3,
   "id": "0fb65cd4",
   "metadata": {},
   "outputs": [],
   "source": [
    "# Define Paths\n",
    "audios_dir = os.path.join('..', 'database', 'audio', 'dev')\n",
    "spect_dir = os.path.join('..', 'database', 'spect')\n",
    "output_csv = os.path.join('..', 'database', 'meta', 'final_spects.csv')\n",
    "final_data = pd.read_csv(os.path.join('..', 'database', 'meta', 'final_data.csv'))\n",
    "\n",
    "# Solo los que estan en dev/ para no encontrar errores\n",
    "dev_df = final_data[final_data['filename'].apply(lambda f: os.path.exists(os.path.join(audios_dir, f)))].reset_index(drop=True)"
   ]
  },
  {
   "cell_type": "code",
   "execution_count": 4,
   "id": "2780ecad",
   "metadata": {},
   "outputs": [
    {
     "name": "stdout",
     "output_type": "stream",
     "text": [
      "Resetting spectrogram directory...\n",
      "Generating spectrograms from audio segments...\n"
     ]
    }
   ],
   "source": [
    "print(\"Resetting spectrogram directory...\")\n",
    "util.clean_dir(spect_dir)\n",
    "\n",
    "print(\"Generating spectrograms from audio segments...\")\n",
    "load_spectrograms(dev_df, audios_dir, spect_dir, output_csv)"
   ]
  }
 ],
 "metadata": {
  "kernelspec": {
   "display_name": "birds",
   "language": "python",
   "name": "python3"
  },
  "language_info": {
   "codemirror_mode": {
    "name": "ipython",
    "version": 3
   },
   "file_extension": ".py",
   "mimetype": "text/x-python",
   "name": "python",
   "nbconvert_exporter": "python",
   "pygments_lexer": "ipython3",
   "version": "3.13.4"
  }
 },
 "nbformat": 4,
 "nbformat_minor": 5
}
