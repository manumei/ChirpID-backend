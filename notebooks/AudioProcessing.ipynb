{
 "cells": [
  {
   "cell_type": "markdown",
   "id": "e95c61d3",
   "metadata": {},
   "source": [
    "Este agarra los audios en wav/, los procesa, y carga los spectrograms finales a spect/"
   ]
  },
  {
   "cell_type": "code",
   "execution_count": null,
   "id": "0cfba78e",
   "metadata": {},
   "outputs": [],
   "source": [
    "import os, sys\n",
    "import pandas as pd\n",
    "import librosa as lbrs\n",
    "import numpy as np\n",
    "import noisereduce as nr\n",
    "from PIL import Image\n",
    "\n",
    "\n",
    "sys.path.append(os.path.abspath(os.path.join(os.getcwd(), '..')))\n",
    "from utils import util"
   ]
  },
  {
   "cell_type": "code",
   "execution_count": null,
   "id": "c7a897ce",
   "metadata": {},
   "outputs": [],
   "source": [
    "def load_spectrograms(df, source_dir, spectrogram_dir, output_csv_path, test_audios_dir=None, noise_reduce=False,\n",
    "                    sr=32000, segment_sec=5.0, threshold_factor=0.5, mels=224, hoplen=512, nfft=2048):\n",
    "    '''Gets the audio files from the source directory, processes them to create spectrograms, and saves \n",
    "    the spectrograms as images in the specified directory. It also creates a CSV file denoting all the \n",
    "    final spectrogram samples and their corresponding class IDs after generating new samples from segments.\n",
    "\n",
    "    Args:\n",
    "        df (pd.DataFrame): DataFrame containing at least 'filename' and 'class_id' columns.\n",
    "        source_dir (str): Directory where the original audio (.ogg) files are located.\n",
    "        spectrogram_dir (str): Directory to save generated spectrogram .png files.\n",
    "        output_csv_path (str): Path to save the output CSV mapping 'filename' to 'class_id'.\n",
    "        test_audios_dir (str, optional): Directory to save first 10 segmented audio samples as .wav files for inspection. Defaults to None.\n",
    "        noise_reduce (bool, optional): Whether to apply noise reduction to the audio files. Defaults to False.\n",
    "        sr (int, optional): Target sampling rate for audio loading. Defaults to 32000.\n",
    "        segment_sec (float, optional): Duration (in seconds) of each extracted segment. Defaults to 5.0.\n",
    "        threshold_factor (float, optional): Factor to multiply global RMS mean to set segment inclusion threshold. Defaults to 0.5.\n",
    "        mels (int, optional): Number of mel bands for the spectrogram. Defaults to 224.\n",
    "        hoplen (int, optional): Hop length for the spectrogram. Defaults to 512.\n",
    "        nfft (int, optional): FFT window size for the spectrogram. Defaults to 2048.\n",
    "    '''\n",
    "\n",
    "    samples_per_segment = int(sr * segment_sec)\n",
    "    rows = []\n",
    "    saved_test_audios = 0  # Counter for test audio samples\n",
    "    low_rms = 0  # Counter for segments with low RMS\n",
    "\n",
    "    for _, row in df.iterrows():\n",
    "        filename = row['filename']\n",
    "        class_id = row['class_id']\n",
    "        audio_path = os.path.join(source_dir, filename)\n",
    "\n",
    "        try:\n",
    "            y, srate = util.lbrs_loading(audio_path, sr=sr, mono=True)\n",
    "        except:\n",
    "            print(f\"Error loading audio file {filename} from {source_dir}. Skipping.\")\n",
    "            continue\n",
    "\n",
    "        threshold = util.get_rmsThreshold(y, frame_len=2048, hop_len=hoplen, thresh_factor=0.5)\n",
    "\n",
    "        for start in range(0, len(y) - samples_per_segment + 1, samples_per_segment):\n",
    "            segment = y[start:start + samples_per_segment]\n",
    "\n",
    "            seg_rms = np.mean(lbrs.feature.rms(y=segment)[0])\n",
    "            if seg_rms < threshold:\n",
    "                low_rms += 1\n",
    "                continue\n",
    "\n",
    "            if noise_reduce:\n",
    "                segment = util.reduce_noise_seg(segment, sr=srate, filename=filename, class_id=class_id)\n",
    "\n",
    "            img, spec_path, spec_name = util.get_spec_image(segment, sr=srate, mels=mels, hoplen=hoplen, nfft=nfft,\n",
    "                                                            filename=filename, start=start, spectrogram_dir=spectrogram_dir)\n",
    "            Image.fromarray(img).save(spec_path)\n",
    "\n",
    "            # Save first 10 segmented audios as test samples\n",
    "            util.save_test_audios(segment, sr, test_audios_dir, filename, start)\n",
    "\n",
    "            rows.append({'filename': spec_name, 'class_id': class_id})\n",
    "\n",
    "    print(f\"Total segments removed due to low RMS: {low_rms}\")\n",
    "    pd.DataFrame(rows).to_csv(output_csv_path, index=False)"
   ]
  },
  {
   "cell_type": "code",
   "execution_count": 3,
   "id": "0fb65cd4",
   "metadata": {},
   "outputs": [],
   "source": [
    "# Define Paths\n",
    "audios_dir = os.path.join('..', 'database', 'audio', 'dev')\n",
    "final_data = pd.read_csv(os.path.join('..', 'database', 'meta', 'final_data.csv'))\n",
    "\n",
    "spect_dir = os.path.join('..', 'database', 'spect')\n",
    "spect2_dir = os.path.join('..', 'database', 'spect2')\n",
    "\n",
    "output_csv = os.path.join('..', 'database', 'meta', 'final_spects.csv')\n",
    "output_csv2 = os.path.join('..', 'database', 'meta', 'final_spects2.csv')\n",
    "\n",
    "test_audios_dir = os.path.join('..', 'database', 'test_audios')\n",
    "test_audios2_dir = os.path.join('..', 'database', 'test_audios2')\n",
    "\n",
    "# Solo los que estan en dev/ para no encontrar errores\n",
    "dev_df = final_data[final_data['filename'].apply(lambda f: os.path.exists(os.path.join(audios_dir, f)))].reset_index(drop=True)"
   ]
  },
  {
   "cell_type": "code",
   "execution_count": 4,
   "id": "2780ecad",
   "metadata": {},
   "outputs": [
    {
     "name": "stdout",
     "output_type": "stream",
     "text": [
      "Resetting ..\\database\\spect directory...\n",
      "Resetting ..\\database\\test_audios directory...\n",
      "Generating spectrograms from audio segments...\n"
     ]
    }
   ],
   "source": [
    "util.clean_dir(spect_dir)\n",
    "util.clean_dir(test_audios_dir)\n",
    "\n",
    "print(\"Generating spectrograms from audio segments...\")\n",
    "load_spectrograms(dev_df, audios_dir, spect_dir, output_csv, test_audios_dir=test_audios_dir)"
   ]
  },
  {
   "cell_type": "code",
   "execution_count": 5,
   "id": "bf736c31",
   "metadata": {},
   "outputs": [
    {
     "name": "stdout",
     "output_type": "stream",
     "text": [
      "Resetting ..\\database\\spect2 directory...\n",
      "Resetting ..\\database\\test_audios2 directory...\n",
      "Generating spectrograms from audio segments...\n"
     ]
    }
   ],
   "source": [
    "util.clean_dir(spect2_dir)\n",
    "util.clean_dir(test_audios2_dir)\n",
    "\n",
    "print(\"Generating spectrograms from audio segments...\")\n",
    "load_spectrograms(dev_df, audios_dir, spect2_dir, output_csv2, test_audios_dir=test_audios2_dir, noise_reduce=True)"
   ]
  },
  {
   "cell_type": "markdown",
   "id": "9e23c2e7",
   "metadata": {},
   "source": [
    "Aca veo los tamaños"
   ]
  },
  {
   "cell_type": "code",
   "execution_count": 4,
   "id": "bec0dd8d",
   "metadata": {},
   "outputs": [
    {
     "name": "stdout",
     "output_type": "stream",
     "text": [
      "XC507275_1920000.png: (313, 224)\n",
      "XC394358_640000.png: (313, 224)\n",
      "XC38756_480000.png: (313, 224)\n",
      "XC361122_160000.png: (313, 224)\n",
      "XC287701_3680000.png: (313, 224)\n",
      "XC379150_480000.png: (313, 224)\n",
      "XC52001_320000.png: (313, 224)\n",
      "XC112713_1440000.png: (313, 224)\n",
      "XC32499_0.png: (313, 224)\n",
      "XC366345_2880000.png: (313, 224)\n",
      "XC144347_0.png: (313, 224)\n",
      "XC14581_160000.png: (313, 224)\n",
      "XC590623_1920000.png: (313, 224)\n",
      "XC211770_320000.png: (313, 224)\n",
      "XC615549_800000.png: (313, 224)\n",
      "XC139495_3040000.png: (313, 224)\n",
      "XC504476_640000.png: (313, 224)\n",
      "XC586408_480000.png: (313, 224)\n",
      "XC215722_0.png: (313, 224)\n",
      "XC368365_1600000.png: (313, 224)\n"
     ]
    }
   ],
   "source": [
    "import random\n",
    "amount = 20\n",
    "\n",
    "# List all PNG files in spect_dir\n",
    "spect_files = [f for f in os.listdir(spect_dir) if f.endswith('.png')]\n",
    "\n",
    "# Fetch 5 random images\n",
    "random_files = random.sample(spect_files, min(amount, len(spect_files)))\n",
    "\n",
    "for fname in random_files:\n",
    "    img_path = os.path.join(spect_dir, fname)\n",
    "    img = Image.open(img_path)\n",
    "    print(f\"{fname}: {img.size}\")"
   ]
  }
 ],
 "metadata": {
  "kernelspec": {
   "display_name": "birds",
   "language": "python",
   "name": "python3"
  },
  "language_info": {
   "codemirror_mode": {
    "name": "ipython",
    "version": 3
   },
   "file_extension": ".py",
   "mimetype": "text/x-python",
   "name": "python",
   "nbconvert_exporter": "python",
   "pygments_lexer": "ipython3",
   "version": "3.13.4"
  }
 },
 "nbformat": 4,
 "nbformat_minor": 5
}
