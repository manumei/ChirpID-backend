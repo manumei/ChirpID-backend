{
 "cells": [
  {
   "cell_type": "markdown",
   "id": "e95c61d3",
   "metadata": {},
   "source": [
    "Este agarra los audios en wav/, los procesa, y carga los spectrograms finales a spect/"
   ]
  },
  {
   "cell_type": "code",
   "execution_count": 1,
   "id": "0cfba78e",
   "metadata": {},
   "outputs": [],
   "source": [
    "import os, sys\n",
    "import pandas as pd\n",
    "import librosa as lbrs\n",
    "import numpy as np\n",
    "from PIL import Image\n",
    "\n",
    "sys.path.append(os.path.abspath(os.path.join(os.getcwd(), '..')))\n",
    "from utils import util"
   ]
  },
  {
   "cell_type": "code",
   "execution_count": 2,
   "id": "c7a897ce",
   "metadata": {},
   "outputs": [],
   "source": [
    "def load_spectrograms(df, source_dir, spectrogram_dir, output_csv_path, sr=32000, segment_sec=5.0, threshold_factor=0.5):\n",
    "    '''Gets the audio files from the source directory, processes them to create spectrograms, and saves \n",
    "    the spectrograms as images in the specified directory. It also creates a CSV file denoting all the \n",
    "    final spectrogram samples and their corresponding class IDs after generating new samples from segments.\n",
    "\n",
    "    Args:\n",
    "        df (pd.DataFrame): DataFrame containing at least 'filename' and 'class_id' columns.\n",
    "        source_dir (str): Directory where the original audio (.ogg) files are located.\n",
    "        spectrogram_dir (str): Directory to save generated spectrogram .png files.\n",
    "        output_csv_path (str): Path to save the output CSV mapping 'filename' to 'class_id'.\n",
    "        sr (int, optional): Target sampling rate for audio loading. Defaults to 32000.\n",
    "        segment_sec (float, optional): Duration (in seconds) of each extracted segment. Defaults to 5.0.\n",
    "        threshold_factor (float, optional): Factor to multiply global RMS mean to set segment inclusion threshold. Defaults to 0.5.\n",
    "    '''\n",
    "\n",
    "    samples_per_segment = int(sr * segment_sec)\n",
    "    rows = []\n",
    "\n",
    "    for _, row in df.iterrows():\n",
    "        filename = row['filename']\n",
    "        class_id = row['class_id']\n",
    "        audio_path = os.path.join(source_dir, filename)\n",
    "\n",
    "        try:\n",
    "            y, _ = lbrs.load(audio_path, sr=sr, mono=True)\n",
    "        except:\n",
    "            continue\n",
    "\n",
    "        rms = lbrs.feature.rms(y=y, frame_length=2048, hop_length=512)[0]\n",
    "        threshold = threshold_factor * np.mean(rms)\n",
    "\n",
    "        for start in range(0, len(y) - samples_per_segment + 1, samples_per_segment):\n",
    "            segment = y[start:start + samples_per_segment]\n",
    "            seg_rms = np.mean(lbrs.feature.rms(y=segment)[0])\n",
    "            if seg_rms < threshold:\n",
    "                continue\n",
    "\n",
    "            # Updated spectrogram parameters for 224x224 output\n",
    "            spec = lbrs.feature.melspectrogram(\n",
    "                y=segment, \n",
    "                sr=sr, \n",
    "                n_mels=224,\n",
    "                hop_length=512,\n",
    "                n_fft=2048\n",
    "            )\n",
    "            spec_db = lbrs.power_to_db(spec, ref=np.max)\n",
    "            norm_spec = (spec_db - spec_db.min()) / (spec_db.max() - spec_db.min())\n",
    "            img = (norm_spec * 255).astype(np.uint8)\n",
    "\n",
    "            spec_filename = f\"{os.path.splitext(filename)[0]}_{start}.png\"\n",
    "            spec_path = os.path.join(spectrogram_dir, spec_filename)\n",
    "            Image.fromarray(img).save(spec_path)\n",
    "\n",
    "            rows.append({'filename': spec_filename, 'class_id': class_id})\n",
    "\n",
    "    pd.DataFrame(rows).to_csv(output_csv_path, index=False)"
   ]
  },
  {
   "cell_type": "code",
   "execution_count": 3,
   "id": "0fb65cd4",
   "metadata": {},
   "outputs": [],
   "source": [
    "# Define Paths\n",
    "audios_dir = os.path.join('..', 'database', 'audio', 'dev')\n",
    "spect_dir = os.path.join('..', 'database', 'spect')\n",
    "output_csv = os.path.join('..', 'database', 'meta', 'final_spects.csv')\n",
    "final_data = pd.read_csv(os.path.join('..', 'database', 'meta', 'final_data.csv'))\n",
    "\n",
    "# Solo los que estan en dev/ para no encontrar errores\n",
    "dev_df = final_data[final_data['filename'].apply(lambda f: os.path.exists(os.path.join(audios_dir, f)))].reset_index(drop=True)"
   ]
  },
  {
   "cell_type": "code",
   "execution_count": 4,
   "id": "2780ecad",
   "metadata": {},
   "outputs": [
    {
     "name": "stdout",
     "output_type": "stream",
     "text": [
      "Resetting spectrogram directory...\n",
      "Generating spectrograms from audio segments...\n"
     ]
    }
   ],
   "source": [
    "print(\"Resetting spectrogram directory...\")\n",
    "util.clean_dir(spect_dir)\n",
    "\n",
    "print(\"Generating spectrograms from audio segments...\")\n",
    "load_spectrograms(dev_df, audios_dir, spect_dir, output_csv)"
   ]
  },
  {
   "cell_type": "markdown",
   "id": "9e23c2e7",
   "metadata": {},
   "source": [
    "Aca veo los tamaños"
   ]
  },
  {
   "cell_type": "code",
   "execution_count": 5,
   "id": "bec0dd8d",
   "metadata": {},
   "outputs": [
    {
     "name": "stdout",
     "output_type": "stream",
     "text": [
      "XC591189_640000.png: (313, 224)\n",
      "XC355657_320000.png: (313, 224)\n",
      "XC584552_0.png: (313, 224)\n",
      "XC299042_480000.png: (313, 224)\n",
      "XC1710_320000.png: (313, 224)\n",
      "XC510944_640000.png: (313, 224)\n",
      "XC244497_2880000.png: (313, 224)\n",
      "XC540445_1120000.png: (313, 224)\n",
      "XC506163_800000.png: (313, 224)\n",
      "XC592835_160000.png: (313, 224)\n",
      "XC29073_800000.png: (313, 224)\n",
      "XC394535_0.png: (313, 224)\n",
      "XC503247_1120000.png: (313, 224)\n",
      "XC415207_0.png: (313, 224)\n",
      "XC358288_160000.png: (313, 224)\n",
      "XC143491_1440000.png: (313, 224)\n",
      "XC537786_1120000.png: (313, 224)\n",
      "XC204203_960000.png: (313, 224)\n",
      "XC390938_960000.png: (313, 224)\n",
      "XC391504_640000.png: (313, 224)\n",
      "XC444441_160000.png: (313, 224)\n",
      "XC51010_0.png: (313, 224)\n",
      "XC288940_1280000.png: (313, 224)\n",
      "XC390834_960000.png: (313, 224)\n",
      "XC510944_320000.png: (313, 224)\n",
      "XC508606_1440000.png: (313, 224)\n",
      "XC512739_480000.png: (313, 224)\n",
      "XC546406_800000.png: (313, 224)\n",
      "XC299042_640000.png: (313, 224)\n",
      "XC351272_480000.png: (313, 224)\n",
      "XC506234_1120000.png: (313, 224)\n",
      "XC355657_1920000.png: (313, 224)\n",
      "XC616065_160000.png: (313, 224)\n",
      "XC112712_1760000.png: (313, 224)\n",
      "XC512739_800000.png: (313, 224)\n",
      "XC215722_640000.png: (313, 224)\n",
      "XC1726_320000.png: (313, 224)\n",
      "XC394279_1440000.png: (313, 224)\n",
      "XC589030_0.png: (313, 224)\n",
      "XC51877_0.png: (313, 224)\n",
      "XC391110_640000.png: (313, 224)\n",
      "XC361108_320000.png: (313, 224)\n",
      "XC391110_2560000.png: (313, 224)\n",
      "XC592804_0.png: (313, 224)\n",
      "XC1661_320000.png: (313, 224)\n",
      "XC540445_160000.png: (313, 224)\n",
      "XC195454_160000.png: (313, 224)\n",
      "XC345967_480000.png: (313, 224)\n",
      "XC394535_1120000.png: (313, 224)\n",
      "XC112712_1440000.png: (313, 224)\n"
     ]
    }
   ],
   "source": [
    "import random\n",
    "amount = 50\n",
    "\n",
    "# List all PNG files in spect_dir\n",
    "spect_files = [f for f in os.listdir(spect_dir) if f.endswith('.png')]\n",
    "\n",
    "# Fetch 5 random images\n",
    "random_files = random.sample(spect_files, min(amount, len(spect_files)))\n",
    "\n",
    "for fname in random_files:\n",
    "    img_path = os.path.join(spect_dir, fname)\n",
    "    img = Image.open(img_path)\n",
    "    print(f\"{fname}: {img.size}\")"
   ]
  }
 ],
 "metadata": {
  "kernelspec": {
   "display_name": "birds",
   "language": "python",
   "name": "python3"
  },
  "language_info": {
   "codemirror_mode": {
    "name": "ipython",
    "version": 3
   },
   "file_extension": ".py",
   "mimetype": "text/x-python",
   "name": "python",
   "nbconvert_exporter": "python",
   "pygments_lexer": "ipython3",
   "version": "3.13.4"
  }
 },
 "nbformat": 4,
 "nbformat_minor": 5
}
