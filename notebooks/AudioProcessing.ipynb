{
 "cells": [
  {
   "cell_type": "markdown",
   "id": "e95c61d3",
   "metadata": {},
   "source": [
    "Este agarra los audio segments de audio_segments/, los procesa, y carga los spectrograms finales a spect/"
   ]
  },
  {
   "cell_type": "code",
   "execution_count": 8,
   "id": "0cfba78e",
   "metadata": {},
   "outputs": [],
   "source": [
    "import os, sys\n",
    "import pandas as pd\n",
    "from PIL import Image\n",
    "\n",
    "sys.path.append(os.path.abspath(os.path.join(os.getcwd(), '..')))\n",
    "from utils import util"
   ]
  },
  {
   "cell_type": "code",
   "execution_count": 2,
   "id": "c7a897ce",
   "metadata": {},
   "outputs": [],
   "source": [
    "# # OLD!\n",
    "# def load_spectrograms(df, source_dir, spectrogram_dir, output_csv_path, test_audios_dir=None, noise_reduce=True,\n",
    "#                     srate=32000, segment_sec=5.0, threshold_factor=0.5, mels=224, hoplen=512, nfft=2048):\n",
    "#     '''Gets the audio files from the source directory, processes them to create spectrograms, and saves \n",
    "#     the spectrograms as images in the specified directory. It also creates a CSV file denoting all the \n",
    "#     final spectrogram samples and their corresponding class IDs after generating new samples from segments.\n",
    "\n",
    "#     Args:\n",
    "#         df (pd.DataFrame): DataFrame containing at least 'filename' and 'class_id' columns.\n",
    "#         source_dir (str): Directory where the original audio (.ogg) files are located.\n",
    "#         spectrogram_dir (str): Directory to save generated spectrogram .png files.\n",
    "#         output_csv_path (str): Path to save the output CSV mapping 'filename' to 'class_id'.\n",
    "#         test_audios_dir (str, optional): Directory to save first 10 segmented audio samples as .wav files for inspection. Defaults to None.\n",
    "#         noise_reduce (bool, optional): Whether to apply noise reduction to the audio files. Defaults to False.\n",
    "#         sr (int, optional): Target sampling rate for audio loading. Defaults to 32000.\n",
    "#         segment_sec (float, optional): Duration (in seconds) of each extracted segment. Defaults to 5.0.\n",
    "#         threshold_factor (float, optional): Factor to multiply global RMS mean to set segment inclusion threshold. Defaults to 0.5.\n",
    "#         mels (int, optional): Number of mel bands for the spectrogram. Defaults to 224.\n",
    "#         hoplen (int, optional): Hop length for the spectrogram. Defaults to 512.\n",
    "#         nfft (int, optional): FFT window size for the spectrogram. Defaults to 2048.\n",
    "#     '''\n",
    "\n",
    "#     samples_per_segment = int(sr * segment_sec)\n",
    "#     rows = []\n",
    "#     saved_test_audios = 0  # Counter for test audio samples\n",
    "#     low_rms = 0  # Counter for segments with low RMS\n",
    "\n",
    "#     for _, row in df.iterrows():\n",
    "#         filename = row['filename']\n",
    "#         class_id = row['class_id']\n",
    "#         audio_path = os.path.join(source_dir, filename)\n",
    "\n",
    "#         try:\n",
    "#             y, srate = util.lbrs_loading(audio_path, srate=sr, mono=True)\n",
    "#         except:\n",
    "#             print(f\"Error loading audio file {filename} from {source_dir}. Skipping.\")\n",
    "#             continue\n",
    "\n",
    "#         threshold = util.get_rmsThreshold(y, frame_len=2048, hop_len=hoplen, thresh_factor=0.75)\n",
    "#         segments_per_audio = 0  # Counter for segments per audio file\n",
    "\n",
    "#         for start in range(0, len(y) - samples_per_segment + 1, samples_per_segment):\n",
    "#             if segments_per_audio >= 5:  # Limit to max 4 segments per audio\n",
    "#                 break\n",
    "                \n",
    "#             segment = y[start:start + samples_per_segment]\n",
    "\n",
    "#             seg_rms = np.mean(lbrs.feature.rms(y=segment)[0])\n",
    "#             if seg_rms < threshold:\n",
    "#                 low_rms += 1\n",
    "#                 continue\n",
    "\n",
    "#             if noise_reduce:\n",
    "#                 segment = util.reduce_noise_seg(segment, srate=srate, filename=filename, class_id=class_id)\n",
    "\n",
    "#             img, spec_path, spec_name = util.get_spec_image(segment, srate=srate, mels=mels, hoplen=hoplen, nfft=nfft,\n",
    "#                                                             filename=filename, start=start, spectrogram_dir=spectrogram_dir)\n",
    "#             Image.fromarray(img).save(spec_path)\n",
    "\n",
    "#             # Save first 10 segmented audios as test samples\n",
    "#             util.save_test_audios(segment, sr, test_audios_dir, filename, start, saved_test_audios)\n",
    "#             saved_test_audios += 1\n",
    "\n",
    "#             rows.append({'filename': spec_name, 'class_id': class_id})\n",
    "#             segments_per_audio += 1\n",
    "\n",
    "#     print(f\"Total segments removed due to low RMS: {low_rms}\")\n",
    "#     pd.DataFrame(rows).to_csv(output_csv_path, index=False)"
   ]
  },
  {
   "cell_type": "code",
   "execution_count": null,
   "id": "18e7781f",
   "metadata": {},
   "outputs": [],
   "source": [
    "def create_spectrograms_from_segments(segments, spectrogram_dir, output_csv_path, \n",
    "                                    test_audios_dir=None, mels=224, hoplen=512, \n",
    "                                    nfft=2048, noise_reduce=True):\n",
    "    \"\"\"\n",
    "    Create spectrograms from extracted audio segments.\n",
    "    \n",
    "    Args:\n",
    "        segments (list): List of segment dictionaries from extract_audio_segments\n",
    "        spectrogram_dir (str): Directory to save spectrogram images\n",
    "        output_csv_path (str): Path to save the output CSV\n",
    "        test_audios_dir (str, optional): Directory to save test audio samples\n",
    "        mels (int): Number of mel bands for spectrogram\n",
    "        hoplen (int): Hop length for spectrogram\n",
    "        nfft (int): FFT window size\n",
    "        noise_reduce (bool): Whether to apply noise reduction\n",
    "        \n",
    "    Returns:\n",
    "        pd.DataFrame: DataFrame with spectrogram metadata\n",
    "    \"\"\"\n",
    "    print(f\"Creating spectrograms from {len(segments)} segments...\")\n",
    "    \n",
    "    os.makedirs(spectrogram_dir, exist_ok=True)\n",
    "    if test_audios_dir:\n",
    "        os.makedirs(test_audios_dir, exist_ok=True)\n",
    "    \n",
    "    spectrogram_records = []\n",
    "    saved_test_audios = 0\n",
    "    \n",
    "    for i, segment_info in enumerate(segments):\n",
    "        # Apply noise reduction if requested\n",
    "        if noise_reduce:\n",
    "            segment_info['audio_data'] = util.reduce_noise_seg(\n",
    "                segment_info['audio_data'], \n",
    "                srate=segment_info['sr'], \n",
    "                filename=segment_info['original_filename'], \n",
    "                class_id=segment_info['class_id']\n",
    "            )\n",
    "        \n",
    "        # Create spectrogram\n",
    "        record = util.create_single_spectrogram(segment_info, spectrogram_dir, mels, hoplen, nfft)\n",
    "        \n",
    "        if record is not None:\n",
    "            # Save test audio if requested (first 10 only)\n",
    "            if test_audios_dir and saved_test_audios < 10:\n",
    "                util.save_test_audio(segment_info, test_audios_dir)\n",
    "                saved_test_audios += 1\n",
    "            \n",
    "            spectrogram_records.append(record)\n",
    "    \n",
    "    # Create and save final DataFrame\n",
    "    final_df = pd.DataFrame(spectrogram_records)\n",
    "    final_df.to_csv(output_csv_path, index=False)\n",
    "    \n",
    "    util.plot_summary(final_df, output_csv_path)\n",
    "    return final_df"
   ]
  },
  {
   "cell_type": "code",
   "execution_count": 4,
   "id": "d9e1475d",
   "metadata": {},
   "outputs": [],
   "source": [
    "# Define Paths\n",
    "# Input: Audio segments from AudioExtracting notebook\n",
    "segments_dir = os.path.join('..', 'database', 'audio_segments')\n",
    "segments_csv_path = os.path.join('..', 'database', 'meta', 'audio_segments.csv')\n",
    "\n",
    "# Output: Spectrograms and metadata\n",
    "spect_dir = os.path.join('..', 'database', 'spect')\n",
    "output_csv = os.path.join('..', 'database', 'meta', 'final_spects.csv')\n",
    "test_audios_dir = os.path.join('..', 'database', 'test_audios')"
   ]
  },
  {
   "cell_type": "code",
   "execution_count": 5,
   "id": "0dd583b8",
   "metadata": {},
   "outputs": [
    {
     "name": "stdout",
     "output_type": "stream",
     "text": [
      "Loading audio segments from disk...\n",
      "Loaded 2042 audio segments from disk\n",
      "Loaded 2042 segments from disk\n",
      "Loaded 2042 audio segments from disk\n",
      "Loaded 2042 segments from disk\n"
     ]
    }
   ],
   "source": [
    "# Step 1: Load audio segments from disk\n",
    "print(\"Loading audio segments from disk...\")\n",
    "segments = util.load_audio_segments_from_disk(segments_csv_path, segments_dir, sr=32000)\n",
    "\n",
    "if not segments:\n",
    "    print(\"No segments loaded! Make sure AudioExtracting notebook has been run first.\")\n",
    "else:\n",
    "    print(f\"Loaded {len(segments)} segments from disk\")"
   ]
  },
  {
   "cell_type": "code",
   "execution_count": null,
   "id": "b4e94809",
   "metadata": {},
   "outputs": [],
   "source": [
    "# Step 2: Create spectrograms from loaded segments\n",
    "util.clean_dir(spect_dir)\n",
    "util.clean_dir(test_audios_dir)\n",
    "\n",
    "print(\"Creating spectrograms from loaded segments...\")\n",
    "specs = create_spectrograms_from_segments(\n",
    "    segments, spect_dir, output_csv, \n",
    "    test_audios_dir=test_audios_dir, \n",
    "    mels=224, hoplen=512, nfft=2048, \n",
    "    noise_reduce=True\n",
    ")\n",
    "\n",
    "print(\"Spectrogram generation complete!\")"
   ]
  },
  {
   "cell_type": "code",
   "execution_count": 11,
   "id": "f79d2cef",
   "metadata": {},
   "outputs": [
    {
     "data": {
      "text/plain": [
       "<module 'utils.util' from 'c:\\\\Users\\\\manue\\\\Desktop\\\\manum\\\\coding\\\\ChirpID-backend\\\\utils\\\\util.py'>"
      ]
     },
     "execution_count": 11,
     "metadata": {},
     "output_type": "execute_result"
    }
   ],
   "source": [
    "import importlib\n",
    "importlib.reload(util)"
   ]
  },
  {
   "cell_type": "code",
   "execution_count": null,
   "id": "5fe12785",
   "metadata": {},
   "outputs": [],
   "source": [
    "util.plot_summary(specs, output_csv)"
   ]
  },
  {
   "cell_type": "markdown",
   "id": "9e23c2e7",
   "metadata": {},
   "source": [
    "Aca veo los tamaños"
   ]
  },
  {
   "cell_type": "code",
   "execution_count": 7,
   "id": "bec0dd8d",
   "metadata": {},
   "outputs": [
    {
     "name": "stdout",
     "output_type": "stream",
     "text": [
      "XC29301_0_0.png: (313, 224)\n",
      "XC366345_0_0.png: (313, 224)\n",
      "XC556170_0_0.png: (313, 224)\n",
      "XC574591_4_4.png: (313, 224)\n",
      "XC365181_1_1.png: (313, 224)\n",
      "XC592837_9_9.png: (313, 224)\n",
      "XC459676_7_7.png: (313, 224)\n",
      "XC120305_3_3.png: (313, 224)\n",
      "XC366208_3_3.png: (313, 224)\n",
      "XC607187_5_5.png: (313, 224)\n",
      "XC48295_6_6.png: (313, 224)\n",
      "XC202064_2_2.png: (313, 224)\n",
      "XC361103_3_3.png: (313, 224)\n",
      "XC112712_19_19.png: (313, 224)\n",
      "XC391504_4_4.png: (313, 224)\n",
      "XC390938_18_18.png: (313, 224)\n",
      "XC506234_7_7.png: (313, 224)\n",
      "XC508606_8_8.png: (313, 224)\n",
      "XC534308_3_3.png: (313, 224)\n",
      "XC441550_1_1.png: (313, 224)\n"
     ]
    }
   ],
   "source": [
    "import random\n",
    "amount = 20\n",
    "\n",
    "# List all PNG files in spect_dir\n",
    "spect_files = [f for f in os.listdir(spect_dir) if f.endswith('.png')]\n",
    "\n",
    "# Fetch random images\n",
    "random_files = random.sample(spect_files, min(amount, len(spect_files)))\n",
    "\n",
    "for fname in random_files:\n",
    "    img_path = os.path.join(spect_dir, fname)\n",
    "    img = Image.open(img_path)\n",
    "    print(f\"{fname}: {img.size}\")"
   ]
  }
 ],
 "metadata": {
  "kernelspec": {
   "display_name": "birds",
   "language": "python",
   "name": "python3"
  },
  "language_info": {
   "codemirror_mode": {
    "name": "ipython",
    "version": 3
   },
   "file_extension": ".py",
   "mimetype": "text/x-python",
   "name": "python",
   "nbconvert_exporter": "python",
   "pygments_lexer": "ipython3",
   "version": "3.13.4"
  }
 },
 "nbformat": 4,
 "nbformat_minor": 5
}
