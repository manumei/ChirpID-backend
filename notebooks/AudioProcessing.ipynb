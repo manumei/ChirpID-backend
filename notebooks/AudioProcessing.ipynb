{
 "cells": [
  {
   "cell_type": "markdown",
   "id": "e95c61d3",
   "metadata": {},
   "source": [
    "Este agarra los audio segments de audio_segments/, los procesa, y carga los spectrograms finales a spect/"
   ]
  },
  {
   "cell_type": "code",
   "execution_count": 1,
   "id": "0cfba78e",
   "metadata": {},
   "outputs": [
    {
     "name": "stderr",
     "output_type": "stream",
     "text": [
      "c:\\Users\\manue\\miniconda3\\envs\\birds\\Lib\\site-packages\\tqdm\\auto.py:21: TqdmWarning: IProgress not found. Please update jupyter and ipywidgets. See https://ipywidgets.readthedocs.io/en/stable/user_install.html\n",
      "  from .autonotebook import tqdm as notebook_tqdm\n"
     ]
    }
   ],
   "source": [
    "import os, sys\n",
    "import pandas as pd\n",
    "from PIL import Image\n",
    "\n",
    "sys.path.append(os.path.abspath(os.path.join(os.getcwd(), '..')))\n",
    "from utils import util"
   ]
  },
  {
   "cell_type": "code",
   "execution_count": 2,
   "id": "18e7781f",
   "metadata": {},
   "outputs": [],
   "source": [
    "def create_spectrograms_from_segments(segments, spectrogram_dir, output_csv_path, \n",
    "                                    test_audios_dir=None, mels=224, hoplen=512, \n",
    "                                    nfft=2048, noise_reduce=True):\n",
    "    \"\"\"\n",
    "    Create spectrograms from extracted audio segments.\n",
    "    \n",
    "    Args:\n",
    "        segments (list): List of segment dictionaries from extract_audio_segments\n",
    "        spectrogram_dir (str): Directory to save spectrogram images\n",
    "        output_csv_path (str): Path to save the output CSV\n",
    "        test_audios_dir (str, optional): Directory to save test audio samples\n",
    "        mels (int): Number of mel bands for spectrogram\n",
    "        hoplen (int): Hop length for spectrogram\n",
    "        nfft (int): FFT window size\n",
    "        noise_reduce (bool): Whether to apply noise reduction\n",
    "        \n",
    "    Returns:\n",
    "        pd.DataFrame: DataFrame with spectrogram metadata\n",
    "    \"\"\"\n",
    "    print(f\"Creating spectrograms from {len(segments)} segments...\")\n",
    "    \n",
    "    os.makedirs(spectrogram_dir, exist_ok=True)\n",
    "    if test_audios_dir:\n",
    "        os.makedirs(test_audios_dir, exist_ok=True)\n",
    "    \n",
    "    spectrogram_records = []\n",
    "    saved_test_audios = 0\n",
    "    \n",
    "    for i, segment_info in enumerate(segments):\n",
    "        # Apply noise reduction if requested\n",
    "        if noise_reduce:\n",
    "            segment_info['audio_data'] = util.reduce_noise_seg(\n",
    "                segment_info['audio_data'], \n",
    "                srate=segment_info['sr'], \n",
    "                filename=segment_info['original_filename'], \n",
    "                class_id=segment_info['class_id']\n",
    "            )\n",
    "        \n",
    "        # Create spectrogram\n",
    "        record = util.create_single_spectrogram(segment_info, spectrogram_dir, mels, hoplen, nfft)\n",
    "        \n",
    "        if record is not None:\n",
    "            # Save test audio if requested (first 10 only)\n",
    "            if test_audios_dir and saved_test_audios < 10:\n",
    "                util.save_test_audio(segment_info, test_audios_dir)\n",
    "                saved_test_audios += 1\n",
    "            \n",
    "            spectrogram_records.append(record)\n",
    "    \n",
    "    # Create and save final DataFrame\n",
    "    final_df = pd.DataFrame(spectrogram_records)\n",
    "    final_df.to_csv(output_csv_path, index=False)\n",
    "    \n",
    "    util.plot_summary(final_df, output_csv_path)\n",
    "    return final_df"
   ]
  },
  {
   "cell_type": "code",
   "execution_count": 3,
   "id": "d9e1475d",
   "metadata": {},
   "outputs": [],
   "source": [
    "# Define Paths\n",
    "# Input: Audio segments from AudioExtracting notebook\n",
    "segments_dir = os.path.join('..', 'database', 'audio_segments')\n",
    "segments_csv_path = os.path.join('..', 'database', 'meta', 'audio_segments.csv')\n",
    "\n",
    "# Output: Spectrograms and metadata\n",
    "spect_dir = os.path.join('..', 'database', 'spect')\n",
    "output_csv = os.path.join('..', 'database', 'meta', 'final_spects.csv')\n",
    "test_audios_dir = os.path.join('..', 'database', 'test_audios')"
   ]
  },
  {
   "cell_type": "code",
   "execution_count": 4,
   "id": "0636975a",
   "metadata": {},
   "outputs": [
    {
     "name": "stdout",
     "output_type": "stream",
     "text": [
      "Checking directory: ..\\database\\audio_segments\n",
      "Total files in segments_dir: 2987\n",
      "\n",
      "First 10 files:\n",
      "  XC112710_0.wav\n",
      "  XC112710_1.wav\n",
      "  XC112710_2.wav\n",
      "  XC112712_0.wav\n",
      "  XC112712_1.wav\n",
      "  XC112712_10.wav\n",
      "  XC112712_11.wav\n",
      "  XC112712_12.wav\n",
      "  XC112712_13.wav\n",
      "  XC112712_14.wav\n",
      "  ...\n"
     ]
    }
   ],
   "source": [
    "# Preview files in segments_dir\n",
    "print(f\"Checking directory: {segments_dir}\")\n",
    "if os.path.exists(segments_dir):\n",
    "    files = os.listdir(segments_dir)\n",
    "    print(f\"Total files in segments_dir: {len(files)}\")\n",
    "    print(\"\\nFirst 10 files:\")\n",
    "    for file in files[:10]:\n",
    "        print(f\"  {file}\")\n",
    "    if len(files) > 10:\n",
    "        print(\"  ...\")\n",
    "else:\n",
    "    print(\"Directory does not exist!\")"
   ]
  },
  {
   "cell_type": "code",
   "execution_count": 5,
   "id": "0dd583b8",
   "metadata": {},
   "outputs": [
    {
     "name": "stdout",
     "output_type": "stream",
     "text": [
      "Loading audio segments from disk...\n",
      "Loaded 2987 audio segments from disk\n",
      "Loaded 2987 segments from disk\n",
      "First segment keys: ['audio_data', 'class_id', 'author', 'original_filename', 'segment_index', 'sr', 'class_total_segments']\n"
     ]
    }
   ],
   "source": [
    "import importlib\n",
    "importlib.reload(util)\n",
    "\n",
    "print(\"Loading audio segments from disk...\")\n",
    "segments = util.load_audio_segments_from_disk(segments_csv_path, segments_dir, sr=32000)\n",
    "\n",
    "if not segments:\n",
    "    print(\"No segments loaded! Make sure AudioExtracting notebook has been run first.\")\n",
    "else:\n",
    "    print(f\"Loaded {len(segments)} segments from disk\")\n",
    "    print(f\"First segment keys: {list(segments[0].keys())}\")"
   ]
  },
  {
   "cell_type": "code",
   "execution_count": 6,
   "id": "b4e94809",
   "metadata": {},
   "outputs": [
    {
     "name": "stdout",
     "output_type": "stream",
     "text": [
      "Resetting ..\\database\\spect directory...\n",
      "Resetting ..\\database\\test_audios directory...\n",
      "Creating spectrograms from loaded segments...\n",
      "Creating spectrograms from 2987 segments...\n"
     ]
    },
    {
     "name": "stderr",
     "output_type": "stream",
     "text": [
      "c:\\Users\\manue\\miniconda3\\envs\\birds\\Lib\\site-packages\\noisereduce\\spectralgate\\nonstationary.py:70: RuntimeWarning: invalid value encountered in divide\n",
      "  sig_mult_above_thresh = (abs_sig_stft - sig_stft_smooth) / sig_stft_smooth\n"
     ]
    },
    {
     "name": "stdout",
     "output_type": "stream",
     "text": [
      "Error creating spectrogram for segment 0 of XC590621.wav: Audio buffer is not finite everywhere\n",
      "Error creating spectrogram for segment 1 of XC590621.wav: Audio buffer is not finite everywhere\n"
     ]
    },
    {
     "data": {
      "image/png": "[encoded data removed]",
      "text/plain": [
       "<Figure size 1200x600 with 1 Axes>"
      ]
     },
     "metadata": {},
     "output_type": "display_data"
    },
    {
     "name": "stdout",
     "output_type": "stream",
     "text": [
      "Spectrogram generation complete!\n"
     ]
    }
   ],
   "source": [
    "util.clean_dir(spect_dir)\n",
    "util.clean_dir(test_audios_dir)\n",
    "\n",
    "print(\"Creating spectrograms from loaded segments...\")\n",
    "specs = create_spectrograms_from_segments(\n",
    "    segments, spect_dir, output_csv, \n",
    "    test_audios_dir=test_audios_dir, \n",
    "    mels=224, hoplen=512, nfft=2048, \n",
    "    noise_reduce=True\n",
    ")\n",
    "\n",
    "print(\"Spectrogram generation complete!\")"
   ]
  },
  {
   "cell_type": "markdown",
   "id": "9e23c2e7",
   "metadata": {},
   "source": [
    "Aca veo los tamaños"
   ]
  },
  {
   "cell_type": "code",
   "execution_count": 7,
   "id": "bec0dd8d",
   "metadata": {},
   "outputs": [
    {
     "name": "stdout",
     "output_type": "stream",
     "text": [
      "XC573151_1_1.png: (313, 224)\n",
      "XC308565_1_1.png: (313, 224)\n",
      "XC419108_0_0.png: (313, 224)\n",
      "XC216145_4_4.png: (313, 224)\n",
      "XC503247_6_6.png: (313, 224)\n",
      "XC421825_0_0.png: (313, 224)\n",
      "XC506234_9_9.png: (313, 224)\n",
      "XC139234_1_1.png: (313, 224)\n",
      "XC527368_0_0.png: (313, 224)\n",
      "XC170466_0_0.png: (313, 224)\n",
      "XC157215_0_0.png: (313, 224)\n",
      "XC599022_2_2.png: (313, 224)\n",
      "XC489125_3_3.png: (313, 224)\n",
      "XC133977_0_0.png: (313, 224)\n",
      "XC387129_0_0.png: (313, 224)\n",
      "XC229252_6_6.png: (313, 224)\n",
      "XC460189_5_5.png: (313, 224)\n",
      "XC171685_3_3.png: (313, 224)\n",
      "XC545184_1_1.png: (313, 224)\n",
      "XC511251_4_4.png: (313, 224)\n"
     ]
    }
   ],
   "source": [
    "import random\n",
    "amount = 20\n",
    "\n",
    "# List all PNG files in spect_dir\n",
    "spect_files = [f for f in os.listdir(spect_dir) if f.endswith('.png')]\n",
    "\n",
    "# Fetch random images\n",
    "random_files = random.sample(spect_files, min(amount, len(spect_files)))\n",
    "\n",
    "for fname in random_files:\n",
    "    img_path = os.path.join(spect_dir, fname)\n",
    "    img = Image.open(img_path)\n",
    "    print(f\"{fname}: {img.size}\")"
   ]
  }
 ],
 "metadata": {
  "kernelspec": {
   "display_name": "birds",
   "language": "python",
   "name": "python3"
  },
  "language_info": {
   "codemirror_mode": {
    "name": "ipython",
    "version": 3
   },
   "file_extension": ".py",
   "mimetype": "text/x-python",
   "name": "python",
   "nbconvert_exporter": "python",
   "pygments_lexer": "ipython3",
   "version": "3.13.4"
  }
 },
 "nbformat": 4,
 "nbformat_minor": 5
}
