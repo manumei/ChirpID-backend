{
 "cells": [
  {
   "cell_type": "markdown",
   "id": "e95c61d3",
   "metadata": {},
   "source": [
    "Este agarra los audios en wav/, los procesa, y carga los spectrograms finales a spect/"
   ]
  },
  {
   "cell_type": "code",
   "execution_count": 2,
   "id": "0cfba78e",
   "metadata": {},
   "outputs": [],
   "source": [
    "import os, sys\n",
    "import pandas as pd\n",
    "import librosa as lbrs\n",
    "import numpy as np\n",
    "import noisereduce as nr\n",
    "from PIL import Image\n",
    "\n",
    "\n",
    "sys.path.append(os.path.abspath(os.path.join(os.getcwd(), '..')))\n",
    "from utils import util"
   ]
  },
  {
   "cell_type": "code",
   "execution_count": null,
   "id": "c7a897ce",
   "metadata": {},
   "outputs": [],
   "source": [
    "def load_spectrograms(segments_df, segments_dir, spectrogram_dir, output_csv_path,\n",
    "                    test_audios_dir=None, sr=32000, mels=224, hoplen=512, nfft=2048):\n",
    "    '''\n",
    "    Creates spectrograms from pre-extracted audio segments.\n",
    "    \n",
    "    Args:\n",
    "        segments_df (pd.DataFrame): DataFrame with 'filename' and 'class_id' for segments.\n",
    "        segments_dir (str): Directory containing audio segment .wav files.\n",
    "        spectrogram_dir (str): Directory to save generated spectrogram .png files.\n",
    "        output_csv_path (str): Path to save the output CSV mapping filename to class_id.\n",
    "        test_audios_dir (str, optional): Directory to copy some segments for testing.\n",
    "        sr (int): Target sampling rate. Defaults to 32000.\n",
    "        mels (int): Number of mel bands. Defaults to 224.\n",
    "        hoplen (int): Hop length for spectrogram. Defaults to 512.\n",
    "        nfft (int): FFT window size. Defaults to 2048.\n",
    "    '''\n",
    "\n",
    "    os.makedirs(spectrogram_dir, exist_ok=True)\n",
    "    spectrogram_records = []\n",
    "    saved_test_audios = 0\n",
    "    \n",
    "    print(f\"Creating spectrograms for {len(segments_df)} segments...\")\n",
    "    \n",
    "    for _, row in segments_df.iterrows():\n",
    "        segment_filename = row['filename']\n",
    "        class_id = row['class_id']\n",
    "        segment_path = os.path.join(segments_dir, segment_filename)\n",
    "        \n",
    "        try:\n",
    "            # Load the segment\n",
    "            y, srate = util.lbrs_loading(segment_path, sr=sr, mono=True)\n",
    "            \n",
    "            # Create spectrogram image\n",
    "            img, spec_path, spec_name = util.get_spec_image(y, sr=srate, mels=mels, hoplen=hoplen, nfft=nfft,\n",
    "                                                            filename=segment_filename, start=0, \n",
    "                                                            spectrogram_dir=spectrogram_dir)\n",
    "            Image.fromarray(img).save(spec_path)\n",
    "            \n",
    "            # Save some test audios if requested\n",
    "            if test_audios_dir and saved_test_audios < 10:\n",
    "                import shutil\n",
    "                test_audio_path = os.path.join(test_audios_dir, f\"test_{saved_test_audios:02d}_{segment_filename}\")\n",
    "                shutil.copy2(segment_path, test_audio_path)\n",
    "                saved_test_audios += 1\n",
    "            \n",
    "            spectrogram_records.append({\n",
    "                'filename': spec_name,\n",
    "                'class_id': class_id\n",
    "            })\n",
    "            \n",
    "        except Exception as e:\n",
    "            print(f\"Error processing segment {segment_filename}: {e}\")\n",
    "            continue\n",
    "    \n",
    "    # Save the final CSV\n",
    "    final_df = pd.DataFrame(spectrogram_records)\n",
    "    final_df.to_csv(output_csv_path, index=False)\n",
    "    \n",
    "    print(f\"Spectrogram generation complete!\")\n",
    "    print(f\"Total spectrograms created: {len(final_df)}\")\n",
    "    print(f\"Output saved to: {output_csv_path}\")\n",
    "    \n",
    "    return final_df"
   ]
  },
  {
   "cell_type": "code",
   "execution_count": 4,
   "id": "0fb65cd4",
   "metadata": {},
   "outputs": [],
   "source": [
    "# Define Paths\n",
    "audios_dir = os.path.join('..', 'database', 'audio', 'dev')\n",
    "dev_data = pd.read_csv(os.path.join('..', 'database', 'meta', 'dev_data.csv'))\n",
    "\n",
    "spect_dir = os.path.join('..', 'database', 'spect')\n",
    "spect2_dir = os.path.join('..', 'database', 'spect2')\n",
    "\n",
    "output_csv = os.path.join('..', 'database', 'meta', 'final_spects.csv')\n",
    "output_csv2 = os.path.join('..', 'database', 'meta', 'final_spects2.csv')\n",
    "\n",
    "test_audios_dir = os.path.join('..', 'database', 'test_audios')\n",
    "test_audios2_dir = os.path.join('..', 'database', 'test_audios2')\n",
    "\n",
    "# Solo los que estan en dev/ para no encontrar errores\n",
    "dev_df = dev_data"
   ]
  },
  {
   "cell_type": "code",
   "execution_count": 5,
   "id": "2780ecad",
   "metadata": {},
   "outputs": [
    {
     "name": "stdout",
     "output_type": "stream",
     "text": [
      "Resetting ..\\database\\spect directory...\n",
      "Resetting ..\\database\\test_audios directory...\n",
      "Generating spectrograms from audio segments...\n",
      "Total segments removed due to low RMS: 419\n"
     ]
    }
   ],
   "source": [
    "util.clean_dir(spect_dir)\n",
    "util.clean_dir(test_audios_dir)\n",
    "\n",
    "print(\"Generating spectrograms from audio segments...\")\n",
    "load_spectrograms(dev_df, audios_dir, spect_dir, output_csv, test_audios_dir=test_audios_dir, noise_reduce=True)"
   ]
  },
  {
   "cell_type": "markdown",
   "id": "9e23c2e7",
   "metadata": {},
   "source": [
    "Aca veo los tamaños"
   ]
  },
  {
   "cell_type": "code",
   "execution_count": null,
   "id": "bec0dd8d",
   "metadata": {},
   "outputs": [
    {
     "name": "stdout",
     "output_type": "stream",
     "text": [
      "XC616305_160000.png: (313, 224)\n",
      "XC214240_0.png: (313, 224)\n",
      "XC390971_320000.png: (313, 224)\n",
      "XC48747_160000.png: (313, 224)\n",
      "XC288823_960000.png: (313, 224)\n",
      "XC394268_0.png: (313, 224)\n",
      "XC396786_320000.png: (313, 224)\n",
      "XC173759_640000.png: (313, 224)\n",
      "XC112712_0.png: (313, 224)\n",
      "XC283328_160000.png: (313, 224)\n",
      "XC503247_480000.png: (313, 224)\n",
      "XC476264_0.png: (313, 224)\n",
      "XC492619_320000.png: (313, 224)\n",
      "XC48762_1120000.png: (313, 224)\n",
      "XC51046_320000.png: (313, 224)\n",
      "XC139503_160000.png: (313, 224)\n",
      "XC204203_640000.png: (313, 224)\n",
      "XC361108_800000.png: (313, 224)\n",
      "XC32322_0.png: (313, 224)\n",
      "XC51744_1280000.png: (313, 224)\n"
     ]
    }
   ],
   "source": [
    "import random\n",
    "amount = 20\n",
    "\n",
    "# List all PNG files in spect_dir\n",
    "spect_files = [f for f in os.listdir(spect_dir) if f.endswith('.png')]\n",
    "\n",
    "# Fetch 5 random images\n",
    "random_files = random.sample(spect_files, min(amount, len(spect_files)))\n",
    "\n",
    "for fname in random_files:\n",
    "    img_path = os.path.join(spect_dir, fname)\n",
    "    img = Image.open(img_path)\n",
    "    print(f\"{fname}: {img.size}\")"
   ]
  }
 ],
 "metadata": {
  "kernelspec": {
   "display_name": "birds",
   "language": "python",
   "name": "python3"
  },
  "language_info": {
   "codemirror_mode": {
    "name": "ipython",
    "version": 3
   },
   "file_extension": ".py",
   "mimetype": "text/x-python",
   "name": "python",
   "nbconvert_exporter": "python",
   "pygments_lexer": "ipython3",
   "version": "3.13.4"
  }
 },
 "nbformat": 4,
 "nbformat_minor": 5
}
