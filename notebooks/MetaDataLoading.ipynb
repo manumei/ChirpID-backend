{
 "cells": [
  {
   "cell_type": "markdown",
   "id": "6e95f834",
   "metadata": {},
   "source": [
    "Este agarra el CSV de todas las especies, y carga los CSVs recortados para procesar y entrenar"
   ]
  },
  {
   "cell_type": "markdown",
   "id": "95b278d0",
   "metadata": {},
   "source": [
    "### Modify these bounds and values for Data Selection"
   ]
  },
  {
   "cell_type": "code",
   "execution_count": 81,
   "id": "78c241d0",
   "metadata": {},
   "outputs": [],
   "source": [
    "# Hyperparameters for Selection\n",
    "\n",
    "MIN_LAT = -55.0 # decrease for more samples & species\n",
    "MAX_LAT = -18.0 # increase for more samples & species\n",
    "\n",
    "MIN_LON = -75.0 # decrease for more samples & species\n",
    "MAX_LON = -52.0 # increase for more samples & species\n",
    "\n",
    "SAMPLES_CUTOFF = 10 # decrease for more species\n",
    "SEGMENTS_CUTOFF = 38 # decrease for more species\n",
    "MIN_RATING_CUTOFF = 3 # decrease for more samples\n",
    "MIN_AUTHORS_CUTOFF = 3 # decrease for more species"
   ]
  },
  {
   "cell_type": "markdown",
   "id": "d54fb348",
   "metadata": {},
   "source": [
    "### The rest of the code below should remain unchanged."
   ]
  },
  {
   "cell_type": "code",
   "execution_count": 82,
   "id": "abb40dce",
   "metadata": {},
   "outputs": [],
   "source": [
    "import matplotlib.pyplot as plt\n",
    "import pandas as pd\n",
    "import os\n",
    "import librosa\n",
    "import numpy as np\n",
    "from collections import defaultdict\n",
    "from tabulate import tabulate"
   ]
  },
  {
   "cell_type": "code",
   "execution_count": 83,
   "id": "125592be",
   "metadata": {},
   "outputs": [],
   "source": [
    "# # Work is done, csv ya procesado\n",
    "# # Load original CSV\n",
    "# df = pd.read_csv('../database/train_metadata.csv')\n",
    "\n",
    "# # Drop rows without coordinates\n",
    "# df = df.dropna(subset=['latitude', 'longitude', 'filename', 'scientific_name', 'primary_label'])\n",
    "\n",
    "# # Keep only specified columns\n",
    "# cols = ['primary_label', 'latitude', 'longitude', 'scientific_name', 'common_name', 'filename', 'rating', 'author']\n",
    "# df = df[cols]\n",
    "\n",
    "# # Overwrite original file\n",
    "# df.to_csv('../data/birdclef-2021/train_metadata.csv', index=False)\n",
    "# df.to_csv('../database/train_metadata.csv', index=False)\n",
    "\n",
    "# # Preview\n",
    "# df.head(n=10)"
   ]
  },
  {
   "cell_type": "code",
   "execution_count": 84,
   "id": "82531a61",
   "metadata": {},
   "outputs": [
    {
     "name": "stdout",
     "output_type": "stream",
     "text": [
      "DataFrame shape: (62874, 8)\n",
      "DataFrame shape after 'cuts': (62874, 8)\n"
     ]
    },
    {
     "data": {
      "application/vnd.microsoft.datawrangler.viewer.v0+json": {
       "columns": [
        {
         "name": "index",
         "rawType": "int64",
         "type": "integer"
        },
        {
         "name": "primary_label",
         "rawType": "object",
         "type": "string"
        },
        {
         "name": "latitude",
         "rawType": "float64",
         "type": "float"
        },
        {
         "name": "longitude",
         "rawType": "float64",
         "type": "float"
        },
        {
         "name": "scientific_name",
         "rawType": "object",
         "type": "string"
        },
        {
         "name": "common_name",
         "rawType": "object",
         "type": "string"
        },
        {
         "name": "filename",
         "rawType": "object",
         "type": "string"
        },
        {
         "name": "rating",
         "rawType": "float64",
         "type": "float"
        },
        {
         "name": "author",
         "rawType": "object",
         "type": "string"
        }
       ],
       "ref": "53e74d3b-9c19-44c1-be2b-a7091bfb66fc",
       "rows": [
        [
         "0",
         "acafly",
         "35.386",
         "-84.125",
         "Empidonax virescens",
         "Acadian Flycatcher",
         "XC109605.ogg",
         "2.5",
         "Mike Nelson"
        ],
        [
         "1",
         "acafly",
         "9.1334",
         "-79.6501",
         "Empidonax virescens",
         "Acadian Flycatcher",
         "XC11209.ogg",
         "3.0",
         "Allen T. Chartier"
        ],
        [
         "2",
         "acafly",
         "5.7813",
         "-75.7452",
         "Empidonax virescens",
         "Acadian Flycatcher",
         "XC127032.ogg",
         "3.0",
         "Sergio Chaparro-Herrera"
        ],
        [
         "3",
         "acafly",
         "4.6717",
         "-75.6283",
         "Empidonax virescens",
         "Acadian Flycatcher",
         "XC129974.ogg",
         "3.5",
         "Oscar Humberto Marin-Gomez"
        ],
        [
         "4",
         "acafly",
         "4.6717",
         "-75.6283",
         "Empidonax virescens",
         "Acadian Flycatcher",
         "XC129981.ogg",
         "3.5",
         "Oscar Humberto Marin-Gomez"
        ],
        [
         "5",
         "acafly",
         "4.6717",
         "-75.6283",
         "Empidonax virescens",
         "Acadian Flycatcher",
         "XC130056.ogg",
         "4.0",
         "Oscar Humberto Marin-Gomez"
        ],
        [
         "6",
         "acafly",
         "4.6717",
         "-75.6283",
         "Empidonax virescens",
         "Acadian Flycatcher",
         "XC130133.ogg",
         "4.0",
         "Oscar Humberto Marin-Gomez"
        ],
        [
         "7",
         "acafly",
         "4.6717",
         "-75.6283",
         "Empidonax virescens",
         "Acadian Flycatcher",
         "XC130140.ogg",
         "4.0",
         "Oscar Humberto Marin-Gomez"
        ],
        [
         "8",
         "acafly",
         "4.6717",
         "-75.6283",
         "Empidonax virescens",
         "Acadian Flycatcher",
         "XC130750.ogg",
         "4.0",
         "Oscar Humberto Marin-Gomez"
        ],
        [
         "9",
         "acafly",
         "4.6717",
         "-75.6283",
         "Empidonax virescens",
         "Acadian Flycatcher",
         "XC131193.ogg",
         "3.0",
         "Oscar Humberto Marin-Gomez"
        ]
       ],
       "shape": {
        "columns": 8,
        "rows": 10
       }
      },
      "text/html": [
       "<div>\n",
       "<style scoped>\n",
       "    .dataframe tbody tr th:only-of-type {\n",
       "        vertical-align: middle;\n",
       "    }\n",
       "\n",
       "    .dataframe tbody tr th {\n",
       "        vertical-align: top;\n",
       "    }\n",
       "\n",
       "    .dataframe thead th {\n",
       "        text-align: right;\n",
       "    }\n",
       "</style>\n",
       "<table border=\"1\" class=\"dataframe\">\n",
       "  <thead>\n",
       "    <tr style=\"text-align: right;\">\n",
       "      <th></th>\n",
       "      <th>primary_label</th>\n",
       "      <th>latitude</th>\n",
       "      <th>longitude</th>\n",
       "      <th>scientific_name</th>\n",
       "      <th>common_name</th>\n",
       "      <th>filename</th>\n",
       "      <th>rating</th>\n",
       "      <th>author</th>\n",
       "    </tr>\n",
       "  </thead>\n",
       "  <tbody>\n",
       "    <tr>\n",
       "      <th>0</th>\n",
       "      <td>acafly</td>\n",
       "      <td>35.3860</td>\n",
       "      <td>-84.1250</td>\n",
       "      <td>Empidonax virescens</td>\n",
       "      <td>Acadian Flycatcher</td>\n",
       "      <td>XC109605.ogg</td>\n",
       "      <td>2.5</td>\n",
       "      <td>Mike Nelson</td>\n",
       "    </tr>\n",
       "    <tr>\n",
       "      <th>1</th>\n",
       "      <td>acafly</td>\n",
       "      <td>9.1334</td>\n",
       "      <td>-79.6501</td>\n",
       "      <td>Empidonax virescens</td>\n",
       "      <td>Acadian Flycatcher</td>\n",
       "      <td>XC11209.ogg</td>\n",
       "      <td>3.0</td>\n",
       "      <td>Allen T. Chartier</td>\n",
       "    </tr>\n",
       "    <tr>\n",
       "      <th>2</th>\n",
       "      <td>acafly</td>\n",
       "      <td>5.7813</td>\n",
       "      <td>-75.7452</td>\n",
       "      <td>Empidonax virescens</td>\n",
       "      <td>Acadian Flycatcher</td>\n",
       "      <td>XC127032.ogg</td>\n",
       "      <td>3.0</td>\n",
       "      <td>Sergio Chaparro-Herrera</td>\n",
       "    </tr>\n",
       "    <tr>\n",
       "      <th>3</th>\n",
       "      <td>acafly</td>\n",
       "      <td>4.6717</td>\n",
       "      <td>-75.6283</td>\n",
       "      <td>Empidonax virescens</td>\n",
       "      <td>Acadian Flycatcher</td>\n",
       "      <td>XC129974.ogg</td>\n",
       "      <td>3.5</td>\n",
       "      <td>Oscar Humberto Marin-Gomez</td>\n",
       "    </tr>\n",
       "    <tr>\n",
       "      <th>4</th>\n",
       "      <td>acafly</td>\n",
       "      <td>4.6717</td>\n",
       "      <td>-75.6283</td>\n",
       "      <td>Empidonax virescens</td>\n",
       "      <td>Acadian Flycatcher</td>\n",
       "      <td>XC129981.ogg</td>\n",
       "      <td>3.5</td>\n",
       "      <td>Oscar Humberto Marin-Gomez</td>\n",
       "    </tr>\n",
       "    <tr>\n",
       "      <th>5</th>\n",
       "      <td>acafly</td>\n",
       "      <td>4.6717</td>\n",
       "      <td>-75.6283</td>\n",
       "      <td>Empidonax virescens</td>\n",
       "      <td>Acadian Flycatcher</td>\n",
       "      <td>XC130056.ogg</td>\n",
       "      <td>4.0</td>\n",
       "      <td>Oscar Humberto Marin-Gomez</td>\n",
       "    </tr>\n",
       "    <tr>\n",
       "      <th>6</th>\n",
       "      <td>acafly</td>\n",
       "      <td>4.6717</td>\n",
       "      <td>-75.6283</td>\n",
       "      <td>Empidonax virescens</td>\n",
       "      <td>Acadian Flycatcher</td>\n",
       "      <td>XC130133.ogg</td>\n",
       "      <td>4.0</td>\n",
       "      <td>Oscar Humberto Marin-Gomez</td>\n",
       "    </tr>\n",
       "    <tr>\n",
       "      <th>7</th>\n",
       "      <td>acafly</td>\n",
       "      <td>4.6717</td>\n",
       "      <td>-75.6283</td>\n",
       "      <td>Empidonax virescens</td>\n",
       "      <td>Acadian Flycatcher</td>\n",
       "      <td>XC130140.ogg</td>\n",
       "      <td>4.0</td>\n",
       "      <td>Oscar Humberto Marin-Gomez</td>\n",
       "    </tr>\n",
       "    <tr>\n",
       "      <th>8</th>\n",
       "      <td>acafly</td>\n",
       "      <td>4.6717</td>\n",
       "      <td>-75.6283</td>\n",
       "      <td>Empidonax virescens</td>\n",
       "      <td>Acadian Flycatcher</td>\n",
       "      <td>XC130750.ogg</td>\n",
       "      <td>4.0</td>\n",
       "      <td>Oscar Humberto Marin-Gomez</td>\n",
       "    </tr>\n",
       "    <tr>\n",
       "      <th>9</th>\n",
       "      <td>acafly</td>\n",
       "      <td>4.6717</td>\n",
       "      <td>-75.6283</td>\n",
       "      <td>Empidonax virescens</td>\n",
       "      <td>Acadian Flycatcher</td>\n",
       "      <td>XC131193.ogg</td>\n",
       "      <td>3.0</td>\n",
       "      <td>Oscar Humberto Marin-Gomez</td>\n",
       "    </tr>\n",
       "  </tbody>\n",
       "</table>\n",
       "</div>"
      ],
      "text/plain": [
       "  primary_label  latitude  longitude      scientific_name         common_name  \\\n",
       "0        acafly   35.3860   -84.1250  Empidonax virescens  Acadian Flycatcher   \n",
       "1        acafly    9.1334   -79.6501  Empidonax virescens  Acadian Flycatcher   \n",
       "2        acafly    5.7813   -75.7452  Empidonax virescens  Acadian Flycatcher   \n",
       "3        acafly    4.6717   -75.6283  Empidonax virescens  Acadian Flycatcher   \n",
       "4        acafly    4.6717   -75.6283  Empidonax virescens  Acadian Flycatcher   \n",
       "5        acafly    4.6717   -75.6283  Empidonax virescens  Acadian Flycatcher   \n",
       "6        acafly    4.6717   -75.6283  Empidonax virescens  Acadian Flycatcher   \n",
       "7        acafly    4.6717   -75.6283  Empidonax virescens  Acadian Flycatcher   \n",
       "8        acafly    4.6717   -75.6283  Empidonax virescens  Acadian Flycatcher   \n",
       "9        acafly    4.6717   -75.6283  Empidonax virescens  Acadian Flycatcher   \n",
       "\n",
       "       filename  rating                      author  \n",
       "0  XC109605.ogg     2.5                 Mike Nelson  \n",
       "1   XC11209.ogg     3.0           Allen T. Chartier  \n",
       "2  XC127032.ogg     3.0     Sergio Chaparro-Herrera  \n",
       "3  XC129974.ogg     3.5  Oscar Humberto Marin-Gomez  \n",
       "4  XC129981.ogg     3.5  Oscar Humberto Marin-Gomez  \n",
       "5  XC130056.ogg     4.0  Oscar Humberto Marin-Gomez  \n",
       "6  XC130133.ogg     4.0  Oscar Humberto Marin-Gomez  \n",
       "7  XC130140.ogg     4.0  Oscar Humberto Marin-Gomez  \n",
       "8  XC130750.ogg     4.0  Oscar Humberto Marin-Gomez  \n",
       "9  XC131193.ogg     3.0  Oscar Humberto Marin-Gomez  "
      ]
     },
     "execution_count": 84,
     "metadata": {},
     "output_type": "execute_result"
    }
   ],
   "source": [
    "from sklearn.preprocessing import LabelEncoder\n",
    "\n",
    "latin_america_bounds = {\n",
    "    \"lat\": (MIN_LAT, MAX_LAT),\n",
    "    \"lon\": (MIN_LON, MAX_LON)\n",
    "}\n",
    "\n",
    "df = pd.read_csv(os.path.join('..', 'database', 'train_metadata.csv'))\n",
    "print(f\"DataFrame shape: {df.shape}\")\n",
    "df = df.dropna(subset=['latitude', 'longitude'])\n",
    "df = df[df['filename'].notna() & (df['filename'] != '')]\n",
    "df = df[~(df['scientific_name'].isna() & df['common_name'].isna())]\n",
    "print(f\"DataFrame shape after 'cuts': {df.shape}\")\n",
    "df.head(n=10)"
   ]
  },
  {
   "cell_type": "code",
   "execution_count": 85,
   "id": "664782f9",
   "metadata": {},
   "outputs": [
    {
     "name": "stdout",
     "output_type": "stream",
     "text": [
      "Total samples: 1108\n",
      "Total distinct species: 82\n"
     ]
    }
   ],
   "source": [
    "def in_region(lat, lon):\n",
    "    return (latin_america_bounds['lat'][0] <= lat <= latin_america_bounds['lat'][1] and\n",
    "            latin_america_bounds['lon'][0] <= lon <= latin_america_bounds['lon'][1])\n",
    "\n",
    "df['region'] = df.apply(lambda row: 'Latin America' if in_region(row['latitude'], row['longitude']) else None, axis=1)\n",
    "region_df = df[df['region'].notna()][['primary_label', 'latitude', 'longitude', 'scientific_name', 'common_name', 'region', 'filename', 'author']]\n",
    "\n",
    "# Add sample count per species\n",
    "species_counts = region_df['scientific_name'].value_counts().to_dict()\n",
    "region_df['amount_of_samples'] = region_df['scientific_name'].map(species_counts)\n",
    "\n",
    "total_samples = len(region_df)\n",
    "total_species = region_df['scientific_name'].nunique()\n",
    "\n",
    "print(f\"Total samples: {total_samples}\")\n",
    "print(f\"Total distinct species: {total_species}\")"
   ]
  },
  {
   "cell_type": "code",
   "execution_count": 86,
   "id": "4a13922b",
   "metadata": {},
   "outputs": [
    {
     "name": "stdout",
     "output_type": "stream",
     "text": [
      "Updated DataFrame shape: (1108, 9)\n",
      "Number of unique authors: 119\n"
     ]
    },
    {
     "data": {
      "application/vnd.microsoft.datawrangler.viewer.v0+json": {
       "columns": [
        {
         "name": "index",
         "rawType": "int64",
         "type": "integer"
        },
        {
         "name": "primary_label",
         "rawType": "object",
         "type": "string"
        },
        {
         "name": "latitude",
         "rawType": "float64",
         "type": "float"
        },
        {
         "name": "longitude",
         "rawType": "float64",
         "type": "float"
        },
        {
         "name": "scientific_name",
         "rawType": "object",
         "type": "string"
        },
        {
         "name": "common_name",
         "rawType": "object",
         "type": "string"
        },
        {
         "name": "region",
         "rawType": "object",
         "type": "string"
        },
        {
         "name": "filename",
         "rawType": "object",
         "type": "string"
        },
        {
         "name": "author",
         "rawType": "int64",
         "type": "integer"
        },
        {
         "name": "amount_of_samples",
         "rawType": "int64",
         "type": "integer"
        }
       ],
       "ref": "740040c3-b4b8-45a3-8a21-a2945107fc39",
       "rows": [
        [
         "465",
         "aldfly",
         "-19.5501",
         "-62.5623",
         "Empidonax alnorum",
         "Alder Flycatcher",
         "Latin America",
         "XC2628.ogg",
         "107",
         "1"
        ],
        [
         "1004",
         "amekes",
         "-33.214",
         "-70.9456",
         "Falco sparverius",
         "American Kestrel",
         "Latin America",
         "XC127418.ogg",
         "40",
         "7"
        ],
        [
         "1024",
         "amekes",
         "-32.144",
         "-53.728",
         "Falco sparverius",
         "American Kestrel",
         "Latin America",
         "XC267262.ogg",
         "96",
         "7"
        ],
        [
         "1041",
         "amekes",
         "-21.0944",
         "-52.4465",
         "Falco sparverius",
         "American Kestrel",
         "Latin America",
         "XC418891.ogg",
         "41",
         "7"
        ],
        [
         "1042",
         "amekes",
         "-21.0944",
         "-52.4465",
         "Falco sparverius",
         "American Kestrel",
         "Latin America",
         "XC418893.ogg",
         "41",
         "7"
        ]
       ],
       "shape": {
        "columns": 9,
        "rows": 5
       }
      },
      "text/html": [
       "<div>\n",
       "<style scoped>\n",
       "    .dataframe tbody tr th:only-of-type {\n",
       "        vertical-align: middle;\n",
       "    }\n",
       "\n",
       "    .dataframe tbody tr th {\n",
       "        vertical-align: top;\n",
       "    }\n",
       "\n",
       "    .dataframe thead th {\n",
       "        text-align: right;\n",
       "    }\n",
       "</style>\n",
       "<table border=\"1\" class=\"dataframe\">\n",
       "  <thead>\n",
       "    <tr style=\"text-align: right;\">\n",
       "      <th></th>\n",
       "      <th>primary_label</th>\n",
       "      <th>latitude</th>\n",
       "      <th>longitude</th>\n",
       "      <th>scientific_name</th>\n",
       "      <th>common_name</th>\n",
       "      <th>region</th>\n",
       "      <th>filename</th>\n",
       "      <th>author</th>\n",
       "      <th>amount_of_samples</th>\n",
       "    </tr>\n",
       "  </thead>\n",
       "  <tbody>\n",
       "    <tr>\n",
       "      <th>465</th>\n",
       "      <td>aldfly</td>\n",
       "      <td>-19.5501</td>\n",
       "      <td>-62.5623</td>\n",
       "      <td>Empidonax alnorum</td>\n",
       "      <td>Alder Flycatcher</td>\n",
       "      <td>Latin America</td>\n",
       "      <td>XC2628.ogg</td>\n",
       "      <td>107</td>\n",
       "      <td>1</td>\n",
       "    </tr>\n",
       "    <tr>\n",
       "      <th>1004</th>\n",
       "      <td>amekes</td>\n",
       "      <td>-33.2140</td>\n",
       "      <td>-70.9456</td>\n",
       "      <td>Falco sparverius</td>\n",
       "      <td>American Kestrel</td>\n",
       "      <td>Latin America</td>\n",
       "      <td>XC127418.ogg</td>\n",
       "      <td>40</td>\n",
       "      <td>7</td>\n",
       "    </tr>\n",
       "    <tr>\n",
       "      <th>1024</th>\n",
       "      <td>amekes</td>\n",
       "      <td>-32.1440</td>\n",
       "      <td>-53.7280</td>\n",
       "      <td>Falco sparverius</td>\n",
       "      <td>American Kestrel</td>\n",
       "      <td>Latin America</td>\n",
       "      <td>XC267262.ogg</td>\n",
       "      <td>96</td>\n",
       "      <td>7</td>\n",
       "    </tr>\n",
       "    <tr>\n",
       "      <th>1041</th>\n",
       "      <td>amekes</td>\n",
       "      <td>-21.0944</td>\n",
       "      <td>-52.4465</td>\n",
       "      <td>Falco sparverius</td>\n",
       "      <td>American Kestrel</td>\n",
       "      <td>Latin America</td>\n",
       "      <td>XC418891.ogg</td>\n",
       "      <td>41</td>\n",
       "      <td>7</td>\n",
       "    </tr>\n",
       "    <tr>\n",
       "      <th>1042</th>\n",
       "      <td>amekes</td>\n",
       "      <td>-21.0944</td>\n",
       "      <td>-52.4465</td>\n",
       "      <td>Falco sparverius</td>\n",
       "      <td>American Kestrel</td>\n",
       "      <td>Latin America</td>\n",
       "      <td>XC418893.ogg</td>\n",
       "      <td>41</td>\n",
       "      <td>7</td>\n",
       "    </tr>\n",
       "  </tbody>\n",
       "</table>\n",
       "</div>"
      ],
      "text/plain": [
       "     primary_label  latitude  longitude    scientific_name       common_name  \\\n",
       "465         aldfly  -19.5501   -62.5623  Empidonax alnorum  Alder Flycatcher   \n",
       "1004        amekes  -33.2140   -70.9456   Falco sparverius  American Kestrel   \n",
       "1024        amekes  -32.1440   -53.7280   Falco sparverius  American Kestrel   \n",
       "1041        amekes  -21.0944   -52.4465   Falco sparverius  American Kestrel   \n",
       "1042        amekes  -21.0944   -52.4465   Falco sparverius  American Kestrel   \n",
       "\n",
       "             region      filename  author  amount_of_samples  \n",
       "465   Latin America    XC2628.ogg     107                  1  \n",
       "1004  Latin America  XC127418.ogg      40                  7  \n",
       "1024  Latin America  XC267262.ogg      96                  7  \n",
       "1041  Latin America  XC418891.ogg      41                  7  \n",
       "1042  Latin America  XC418893.ogg      41                  7  "
      ]
     },
     "execution_count": 86,
     "metadata": {},
     "output_type": "execute_result"
    }
   ],
   "source": [
    "# Drop rows where 'author' is NaN\n",
    "region_df = region_df.dropna(subset=['author'])\n",
    "\n",
    "# Create and apply label encoding to 'author' column\n",
    "author_encoder = LabelEncoder()\n",
    "region_df['author'] = author_encoder.fit_transform(region_df['author'])\n",
    "\n",
    "print(f\"Updated DataFrame shape: {region_df.shape}\")\n",
    "print(f\"Number of unique authors: {region_df['author'].nunique()}\")\n",
    "region_df.head()"
   ]
  },
  {
   "cell_type": "code",
   "execution_count": 87,
   "id": "99a227ad",
   "metadata": {},
   "outputs": [
    {
     "data": {
      "image/png": "[encoded data removed]",
      "text/plain": [
       "<Figure size 1200x600 with 1 Axes>"
      ]
     },
     "metadata": {},
     "output_type": "display_data"
    }
   ],
   "source": [
    "species_counts = region_df['scientific_name'].value_counts()\n",
    "\n",
    "plt.figure(figsize=(12, 6))\n",
    "species_counts.hist(bins=50, edgecolor='black')\n",
    "plt.xlabel('Number of Samples')\n",
    "plt.ylabel('Number of Species')\n",
    "plt.title('Distribution of Samples per Species')\n",
    "plt.grid(True)\n",
    "plt.tight_layout()\n",
    "plt.show()"
   ]
  },
  {
   "cell_type": "code",
   "execution_count": 88,
   "id": "c28aa553",
   "metadata": {},
   "outputs": [
    {
     "data": {
      "image/png": "[encoded data removed]",
      "text/plain": [
       "<Figure size 1200x600 with 1 Axes>"
      ]
     },
     "metadata": {},
     "output_type": "display_data"
    },
    {
     "name": "stdout",
     "output_type": "stream",
     "text": [
      "Total samples: 895\n",
      "Total distinct species: 79\n"
     ]
    }
   ],
   "source": [
    "rated_df = region_df[df.loc[region_df.index, 'rating'] >= MIN_RATING_CUTOFF]\n",
    "rated_species_counts = rated_df['scientific_name'].value_counts()\n",
    "\n",
    "plt.figure(figsize=(12, 6))\n",
    "rated_species_counts.hist(bins=50, edgecolor='black')\n",
    "plt.xlabel('Number of Samples')\n",
    "plt.ylabel('Number of Species')\n",
    "plt.title('Distribution of Samples per Species after Rating Filter')\n",
    "plt.grid(True)\n",
    "plt.tight_layout()\n",
    "plt.show()\n",
    "\n",
    "print(f\"Total samples: {len(rated_df)}\")\n",
    "print(f\"Total distinct species: {rated_df['scientific_name'].nunique()}\")"
   ]
  },
  {
   "cell_type": "code",
   "execution_count": 89,
   "id": "26a3800f",
   "metadata": {},
   "outputs": [],
   "source": [
    "# Assuming rated_df is your DataFrame and contains 'primary_label' and 'filename' columns\n",
    "segment_sec = 5.0\n",
    "sr = 32000\n",
    "samples_per_segment = int(sr * segment_sec)\n",
    "frame_len = 2048\n",
    "hoplen = 512\n",
    "thresh_factor = 0.75\n",
    "\n",
    "usable_segments = []\n",
    "\n",
    "for _, row in rated_df.iterrows():\n",
    "    primary_label = row['primary_label']\n",
    "    filename = row['filename']\n",
    "    audio_path = os.path.join('../data/birdclef-2021/train_short_audio', primary_label, filename)\n",
    "\n",
    "    try:\n",
    "        y, srate = librosa.load(audio_path, sr=sr, mono=True)\n",
    "    except Exception as e:\n",
    "        print(f\"Error loading audio file {audio_path}: {e}\")\n",
    "        usable_segments.append(0)\n",
    "        continue\n",
    "\n",
    "    rms = librosa.feature.rms(y=y, frame_length=frame_len, hop_length=hoplen)[0]\n",
    "    threshold = thresh_factor * np.mean(rms)\n",
    "    count = 0\n",
    "\n",
    "    for start in range(0, len(y) - samples_per_segment + 1, samples_per_segment):\n",
    "        segment = y[start:start + samples_per_segment]\n",
    "        seg_rms = np.mean(librosa.feature.rms(y=segment)[0])\n",
    "        if seg_rms < threshold:\n",
    "            continue\n",
    "        count += 1\n",
    "\n",
    "    usable_segments.append(count)\n",
    "\n",
    "segs_df = rated_df.copy()\n",
    "segs_df['usable_segments'] = usable_segments"
   ]
  },
  {
   "cell_type": "code",
   "execution_count": 90,
   "id": "161831d0",
   "metadata": {},
   "outputs": [
    {
     "data": {
      "image/png": "[encoded data removed]",
      "text/plain": [
       "<Figure size 1000x500 with 1 Axes>"
      ]
     },
     "metadata": {},
     "output_type": "display_data"
    }
   ],
   "source": [
    "seg_counts = segs_df['usable_segments'].value_counts().sort_index()\n",
    "plt.figure(figsize=(10, 5))\n",
    "plt.bar(seg_counts.index, seg_counts.values, edgecolor='black', align='center')\n",
    "plt.xlabel('Number of Samples')\n",
    "plt.ylabel('Number of Usable Segments')\n",
    "plt.title('Number of Usable Segments per Number of Samples')\n",
    "plt.grid(True)\n",
    "plt.tight_layout()\n",
    "plt.show()"
   ]
  },
  {
   "cell_type": "code",
   "execution_count": 91,
   "id": "8ddab377",
   "metadata": {},
   "outputs": [
    {
     "name": "stdout",
     "output_type": "stream",
     "text": [
      "| scientific_name           |   samples_count |   unique_segments_count |\n",
      "|---------------------------|-----------------|-------------------------|\n",
      "| Megaceryle torquata       |              12 |                      41 |\n",
      "| Nyctibius griseus         |              14 |                      48 |\n",
      "| Volatinia jacarina        |              12 |                      48 |\n",
      "| Molothrus bonariensis     |              12 |                      49 |\n",
      "| Legatus leucophaius       |              10 |                      52 |\n",
      "| Tyrannus melancholicus    |              12 |                      55 |\n",
      "| Crotophaga ani            |              10 |                      65 |\n",
      "| Camptostoma obsoletum     |              15 |                      77 |\n",
      "| Habia rubica              |              12 |                      79 |\n",
      "| Rupornis magnirostris     |              16 |                      82 |\n",
      "| Synallaxis albescens      |              15 |                      83 |\n",
      "| Catharus ustulatus        |              10 |                      86 |\n",
      "| Psarocolius decumanus     |              15 |                      86 |\n",
      "| Thamnophilus doliatus     |              13 |                     100 |\n",
      "| Glaucidium brasilianum    |              20 |                     104 |\n",
      "| Leptotila verreauxi       |              18 |                     106 |\n",
      "| Basileuterus culicivorus  |              14 |                     109 |\n",
      "| Myiarchus tyrannulus      |              21 |                     111 |\n",
      "| Megarynchus pitangua      |              19 |                     116 |\n",
      "| Synallaxis azarae         |              30 |                     119 |\n",
      "| Tapera naevia             |              17 |                     124 |\n",
      "| Setophaga pitiayumi       |              22 |                     126 |\n",
      "| Sittasomus griseicapillus |              35 |                     130 |\n",
      "| Vanellus chilensis        |              38 |                     148 |\n",
      "| Myiodynastes maculatus    |              25 |                     151 |\n",
      "| Sicalis flaveola          |              30 |                     185 |\n",
      "| Tolmomyias sulphurescens  |              30 |                     188 |\n",
      "| Cyclarhis gujanensis      |              41 |                     269 |\n",
      "| Zonotrichia capensis      |              67 |                     293 |\n",
      "| Saltator coerulescens     |              38 |                     373 |\n",
      "| Troglodytes aedon         |              47 |                     393 |\n"
     ]
    }
   ],
   "source": [
    "species_sample_counts = segs_df['scientific_name'].value_counts()\n",
    "species_segment_counts = segs_df.groupby('scientific_name')['usable_segments'].sum()\n",
    "\n",
    "species_to_keep = [\n",
    "    species for species in species_sample_counts.index\n",
    "    if species_sample_counts[species] >= SAMPLES_CUTOFF and species_segment_counts[species] >= SEGMENTS_CUTOFF\n",
    "]\n",
    "\n",
    "minsmps_df = segs_df[segs_df['scientific_name'].isin(species_to_keep)].copy()\n",
    "summary_table = minsmps_df.groupby('scientific_name').agg(\n",
    "    samples_count=('scientific_name', 'count'),\n",
    "    unique_segments_count=('usable_segments', 'sum')\n",
    ").reset_index()\n",
    "\n",
    "# Sort by unique_segments_count ascending\n",
    "summary_table = summary_table.sort_values('unique_segments_count', ascending=True)\n",
    "\n",
    "# Pretty print the table\n",
    "print(tabulate(summary_table, headers='keys', tablefmt='github', showindex=False))"
   ]
  },
  {
   "cell_type": "code",
   "execution_count": 92,
   "id": "41d8fa07",
   "metadata": {},
   "outputs": [
    {
     "data": {
      "image/png": "[encoded data removed]",
      "text/plain": [
       "<Figure size 1000x500 with 1 Axes>"
      ]
     },
     "metadata": {},
     "output_type": "display_data"
    }
   ],
   "source": [
    "seg_counts = minsmps_df['usable_segments'].value_counts().sort_index()\n",
    "plt.figure(figsize=(10, 5))\n",
    "plt.bar(seg_counts.index, seg_counts.values, edgecolor='black', align='center')\n",
    "plt.xlabel('Number of Samples')\n",
    "plt.ylabel('Number of Usable Segments')\n",
    "plt.title('Number of Usable Segments per Number of Samples')\n",
    "plt.grid(True)\n",
    "plt.tight_layout()\n",
    "plt.show()"
   ]
  },
  {
   "cell_type": "code",
   "execution_count": 93,
   "id": "268cc0b1",
   "metadata": {},
   "outputs": [
    {
     "name": "stdout",
     "output_type": "stream",
     "text": [
      "Almost Final Amount of samples: 690\n",
      "Almost Final Amount of species: 31\n"
     ]
    }
   ],
   "source": [
    "# Final Amount of Samples and Species\n",
    "print(f\"Almost Final Amount of samples: {len(minsmps_df)}\")\n",
    "print(f\"Almost Final Amount of species: {minsmps_df['scientific_name'].nunique()}\")"
   ]
  },
  {
   "cell_type": "code",
   "execution_count": 94,
   "id": "ab594b42",
   "metadata": {},
   "outputs": [
    {
     "name": "stdout",
     "output_type": "stream",
     "text": [
      "Species with less than 2 unique authors (0 species):\n",
      "============================================================\n",
      "\n",
      "After filtering species with less than 2 authors:\n",
      "Remaining samples: 690\n",
      "Remaining species: 31\n"
     ]
    }
   ],
   "source": [
    "# Get author counts per species\n",
    "author_counts_per_species = minsmps_df.groupby('scientific_name')['author'].nunique()\n",
    "\n",
    "# Find species with less than 2 unique authors\n",
    "species_with_few_author = author_counts_per_species[author_counts_per_species < MIN_AUTHORS_CUTOFF]\n",
    "\n",
    "print(f\"Species with less than 2 unique authors ({len(species_with_few_author)} species):\")\n",
    "print(\"=\" * 60)\n",
    "for species, author_count in species_with_few_author.items():\n",
    "    print(f\"{species}: {author_count} author(s)\")\n",
    "\n",
    "# Filter out species with less than 2 unique authors\n",
    "species_to_keep_multiauthor = author_counts_per_species[author_counts_per_species >= MIN_AUTHORS_CUTOFF].index\n",
    "authors_df = minsmps_df[minsmps_df['scientific_name'].isin(species_to_keep_multiauthor)]\n",
    "\n",
    "print(f\"\\nAfter filtering species with less than 2 authors:\")\n",
    "print(f\"Remaining samples: {len(authors_df)}\")\n",
    "print(f\"Remaining species: {authors_df['scientific_name'].nunique()}\")"
   ]
  },
  {
   "cell_type": "code",
   "execution_count": 95,
   "id": "68c2e017",
   "metadata": {},
   "outputs": [],
   "source": [
    "# Load the Class IDs for training\n",
    "final_df = authors_df[['primary_label', 'scientific_name', 'common_name', 'filename', 'author', 'usable_segments']].copy()\n",
    "\n",
    "from sklearn.preprocessing import LabelEncoder\n",
    "le = LabelEncoder()\n",
    "final_df['class_id'] = le.fit_transform(final_df['scientific_name'])\n",
    "\n",
    "# Save species to CSV\n",
    "final_df.to_csv(os.path.join('..', 'database', 'meta', 'final_species.csv'), index=False)\n",
    "\n",
    "# Build mapping with class_id, scientific_name, common_name\n",
    "mapping_df = final_df[['class_id', 'scientific_name', 'common_name']].drop_duplicates().sort_values('class_id')\n",
    "mapping_df.to_csv(os.path.join('..', 'database', 'meta', 'class_mapping.csv'), index=False)"
   ]
  },
  {
   "cell_type": "code",
   "execution_count": 96,
   "id": "977190d9",
   "metadata": {},
   "outputs": [
    {
     "name": "stdout",
     "output_type": "stream",
     "text": [
      "Final DataFrame shape: (690, 7)\n",
      "Final number of samples: 690\n",
      "Final number of usable segments: 3996\n",
      "Final number of species: 31\n"
     ]
    }
   ],
   "source": [
    "print(f\"Final DataFrame shape: {final_df.shape}\")\n",
    "print(f\"Final number of samples: {len(final_df)}\")\n",
    "print(f\"Final number of usable segments: {final_df['usable_segments'].sum()}\")\n",
    "print(f\"Final number of species: {final_df['scientific_name'].nunique()}\")"
   ]
  }
 ],
 "metadata": {
  "kernelspec": {
   "display_name": "birds",
   "language": "python",
   "name": "python3"
  },
  "language_info": {
   "codemirror_mode": {
    "name": "ipython",
    "version": 3
   },
   "file_extension": ".py",
   "mimetype": "text/x-python",
   "name": "python",
   "nbconvert_exporter": "python",
   "pygments_lexer": "ipython3",
   "version": "3.13.4"
  }
 },
 "nbformat": 4,
 "nbformat_minor": 5
}
