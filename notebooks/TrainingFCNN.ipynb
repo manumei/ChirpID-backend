{
 "cells": [
  {
   "cell_type": "code",
   "execution_count": 1,
   "id": "947b5730",
   "metadata": {},
   "outputs": [],
   "source": [
    "import pandas as pd\n",
    "import os, sys\n",
    "import numpy as np\n",
    "from typing import Tuple\n",
    "import matplotlib.pyplot as plt\n",
    "import torch\n",
    "\n",
    "sys.path.append(os.path.abspath(os.path.join(os.getcwd(), '..')))\n",
    "from utils import fcnn_models"
   ]
  },
  {
   "cell_type": "markdown",
   "id": "768d20d1",
   "metadata": {},
   "source": [
    "## Data"
   ]
  },
  {
   "cell_type": "code",
   "execution_count": 3,
   "id": "a11fe0ea",
   "metadata": {},
   "outputs": [],
   "source": [
    "def load_csv_data(file_path: str) -> Tuple[np.ndarray, np.array, np.array]:\n",
    "    \"\"\"\n",
    "    Reads the CSV with all the training data: grayscale log-mel spectrogram pixels, label and author of each sample\n",
    "    And extracts them respectively, resizing the features to fit the CNN input shape (channel, height, width).\n",
    "\n",
    "    Args:\n",
    "        file_path (str): Path to the CSV file containing training data.\n",
    "\n",
    "    Returns:\n",
    "        Tuple[np.ndarray, np.array, np.array]: Returns features, labels, and authors from the CSV file. Features shape is (N x 70,112),\n",
    "        while labels and authors are 1D arrays of size N, where N is the number of samples.\n",
    "    \"\"\"\n",
    "    # Load training data\n",
    "    df = pd.read_csv(file_path)\n",
    "\n",
    "    print(f\"Dataset shape: {df.shape}\")\n",
    "    print(f\"Number of classes: {df['label'].nunique()}\")\n",
    "    print(f\"Number of authors: {df['author'].nunique()}\")\n",
    "\n",
    "    # Extract labels, authors, and features\n",
    "    labels = df['label'].values.astype(np.int64)\n",
    "    authors = df['author'].values\n",
    "    features = df.drop(columns=['label', 'author']).values.astype(np.float32)\n",
    "    print(f\"Features shape before reshape: {features.shape} (should be N x 70112!)\")\n",
    "\n",
    "    # Convert to 0-1 range\n",
    "    features /= 255.0\n",
    "\n",
    "    print(\"Features shape:\", features.shape)\n",
    "    print(\"Labels shape:\", labels.shape)\n",
    "    print(\"Authors shape:\", authors.shape)\n",
    "    print(\"Unique classes:\", len(np.unique(labels)))\n",
    "    print(\"Unique authors:\", len(np.unique(authors)))\n",
    "\n",
    "    # No need for df variable after extracting features, release memory\n",
    "    del df\n",
    "\n",
    "    return features, labels, authors"
   ]
  },
  {
   "cell_type": "code",
   "execution_count": 4,
   "id": "afd89286",
   "metadata": {},
   "outputs": [
    {
     "name": "stdout",
     "output_type": "stream",
     "text": [
      "Dataset shape: (2987, 70114)\n",
      "Number of classes: 33\n",
      "Number of authors: 106\n",
      "Features shape before reshape: (2987, 70112) (should be N x 70112!)\n",
      "Features shape: (2987, 70112)\n",
      "Labels shape: (2987,)\n",
      "Authors shape: (2987,)\n",
      "Unique classes: 33\n",
      "Unique authors: 106\n",
      "Features shape before reshape: (2987, 70112) (should be N x 70112!)\n",
      "Features shape: (2987, 70112)\n",
      "Labels shape: (2987,)\n",
      "Authors shape: (2987,)\n",
      "Unique classes: 33\n",
      "Unique authors: 106\n"
     ]
    }
   ],
   "source": [
    "# Keep the old CSV-based loading for compatibility (uncomment if needed)\n",
    "train_data_path = os.path.join('..', 'database', 'meta', 'final', 'train_data.csv')\n",
    "features, labels, authors = load_csv_data(train_data_path)"
   ]
  },
  {
   "cell_type": "code",
   "execution_count": null,
   "id": "0f4fc0b2",
   "metadata": {},
   "outputs": [],
   "source": [
    "# Display class distribution\n",
    "plt.figure(figsize=(12, 6))\n",
    "unique_labels, counts = np.unique(labels, return_counts=True)\n",
    "plt.bar(unique_labels, counts, alpha=0.7)\n",
    "plt.xlabel('Class ID')\n",
    "plt.ylabel('Number of Samples')\n",
    "plt.title('Class Distribution in Training Data')\n",
    "plt.xticks(unique_labels)\n",
    "plt.grid(axis='y', alpha=0.3)\n",
    "plt.tight_layout()\n",
    "plt.show()\n",
    "\n",
    "print(f\"Average samples per class: {len(labels) / len(unique_labels):.1f}\")"
   ]
  },
  {
   "cell_type": "code",
   "execution_count": 10,
   "id": "a16ec270",
   "metadata": {},
   "outputs": [
    {
     "name": "stdout",
     "output_type": "stream",
     "text": [
      "Training set: 2330 samples\n",
      "Validation set: 657 samples\n",
      "Split quality score: 0.26713002574246597\n",
      "\n",
      "📊 SINGLE SPLIT STATISTICS\n",
      "----------------------------------------\n",
      "Random seed: 245323\n",
      "Train samples: 2330\n",
      "Validation samples: 657\n",
      "Split ratio: 78.00% - 22.00%\n",
      "Quality score: 0.2671\n",
      "----------------------------------------\n"
     ]
    }
   ],
   "source": [
    "# Split with a set seed, las que ya encontre arriba, para tardar menos\n",
    "from utils.split import get_set_seed_indices, display_split_statistics\n",
    "seed_single = 245323 # Quality: 0.2671\n",
    "\n",
    "train_indices, val_indices, best_score, seed = get_set_seed_indices(\n",
    "    features=features,\n",
    "    labels=labels, \n",
    "    authors=authors,\n",
    "    test_size=0.2,\n",
    "    seed=seed_single)\n",
    "\n",
    "# Extract train and validation data using indices\n",
    "trFeatures = features[train_indices]\n",
    "trLabels = labels[train_indices]\n",
    "trAuthors = authors[train_indices]\n",
    "\n",
    "vFeatures = features[val_indices]\n",
    "vLabels = labels[val_indices]\n",
    "vAuthors = authors[val_indices]\n",
    "\n",
    "print(f\"Training set: {trFeatures.shape[0]} samples\")\n",
    "print(f\"Validation set: {vFeatures.shape[0]} samples\")\n",
    "print(f\"Split quality score: {best_score}\")\n",
    "\n",
    "display_split_statistics((train_indices, val_indices, best_score, seed), \"single\")"
   ]
  },
  {
   "cell_type": "code",
   "execution_count": null,
   "id": "d12246cd",
   "metadata": {},
   "outputs": [
    {
     "name": "stdout",
     "output_type": "stream",
     "text": [
      "Original labels shape: (2330,)\n",
      "One-hot labels shape: (2330, 33)\n",
      "Number of classes: 33\n"
     ]
    }
   ],
   "source": [
    "# Convert labels to one-hot encoding for BirdFCNN_v0 model\n",
    "num_classes = len(np.unique(labels))\n",
    "\n",
    "def to_one_hot(labels, num_classes):\n",
    "    \"\"\"Convert integer labels to one-hot encoding\"\"\"\n",
    "    one_hot = np.zeros((len(labels), num_classes))\n",
    "    one_hot[np.arange(len(labels)), labels] = 1\n",
    "    return one_hot\n",
    "\n",
    "# One-hot encode labels for BirdFCNN_v0 model\n",
    "trLabels_onehot = to_one_hot(trLabels, num_classes)\n",
    "vLabels_onehot = to_one_hot(vLabels, num_classes)\n",
    "\n",
    "print(f\"Original labels shape: {trLabels.shape}\")\n",
    "print(f\"One-hot labels shape: {trLabels_onehot.shape}\")\n",
    "print(f\"Number of classes: {num_classes}\")"
   ]
  },
  {
   "cell_type": "markdown",
   "id": "fc110101",
   "metadata": {},
   "source": [
    "## Training"
   ]
  },
  {
   "cell_type": "code",
   "execution_count": null,
   "id": "19444a97",
   "metadata": {},
   "outputs": [],
   "source": [
    "from utils.fcnn_models import BirdFCNN_v0, BirdFCNN"
   ]
  },
  {
   "cell_type": "code",
   "execution_count": null,
   "id": "f599e557",
   "metadata": {},
   "outputs": [],
   "source": [
    "# Train the hand-implemented BirdFCNN_v0 model\n",
    "print(\"=\"*50)\n",
    "print(\"TRAINING NN (HAND-IMPLEMENTED) MODEL\")\n",
    "print(\"=\"*50)\n",
    "\n",
    "# Initialize BirdFCNN_v0 model\n",
    "nn_model = fcnn_models.BirdFCNN_v0(\n",
    "    trainX=trFeatures,\n",
    "    trainY=trLabels_onehot,\n",
    "    m=[512, 128, 32],  # hidden layers\n",
    "    seed=42\n",
    ")\n",
    "\n",
    "# Train the model (reduced epochs for testing)\n",
    "nn_model.trainUltimate(\n",
    "    epochs=50,  # Reduced for fast testing\n",
    "    lr=0.001,\n",
    "    batch_size=32,\n",
    "    optimizer='adam',\n",
    "    l2_lambda=1e-4,\n",
    "    valX=vFeatures,\n",
    "    valy=vLabels_onehot,\n",
    "    early_stopping=True,\n",
    "    patience=10,\n",
    "    eval_interval=1,  # Check every epoch for fast testing\n",
    "    lr_schedule={'type': 'exponential', 'decay': 0.95}\n",
    ")"
   ]
  },
  {
   "cell_type": "code",
   "execution_count": null,
   "id": "b9b66c48",
   "metadata": {},
   "outputs": [
    {
     "name": "stdout",
     "output_type": "stream",
     "text": [
      "No loss history available. Make sure training completed successfully.\n"
     ]
    }
   ],
   "source": [
    "# Plot training results with accuracy\n",
    "import matplotlib.pyplot as plt\n",
    "\n",
    "# Extract the loss history from training\n",
    "train_losses = BirdFCNN_v0.loss_history if hasattr(BirdFCNN_v0, 'loss_history') else []\n",
    "val_losses = BirdFCNN_v0.val_loss_history if hasattr(BirdFCNN_v0, 'val_loss_history') else []\n",
    "\n",
    "if train_losses and val_losses:\n",
    "    plt.figure(figsize=(12, 4))\n",
    "    \n",
    "    # Plot losses\n",
    "    plt.subplot(1, 2, 1)\n",
    "    plt.plot(train_losses, label='Training Loss', color='blue')\n",
    "    plt.plot(val_losses, label='Validation Loss', color='red')\n",
    "    plt.xlabel('Epoch')\n",
    "    plt.ylabel('Loss')\n",
    "    plt.title('Training and Validation Loss')\n",
    "    plt.legend()\n",
    "    plt.grid(True)\n",
    "    \n",
    "    # Calculate and plot accuracy\n",
    "    plt.subplot(1, 2, 2)\n",
    "    \n",
    "    # Calculate training accuracy\n",
    "    train_predictions = nn_model.ff(nn_model.X)[1][-1]  # Get final layer output\n",
    "    train_pred_classes = np.argmax(train_predictions, axis=1)\n",
    "    train_true_classes = np.argmax(nn_model.y, axis=1)\n",
    "    train_accuracy = np.mean(train_pred_classes == train_true_classes)\n",
    "    \n",
    "    # Calculate validation accuracy\n",
    "    val_predictions = nn_model.ff(vFeatures)[1][-1]  # Get final layer output\n",
    "    val_pred_classes = np.argmax(val_predictions, axis=1)\n",
    "    val_true_classes = np.argmax(vLabels_onehot, axis=1)\n",
    "    val_accuracy = np.mean(val_pred_classes == val_true_classes)\n",
    "    \n",
    "    print(f\"Final Training Accuracy: {train_accuracy:.4f}\")\n",
    "    print(f\"Final Validation Accuracy: {val_accuracy:.4f}\")\n",
    "    \n",
    "    # For plotting accuracy over time, we'd need to store it during training\n",
    "    # For now, plot final accuracies as bars\n",
    "    accuracies = [train_accuracy, val_accuracy]\n",
    "    labels_acc = ['Training', 'Validation']\n",
    "    \n",
    "    plt.bar(labels_acc, accuracies, alpha=0.7, color=['blue', 'red'])\n",
    "    plt.ylabel('Accuracy')\n",
    "    plt.title('Final Training and Validation Accuracy')\n",
    "    plt.ylim(0, 1)\n",
    "    \n",
    "    # Add accuracy values on top of bars\n",
    "    for i, acc in enumerate(accuracies):\n",
    "        plt.text(i, acc + 0.01, f'{acc:.3f}', ha='center', va='bottom')\n",
    "    \n",
    "    plt.grid(True, alpha=0.3)\n",
    "    plt.tight_layout()\n",
    "    plt.show()\n",
    "    \n",
    "    # Display confusion matrix for BirdFCNN_v0 model\n",
    "    fcnn_models.plot_confusion_matrix(vLabels_onehot, val_predictions, num_classes=vLabels_onehot.shape[1])\n",
    "    \n",
    "else:\n",
    "    print(\"No loss history available. Make sure training completed successfully.\")"
   ]
  },
  {
   "cell_type": "code",
   "execution_count": null,
   "id": "36925e28",
   "metadata": {},
   "outputs": [
    {
     "name": "stdout",
     "output_type": "stream",
     "text": [
      "Calculating Nn model performance...\n",
      "Final Training Accuracy: 0.0391\n",
      "Final Validation Accuracy: 0.0137\n"
     ]
    },
    {
     "data": {
      "image/png": "[encoded data removed]",
      "text/plain": [
       "<Figure size 800x600 with 1 Axes>"
      ]
     },
     "metadata": {},
     "output_type": "display_data"
    },
    {
     "data": {
      "image/png": "[encoded data removed]",
      "text/plain": [
       "<Figure size 600x500 with 2 Axes>"
      ]
     },
     "metadata": {},
     "output_type": "display_data"
    }
   ],
   "source": [
    "# Calculate final accuracies for BirdFCNN_v0 model - FIXED VERSION\n",
    "print(\"Calculating BirdFCNN_v0 model performance...\")\n",
    "\n",
    "# Calculate training accuracy\n",
    "train_predictions = nn_model.ff(nn_model.X)[1][-1]  # Get final layer output\n",
    "train_pred_classes = np.argmax(train_predictions, axis=1)\n",
    "train_true_classes = np.argmax(nn_model.y, axis=1)\n",
    "train_accuracy = np.mean(train_pred_classes == train_true_classes)\n",
    "\n",
    "# Calculate validation accuracy\n",
    "val_predictions = nn_model.ff(vFeatures)[1][-1]  # Get final layer output\n",
    "val_pred_classes = np.argmax(val_predictions, axis=1)\n",
    "val_true_classes = np.argmax(vLabels_onehot, axis=1)\n",
    "val_accuracy = np.mean(val_pred_classes == val_true_classes)\n",
    "\n",
    "print(f\"Final Training Accuracy: {train_accuracy:.4f}\")\n",
    "print(f\"Final Validation Accuracy: {val_accuracy:.4f}\")\n",
    "\n",
    "# Plot final accuracies\n",
    "plt.figure(figsize=(8, 6))\n",
    "accuracies = [train_accuracy, val_accuracy]\n",
    "labels_acc = ['Training', 'Validation']\n",
    "\n",
    "plt.bar(labels_acc, accuracies, alpha=0.7, color=['blue', 'red'])\n",
    "plt.ylabel('Accuracy')\n",
    "plt.title('BirdFCNN_v0 Model Final Accuracy')\n",
    "plt.ylim(0, 1)\n",
    "\n",
    "# Add accuracy values on top of bars\n",
    "for i, acc in enumerate(accuracies):\n",
    "    plt.text(i, acc + 0.01, f'{acc:.3f}', ha='center', va='bottom')\n",
    "\n",
    "plt.grid(True, alpha=0.3)\n",
    "plt.tight_layout()\n",
    "plt.show()\n",
    "\n",
    "# Display confusion matrix\n",
    "fcnn_models.plot_confusion_matrix(vLabels_onehot, val_predictions, num_classes=vLabels_onehot.shape[1])"
   ]
  },
  {
   "cell_type": "code",
   "execution_count": null,
   "id": "a439209a",
   "metadata": {},
   "outputs": [
    {
     "name": "stdout",
     "output_type": "stream",
     "text": [
      "Nn model saved to ../models/nn_model.npy\n",
      "Nn model saved successfully!\n"
     ]
    }
   ],
   "source": [
    "# Save the BirdFCNN_v0 model\n",
    "import os\n",
    "os.makedirs('../models', exist_ok=True)\n",
    "nn_model.save_model('../models/nn_model.npy')\n",
    "print(\"BirdFCNN_v0 model saved successfully!\")"
   ]
  },
  {
   "cell_type": "code",
   "execution_count": null,
   "id": "4971542b",
   "metadata": {},
   "outputs": [
    {
     "name": "stdout",
     "output_type": "stream",
     "text": [
      "==================================================\n",
      "NN (HAND-IMPLEMENTED) TRAINING RESULTS SUMMARY\n",
      "==================================================\n",
      "\n",
      "Model Architecture:\n",
      "Hidden layers: [512, 128, 32]\n",
      "Total parameters: 35968032\n",
      "\n",
      "Final Performance:\n",
      "Training Accuracy: 0.0391 (3.91%)\n",
      "Validation Accuracy: 0.0137 (1.37%)\n",
      "Final Training Loss: 3.4901\n",
      "Final Validation Loss: 3.4976377639316203\n",
      "\n",
      "==================================================\n"
     ]
    }
   ],
   "source": [
    "# Print detailed results summary for BirdFCNN_v0 model\n",
    "print(\"=\"*50)\n",
    "print(\"NN (HAND-IMPLEMENTED) TRAINING RESULTS SUMMARY\")\n",
    "print(\"=\"*50)\n",
    "\n",
    "print(f\"\\nModel Architecture:\")\n",
    "print(f\"Hidden layers: [512, 128, 32]\")\n",
    "print(f\"Total parameters: {sum([np.prod(w.shape) for w in nn_model.W[1:] if w is not None])}\")\n",
    "\n",
    "print(f\"\\nFinal Performance:\")\n",
    "print(f\"Training Accuracy: {train_accuracy:.4f} ({train_accuracy*100:.2f}%)\")\n",
    "print(f\"Validation Accuracy: {val_accuracy:.4f} ({val_accuracy*100:.2f}%)\")\n",
    "\n",
    "if hasattr(nn_model, 'loss_history') and nn_model.loss_history:\n",
    "    final_train_loss = nn_model.loss_history[-1]\n",
    "    final_val_loss = nn_model.val_loss_history[-1] if nn_model.val_loss_history else \"N/A\"\n",
    "    print(f\"Final Training Loss: {final_train_loss:.4f}\")\n",
    "    print(f\"Final Validation Loss: {final_val_loss}\")\n",
    "\n",
    "print(\"\\n\" + \"=\"*50)"
   ]
  },
  {
   "cell_type": "markdown",
   "id": "7b184218",
   "metadata": {},
   "source": [
    "Abajo, probar BirdFCNN"
   ]
  },
  {
   "cell_type": "code",
   "execution_count": null,
   "id": "d0b44a02",
   "metadata": {},
   "outputs": [
    {
     "name": "stdout",
     "output_type": "stream",
     "text": [
      "Epoch 1/3 - Train Loss: 3.3612 - Acc: 0.0824 - Val Loss: 3.5024 - Val Acc: 0.0107\n",
      "Epoch 2/3 - Train Loss: 3.2949 - Acc: 0.1116 - Val Loss: 3.5117 - Val Acc: 0.0152\n",
      "Epoch 2/3 - Train Loss: 3.2949 - Acc: 0.1116 - Val Loss: 3.5117 - Val Acc: 0.0152\n",
      "Epoch 3/3 - Train Loss: 3.2381 - Acc: 0.1391 - Val Loss: 3.5237 - Val Acc: 0.0228\n",
      "Epoch 3/3 - Train Loss: 3.2381 - Acc: 0.1391 - Val Loss: 3.5237 - Val Acc: 0.0228\n"
     ]
    },
    {
     "data": {
      "image/png": "[encoded data removed]",
      "text/plain": [
       "<Figure size 1500x500 with 2 Axes>"
      ]
     },
     "metadata": {},
     "output_type": "display_data"
    },
    {
     "name": "stdout",
     "output_type": "stream",
     "text": [
      "Model saved to ../models/birdfcnn_model.pth\n",
      "BirdFCNN model saved successfully!\n",
      "==================================================\n",
      "BIRDFCNN (PYTORCH) TRAINING RESULTS SUMMARY\n",
      "==================================================\n",
      "Model saved to: ../models/birdfcnn_model.pth\n",
      "==================================================\n"
     ]
    }
   ],
   "source": [
    "fcnn = fcnn_models.BirdFCNN(num_classes=num_classes,\n",
    "                        input_dim=trFeatures.shape[1],\n",
    "                        hidden_layers=[512, 128, 32])\n",
    "\n",
    "# Convert one-hot back to class indices for PyTorch model\n",
    "trainY_indices = trLabels  # already in index form\n",
    "valY_indices = vLabels     # already in index form\n",
    "\n",
    "fcnn.train_model(trFeatures, trainY_indices, valX=vFeatures, valY=valY_indices, \n",
    "                epochs=50, lr=0.001, batch_size=32, optimizer_type='adam',  # Reduced epochs for fast testing\n",
    "                device='cuda' if torch.cuda.is_available() else 'cpu', class_weights=None,\n",
    "                eval_interval=1)  # Check every epoch for fast testing\n",
    "\n",
    "# Save the BirdFCNN model\n",
    "fcnn.save_model('../models/birdfcnn_model.pth')\n",
    "print(\"BirdFCNN model saved successfully!\")\n",
    "\n",
    "# Print BirdFCNN summary\n",
    "print(\"=\"*50)\n",
    "print(\"BIRDFCNN (PYTORCH) TRAINING RESULTS SUMMARY\")\n",
    "print(\"=\"*50)\n",
    "print(f\"Model saved to: ../models/birdfcnn_model.pth\")\n",
    "print(\"=\"*50)\n",
    "\n"
   ]
  },
  {
   "cell_type": "code",
   "execution_count": null,
   "id": "c9a1f3a6",
   "metadata": {},
   "outputs": [
    {
     "name": "stdout",
     "output_type": "stream",
     "text": [
      "============================================================\n",
      "FINAL MODEL COMPARISON SUMMARY\n",
      "============================================================\n",
      "\n",
      "🔬 DATASET INFORMATION:\n",
      "   Total samples: 2987\n",
      "   Features dimension: 70112\n",
      "   Number of classes: 33\n",
      "   Training samples: 2330\n",
      "   Validation samples: 657\n",
      "\n",
      "🧠 MODEL ARCHITECTURES:\n",
      "   Both models use: [512, 128, 32] hidden layers\n",
      "   Input dimension: 70112\n",
      "   Output classes: 33\n",
      "\n",
      "📊 PERFORMANCE COMPARISON:\n",
      "   Nn (Hand-implemented):\n",
      "      - Training Accuracy: 0.0391 (3.91%)\n",
      "      - Validation Accuracy: 0.0137 (1.37%)\n",
      "   BirdFCNN (PyTorch):\n",
      "      - Training Accuracy: 0.1391 (13.91%)\n",
      "      - Validation Accuracy: 0.0228 (2.28%)\n",
      "\n",
      "💾 SAVED MODELS:\n",
      "   - Nn model: ../models/nn_model.npy\n",
      "   - BirdFCNN model: ../models/birdfcnn_model.pth\n",
      "\n",
      "🏆 BEST MODEL:\n",
      "   PyTorch BirdFCNN model performs better!\n",
      "============================================================\n"
     ]
    }
   ],
   "source": [
    "# Final Model Comparison Summary\n",
    "print(\"=\"*60)\n",
    "print(\"FINAL MODEL COMPARISON SUMMARY\")\n",
    "print(\"=\"*60)\n",
    "\n",
    "print(f\"\\n🔬 DATASET INFORMATION:\")\n",
    "print(f\"   Total samples: {features.shape[0]}\")\n",
    "print(f\"   Features dimension: {features.shape[1]}\")\n",
    "print(f\"   Number of classes: {num_classes}\")\n",
    "print(f\"   Training samples: {trFeatures.shape[0]}\")\n",
    "print(f\"   Validation samples: {vFeatures.shape[0]}\")\n",
    "\n",
    "print(f\"\\n🧠 MODEL ARCHITECTURES:\")\n",
    "print(f\"   Both models use: [512, 128, 32] hidden layers\")\n",
    "print(f\"   Input dimension: {trFeatures.shape[1]}\")\n",
    "print(f\"   Output classes: {num_classes}\")\n",
    "\n",
    "print(f\"\\n📊 PERFORMANCE COMPARISON:\")\n",
    "print(f\"   BirdFCNN_v0 (Hand-implemented):\")\n",
    "print(f\"      - Training Accuracy: {train_accuracy:.4f} ({train_accuracy*100:.2f}%)\")\n",
    "print(f\"      - Validation Accuracy: {val_accuracy:.4f} ({val_accuracy*100:.2f}%)\")\n",
    "\n",
    "# Calculate final accuracy for BirdFCNN\n",
    "device = 'cuda' if torch.cuda.is_available() else 'cpu'\n",
    "fcnn.eval()\n",
    "with torch.no_grad():\n",
    "    # Training accuracy\n",
    "    train_tensor = torch.tensor(trFeatures, dtype=torch.float32, device=device)\n",
    "    train_outputs = fcnn(train_tensor)\n",
    "    train_preds = torch.argmax(train_outputs, dim=1).cpu().numpy()\n",
    "    fcnn_train_acc = np.mean(train_preds == trainY_indices)\n",
    "    \n",
    "    # Validation accuracy\n",
    "    val_tensor = torch.tensor(vFeatures, dtype=torch.float32, device=device)\n",
    "    val_outputs = fcnn(val_tensor)\n",
    "    val_preds = torch.argmax(val_outputs, dim=1).cpu().numpy()\n",
    "    fcnn_val_acc = np.mean(val_preds == valY_indices)\n",
    "\n",
    "print(f\"   BirdFCNN (PyTorch):\")\n",
    "print(f\"      - Training Accuracy: {fcnn_train_acc:.4f} ({fcnn_train_acc*100:.2f}%)\")\n",
    "print(f\"      - Validation Accuracy: {fcnn_val_acc:.4f} ({fcnn_val_acc*100:.2f}%)\")\n",
    "\n",
    "print(f\"\\n💾 SAVED MODELS:\")\n",
    "print(f\"   - BirdFCNN_v0 model: ../models/nn_model.npy\")\n",
    "print(f\"   - BirdFCNN model: ../models/birdfcnn_model.pth\")\n",
    "\n",
    "print(f\"\\n🏆 BEST MODEL:\")\n",
    "if val_accuracy > fcnn_val_acc:\n",
    "    print(f\"   Hand-implemented BirdFCNN_v0 model performs better!\")\n",
    "elif fcnn_val_acc > val_accuracy:\n",
    "    print(f\"   PyTorch BirdFCNN model performs better!\")\n",
    "else:\n",
    "    print(f\"   Both models perform equally well!\")\n",
    "\n",
    "print(\"=\"*60)"
   ]
  }
 ],
 "metadata": {
  "kernelspec": {
   "display_name": "birds",
   "language": "python",
   "name": "python3"
  },
  "language_info": {
   "codemirror_mode": {
    "name": "ipython",
    "version": 3
   },
   "file_extension": ".py",
   "mimetype": "text/x-python",
   "name": "python",
   "nbconvert_exporter": "python",
   "pygments_lexer": "ipython3",
   "version": "3.13.4"
  }
 },
 "nbformat": 4,
 "nbformat_minor": 5
}
