{
 "cells": [
  {
   "cell_type": "markdown",
   "id": "bf8338e9",
   "metadata": {},
   "source": [
    "Este agarra las imagenes de spectrogramas en spect/ y crea la matriz de grayscale (la estandariza, not forget!! see info.md) y la carga a un CSV (despues vemos donde)"
   ]
  },
  {
   "cell_type": "code",
   "execution_count": null,
   "id": "83d055d7",
   "metadata": {},
   "outputs": [],
   "source": [
    "import os, sys\n",
    "import pandas as pd\n",
    "import librosa as lbrs\n",
    "import numpy as np\n",
    "from PIL import Image\n",
    "\n",
    "sys.path.append(os.path.abspath(os.path.join(os.getcwd(), '..')))\n",
    "from utils import util"
   ]
  },
  {
   "cell_type": "code",
   "execution_count": null,
   "id": "f17b28df",
   "metadata": {},
   "outputs": [],
   "source": [
    "# Aux Functions\n",
    "def load_TrainDataFrame(spects_source_dir, spects_meta_df, meta_csv_path): \n",
    "    ''' Takes the spectrograms from the spects_source_dir folder, and gets the images into a matrix form, \n",
    "    with the grayscale of all the pixels, so they can be later made tensors of compatible CNN training input. \n",
    "    It loads the matrices pixel info into a CSV so they can then be read & extracted, easily reconverted into \n",
    "    a feedable matrix without having to re-run this notebook again. The target CSV (at database/meta/train_data.csv) \n",
    "    should have a row for each sample, with the columns class_id, and then all the pixel elements of the spectrogram.\n",
    "\n",
    "    Args:\n",
    "        spects_source_dir (str): Directory where the spectrogram images are stored in .png format.\n",
    "        spects_meta_csv (pd.DataFrame): DataFrame for each spectrogram, with columns 'filename' and 'class_id'.\n",
    "        meta_csv_path (str): Path to the CSV file where the final data will be stored, with the matrix elements and the class_id labeling each sample\n",
    "    '''\n",
    "\n",
    "    ..."
   ]
  },
  {
   "cell_type": "code",
   "execution_count": null,
   "id": "d93f822e",
   "metadata": {},
   "outputs": [],
   "source": [
    "spect_dir = os.path.join('..', 'database', 'spect') # Has the spectrogram pngs\n",
    "spects_df = pd.read_csv(os.path.join('..', 'database', 'meta', 'final_spects.csv')) # Has the spectrogram metadata ('filename', 'class_id')\n",
    "data_csv_path = os.path.join('..', 'database', 'meta', 'train_data.csv') # path where the final data_csv will be saved, with the grayscale pixel matrices and class ids"
   ]
  },
  {
   "cell_type": "code",
   "execution_count": null,
   "id": "d9b9d4d2",
   "metadata": {},
   "outputs": [],
   "source": [
    "print(\"Loading DataFrame...\")\n",
    "train_df = load_TrainDataFrame(spect_dir, spects_df, data_csv_path)\n",
    "\n",
    "print(\"Loading CSV...\")\n",
    "train_df.to_csv(data_csv_path, index=False)"
   ]
  }
 ],
 "metadata": {
  "kernelspec": {
   "display_name": "birds",
   "language": "python",
   "name": "python3"
  },
  "language_info": {
   "name": "python",
   "version": "3.13.4"
  }
 },
 "nbformat": 4,
 "nbformat_minor": 5
}
