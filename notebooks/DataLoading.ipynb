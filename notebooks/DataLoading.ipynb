{
 "cells": [
  {
   "cell_type": "markdown",
   "id": "bf8338e9",
   "metadata": {},
   "source": [
    "Este agarra las imagenes de spectrogramas en spect/ y crea la matriz de grayscale (la estandariza, not forget!! see info.md) y la carga a un CSV (despues vemos donde)"
   ]
  }
 ],
 "metadata": {
  "language_info": {
   "name": "python"
  }
 },
 "nbformat": 4,
 "nbformat_minor": 5
}
