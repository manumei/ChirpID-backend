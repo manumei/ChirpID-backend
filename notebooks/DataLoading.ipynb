{
 "cells": [
  {
   "cell_type": "markdown",
   "id": "bf8338e9",
   "metadata": {},
   "source": [
    "Este agarra las imagenes de spectrogramas en spect/ y crea la matriz de grayscale (la estandariza, not forget!! see info.md) y la carga a un CSV (despues vemos donde)"
   ]
  },
  {
   "cell_type": "code",
   "execution_count": 2,
   "id": "83d055d7",
   "metadata": {},
   "outputs": [],
   "source": [
    "import os, sys\n",
    "import pandas as pd\n",
    "import librosa as lbrs\n",
    "import numpy as np\n",
    "from PIL import Image\n",
    "\n",
    "sys.path.append(os.path.abspath(os.path.join(os.getcwd(), '..')))\n",
    "from utils import util"
   ]
  },
  {
   "cell_type": "code",
   "execution_count": 6,
   "id": "f17b28df",
   "metadata": {},
   "outputs": [],
   "source": [
    "# Aux Functions\n",
    "def load_TrainDataFrame(spects_source_dir, spects_meta_df): \n",
    "    ''' Takes the spectrograms from the spects_source_dir folder, and gets the images into a matrix form, \n",
    "    with the grayscale of all the pixels, so they can be later made tensors of compatible CNN training input. \n",
    "    It loads the matrices pixel info into a CSV so they can then be read & extracted, easily reconverted into \n",
    "    a feedable matrix without having to re-run this notebook again. The target CSV (at database/meta/train_data.csv) \n",
    "    should have a row for each sample, with the columns class_id, and then all the pixel elements of the spectrogram.\n",
    "\n",
    "    Args:\n",
    "        spects_source_dir (str): Directory where the spectrogram images are stored in .png format.\n",
    "        spects_meta_csv (pd.DataFrame): DataFrame for each spectrogram, with columns 'filename' and 'class_id'.\n",
    "        meta_csv_path (str): Path to the CSV file where the final data will be stored, with the matrix elements and the class_id labeling each sample\n",
    "    '''\n",
    "    data_rows = []\n",
    "    spects_meta_df = spects_meta_df.dropna(subset=['filename', 'class_id'])\n",
    "\n",
    "    print(f\"Processing {len(spects_meta_df)} spectrograms...\")\n",
    "    processed_count = 0\n",
    "    skipped_count = 0\n",
    "\n",
    "    for _, row in spects_meta_df.iterrows():\n",
    "        filename = row['filename']\n",
    "        class_id = row['class_id']\n",
    "\n",
    "        image_path = os.path.join(spects_source_dir, filename)\n",
    "        if not os.path.exists(image_path):\n",
    "            print(f\"File not found: {image_path}\")\n",
    "            skipped_count += 1\n",
    "            continue\n",
    "\n",
    "        img = Image.open(image_path).convert('L')  # Ensure grayscale\n",
    "        \n",
    "        expected_shape = (313, 224)\n",
    "        if img.size != expected_shape:\n",
    "            raise ValueError(f\"Unexpected image size: {img.size} in file {image_path}. Expected {expected_shape}.\")\n",
    "\n",
    "        pixels = np.array(img).flatten()\n",
    "        data_row = [class_id] + pixels.tolist()\n",
    "        data_rows.append(data_row)\n",
    "        processed_count += 1\n",
    "\n",
    "    print(f\"Successfully processed: {processed_count}\")\n",
    "    print(f\"Skipped: {skipped_count}\")\n",
    "\n",
    "    if not data_rows:\n",
    "        raise ValueError(\"No spectrograms were loaded. Check paths and metadata consistency.\")\n",
    "\n",
    "    n_pixels = len(data_rows[0]) - 1\n",
    "    columns = ['label'] + [f'px_{i}' for i in range(n_pixels)]\n",
    "    df = pd.DataFrame(data_rows, columns=columns)\n",
    "\n",
    "    return df"
   ]
  },
  {
   "cell_type": "code",
   "execution_count": 3,
   "id": "d93f822e",
   "metadata": {},
   "outputs": [],
   "source": [
    "spect_dir = os.path.join('..', 'database', 'spect') # Has the spectrogram pngs\n",
    "spects_df = pd.read_csv(os.path.join('..', 'database', 'meta', 'final_spects.csv')) # Has the spectrogram metadata ('filename', 'class_id')\n",
    "data_csv_path = os.path.join('..', 'database', 'meta', 'final', 'train_data.csv') # path where the final data_csv will be saved, with the grayscale pixel matrices and class ids\n",
    "\n",
    "spect2_dir = os.path.join('..', 'database', 'spect2') # Has the spectrogram pngs for the second set of data\n",
    "spects2_df = pd.read_csv(os.path.join('..', 'database', 'meta', 'final_spects2.csv')) # Has the spectrogram metadata ('filename', 'class_id')\n",
    "data_csv2_path = os.path.join('..', 'database', 'meta', 'final', 'train_data2.csv') # path where the final data_csv will be saved, with the grayscale pixel matrices and class ids"
   ]
  },
  {
   "cell_type": "code",
   "execution_count": null,
   "id": "523955c7",
   "metadata": {},
   "outputs": [
    {
     "name": "stdout",
     "output_type": "stream",
     "text": [
      "class_id\n",
      "0     101\n",
      "1      73\n",
      "2     213\n",
      "3      90\n",
      "4      38\n",
      "5      76\n",
      "6      40\n",
      "7      95\n",
      "8      52\n",
      "9     113\n",
      "10    144\n",
      "11     42\n",
      "12     17\n",
      "13     27\n",
      "14     70\n",
      "15     45\n",
      "16    360\n",
      "17     99\n",
      "18    143\n",
      "19    132\n",
      "20     62\n",
      "21    111\n",
      "22     76\n",
      "23    168\n",
      "24    280\n",
      "25     37\n",
      "26    150\n",
      "27    216\n",
      "Name: count, dtype: int64\n"
     ]
    }
   ],
   "source": [
    "# Table of how many samples per class\n",
    "print(spects_df['class_id'].value_counts().sort_index().reset_index().rename(columns={'index': 'class_id', 'class_id': 'samples'}).to_string(index=False, header=['class', 'samples']))"
   ]
  },
  {
   "cell_type": "markdown",
   "id": "773b3e4a",
   "metadata": {},
   "source": [
    "Train Data 1 (not noise-reduced)"
   ]
  },
  {
   "cell_type": "code",
   "execution_count": 8,
   "id": "d9b9d4d2",
   "metadata": {},
   "outputs": [
    {
     "name": "stdout",
     "output_type": "stream",
     "text": [
      "Loading DataFrame...\n",
      "Processing 3070 spectrograms...\n",
      "Successfully processed: 3070\n",
      "Skipped: 0\n",
      "DataFrame loaded and saved successfully.\n",
      "DataFrame shape: (3070, 70113)\n"
     ]
    }
   ],
   "source": [
    "print(\"Loading DataFrame...\")\n",
    "train_df = load_TrainDataFrame(spect_dir, spects_df)\n",
    "\n",
    "print(\"DataFrame loaded and saved successfully.\")\n",
    "print(f\"DataFrame shape: {train_df.shape}\")"
   ]
  },
  {
   "cell_type": "code",
   "execution_count": 9,
   "id": "c62feb6b",
   "metadata": {},
   "outputs": [
    {
     "name": "stdout",
     "output_type": "stream",
     "text": [
      "Loading CSV...\n"
     ]
    }
   ],
   "source": [
    "print(\"Loading CSV...\")\n",
    "train_df.to_csv(data_csv_path, index=False)"
   ]
  },
  {
   "cell_type": "markdown",
   "id": "e9724af0",
   "metadata": {},
   "source": [
    "Train Data 2 (noise-reduced)"
   ]
  },
  {
   "cell_type": "code",
   "execution_count": 11,
   "id": "68e61d99",
   "metadata": {},
   "outputs": [
    {
     "name": "stdout",
     "output_type": "stream",
     "text": [
      "Loading second DataFrame...\n",
      "Processing 3070 spectrograms...\n",
      "Successfully processed: 3070\n",
      "Skipped: 0\n",
      "Second DataFrame loaded and saved successfully.\n",
      "Second DataFrame shape: (3070, 70113)\n"
     ]
    }
   ],
   "source": [
    "print(\"Loading second DataFrame...\")\n",
    "train_df2 = load_TrainDataFrame(spect2_dir, spects2_df)\n",
    "\n",
    "print(\"Second DataFrame loaded and saved successfully.\")\n",
    "print(f\"Second DataFrame shape: {train_df2.shape}\")"
   ]
  },
  {
   "cell_type": "code",
   "execution_count": 12,
   "id": "d31a8411",
   "metadata": {},
   "outputs": [
    {
     "name": "stdout",
     "output_type": "stream",
     "text": [
      "Loading second CSV...\n"
     ]
    }
   ],
   "source": [
    "print(\"Loading second CSV...\")\n",
    "train_df2.to_csv(data_csv2_path, index=False)"
   ]
  }
 ],
 "metadata": {
  "kernelspec": {
   "display_name": "birds",
   "language": "python",
   "name": "python3"
  },
  "language_info": {
   "codemirror_mode": {
    "name": "ipython",
    "version": 3
   },
   "file_extension": ".py",
   "mimetype": "text/x-python",
   "name": "python",
   "nbconvert_exporter": "python",
   "pygments_lexer": "ipython3",
   "version": "3.13.4"
  }
 },
 "nbformat": 4,
 "nbformat_minor": 5
}
