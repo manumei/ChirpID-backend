{
 "cells": [
  {
   "cell_type": "code",
   "execution_count": 3,
   "id": "c3aa39d6",
   "metadata": {},
   "outputs": [
    {
     "name": "stdout",
     "output_type": "stream",
     "text": [
      "Using device: cuda\n",
      "GPU: NVIDIA GeForce RTX 5080\n",
      "GPU Memory: 15.9 GB\n"
     ]
    }
   ],
   "source": [
    "import os, sys\n",
    "import pandas as pd\n",
    "import numpy as np\n",
    "import torch\n",
    "import matplotlib.pyplot as plt\n",
    "import time\n",
    "import json\n",
    "import seaborn as sns\n",
    "from typing import Tuple\n",
    "from datetime import datetime\n",
    "sys.path.append(os.path.abspath(os.path.join(os.getcwd(), '..')))\n",
    "\n",
    "print(f\"Using device: {torch.device('cuda' if torch.cuda.is_available() else 'cpu')}\")\n",
    "if torch.cuda.is_available():\n",
    "    gpu_name = torch.cuda.get_device_name()\n",
    "    gpu_memory = torch.cuda.get_device_properties(0).total_memory / (1024**3)\n",
    "    print(f\"GPU: {gpu_name}\")\n",
    "    print(f\"GPU Memory: {gpu_memory:.1f} GB\")\n",
    "else:\n",
    "    print(\"⚠️  CUDA not available - running on CPU (will be slow)\")\n",
    "\n",
    "# Performance optimization settings\n",
    "ENABLE_OPTIMIZATIONS = True  # Set to False to disable all optimizations\n",
    "ENABLE_PARALLEL_FOLDS = False  # Set to True for cross-validation mode\n",
    "MAX_PARALLEL_FOLDS = -1  # Adjust based on GPU memory\n",
    "\n",
    "def load_npy_data(specs_dir: str, specs_csv_path: str) -> Tuple[np.ndarray, np.array, np.array]:\n",
    "    \"\"\"\n",
    "    Load spectrograms from .npy files and metadata from CSV.\n",
    "    \n",
    "    Args:\n",
    "        specs_dir (str): Directory containing .npy spectrogram files\n",
    "        specs_csv_path (str): Path to CSV file containing metadata (filename, class_id, author)\n",
    "    \n",
    "    Returns:\n",
    "        Tuple[np.ndarray, np.array, np.array]: Returns features, labels, and authors.\n",
    "        Features are already normalized to [0,1] and shaped as (N, 1, 224, 313)\n",
    "    \"\"\"\n",
    "    # Load metadata CSV\n",
    "    df = pd.read_csv(specs_csv_path)\n",
    "    \n",
    "    print(f\"Metadata shape: {df.shape}\")\n",
    "    print(f\"Number of classes: {df['class_id'].nunique()}\")\n",
    "    print(f\"Number of authors: {df['author'].nunique()}\")\n",
    "    \n",
    "    # Extract labels and authors\n",
    "    labels = df['class_id'].values.astype(np.int64)\n",
    "    authors = df['author'].values\n",
    "    filenames = df['filename'].values\n",
    "    \n",
    "    # Load spectrograms from .npy files\n",
    "    features_list = []\n",
    "    valid_indices = []\n",
    "    \n",
    "    for i, filename in enumerate(filenames):\n",
    "        spec_path = os.path.join(specs_dir, filename)\n",
    "        \n",
    "        if os.path.exists(spec_path):\n",
    "            try:\n",
    "                # Load .npy file - already normalized to [0,1] as float32\n",
    "                spec_array = np.load(spec_path)\n",
    "                \n",
    "                # Add channel dimension: (1, height, width)\n",
    "                spec_array = spec_array[np.newaxis, ...]\n",
    "                \n",
    "                features_list.append(spec_array)\n",
    "                valid_indices.append(i)\n",
    "                \n",
    "            except Exception as e:\n",
    "                print(f\"Error loading {filename}: {e}\")\n",
    "        else:\n",
    "            print(f\"File not found: {spec_path}\")\n",
    "    \n",
    "    # Convert to numpy array\n",
    "    features = np.array(features_list, dtype=np.float32)\n",
    "    \n",
    "    # Filter labels and authors to match loaded features\n",
    "    labels = labels[valid_indices]\n",
    "    authors = authors[valid_indices]\n",
    "    \n",
    "    print(f\"Features shape: {features.shape}\")\n",
    "    print(f\"Labels shape: {labels.shape}\")\n",
    "    print(f\"Authors shape: {authors.shape}\")\n",
    "    print(f\"Unique classes: {len(np.unique(labels))}\")\n",
    "    print(f\"Unique authors: {len(np.unique(authors))}\")\n",
    "    print(f\"Successfully loaded {len(features)} out of {len(filenames)} spectrograms\")\n",
    "    \n",
    "    # Clean up\n",
    "    del df\n",
    "    \n",
    "    return features, labels, authors"
   ]
  },
  {
   "cell_type": "code",
   "execution_count": 4,
   "id": "bfb836fa",
   "metadata": {},
   "outputs": [
    {
     "name": "stdout",
     "output_type": "stream",
     "text": [
      "Metadata shape: (2985, 4)\n",
      "Number of classes: 33\n",
      "Number of authors: 106\n",
      "Features shape: (2985, 1, 224, 313)\n",
      "Labels shape: (2985,)\n",
      "Authors shape: (2985,)\n",
      "Unique classes: 33\n",
      "Unique authors: 106\n",
      "Successfully loaded 2985 out of 2985 spectrograms\n"
     ]
    },
    {
     "data": {
      "image/png": "[encoded data removed]",
      "text/plain": [
       "<Figure size 900x500 with 1 Axes>"
      ]
     },
     "metadata": {},
     "output_type": "display_data"
    },
    {
     "name": "stdout",
     "output_type": "stream",
     "text": [
      "Average samples per class: 90.5\n"
     ]
    }
   ],
   "source": [
    "# New pipeline using .npy spectrograms from specs/ directory\n",
    "specs_dir = os.path.join('..', 'database', 'specs')\n",
    "specs_csv_path = os.path.join('..', 'database', 'meta', 'final_specs.csv')\n",
    "features, labels, authors = load_npy_data(specs_dir, specs_csv_path)\n",
    "\n",
    "# Display class distribution\n",
    "plt.figure(figsize=(9, 5))\n",
    "unique_labels, counts = np.unique(labels, return_counts=True)\n",
    "plt.bar(unique_labels, counts, alpha=0.7)\n",
    "plt.xlabel('Class ID')\n",
    "plt.ylabel('Number of Samples')\n",
    "plt.title('Class Distribution in Training Data')\n",
    "plt.xticks(unique_labels)\n",
    "plt.grid(axis='y', alpha=0.3)\n",
    "plt.tight_layout()\n",
    "plt.show()\n",
    "\n",
    "print(f\"Average samples per class: {len(labels) / len(unique_labels):.1f}\")"
   ]
  },
  {
   "cell_type": "code",
   "execution_count": null,
   "id": "10ffd98b",
   "metadata": {},
   "outputs": [],
   "source": [
    "# Find best seed\n",
    "from utils.split import precompute_single_fold_split, precompute_kfold_splits, display_split_statistics\n",
    "\n",
    "# Pre-compute single fold split (for most configurations)\n",
    "single_fold_split = precompute_single_fold_split(\n",
    "    features=features,\n",
    "    labels=labels, \n",
    "    authors=authors,\n",
    "    test_size=0.2,\n",
    "    max_attempts=400_000,\n",
    "    min_test_segments=4)\n",
    "\n",
    "print(f\"Single Fold Split Type: {type(single_fold_split)}, Shape: {len(single_fold_split)}\")\n",
    "\n",
    "# Display statistics for verification\n",
    "display_split_statistics(single_fold_split, \"single\")"
   ]
  },
  {
   "cell_type": "code",
   "execution_count": null,
   "id": "7c9a5bc3",
   "metadata": {},
   "outputs": [
    {
     "name": "stdout",
     "output_type": "stream",
     "text": [
      "\n",
      "📊 SINGLE SPLIT STATISTICS\n",
      "----------------------------------------\n",
      "Random seed: 245323\n",
      "Train samples: 2328\n",
      "Validation samples: 657\n",
      "Split ratio: 77.99% - 22.01%\n",
      "Quality score: 0.2671\n",
      "----------------------------------------\n",
      "\n",
      "📊 KFOLD SPLIT STATISTICS\n",
      "----------------------------------------\n",
      "Random seed: 11052\n",
      "Number of folds: 4\n",
      "Average quality score: 0.3332\n",
      "  Fold 1: 2170 train, 815 val (72.70% - 27.30%)\n",
      "  Fold 2: 2319 train, 666 val (77.69% - 22.31%)\n",
      "  Fold 3: 2312 train, 673 val (77.45% - 22.55%)\n",
      "  Fold 4: 2154 train, 831 val (72.16% - 27.84%)\n",
      "----------------------------------------\n"
     ]
    }
   ],
   "source": [
    "# # Split with a set seed\n",
    "# from utils.split import get_set_seed_indices, get_set_seed_kfold_indices, display_split_statistics\n",
    "# seed_single = 245323 # Quality: 0.2671\n",
    "# seed_kfold = 11052 # Quality: 0.3332\n",
    "\n",
    "# single_fold_split = get_set_seed_indices(\n",
    "#     features=features,\n",
    "#     labels=labels, \n",
    "#     authors=authors,\n",
    "#     test_size=0.2,\n",
    "#     seed=seed_single)\n",
    "\n",
    "# kfold_splits = get_set_seed_kfold_indices(\n",
    "#     features=features,\n",
    "#     labels=labels,\n",
    "#     authors=authors,\n",
    "#     n_splits=4,\n",
    "#     seed=seed_kfold)\n",
    "\n",
    "# display_split_statistics(single_fold_split, \"single\")\n",
    "# display_split_statistics(kfold_splits, \"kfold\")"
   ]
  },
  {
   "cell_type": "code",
   "execution_count": 6,
   "id": "428c4e17",
   "metadata": {},
   "outputs": [],
   "source": [
    "# Import all models and training utilities\n",
    "from utils.final_models import (\n",
    "    BirdCNN_v5, BirdCNN_v5b, BirdCNN_v5c, BirdCNN_v5d, BirdCNN_v7, BirdCNN_v7b, BirdCNN_v7c, BirdCNN_v7d, BirdCNN_v7e\n",
    ")\n",
    "from utils.training_core import single_fold_training\n",
    "from utils.metrics import plot_metrics\n",
    "\n",
    "# Define all 16 model architectures for testing\n",
    "model_architectures = {\n",
    "    'BirdCNN_v5': BirdCNN_v5,\n",
    "    'BirdCNN_v5b': BirdCNN_v5b,\n",
    "    'BirdCNN_v5c': BirdCNN_v5c,\n",
    "    'BirdCNN_v5d': BirdCNN_v5d,\n",
    "    'BirdCNN_v7': BirdCNN_v7,\n",
    "    'BirdCNN_v7b': BirdCNN_v7b,\n",
    "    'BirdCNN_v7c': BirdCNN_v7c,\n",
    "    'BirdCNN_v7d': BirdCNN_v7d,\n",
    "    'BirdCNN_v7e': BirdCNN_v7e,\n",
    "}\n",
    "\n",
    "# Initialize results database for all model-config combinations\n",
    "building_results = {}\n",
    "class_num = len(np.unique(labels))"
   ]
  },
  {
   "cell_type": "code",
   "execution_count": 7,
   "id": "f25a1e3c",
   "metadata": {},
   "outputs": [],
   "source": [
    "# Config\n",
    "configurations = {\n",
    "    'configA': {\n",
    "            'name': 'Chaos Candidate',\n",
    "            'use_adam': True,\n",
    "            'estop_thresh': 37,\n",
    "            'batch_size': 45,\n",
    "            'use_class_weights': True,\n",
    "            'l2_regularization': 3.7e-4,\n",
    "            'lr_schedule': {'type': 'cosine', 'T_max': 73},\n",
    "            'initial_lr': 0.00137,\n",
    "            'standardize': False,\n",
    "            'spec_augment': True,\n",
    "            'noise_augment': False,\n",
    "            'num_epochs': 320,\n",
    "            'mixed_precision': ENABLE_OPTIMIZATIONS,\n",
    "            'gradient_clipping': 0.73,\n",
    "            'parallel_folds': ENABLE_PARALLEL_FOLDS,\n",
    "            'max_parallel_folds': MAX_PARALLEL_FOLDS\n",
    "    },\n",
    "    \n",
    "    'configB': {\n",
    "            'name': 'Higher Learning Rate',\n",
    "            'use_adam': True,\n",
    "            'estop_thresh': 45,\n",
    "            'batch_size': 48,\n",
    "            'use_class_weights': True,\n",
    "            'l2_regularization': 4.2e-4,\n",
    "            'lr_schedule': {'type': 'cosine', 'T_max': 68},\n",
    "            'initial_lr': 0.00165,\n",
    "            'standardize': False,\n",
    "            'spec_augment': True,\n",
    "            'noise_augment': False,\n",
    "            'num_epochs': 320,\n",
    "            'mixed_precision': ENABLE_OPTIMIZATIONS,\n",
    "            'gradient_clipping': 0.68,\n",
    "            'parallel_folds': ENABLE_PARALLEL_FOLDS,\n",
    "            'max_parallel_folds': MAX_PARALLEL_FOLDS\n",
    "    },\n",
    "    \n",
    "    'configC': {\n",
    "            'name': 'Lower Regularization',\n",
    "            'use_adam': True,\n",
    "            'estop_thresh': 45,\n",
    "            'batch_size': 42,\n",
    "            'use_class_weights': True,\n",
    "            'l2_regularization': 2.8e-4,\n",
    "            'lr_schedule': {'type': 'cosine', 'T_max': 78},\n",
    "            'initial_lr': 0.00121,\n",
    "            'standardize': False,\n",
    "            'spec_augment': True,\n",
    "            'noise_augment': False,\n",
    "            'num_epochs': 320,\n",
    "            'mixed_precision': ENABLE_OPTIMIZATIONS,\n",
    "            'gradient_clipping': 0.81,\n",
    "            'parallel_folds': ENABLE_PARALLEL_FOLDS,\n",
    "            'max_parallel_folds': MAX_PARALLEL_FOLDS\n",
    "    },\n",
    "    \n",
    "    'configD': {\n",
    "            'name': 'Larger Batch Size',\n",
    "            'use_adam': True,\n",
    "            'estop_thresh': 45,\n",
    "            'batch_size': 56,\n",
    "            'use_class_weights': True,\n",
    "            'l2_regularization': 3.3e-4,\n",
    "            'lr_schedule': {'type': 'cosine', 'T_max': 65},\n",
    "            'initial_lr': 0.00149,\n",
    "            'standardize': False,\n",
    "            'spec_augment': True,\n",
    "            'noise_augment': False,\n",
    "            'num_epochs': 320,\n",
    "            'mixed_precision': ENABLE_OPTIMIZATIONS,\n",
    "            'gradient_clipping': 0.65,\n",
    "            'parallel_folds': ENABLE_PARALLEL_FOLDS,\n",
    "            'max_parallel_folds': MAX_PARALLEL_FOLDS\n",
    "    },\n",
    "}"
   ]
  },
  {
   "cell_type": "code",
   "execution_count": null,
   "id": "ed777a6f",
   "metadata": {},
   "outputs": [],
   "source": [
    "# === CONFIG A TRAINING: Parameters Frankenstein ===\n",
    "print(\"=\"*80)\n",
    "\n",
    "config_a = configurations['configA']\n",
    "config_a_results = {}\n",
    "\n",
    "for model_name, model_class in model_architectures.items():\n",
    "    try:\n",
    "        print(f\"\\n{'='*50}\")\n",
    "        print(f\"Training {model_name} with Config A\")\n",
    "        print(f\"{'='*50}\")\n",
    "        \n",
    "        start_time = time.time()\n",
    "        \n",
    "        # Run single fold training\n",
    "        result = single_fold_training(\n",
    "            features=features,\n",
    "            labels=labels,\n",
    "            authors=authors,\n",
    "            model_class=model_class,\n",
    "            num_classes=class_num,\n",
    "            config=config_a,\n",
    "            spec_augment=config_a['spec_augment'],\n",
    "            gaussian_noise=config_a['noise_augment'],\n",
    "            precomputed_split=single_fold_split,  # Use pre-computed single fold split\n",
    "            config_id=\"Config A\"  # Pass config_id for progress bar\n",
    "        )\n",
    "        \n",
    "        # Store result\n",
    "        config_a_results[model_name] = {\n",
    "            'status': 'success',\n",
    "            'result': result,\n",
    "            'training_time': time.time() - start_time,\n",
    "            'config': 'configA'\n",
    "        }\n",
    "        \n",
    "        # Store in global results\n",
    "        building_results[f\"{model_name}_configA\"] = config_a_results[model_name]\n",
    "        \n",
    "        print(f\"✅ {model_name} completed successfully!\")\n",
    "        print(f\"   Best Val Acc: {result.get('best_val_acc', 0):.4f}\")\n",
    "        print(f\"   Best Val F1: {result.get('best_val_f1', 0):.4f}\")\n",
    "        print(f\"   Training time: {config_a_results[model_name]['training_time']:.1f}s\")\n",
    "        \n",
    "    except Exception as e:\n",
    "        print(f\"❌ {model_name} failed: {str(e)}\")\n",
    "        config_a_results[model_name] = {\n",
    "            'status': 'failed',\n",
    "            'error': str(e),\n",
    "            'config': 'configA'\n",
    "        }\n",
    "        building_results[f\"{model_name}_configA\"] = config_a_results[model_name]\n",
    "\n",
    "print(f\"\\n{'='*60}\")\n",
    "print(\"CONFIG A TRAINING COMPLETED\")\n",
    "successful_a = sum(1 for result in config_a_results.values() if result['status'] == 'success')\n",
    "print(f\"Successful models: {successful_a}/{len(model_architectures)}\")\n",
    "print(f\"{'='*60}\")"
   ]
  },
  {
   "cell_type": "code",
   "execution_count": null,
   "id": "f7c29bf6",
   "metadata": {},
   "outputs": [
    {
     "name": "stdout",
     "output_type": "stream",
     "text": [
      "================================================================================\n",
      "STARTING CONFIG B: Balanced Classes Focus\n",
      "================================================================================\n",
      "\n",
      "==================================================\n",
      "Training BirdCNN_v5 with Config B\n",
      "==================================================\n",
      "Train size: 2328, Val size: 657\n"
     ]
    },
    {
     "name": "stderr",
     "output_type": "stream",
     "text": [
      "Config: Config B | TrLoss: 0.1627 | TrAcc: 0.9670 | ValLoss: 1.8564 | ValAcc: 0.5192:  43%|████▎     | 139/320 [04:56<06:25,  2.13s/it]\n"
     ]
    },
    {
     "name": "stdout",
     "output_type": "stream",
     "text": [
      "Early stopped after 139 epochs (best at epoch 95)\n",
      "Best - Val Acc: 0.5689, Val F1: 0.5556\n",
      "✅ BirdCNN_v5 completed successfully!\n",
      "   Best Val Acc: 0.5689\n",
      "   Best Val F1: 0.5556\n",
      "   Training time: 298.6s\n",
      "\n",
      "==================================================\n",
      "Training BirdCNN_v5b with Config B\n",
      "==================================================\n",
      "Train size: 2328, Val size: 657\n"
     ]
    },
    {
     "name": "stderr",
     "output_type": "stream",
     "text": [
      "Config: Config B | TrLoss: 0.1743 | TrAcc: 0.9627 | ValLoss: 1.9321 | ValAcc: 0.5449:  38%|███▊      | 122/320 [03:39<05:55,  1.80s/it]\n"
     ]
    },
    {
     "name": "stdout",
     "output_type": "stream",
     "text": [
      "Early stopped after 122 epochs (best at epoch 78)\n",
      "Best - Val Acc: 0.5913, Val F1: 0.5632\n",
      "✅ BirdCNN_v5b completed successfully!\n",
      "   Best Val Acc: 0.5913\n",
      "   Best Val F1: 0.5632\n",
      "   Training time: 221.5s\n",
      "\n",
      "==================================================\n",
      "Training BirdCNN_v5c with Config B\n",
      "==================================================\n",
      "Train size: 2328, Val size: 657\n"
     ]
    },
    {
     "name": "stderr",
     "output_type": "stream",
     "text": [
      "Config: Config B | TrLoss: 0.0271 | TrAcc: 0.9970 | ValLoss: 1.9354 | ValAcc: 0.5561:  27%|██▋       | 85/320 [04:50<13:24,  3.42s/it] \n"
     ]
    },
    {
     "name": "stdout",
     "output_type": "stream",
     "text": [
      "Early stopped after 85 epochs (best at epoch 41)\n",
      "Best - Val Acc: 0.5705, Val F1: 0.5521\n",
      "✅ BirdCNN_v5c completed successfully!\n",
      "   Best Val Acc: 0.5705\n",
      "   Best Val F1: 0.5521\n",
      "   Training time: 293.4s\n",
      "\n",
      "==================================================\n",
      "Training BirdCNN_v5d with Config B\n",
      "==================================================\n",
      "Train size: 2328, Val size: 657\n"
     ]
    },
    {
     "name": "stderr",
     "output_type": "stream",
     "text": [
      "Config: Config B | TrLoss: 0.0331 | TrAcc: 0.9952 | ValLoss: 2.0056 | ValAcc: 0.5561:  28%|██▊       | 88/320 [02:49<07:26,  1.92s/it]\n"
     ]
    },
    {
     "name": "stdout",
     "output_type": "stream",
     "text": [
      "Early stopped after 88 epochs (best at epoch 44)\n",
      "Best - Val Acc: 0.6154, Val F1: 0.5867\n",
      "✅ BirdCNN_v5d completed successfully!\n",
      "   Best Val Acc: 0.6154\n",
      "   Best Val F1: 0.5867\n",
      "   Training time: 171.4s\n",
      "\n",
      "==================================================\n",
      "Training BirdCNN_v7 with Config B\n",
      "==================================================\n",
      "Train size: 2328, Val size: 657\n"
     ]
    },
    {
     "name": "stderr",
     "output_type": "stream",
     "text": [
      "Config: Config B | TrLoss: 0.2709 | TrAcc: 0.9332 | ValLoss: 2.6055 | ValAcc: 0.3894:  35%|███▌      | 112/320 [09:29<17:37,  5.08s/it]\n"
     ]
    },
    {
     "name": "stdout",
     "output_type": "stream",
     "text": [
      "Early stopped after 112 epochs (best at epoch 68)\n",
      "Best - Val Acc: 0.6330, Val F1: 0.6017\n",
      "✅ BirdCNN_v7 completed successfully!\n",
      "   Best Val Acc: 0.6330\n",
      "   Best Val F1: 0.6017\n",
      "   Training time: 572.7s\n",
      "\n",
      "==================================================\n",
      "Training BirdCNN_v7b with Config B\n",
      "==================================================\n",
      "Train size: 2328, Val size: 657\n"
     ]
    },
    {
     "name": "stderr",
     "output_type": "stream",
     "text": [
      "Config: Config B | TrLoss: 0.1857 | TrAcc: 0.9549 | ValLoss: 2.3228 | ValAcc: 0.4696:  32%|███▎      | 104/320 [05:02<10:27,  2.90s/it]\n"
     ]
    },
    {
     "name": "stdout",
     "output_type": "stream",
     "text": [
      "Early stopped after 104 epochs (best at epoch 60)\n",
      "Best - Val Acc: 0.6250, Val F1: 0.6180\n",
      "✅ BirdCNN_v7b completed successfully!\n",
      "   Best Val Acc: 0.6250\n",
      "   Best Val F1: 0.6180\n",
      "   Training time: 304.5s\n",
      "\n",
      "==================================================\n",
      "Training BirdCNN_v7c with Config B\n",
      "==================================================\n",
      "Train size: 2328, Val size: 657\n"
     ]
    },
    {
     "name": "stderr",
     "output_type": "stream",
     "text": [
      "Config: Config B | TrLoss: 0.2730 | TrAcc: 0.9314 | ValLoss: 2.5666 | ValAcc: 0.3942:  35%|███▌      | 113/320 [17:38<32:18,  9.36s/it]\n"
     ]
    },
    {
     "name": "stdout",
     "output_type": "stream",
     "text": [
      "Early stopped after 113 epochs (best at epoch 69)\n",
      "Best - Val Acc: 0.6106, Val F1: 0.5977\n",
      "✅ BirdCNN_v7c completed successfully!\n",
      "   Best Val Acc: 0.6106\n",
      "   Best Val F1: 0.5977\n",
      "   Training time: 1062.6s\n",
      "\n",
      "==================================================\n",
      "Training BirdCNN_v7d with Config B\n",
      "==================================================\n",
      "Train size: 2328, Val size: 657\n"
     ]
    },
    {
     "name": "stderr",
     "output_type": "stream",
     "text": [
      "Config: Config B | TrLoss: 0.2265 | TrAcc: 0.9401 | ValLoss: 2.6949 | ValAcc: 0.4054:  39%|███▉      | 125/320 [08:48<13:44,  4.23s/it]\n"
     ]
    },
    {
     "name": "stdout",
     "output_type": "stream",
     "text": [
      "Early stopped after 125 epochs (best at epoch 81)\n",
      "Best - Val Acc: 0.6330, Val F1: 0.6038\n",
      "✅ BirdCNN_v7d completed successfully!\n",
      "   Best Val Acc: 0.6330\n",
      "   Best Val F1: 0.6038\n",
      "   Training time: 531.4s\n",
      "\n",
      "==================================================\n",
      "Training BirdCNN_v7e with Config B\n",
      "==================================================\n",
      "Train size: 2328, Val size: 657\n"
     ]
    },
    {
     "name": "stderr",
     "output_type": "stream",
     "text": [
      "Config: Config B | TrLoss: 0.2509 | TrAcc: 0.9306 | ValLoss: 2.5212 | ValAcc: 0.4263:  39%|███▉      | 126/320 [15:52<24:26,  7.56s/it]\n"
     ]
    },
    {
     "name": "stdout",
     "output_type": "stream",
     "text": [
      "Early stopped after 126 epochs (best at epoch 82)\n",
      "Best - Val Acc: 0.6410, Val F1: 0.6167\n",
      "✅ BirdCNN_v7e completed successfully!\n",
      "   Best Val Acc: 0.6410\n",
      "   Best Val F1: 0.6167\n",
      "   Training time: 956.3s\n",
      "\n",
      "============================================================\n",
      "CONFIG B TRAINING COMPLETED\n",
      "Successful models: 9/9\n",
      "============================================================\n"
     ]
    }
   ],
   "source": [
    "# === CONFIG B TRAINING: Balanced Classes Focus ===\n",
    "print(\"=\"*80)\n",
    "\n",
    "config_b = configurations['configB']\n",
    "config_b_results = {}\n",
    "\n",
    "for model_name, model_class in model_architectures.items():\n",
    "    try:\n",
    "        print(f\"\\n{'='*50}\")\n",
    "        print(f\"Training {model_name} with Config B\")\n",
    "        print(f\"{'='*50}\")\n",
    "        \n",
    "        start_time = time.time()\n",
    "        \n",
    "        # Create model instance\n",
    "        model = model_class(num_classes=class_num)\n",
    "        \n",
    "        # Run single fold training\n",
    "        result = single_fold_training(\n",
    "            features=features,\n",
    "            labels=labels,\n",
    "            authors=authors,\n",
    "            model_class=model_class,\n",
    "            num_classes=class_num,\n",
    "            config=config_b,\n",
    "            spec_augment=config_b['spec_augment'],\n",
    "            gaussian_noise=config_b['noise_augment'],\n",
    "            precomputed_split=single_fold_split,  # Use pre-computed single fold split\n",
    "            config_id=\"Config B\"  # Pass config_id for progress bar\n",
    "        )\n",
    "        \n",
    "        # Store result\n",
    "        config_b_results[model_name] = {\n",
    "            'status': 'success',\n",
    "            'result': result,\n",
    "            'training_time': time.time() - start_time,\n",
    "            'config': 'configB'\n",
    "        }\n",
    "        \n",
    "        # Store in global results\n",
    "        building_results[f\"{model_name}_configB\"] = config_b_results[model_name]\n",
    "        \n",
    "        print(f\"✅ {model_name} completed successfully!\")\n",
    "        print(f\"   Best Val Acc: {result.get('best_val_acc', 0):.4f}\")\n",
    "        print(f\"   Best Val F1: {result.get('best_val_f1', 0):.4f}\")\n",
    "        print(f\"   Training time: {config_b_results[model_name]['training_time']:.1f}s\")\n",
    "        \n",
    "    except Exception as e:\n",
    "        print(f\"❌ {model_name} failed: {str(e)}\")\n",
    "        config_b_results[model_name] = {\n",
    "            'status': 'failed',\n",
    "            'error': str(e),\n",
    "            'config': 'configB'\n",
    "        }\n",
    "        building_results[f\"{model_name}_configB\"] = config_b_results[model_name]\n",
    "\n",
    "print(f\"\\n{'='*60}\")\n",
    "print(\"CONFIG B TRAINING COMPLETED\")\n",
    "successful_b = sum(1 for result in config_b_results.values() if result['status'] == 'success')\n",
    "print(f\"Successful models: {successful_b}/{len(model_architectures)}\")\n",
    "print(f\"{'='*60}\")"
   ]
  },
  {
   "cell_type": "code",
   "execution_count": null,
   "id": "0c6d44c9",
   "metadata": {},
   "outputs": [
    {
     "name": "stdout",
     "output_type": "stream",
     "text": [
      "================================================================================\n",
      "STARTING CONFIG C: Chaos Theory\n",
      "================================================================================\n",
      "\n",
      "==================================================\n",
      "Training BirdCNN_v5 with Config C\n",
      "==================================================\n",
      "Train size: 2328, Val size: 657\n"
     ]
    },
    {
     "name": "stderr",
     "output_type": "stream",
     "text": [
      "Config: Config C | TrLoss: 0.0200 | TrAcc: 0.9957 | ValLoss: 1.7291 | ValAcc: 0.6000:  17%|█▋        | 55/320 [02:06<10:09,  2.30s/it]\n"
     ]
    },
    {
     "name": "stdout",
     "output_type": "stream",
     "text": [
      "Early stopped after 55 epochs (best at epoch 11)\n",
      "Best - Val Acc: 0.5937, Val F1: 0.5755\n",
      "✅ BirdCNN_v5 completed successfully!\n",
      "   Best Val Acc: 0.5937\n",
      "   Best Val F1: 0.5755\n",
      "   Training time: 128.7s\n",
      "\n",
      "==================================================\n",
      "Training BirdCNN_v5b with Config C\n",
      "==================================================\n",
      "Train size: 2328, Val size: 657\n"
     ]
    },
    {
     "name": "stderr",
     "output_type": "stream",
     "text": [
      "Config: Config C | TrLoss: 0.0153 | TrAcc: 0.9987 | ValLoss: 1.7163 | ValAcc: 0.6111:  29%|██▉       | 92/320 [02:52<07:08,  1.88s/it]\n"
     ]
    },
    {
     "name": "stdout",
     "output_type": "stream",
     "text": [
      "Early stopped after 92 epochs (best at epoch 48)\n",
      "Best - Val Acc: 0.6270, Val F1: 0.6121\n",
      "✅ BirdCNN_v5b completed successfully!\n",
      "   Best Val Acc: 0.6270\n",
      "   Best Val F1: 0.6121\n",
      "   Training time: 174.9s\n",
      "\n",
      "==================================================\n",
      "Training BirdCNN_v5c with Config C\n",
      "==================================================\n",
      "Train size: 2328, Val size: 657\n"
     ]
    },
    {
     "name": "stderr",
     "output_type": "stream",
     "text": [
      "Config: Config C | TrLoss: 0.1111 | TrAcc: 0.9766 | ValLoss: 2.0433 | ValAcc: 0.5603:  44%|████▍     | 141/320 [07:38<09:41,  3.25s/it]\n"
     ]
    },
    {
     "name": "stdout",
     "output_type": "stream",
     "text": [
      "Early stopped after 141 epochs (best at epoch 97)\n",
      "Best - Val Acc: 0.6476, Val F1: 0.6366\n",
      "✅ BirdCNN_v5c completed successfully!\n",
      "   Best Val Acc: 0.6476\n",
      "   Best Val F1: 0.6366\n",
      "   Training time: 460.7s\n",
      "\n",
      "==================================================\n",
      "Training BirdCNN_v5d with Config C\n",
      "==================================================\n",
      "Train size: 2328, Val size: 657\n"
     ]
    },
    {
     "name": "stderr",
     "output_type": "stream",
     "text": [
      "Config: Config C | TrLoss: 0.0095 | TrAcc: 0.9996 | ValLoss: 1.8343 | ValAcc: 0.6079:  20%|██        | 65/320 [02:08<08:24,  1.98s/it]\n"
     ]
    },
    {
     "name": "stdout",
     "output_type": "stream",
     "text": [
      "Early stopped after 65 epochs (best at epoch 21)\n",
      "Best - Val Acc: 0.5556, Val F1: 0.5408\n",
      "✅ BirdCNN_v5d completed successfully!\n",
      "   Best Val Acc: 0.5556\n",
      "   Best Val F1: 0.5408\n",
      "   Training time: 130.6s\n",
      "\n",
      "==================================================\n",
      "Training BirdCNN_v7 with Config C\n",
      "==================================================\n",
      "Train size: 2328, Val size: 657\n"
     ]
    },
    {
     "name": "stderr",
     "output_type": "stream",
     "text": [
      "Config: Config C | TrLoss: 0.1167 | TrAcc: 0.9697 | ValLoss: 2.2801 | ValAcc: 0.4683:  38%|███▊      | 121/320 [10:30<17:17,  5.21s/it]\n"
     ]
    },
    {
     "name": "stdout",
     "output_type": "stream",
     "text": [
      "Early stopped after 121 epochs (best at epoch 77)\n",
      "Best - Val Acc: 0.6063, Val F1: 0.5853\n",
      "✅ BirdCNN_v7 completed successfully!\n",
      "   Best Val Acc: 0.6063\n",
      "   Best Val F1: 0.5853\n",
      "   Training time: 634.0s\n",
      "\n",
      "==================================================\n",
      "Training BirdCNN_v7b with Config C\n",
      "==================================================\n",
      "Train size: 2328, Val size: 657\n"
     ]
    },
    {
     "name": "stderr",
     "output_type": "stream",
     "text": [
      "Config: Config C | TrLoss: 0.0931 | TrAcc: 0.9753 | ValLoss: 2.6899 | ValAcc: 0.4492:  35%|███▍      | 111/320 [05:41<10:42,  3.07s/it]\n"
     ]
    },
    {
     "name": "stdout",
     "output_type": "stream",
     "text": [
      "Early stopped after 111 epochs (best at epoch 67)\n",
      "Best - Val Acc: 0.6317, Val F1: 0.6140\n",
      "✅ BirdCNN_v7b completed successfully!\n",
      "   Best Val Acc: 0.6317\n",
      "   Best Val F1: 0.6140\n",
      "   Training time: 343.9s\n",
      "\n",
      "==================================================\n",
      "Training BirdCNN_v7c with Config C\n",
      "==================================================\n",
      "Train size: 2328, Val size: 657\n"
     ]
    },
    {
     "name": "stderr",
     "output_type": "stream",
     "text": [
      "Config: Config C | TrLoss: 0.0419 | TrAcc: 0.9926 | ValLoss: 2.1826 | ValAcc: 0.5873:  30%|███       | 96/320 [15:18<35:44,  9.57s/it] \n"
     ]
    },
    {
     "name": "stdout",
     "output_type": "stream",
     "text": [
      "Early stopped after 96 epochs (best at epoch 52)\n",
      "Best - Val Acc: 0.5952, Val F1: 0.5858\n",
      "✅ BirdCNN_v7c completed successfully!\n",
      "   Best Val Acc: 0.5952\n",
      "   Best Val F1: 0.5858\n",
      "   Training time: 923.3s\n",
      "\n",
      "==================================================\n",
      "Training BirdCNN_v7d with Config C\n",
      "==================================================\n",
      "Train size: 2328, Val size: 657\n"
     ]
    },
    {
     "name": "stderr",
     "output_type": "stream",
     "text": [
      "Config: Config C | TrLoss: 0.1067 | TrAcc: 0.9723 | ValLoss: 2.2845 | ValAcc: 0.5476:  38%|███▊      | 122/320 [08:48<14:17,  4.33s/it]\n"
     ]
    },
    {
     "name": "stdout",
     "output_type": "stream",
     "text": [
      "Early stopped after 122 epochs (best at epoch 78)\n",
      "Best - Val Acc: 0.6365, Val F1: 0.6119\n",
      "✅ BirdCNN_v7d completed successfully!\n",
      "   Best Val Acc: 0.6365\n",
      "   Best Val F1: 0.6119\n",
      "   Training time: 531.3s\n",
      "\n",
      "==================================================\n",
      "Training BirdCNN_v7e with Config C\n",
      "==================================================\n",
      "Train size: 2328, Val size: 657\n"
     ]
    },
    {
     "name": "stderr",
     "output_type": "stream",
     "text": [
      "Config: Config C | TrLoss: 0.0110 | TrAcc: 0.9987 | ValLoss: 1.9034 | ValAcc: 0.5984:  27%|██▋       | 86/320 [11:08<30:18,  7.77s/it] \n"
     ]
    },
    {
     "name": "stdout",
     "output_type": "stream",
     "text": [
      "Early stopped after 86 epochs (best at epoch 42)\n",
      "Best - Val Acc: 0.6175, Val F1: 0.5833\n",
      "✅ BirdCNN_v7e completed successfully!\n",
      "   Best Val Acc: 0.6175\n",
      "   Best Val F1: 0.5833\n",
      "   Training time: 672.2s\n",
      "\n",
      "============================================================\n",
      "CONFIG C TRAINING COMPLETED\n",
      "Successful models: 9/9\n",
      "============================================================\n"
     ]
    }
   ],
   "source": [
    "# === CONFIG C TRAINING: Chaos Theory ===\n",
    "print(\"=\"*80)\n",
    "\n",
    "config_c = configurations['configC']\n",
    "config_c_results = {}\n",
    "\n",
    "for model_name, model_class in model_architectures.items():\n",
    "    try:\n",
    "        print(f\"\\n{'='*50}\")\n",
    "        print(f\"Training {model_name} with Config C\")\n",
    "        print(f\"{'='*50}\")\n",
    "        \n",
    "        start_time = time.time()\n",
    "        \n",
    "        # Create model instance\n",
    "        model = model_class(num_classes=class_num)\n",
    "        \n",
    "        # Run single fold training\n",
    "        result = single_fold_training(\n",
    "            features=features,\n",
    "            labels=labels,\n",
    "            authors=authors,\n",
    "            model_class=model_class,\n",
    "            num_classes=class_num,\n",
    "            config=config_c,\n",
    "            spec_augment=config_c['spec_augment'],\n",
    "            gaussian_noise=config_c['noise_augment'],\n",
    "            precomputed_split=single_fold_split,  # Use pre-computed single fold split\n",
    "            config_id=\"Config C\"  # Pass config_id for progress bar\n",
    "        )\n",
    "        \n",
    "        # Store result\n",
    "        config_c_results[model_name] = {\n",
    "            'status': 'success',\n",
    "            'result': result,\n",
    "            'training_time': time.time() - start_time,\n",
    "            'config': 'configC'\n",
    "        }\n",
    "        \n",
    "        # Store in global results\n",
    "        building_results[f\"{model_name}_configC\"] = config_c_results[model_name]\n",
    "        \n",
    "        print(f\"✅ {model_name} completed successfully!\")\n",
    "        print(f\"   Best Val Acc: {result.get('best_val_acc', 0):.4f}\")\n",
    "        print(f\"   Best Val F1: {result.get('best_val_f1', 0):.4f}\")\n",
    "        print(f\"   Training time: {config_c_results[model_name]['training_time']:.1f}s\")\n",
    "        \n",
    "    except Exception as e:\n",
    "        print(f\"❌ {model_name} failed: {str(e)}\")\n",
    "        config_c_results[model_name] = {\n",
    "            'status': 'failed',\n",
    "            'error': str(e),\n",
    "            'config': 'configC'\n",
    "        }\n",
    "        building_results[f\"{model_name}_configC\"] = config_c_results[model_name]\n",
    "\n",
    "print(f\"\\n{'='*60}\")\n",
    "print(\"CONFIG C TRAINING COMPLETED\")\n",
    "successful_c = sum(1 for result in config_c_results.values() if result['status'] == 'success')\n",
    "print(f\"Successful models: {successful_c}/{len(model_architectures)}\")\n",
    "print(f\"{'='*60}\")"
   ]
  },
  {
   "cell_type": "code",
   "execution_count": null,
   "id": "0fdcd726",
   "metadata": {},
   "outputs": [
    {
     "name": "stdout",
     "output_type": "stream",
     "text": [
      "================================================================================\n",
      "STARTING CONFIG D: Balanced Classes AdamW\n",
      "================================================================================\n",
      "\n",
      "==================================================\n",
      "Training BirdCNN_v5 with Config D\n",
      "==================================================\n",
      "Train size: 2328, Val size: 657\n"
     ]
    },
    {
     "name": "stderr",
     "output_type": "stream",
     "text": [
      "Config: Config D | TrLoss: 0.0645 | TrAcc: 0.9900 | ValLoss: 1.5668 | ValAcc: 0.6234:  72%|███████▎  | 232/320 [08:10<03:06,  2.12s/it]\n"
     ]
    },
    {
     "name": "stdout",
     "output_type": "stream",
     "text": [
      "Early stopped after 232 epochs (best at epoch 188)\n",
      "Best - Val Acc: 0.6818, Val F1: 0.6595\n",
      "✅ BirdCNN_v5 completed successfully!\n",
      "   Best Val Acc: 0.6818\n",
      "   Best Val F1: 0.6595\n",
      "   Training time: 492.9s\n",
      "\n",
      "==================================================\n",
      "Training BirdCNN_v5b with Config D\n",
      "==================================================\n",
      "Train size: 2328, Val size: 657\n"
     ]
    },
    {
     "name": "stderr",
     "output_type": "stream",
     "text": [
      "Config: Config D | TrLoss: 0.1510 | TrAcc: 0.9656 | ValLoss: 2.1675 | ValAcc: 0.5097:  38%|███▊      | 122/320 [03:38<05:55,  1.79s/it]\n"
     ]
    },
    {
     "name": "stdout",
     "output_type": "stream",
     "text": [
      "Early stopped after 122 epochs (best at epoch 78)\n",
      "Best - Val Acc: 0.5909, Val F1: 0.5698\n",
      "✅ BirdCNN_v5b completed successfully!\n",
      "   Best Val Acc: 0.5909\n",
      "   Best Val F1: 0.5698\n",
      "   Training time: 221.1s\n",
      "\n",
      "==================================================\n",
      "Training BirdCNN_v5c with Config D\n",
      "==================================================\n",
      "Train size: 2328, Val size: 657\n"
     ]
    },
    {
     "name": "stderr",
     "output_type": "stream",
     "text": [
      "Config: Config D | TrLoss: 0.0549 | TrAcc: 0.9926 | ValLoss: 2.0213 | ValAcc: 0.5325:  29%|██▉       | 93/320 [05:06<12:28,  3.30s/it]\n"
     ]
    },
    {
     "name": "stdout",
     "output_type": "stream",
     "text": [
      "Early stopped after 93 epochs (best at epoch 49)\n",
      "Best - Val Acc: 0.5877, Val F1: 0.5658\n",
      "✅ BirdCNN_v5c completed successfully!\n",
      "   Best Val Acc: 0.5877\n",
      "   Best Val F1: 0.5658\n",
      "   Training time: 309.1s\n",
      "\n",
      "==================================================\n",
      "Training BirdCNN_v5d with Config D\n",
      "==================================================\n",
      "Train size: 2328, Val size: 657\n"
     ]
    },
    {
     "name": "stderr",
     "output_type": "stream",
     "text": [
      "Config: Config D | TrLoss: 0.0608 | TrAcc: 0.9891 | ValLoss: 2.0109 | ValAcc: 0.5471:  30%|██▉       | 95/320 [03:05<07:19,  1.95s/it]\n"
     ]
    },
    {
     "name": "stdout",
     "output_type": "stream",
     "text": [
      "Early stopped after 95 epochs (best at epoch 51)\n",
      "Best - Val Acc: 0.6153, Val F1: 0.5794\n",
      "✅ BirdCNN_v5d completed successfully!\n",
      "   Best Val Acc: 0.6153\n",
      "   Best Val F1: 0.5794\n",
      "   Training time: 187.6s\n",
      "\n",
      "==================================================\n",
      "Training BirdCNN_v7 with Config D\n",
      "==================================================\n",
      "Train size: 2328, Val size: 657\n"
     ]
    },
    {
     "name": "stderr",
     "output_type": "stream",
     "text": [
      "Config: Config D | TrLoss: 0.2547 | TrAcc: 0.9338 | ValLoss: 2.4448 | ValAcc: 0.4821:  37%|███▋      | 118/320 [17:12<29:28,  8.75s/it]\n"
     ]
    },
    {
     "name": "stdout",
     "output_type": "stream",
     "text": [
      "Early stopped after 118 epochs (best at epoch 74)\n",
      "Best - Val Acc: 0.6380, Val F1: 0.6134\n",
      "✅ BirdCNN_v7 completed successfully!\n",
      "   Best Val Acc: 0.6380\n",
      "   Best Val F1: 0.6134\n",
      "   Training time: 1036.3s\n",
      "\n",
      "==================================================\n",
      "Training BirdCNN_v7b with Config D\n",
      "==================================================\n",
      "Train size: 2328, Val size: 657\n"
     ]
    },
    {
     "name": "stderr",
     "output_type": "stream",
     "text": [
      "Config: Config D | TrLoss: 0.1793 | TrAcc: 0.9551 | ValLoss: 1.8796 | ValAcc: 0.5373:  37%|███▋      | 118/320 [11:38<19:55,  5.92s/it]\n"
     ]
    },
    {
     "name": "stdout",
     "output_type": "stream",
     "text": [
      "Early stopped after 118 epochs (best at epoch 74)\n",
      "Best - Val Acc: 0.6266, Val F1: 0.5849\n",
      "✅ BirdCNN_v7b completed successfully!\n",
      "   Best Val Acc: 0.6266\n",
      "   Best Val F1: 0.5849\n",
      "   Training time: 703.2s\n",
      "\n",
      "==================================================\n",
      "Training BirdCNN_v7c with Config D\n",
      "==================================================\n",
      "Train size: 2328, Val size: 657\n"
     ]
    },
    {
     "name": "stderr",
     "output_type": "stream",
     "text": [
      "Config: Config D | TrLoss: 1.0877 | TrAcc: 0.6860 | ValLoss: 2.8605 | ValAcc: 0.3880:   7%|▋         | 22/320 [24:15<5:28:38, 66.17s/it]\n"
     ]
    },
    {
     "ename": "KeyboardInterrupt",
     "evalue": "",
     "output_type": "error",
     "traceback": [
      "\u001b[1;31m---------------------------------------------------------------------------\u001b[0m",
      "\u001b[1;31mKeyboardInterrupt\u001b[0m                         Traceback (most recent call last)",
      "Cell \u001b[1;32mIn[11], line 21\u001b[0m\n\u001b[0;32m     18\u001b[0m model \u001b[38;5;241m=\u001b[39m model_class(num_classes\u001b[38;5;241m=\u001b[39mclass_num)\n\u001b[0;32m     20\u001b[0m \u001b[38;5;66;03m# Run single fold training\u001b[39;00m\n\u001b[1;32m---> 21\u001b[0m result \u001b[38;5;241m=\u001b[39m \u001b[43msingle_fold_training\u001b[49m\u001b[43m(\u001b[49m\n\u001b[0;32m     22\u001b[0m \u001b[43m    \u001b[49m\u001b[43mfeatures\u001b[49m\u001b[38;5;241;43m=\u001b[39;49m\u001b[43mfeatures\u001b[49m\u001b[43m,\u001b[49m\n\u001b[0;32m     23\u001b[0m \u001b[43m    \u001b[49m\u001b[43mlabels\u001b[49m\u001b[38;5;241;43m=\u001b[39;49m\u001b[43mlabels\u001b[49m\u001b[43m,\u001b[49m\n\u001b[0;32m     24\u001b[0m \u001b[43m    \u001b[49m\u001b[43mauthors\u001b[49m\u001b[38;5;241;43m=\u001b[39;49m\u001b[43mauthors\u001b[49m\u001b[43m,\u001b[49m\n\u001b[0;32m     25\u001b[0m \u001b[43m    \u001b[49m\u001b[43mmodel_class\u001b[49m\u001b[38;5;241;43m=\u001b[39;49m\u001b[43mmodel_class\u001b[49m\u001b[43m,\u001b[49m\n\u001b[0;32m     26\u001b[0m \u001b[43m    \u001b[49m\u001b[43mnum_classes\u001b[49m\u001b[38;5;241;43m=\u001b[39;49m\u001b[43mclass_num\u001b[49m\u001b[43m,\u001b[49m\n\u001b[0;32m     27\u001b[0m \u001b[43m    \u001b[49m\u001b[43mconfig\u001b[49m\u001b[38;5;241;43m=\u001b[39;49m\u001b[43mconfig_d\u001b[49m\u001b[43m,\u001b[49m\n\u001b[0;32m     28\u001b[0m \u001b[43m    \u001b[49m\u001b[43mspec_augment\u001b[49m\u001b[38;5;241;43m=\u001b[39;49m\u001b[43mconfig_d\u001b[49m\u001b[43m[\u001b[49m\u001b[38;5;124;43m'\u001b[39;49m\u001b[38;5;124;43mspec_augment\u001b[39;49m\u001b[38;5;124;43m'\u001b[39;49m\u001b[43m]\u001b[49m\u001b[43m,\u001b[49m\n\u001b[0;32m     29\u001b[0m \u001b[43m    \u001b[49m\u001b[43mgaussian_noise\u001b[49m\u001b[38;5;241;43m=\u001b[39;49m\u001b[43mconfig_d\u001b[49m\u001b[43m[\u001b[49m\u001b[38;5;124;43m'\u001b[39;49m\u001b[38;5;124;43mnoise_augment\u001b[39;49m\u001b[38;5;124;43m'\u001b[39;49m\u001b[43m]\u001b[49m\u001b[43m,\u001b[49m\n\u001b[0;32m     30\u001b[0m \u001b[43m    \u001b[49m\u001b[43mprecomputed_split\u001b[49m\u001b[38;5;241;43m=\u001b[39;49m\u001b[43msingle_fold_split\u001b[49m\u001b[43m,\u001b[49m\u001b[43m  \u001b[49m\u001b[38;5;66;43;03m# Use pre-computed single fold split\u001b[39;49;00m\n\u001b[0;32m     31\u001b[0m \u001b[43m    \u001b[49m\u001b[43mconfig_id\u001b[49m\u001b[38;5;241;43m=\u001b[39;49m\u001b[38;5;124;43m\"\u001b[39;49m\u001b[38;5;124;43mConfig D\u001b[39;49m\u001b[38;5;124;43m\"\u001b[39;49m\u001b[43m  \u001b[49m\u001b[38;5;66;43;03m# Pass config_id for progress bar\u001b[39;49;00m\n\u001b[0;32m     32\u001b[0m \u001b[43m\u001b[49m\u001b[43m)\u001b[49m\n\u001b[0;32m     34\u001b[0m \u001b[38;5;66;03m# Store result\u001b[39;00m\n\u001b[0;32m     35\u001b[0m config_d_results[model_name] \u001b[38;5;241m=\u001b[39m {\n\u001b[0;32m     36\u001b[0m     \u001b[38;5;124m'\u001b[39m\u001b[38;5;124mstatus\u001b[39m\u001b[38;5;124m'\u001b[39m: \u001b[38;5;124m'\u001b[39m\u001b[38;5;124msuccess\u001b[39m\u001b[38;5;124m'\u001b[39m,\n\u001b[0;32m     37\u001b[0m     \u001b[38;5;124m'\u001b[39m\u001b[38;5;124mresult\u001b[39m\u001b[38;5;124m'\u001b[39m: result,\n\u001b[0;32m     38\u001b[0m     \u001b[38;5;124m'\u001b[39m\u001b[38;5;124mtraining_time\u001b[39m\u001b[38;5;124m'\u001b[39m: time\u001b[38;5;241m.\u001b[39mtime() \u001b[38;5;241m-\u001b[39m start_time,\n\u001b[0;32m     39\u001b[0m     \u001b[38;5;124m'\u001b[39m\u001b[38;5;124mconfig\u001b[39m\u001b[38;5;124m'\u001b[39m: \u001b[38;5;124m'\u001b[39m\u001b[38;5;124mconfigD\u001b[39m\u001b[38;5;124m'\u001b[39m\n\u001b[0;32m     40\u001b[0m }\n",
      "File \u001b[1;32mc:\\Users\\manue\\Desktop\\manum\\coding\\ChirpID-backend\\utils\\training_core.py:230\u001b[0m, in \u001b[0;36msingle_fold_training\u001b[1;34m(data_path, features, labels, authors, model_class, num_classes, config, use_predefined_split, spec_augment, gaussian_noise, precomputed_split, config_id)\u001b[0m\n\u001b[0;32m    227\u001b[0m         \u001b[38;5;28mprint\u001b[39m(\u001b[38;5;124mf\u001b[39m\u001b[38;5;124m\"\u001b[39m\u001b[38;5;124mTrain samples: \u001b[39m\u001b[38;5;132;01m{\u001b[39;00m\u001b[38;5;28mlen\u001b[39m(train_indices)\u001b[38;5;132;01m}\u001b[39;00m\u001b[38;5;124m, Validation samples: \u001b[39m\u001b[38;5;132;01m{\u001b[39;00m\u001b[38;5;28mlen\u001b[39m(val_indices)\u001b[38;5;132;01m}\u001b[39;00m\u001b[38;5;124m\"\u001b[39m)\n\u001b[0;32m    229\u001b[0m     \u001b[38;5;66;03m# Execute training with predefined split\u001b[39;00m\n\u001b[1;32m--> 230\u001b[0m     results \u001b[38;5;241m=\u001b[39m \u001b[43mengine\u001b[49m\u001b[38;5;241;43m.\u001b[39;49m\u001b[43mrun_single_fold_predefined\u001b[49m\u001b[43m(\u001b[49m\u001b[43mdataset\u001b[49m\u001b[43m,\u001b[49m\u001b[43m \u001b[49m\u001b[43mtrain_indices\u001b[49m\u001b[43m,\u001b[49m\u001b[43m \u001b[49m\u001b[43mval_indices\u001b[49m\u001b[43m)\u001b[49m\n\u001b[0;32m    232\u001b[0m \u001b[38;5;28;01melse\u001b[39;00m:\n\u001b[0;32m    233\u001b[0m     \u001b[38;5;66;03m# Execute training with stratified split\u001b[39;00m\n\u001b[0;32m    234\u001b[0m     results \u001b[38;5;241m=\u001b[39m engine\u001b[38;5;241m.\u001b[39mrun_single_fold_stratified(dataset)        \n",
      "File \u001b[1;32mc:\\Users\\manue\\Desktop\\manum\\coding\\ChirpID-backend\\utils\\training_engine.py:134\u001b[0m, in \u001b[0;36mTrainingEngine.run_single_fold_predefined\u001b[1;34m(self, dataset, train_indices, val_indices)\u001b[0m\n\u001b[0;32m    131\u001b[0m \u001b[38;5;28mprint\u001b[39m(\u001b[38;5;124mf\u001b[39m\u001b[38;5;124m\"\u001b[39m\u001b[38;5;124mTrain size: \u001b[39m\u001b[38;5;132;01m{\u001b[39;00m\u001b[38;5;28mlen\u001b[39m(train_indices)\u001b[38;5;132;01m}\u001b[39;00m\u001b[38;5;124m, Val size: \u001b[39m\u001b[38;5;132;01m{\u001b[39;00m\u001b[38;5;28mlen\u001b[39m(val_indices)\u001b[38;5;132;01m}\u001b[39;00m\u001b[38;5;124m\"\u001b[39m)\n\u001b[0;32m    133\u001b[0m \u001b[38;5;66;03m# Use the existing single fold training logic\u001b[39;00m\n\u001b[1;32m--> 134\u001b[0m \u001b[38;5;28;01mreturn\u001b[39;00m \u001b[38;5;28;43mself\u001b[39;49m\u001b[38;5;241;43m.\u001b[39;49m\u001b[43m_train_single_fold_with_indices\u001b[49m\u001b[43m(\u001b[49m\n\u001b[0;32m    135\u001b[0m \u001b[43m    \u001b[49m\u001b[43mdataset\u001b[49m\u001b[43m,\u001b[49m\u001b[43m \u001b[49m\u001b[43mtrain_indices\u001b[49m\u001b[43m,\u001b[49m\u001b[43m \u001b[49m\u001b[43mval_indices\u001b[49m\u001b[43m,\u001b[49m\u001b[43m \u001b[49m\u001b[43mfold_num\u001b[49m\u001b[38;5;241;43m=\u001b[39;49m\u001b[38;5;241;43m1\u001b[39;49m\n\u001b[0;32m    136\u001b[0m \u001b[43m\u001b[49m\u001b[43m)\u001b[49m\n",
      "File \u001b[1;32mc:\\Users\\manue\\Desktop\\manum\\coding\\ChirpID-backend\\utils\\training_engine.py:197\u001b[0m, in \u001b[0;36mTrainingEngine._train_single_fold_with_indices\u001b[1;34m(self, dataset, train_indices, val_indices, fold_num)\u001b[0m\n\u001b[0;32m    192\u001b[0m model, criterion, optimizer, scheduler \u001b[38;5;241m=\u001b[39m \u001b[38;5;28mself\u001b[39m\u001b[38;5;241m.\u001b[39m_initialize_training_components(\n\u001b[0;32m    193\u001b[0m     train_indices, dataset\n\u001b[0;32m    194\u001b[0m )\n\u001b[0;32m    196\u001b[0m \u001b[38;5;66;03m# Train the model\u001b[39;00m\n\u001b[1;32m--> 197\u001b[0m history \u001b[38;5;241m=\u001b[39m \u001b[38;5;28;43mself\u001b[39;49m\u001b[38;5;241;43m.\u001b[39;49m\u001b[43m_train_model\u001b[49m\u001b[43m(\u001b[49m\n\u001b[0;32m    198\u001b[0m \u001b[43m    \u001b[49m\u001b[43mmodel\u001b[49m\u001b[43m,\u001b[49m\u001b[43m \u001b[49m\u001b[43mtrain_loader\u001b[49m\u001b[43m,\u001b[49m\u001b[43m \u001b[49m\u001b[43mval_loader\u001b[49m\u001b[43m,\u001b[49m\u001b[43m \u001b[49m\u001b[43mcriterion\u001b[49m\u001b[43m,\u001b[49m\u001b[43m \u001b[49m\u001b[43moptimizer\u001b[49m\u001b[43m,\u001b[49m\u001b[43m \u001b[49m\u001b[43mscheduler\u001b[49m\u001b[43m,\u001b[49m\u001b[43m \u001b[49m\u001b[43mfold_num\u001b[49m\n\u001b[0;32m    199\u001b[0m \u001b[43m\u001b[49m\u001b[43m)\u001b[49m\n\u001b[0;32m    201\u001b[0m \u001b[38;5;66;03m# Get validation metrics from best model state (already restored after early stopping)\u001b[39;00m\n\u001b[0;32m    202\u001b[0m \u001b[38;5;66;03m# Note: We validate again to get predictions and confusion matrix from the best model\u001b[39;00m\n\u001b[0;32m    203\u001b[0m current_val_loss, current_val_acc, current_val_f1, val_predictions, val_targets \u001b[38;5;241m=\u001b[39m \u001b[38;5;28mself\u001b[39m\u001b[38;5;241m.\u001b[39m_validate_model(\n\u001b[0;32m    204\u001b[0m     model, val_loader, criterion, return_predictions\u001b[38;5;241m=\u001b[39m\u001b[38;5;28;01mTrue\u001b[39;00m\n\u001b[0;32m    205\u001b[0m )\n",
      "File \u001b[1;32mc:\\Users\\manue\\Desktop\\manum\\coding\\ChirpID-backend\\utils\\training_engine.py:445\u001b[0m, in \u001b[0;36mTrainingEngine._train_model\u001b[1;34m(self, model, train_loader, val_loader, criterion, optimizer, scheduler, fold_num)\u001b[0m\n\u001b[0;32m    441\u001b[0m progress_bar \u001b[38;5;241m=\u001b[39m tqdm(\u001b[38;5;28mrange\u001b[39m(\u001b[38;5;28mself\u001b[39m\u001b[38;5;241m.\u001b[39mconfig[\u001b[38;5;124m'\u001b[39m\u001b[38;5;124mnum_epochs\u001b[39m\u001b[38;5;124m'\u001b[39m]), desc\u001b[38;5;241m=\u001b[39m\u001b[38;5;124mf\u001b[39m\u001b[38;5;124m\"\u001b[39m\u001b[38;5;132;01m{\u001b[39;00mfold_desc\u001b[38;5;132;01m}\u001b[39;00m\u001b[38;5;124m\"\u001b[39m)\n\u001b[0;32m    443\u001b[0m \u001b[38;5;28;01mfor\u001b[39;00m epoch \u001b[38;5;129;01min\u001b[39;00m progress_bar:\n\u001b[0;32m    444\u001b[0m     \u001b[38;5;66;03m# Training phase\u001b[39;00m\n\u001b[1;32m--> 445\u001b[0m     train_loss, train_acc, train_f1 \u001b[38;5;241m=\u001b[39m \u001b[38;5;28;43mself\u001b[39;49m\u001b[38;5;241;43m.\u001b[39;49m\u001b[43m_train_epoch\u001b[49m\u001b[43m(\u001b[49m\n\u001b[0;32m    446\u001b[0m \u001b[43m        \u001b[49m\u001b[43mmodel\u001b[49m\u001b[43m,\u001b[49m\u001b[43m \u001b[49m\u001b[43mtrain_loader\u001b[49m\u001b[43m,\u001b[49m\u001b[43m \u001b[49m\u001b[43mcriterion\u001b[49m\u001b[43m,\u001b[49m\u001b[43m \u001b[49m\u001b[43moptimizer\u001b[49m\n\u001b[0;32m    447\u001b[0m \u001b[43m    \u001b[49m\u001b[43m)\u001b[49m\n\u001b[0;32m    449\u001b[0m     \u001b[38;5;66;03m# Validation phase\u001b[39;00m\n\u001b[0;32m    450\u001b[0m     val_loss, val_acc, val_f1 \u001b[38;5;241m=\u001b[39m \u001b[38;5;28mself\u001b[39m\u001b[38;5;241m.\u001b[39m_validate_model(\n\u001b[0;32m    451\u001b[0m         model, val_loader, criterion\n\u001b[0;32m    452\u001b[0m     )\n",
      "File \u001b[1;32mc:\\Users\\manue\\Desktop\\manum\\coding\\ChirpID-backend\\utils\\training_engine.py:546\u001b[0m, in \u001b[0;36mTrainingEngine._train_epoch\u001b[1;34m(self, model, train_loader, criterion, optimizer)\u001b[0m\n\u001b[0;32m    543\u001b[0m \u001b[38;5;28;01mif\u001b[39;00m use_amp \u001b[38;5;129;01mand\u001b[39;00m scaler \u001b[38;5;129;01mis\u001b[39;00m \u001b[38;5;129;01mnot\u001b[39;00m \u001b[38;5;28;01mNone\u001b[39;00m:\n\u001b[0;32m    544\u001b[0m     \u001b[38;5;66;03m# Mixed precision forward pass\u001b[39;00m\n\u001b[0;32m    545\u001b[0m     \u001b[38;5;28;01mwith\u001b[39;00m torch\u001b[38;5;241m.\u001b[39mamp\u001b[38;5;241m.\u001b[39mautocast(device_type\u001b[38;5;241m=\u001b[39m\u001b[38;5;124m'\u001b[39m\u001b[38;5;124mcuda\u001b[39m\u001b[38;5;124m'\u001b[39m):\n\u001b[1;32m--> 546\u001b[0m         outputs \u001b[38;5;241m=\u001b[39m \u001b[43mmodel\u001b[49m\u001b[43m(\u001b[49m\u001b[43mX_batch\u001b[49m\u001b[43m)\u001b[49m\n\u001b[0;32m    547\u001b[0m         loss \u001b[38;5;241m=\u001b[39m criterion(outputs, y_batch)\n\u001b[0;32m    549\u001b[0m     \u001b[38;5;66;03m# Mixed precision backward pass\u001b[39;00m\n",
      "File \u001b[1;32mc:\\Users\\manue\\miniconda3\\envs\\birds\\Lib\\site-packages\\torch\\nn\\modules\\module.py:1751\u001b[0m, in \u001b[0;36mModule._wrapped_call_impl\u001b[1;34m(self, *args, **kwargs)\u001b[0m\n\u001b[0;32m   1749\u001b[0m     \u001b[38;5;28;01mreturn\u001b[39;00m \u001b[38;5;28mself\u001b[39m\u001b[38;5;241m.\u001b[39m_compiled_call_impl(\u001b[38;5;241m*\u001b[39margs, \u001b[38;5;241m*\u001b[39m\u001b[38;5;241m*\u001b[39mkwargs)  \u001b[38;5;66;03m# type: ignore[misc]\u001b[39;00m\n\u001b[0;32m   1750\u001b[0m \u001b[38;5;28;01melse\u001b[39;00m:\n\u001b[1;32m-> 1751\u001b[0m     \u001b[38;5;28;01mreturn\u001b[39;00m \u001b[38;5;28;43mself\u001b[39;49m\u001b[38;5;241;43m.\u001b[39;49m\u001b[43m_call_impl\u001b[49m\u001b[43m(\u001b[49m\u001b[38;5;241;43m*\u001b[39;49m\u001b[43margs\u001b[49m\u001b[43m,\u001b[49m\u001b[43m \u001b[49m\u001b[38;5;241;43m*\u001b[39;49m\u001b[38;5;241;43m*\u001b[39;49m\u001b[43mkwargs\u001b[49m\u001b[43m)\u001b[49m\n",
      "File \u001b[1;32mc:\\Users\\manue\\miniconda3\\envs\\birds\\Lib\\site-packages\\torch\\nn\\modules\\module.py:1762\u001b[0m, in \u001b[0;36mModule._call_impl\u001b[1;34m(self, *args, **kwargs)\u001b[0m\n\u001b[0;32m   1757\u001b[0m \u001b[38;5;66;03m# If we don't have any hooks, we want to skip the rest of the logic in\u001b[39;00m\n\u001b[0;32m   1758\u001b[0m \u001b[38;5;66;03m# this function, and just call forward.\u001b[39;00m\n\u001b[0;32m   1759\u001b[0m \u001b[38;5;28;01mif\u001b[39;00m \u001b[38;5;129;01mnot\u001b[39;00m (\u001b[38;5;28mself\u001b[39m\u001b[38;5;241m.\u001b[39m_backward_hooks \u001b[38;5;129;01mor\u001b[39;00m \u001b[38;5;28mself\u001b[39m\u001b[38;5;241m.\u001b[39m_backward_pre_hooks \u001b[38;5;129;01mor\u001b[39;00m \u001b[38;5;28mself\u001b[39m\u001b[38;5;241m.\u001b[39m_forward_hooks \u001b[38;5;129;01mor\u001b[39;00m \u001b[38;5;28mself\u001b[39m\u001b[38;5;241m.\u001b[39m_forward_pre_hooks\n\u001b[0;32m   1760\u001b[0m         \u001b[38;5;129;01mor\u001b[39;00m _global_backward_pre_hooks \u001b[38;5;129;01mor\u001b[39;00m _global_backward_hooks\n\u001b[0;32m   1761\u001b[0m         \u001b[38;5;129;01mor\u001b[39;00m _global_forward_hooks \u001b[38;5;129;01mor\u001b[39;00m _global_forward_pre_hooks):\n\u001b[1;32m-> 1762\u001b[0m     \u001b[38;5;28;01mreturn\u001b[39;00m \u001b[43mforward_call\u001b[49m\u001b[43m(\u001b[49m\u001b[38;5;241;43m*\u001b[39;49m\u001b[43margs\u001b[49m\u001b[43m,\u001b[49m\u001b[43m \u001b[49m\u001b[38;5;241;43m*\u001b[39;49m\u001b[38;5;241;43m*\u001b[39;49m\u001b[43mkwargs\u001b[49m\u001b[43m)\u001b[49m\n\u001b[0;32m   1764\u001b[0m result \u001b[38;5;241m=\u001b[39m \u001b[38;5;28;01mNone\u001b[39;00m\n\u001b[0;32m   1765\u001b[0m called_always_called_hooks \u001b[38;5;241m=\u001b[39m \u001b[38;5;28mset\u001b[39m()\n",
      "File \u001b[1;32mc:\\Users\\manue\\Desktop\\manum\\coding\\ChirpID-backend\\utils\\final_models.py:1142\u001b[0m, in \u001b[0;36mBirdCNN_v7c.forward\u001b[1;34m(self, x)\u001b[0m\n\u001b[0;32m   1140\u001b[0m x \u001b[38;5;241m=\u001b[39m \u001b[38;5;28mself\u001b[39m\u001b[38;5;241m.\u001b[39mdense2(x)\n\u001b[0;32m   1141\u001b[0m x \u001b[38;5;241m=\u001b[39m \u001b[38;5;28mself\u001b[39m\u001b[38;5;241m.\u001b[39mtrans2(x)\n\u001b[1;32m-> 1142\u001b[0m x \u001b[38;5;241m=\u001b[39m \u001b[38;5;28;43mself\u001b[39;49m\u001b[38;5;241;43m.\u001b[39;49m\u001b[43mdense3\u001b[49m\u001b[43m(\u001b[49m\u001b[43mx\u001b[49m\u001b[43m)\u001b[49m\n\u001b[0;32m   1143\u001b[0m x \u001b[38;5;241m=\u001b[39m \u001b[38;5;28mself\u001b[39m\u001b[38;5;241m.\u001b[39mtrans3(x)\n\u001b[0;32m   1144\u001b[0m x \u001b[38;5;241m=\u001b[39m \u001b[38;5;28mself\u001b[39m\u001b[38;5;241m.\u001b[39mdense4(x)\n",
      "File \u001b[1;32mc:\\Users\\manue\\miniconda3\\envs\\birds\\Lib\\site-packages\\torch\\nn\\modules\\module.py:1751\u001b[0m, in \u001b[0;36mModule._wrapped_call_impl\u001b[1;34m(self, *args, **kwargs)\u001b[0m\n\u001b[0;32m   1749\u001b[0m     \u001b[38;5;28;01mreturn\u001b[39;00m \u001b[38;5;28mself\u001b[39m\u001b[38;5;241m.\u001b[39m_compiled_call_impl(\u001b[38;5;241m*\u001b[39margs, \u001b[38;5;241m*\u001b[39m\u001b[38;5;241m*\u001b[39mkwargs)  \u001b[38;5;66;03m# type: ignore[misc]\u001b[39;00m\n\u001b[0;32m   1750\u001b[0m \u001b[38;5;28;01melse\u001b[39;00m:\n\u001b[1;32m-> 1751\u001b[0m     \u001b[38;5;28;01mreturn\u001b[39;00m \u001b[38;5;28;43mself\u001b[39;49m\u001b[38;5;241;43m.\u001b[39;49m\u001b[43m_call_impl\u001b[49m\u001b[43m(\u001b[49m\u001b[38;5;241;43m*\u001b[39;49m\u001b[43margs\u001b[49m\u001b[43m,\u001b[49m\u001b[43m \u001b[49m\u001b[38;5;241;43m*\u001b[39;49m\u001b[38;5;241;43m*\u001b[39;49m\u001b[43mkwargs\u001b[49m\u001b[43m)\u001b[49m\n",
      "File \u001b[1;32mc:\\Users\\manue\\miniconda3\\envs\\birds\\Lib\\site-packages\\torch\\nn\\modules\\module.py:1762\u001b[0m, in \u001b[0;36mModule._call_impl\u001b[1;34m(self, *args, **kwargs)\u001b[0m\n\u001b[0;32m   1757\u001b[0m \u001b[38;5;66;03m# If we don't have any hooks, we want to skip the rest of the logic in\u001b[39;00m\n\u001b[0;32m   1758\u001b[0m \u001b[38;5;66;03m# this function, and just call forward.\u001b[39;00m\n\u001b[0;32m   1759\u001b[0m \u001b[38;5;28;01mif\u001b[39;00m \u001b[38;5;129;01mnot\u001b[39;00m (\u001b[38;5;28mself\u001b[39m\u001b[38;5;241m.\u001b[39m_backward_hooks \u001b[38;5;129;01mor\u001b[39;00m \u001b[38;5;28mself\u001b[39m\u001b[38;5;241m.\u001b[39m_backward_pre_hooks \u001b[38;5;129;01mor\u001b[39;00m \u001b[38;5;28mself\u001b[39m\u001b[38;5;241m.\u001b[39m_forward_hooks \u001b[38;5;129;01mor\u001b[39;00m \u001b[38;5;28mself\u001b[39m\u001b[38;5;241m.\u001b[39m_forward_pre_hooks\n\u001b[0;32m   1760\u001b[0m         \u001b[38;5;129;01mor\u001b[39;00m _global_backward_pre_hooks \u001b[38;5;129;01mor\u001b[39;00m _global_backward_hooks\n\u001b[0;32m   1761\u001b[0m         \u001b[38;5;129;01mor\u001b[39;00m _global_forward_hooks \u001b[38;5;129;01mor\u001b[39;00m _global_forward_pre_hooks):\n\u001b[1;32m-> 1762\u001b[0m     \u001b[38;5;28;01mreturn\u001b[39;00m \u001b[43mforward_call\u001b[49m\u001b[43m(\u001b[49m\u001b[38;5;241;43m*\u001b[39;49m\u001b[43margs\u001b[49m\u001b[43m,\u001b[49m\u001b[43m \u001b[49m\u001b[38;5;241;43m*\u001b[39;49m\u001b[38;5;241;43m*\u001b[39;49m\u001b[43mkwargs\u001b[49m\u001b[43m)\u001b[49m\n\u001b[0;32m   1764\u001b[0m result \u001b[38;5;241m=\u001b[39m \u001b[38;5;28;01mNone\u001b[39;00m\n\u001b[0;32m   1765\u001b[0m called_always_called_hooks \u001b[38;5;241m=\u001b[39m \u001b[38;5;28mset\u001b[39m()\n",
      "File \u001b[1;32mc:\\Users\\manue\\Desktop\\manum\\coding\\ChirpID-backend\\utils\\final_models.py:396\u001b[0m, in \u001b[0;36mDenseBlock.forward\u001b[1;34m(self, x)\u001b[0m\n\u001b[0;32m    394\u001b[0m     new_feature \u001b[38;5;241m=\u001b[39m layer(torch\u001b[38;5;241m.\u001b[39mcat(features, \u001b[38;5;241m1\u001b[39m))\n\u001b[0;32m    395\u001b[0m     features\u001b[38;5;241m.\u001b[39mappend(new_feature)\n\u001b[1;32m--> 396\u001b[0m \u001b[38;5;28;01mreturn\u001b[39;00m \u001b[43mtorch\u001b[49m\u001b[38;5;241;43m.\u001b[39;49m\u001b[43mcat\u001b[49m\u001b[43m(\u001b[49m\u001b[43mfeatures\u001b[49m\u001b[43m,\u001b[49m\u001b[43m \u001b[49m\u001b[38;5;241;43m1\u001b[39;49m\u001b[43m)\u001b[49m\n",
      "\u001b[1;31mKeyboardInterrupt\u001b[0m: "
     ]
    }
   ],
   "source": [
    "# === CONFIG D TRAINING: Balanced Classes AdamW ===\n",
    "print(\"=\"*80)\n",
    "\n",
    "config_d = configurations['configD']\n",
    "config_d_results = {}\n",
    "\n",
    "for model_name, model_class in model_architectures.items():\n",
    "    try:\n",
    "        print(f\"\\n{'='*50}\")\n",
    "        print(f\"Training {model_name} with Config D\")\n",
    "        print(f\"{'='*50}\")\n",
    "        \n",
    "        start_time = time.time()\n",
    "        \n",
    "        # Create model instance\n",
    "        model = model_class(num_classes=class_num)\n",
    "        \n",
    "        # Run single fold training\n",
    "        result = single_fold_training(\n",
    "            features=features,\n",
    "            labels=labels,\n",
    "            authors=authors,\n",
    "            model_class=model_class,\n",
    "            num_classes=class_num,\n",
    "            config=config_d,\n",
    "            spec_augment=config_d['spec_augment'],\n",
    "            gaussian_noise=config_d['noise_augment'],\n",
    "            precomputed_split=single_fold_split,  # Use pre-computed single fold split\n",
    "            config_id=\"Config D\"  # Pass config_id for progress bar\n",
    "        )\n",
    "        \n",
    "        # Store result\n",
    "        config_d_results[model_name] = {\n",
    "            'status': 'success',\n",
    "            'result': result,\n",
    "            'training_time': time.time() - start_time,\n",
    "            'config': 'configD'\n",
    "        }\n",
    "        \n",
    "        # Store in global results\n",
    "        building_results[f\"{model_name}_configD\"] = config_d_results[model_name]\n",
    "        \n",
    "        print(f\"✅ {model_name} completed successfully!\")\n",
    "        print(f\"   Best Val Acc: {result.get('best_val_acc', 0):.4f}\")\n",
    "        print(f\"   Best Val F1: {result.get('best_val_f1', 0):.4f}\")\n",
    "        print(f\"   Training time: {config_d_results[model_name]['training_time']:.1f}s\")\n",
    "        \n",
    "    except Exception as e:\n",
    "        print(f\"❌ {model_name} failed: {str(e)}\")\n",
    "        config_d_results[model_name] = {\n",
    "            'status': 'failed',\n",
    "            'error': str(e),\n",
    "            'config': 'configD'\n",
    "        }\n",
    "        building_results[f\"{model_name}_configD\"] = config_d_results[model_name]\n",
    "\n",
    "print(f\"\\n{'='*60}\")\n",
    "print(\"CONFIG D TRAINING COMPLETED\")\n",
    "successful_d = sum(1 for result in config_d_results.values() if result['status'] == 'success')\n",
    "print(f\"Successful models: {successful_d}/{len(model_architectures)}\")\n",
    "print(f\"{'='*60}\")"
   ]
  },
  {
   "cell_type": "code",
   "execution_count": 8,
   "id": "7a86576d",
   "metadata": {},
   "outputs": [
    {
     "name": "stdout",
     "output_type": "stream",
     "text": [
      "================================================================================\n",
      "\n",
      "==================================================\n",
      "Training BirdCNN_v7d with Config D\n",
      "==================================================\n",
      "Train size: 2328, Val size: 657\n"
     ]
    },
    {
     "name": "stderr",
     "output_type": "stream",
     "text": [
      "Config: Config D | TrLoss: 0.1553 | TrAcc: 0.9604 | ValLoss: 2.4845 | ValAcc: 0.4432:  30%|██▉       | 95/320 [06:46<16:01,  4.27s/it]\n"
     ]
    },
    {
     "name": "stdout",
     "output_type": "stream",
     "text": [
      "Early stopped after 95 epochs (best at epoch 51)\n",
      "Best - Val Acc: 0.6266, Val F1: 0.6006\n",
      "✅ BirdCNN_v7d completed successfully!\n",
      "   Best Val Acc: 0.6266\n",
      "   Best Val F1: 0.6006\n",
      "   Training time: 408.7s\n",
      "\n",
      "==================================================\n",
      "Training BirdCNN_v7e with Config D\n",
      "==================================================\n",
      "Train size: 2328, Val size: 657\n"
     ]
    },
    {
     "name": "stderr",
     "output_type": "stream",
     "text": [
      "Config: Config D | TrLoss: 0.2463 | TrAcc: 0.9368 | ValLoss: 2.6806 | ValAcc: 0.4529:  33%|███▎      | 105/320 [13:26<27:30,  7.68s/it] \n"
     ]
    },
    {
     "name": "stdout",
     "output_type": "stream",
     "text": [
      "Early stopped after 105 epochs (best at epoch 61)\n",
      "Best - Val Acc: 0.6461, Val F1: 0.6235\n",
      "✅ BirdCNN_v7e completed successfully!\n",
      "   Best Val Acc: 0.6461\n",
      "   Best Val F1: 0.6235\n",
      "   Training time: 810.0s\n",
      "\n",
      "============================================================\n",
      "CONFIG D TRAINING COMPLETED\n",
      "Successful models: 2/2\n",
      "============================================================\n"
     ]
    }
   ],
   "source": [
    "# error de memoria, me faltaron correr 3\n",
    "last_model_architectures = {\n",
    "    'BirdCNN_v7d': BirdCNN_v7d,\n",
    "    'BirdCNN_v7e': BirdCNN_v7e,\n",
    "}\n",
    "\n",
    "print(\"=\"*80)\n",
    "\n",
    "config_d = configurations['configD']\n",
    "config_d_results = {}\n",
    "\n",
    "for model_name, model_class in last_model_architectures.items():\n",
    "    try:\n",
    "        print(f\"\\n{'='*50}\")\n",
    "        print(f\"Training {model_name} with Config D\")\n",
    "        print(f\"{'='*50}\")\n",
    "        \n",
    "        start_time = time.time()\n",
    "        \n",
    "        # Create model instance\n",
    "        model = model_class(num_classes=class_num)\n",
    "        \n",
    "        # Run single fold training\n",
    "        result = single_fold_training(\n",
    "            features=features,\n",
    "            labels=labels,\n",
    "            authors=authors,\n",
    "            model_class=model_class,\n",
    "            num_classes=class_num,\n",
    "            config=config_d,\n",
    "            spec_augment=config_d['spec_augment'],\n",
    "            gaussian_noise=config_d['noise_augment'],\n",
    "            precomputed_split=single_fold_split,  # Use pre-computed single fold split\n",
    "            config_id=\"Config D\"  # Pass config_id for progress bar\n",
    "        )\n",
    "        \n",
    "        # Store result\n",
    "        config_d_results[model_name] = {\n",
    "            'status': 'success',\n",
    "            'result': result,\n",
    "            'training_time': time.time() - start_time,\n",
    "            'config': 'configD'\n",
    "        }\n",
    "        \n",
    "        # Store in global results\n",
    "        building_results[f\"{model_name}_configD\"] = config_d_results[model_name]\n",
    "        \n",
    "        print(f\"✅ {model_name} completed successfully!\")\n",
    "        print(f\"   Best Val Acc: {result.get('best_val_acc', 0):.4f}\")\n",
    "        print(f\"   Best Val F1: {result.get('best_val_f1', 0):.4f}\")\n",
    "        print(f\"   Training time: {config_d_results[model_name]['training_time']:.1f}s\")\n",
    "        \n",
    "    except Exception as e:\n",
    "        print(f\"❌ {model_name} failed: {str(e)}\")\n",
    "        config_d_results[model_name] = {\n",
    "            'status': 'failed',\n",
    "            'error': str(e),\n",
    "            'config': 'configD'\n",
    "        }\n",
    "        building_results[f\"{model_name}_configD\"] = config_d_results[model_name]\n",
    "\n",
    "print(f\"\\n{'='*60}\")\n",
    "print(\"CONFIG D TRAINING COMPLETED\")\n",
    "successful_d = sum(1 for result in config_d_results.values() if result['status'] == 'success')\n",
    "print(f\"Successful models: {successful_d}/{len(last_model_architectures)}\")\n",
    "print(f\"{'='*60}\")"
   ]
  },
  {
   "cell_type": "markdown",
   "id": "1027a62e",
   "metadata": {},
   "source": [
    "## Results"
   ]
  },
  {
   "cell_type": "code",
   "execution_count": null,
   "id": "790be2dc",
   "metadata": {},
   "outputs": [],
   "source": [
    "# Results plotting - Training metrics for all successful model-config combinations\n",
    "print(\"=\"*80)\n",
    "print(\"PLOTTING TRAINING METRICS\")\n",
    "print(\"=\"*80)\n",
    "\n",
    "# Plot training metrics for all successful configurations\n",
    "successful_results = []\n",
    "for config_id, data in building_results.items():\n",
    "    if data['status'] == 'success' and 'result' in data:\n",
    "        result = data['result']\n",
    "        try:\n",
    "            plot_metrics(config_id, result)\n",
    "            successful_results.append((config_id, result))\n",
    "            print(f\"✅ Plotted metrics for {config_id}\")\n",
    "        except Exception as e:\n",
    "            print(f\"❌ Failed to plot {config_id}: {str(e)}\")\n",
    "\n",
    "print(f\"\\nSuccessfully plotted metrics for {len(successful_results)} model-config combinations\")\n",
    "print(\"=\"*80)"
   ]
  },
  {
   "cell_type": "code",
   "execution_count": 13,
   "id": "6aa4df74",
   "metadata": {},
   "outputs": [
    {
     "name": "stdout",
     "output_type": "stream",
     "text": [
      "================================================================================\n",
      "BUILDING RESULTS TABLE\n",
      "================================================================================\n",
      "MODEL BUILDING RESULTS TABLE (sorted by Best Val F1)\n",
      "====================================================================================================\n",
      "      model  config           config_id  best_val_acc  best_val_f1  training_time\n",
      " BirdCNN_v5 configD  BirdCNN_v5_configD        0.6818       0.6595       492.9465\n",
      "BirdCNN_v5c configC BirdCNN_v5c_configC        0.6476       0.6366       460.7098\n",
      " BirdCNN_v7 configA  BirdCNN_v7_configA        0.6476       0.6271       599.4630\n",
      "BirdCNN_v7b configB BirdCNN_v7b_configB        0.6250       0.6180       304.4843\n",
      "BirdCNN_v7e configB BirdCNN_v7e_configB        0.6410       0.6167       956.2703\n",
      " BirdCNN_v5 configA  BirdCNN_v5_configA        0.6254       0.6144       176.5352\n",
      "BirdCNN_v7b configC BirdCNN_v7b_configC        0.6317       0.6140       343.8936\n",
      " BirdCNN_v7 configD  BirdCNN_v7_configD        0.6380       0.6134      1036.3363\n",
      "BirdCNN_v5b configC BirdCNN_v5b_configC        0.6270       0.6121       174.9181\n",
      "BirdCNN_v7d configC BirdCNN_v7d_configC        0.6365       0.6119       531.2924\n",
      "BirdCNN_v7c configA BirdCNN_v7c_configA        0.6159       0.6047       778.0543\n",
      "BirdCNN_v7d configB BirdCNN_v7d_configB        0.6330       0.6038       531.3934\n",
      " BirdCNN_v7 configB  BirdCNN_v7_configB        0.6330       0.6017       572.6993\n",
      "BirdCNN_v7c configB BirdCNN_v7c_configB        0.6106       0.5977      1062.6326\n",
      "BirdCNN_v7d configA BirdCNN_v7d_configA        0.6190       0.5941       519.7107\n",
      "BirdCNN_v7e configA BirdCNN_v7e_configA        0.5952       0.5923       647.2899\n",
      "BirdCNN_v7b configA BirdCNN_v7b_configA        0.5984       0.5880       252.3037\n",
      "BirdCNN_v5d configB BirdCNN_v5d_configB        0.6154       0.5867       171.3900\n",
      "BirdCNN_v7c configC BirdCNN_v7c_configC        0.5952       0.5858       923.3213\n",
      " BirdCNN_v7 configC  BirdCNN_v7_configC        0.6063       0.5853       634.0283\n",
      "BirdCNN_v7b configD BirdCNN_v7b_configD        0.6266       0.5849       703.1881\n",
      "BirdCNN_v7e configC BirdCNN_v7e_configC        0.6175       0.5833       672.1513\n",
      "BirdCNN_v5b configA BirdCNN_v5b_configA        0.6000       0.5807       206.5805\n",
      "BirdCNN_v5d configD BirdCNN_v5d_configD        0.6153       0.5794       187.6363\n",
      " BirdCNN_v5 configC  BirdCNN_v5_configC        0.5937       0.5755       128.7333\n",
      "BirdCNN_v5b configD BirdCNN_v5b_configD        0.5909       0.5698       221.1433\n",
      "BirdCNN_v5c configD BirdCNN_v5c_configD        0.5877       0.5658       309.0666\n",
      "BirdCNN_v5b configB BirdCNN_v5b_configB        0.5913       0.5632       221.5011\n",
      "BirdCNN_v5d configA BirdCNN_v5d_configA        0.5841       0.5624       284.5520\n",
      "BirdCNN_v5c configA BirdCNN_v5c_configA        0.5698       0.5597       269.1660\n",
      " BirdCNN_v5 configB  BirdCNN_v5_configB        0.5689       0.5556       298.5864\n",
      "BirdCNN_v5c configB BirdCNN_v5c_configB        0.5705       0.5521       293.4253\n",
      "BirdCNN_v5d configC BirdCNN_v5d_configC        0.5556       0.5408       130.6405\n",
      "\n",
      "============================================================\n",
      "SUMMARY STATISTICS\n",
      "============================================================\n",
      "Total successful runs: 33\n",
      "Best F1 score: 0.6595 (BirdCNN_v5_configD)\n",
      "Best accuracy: 0.6818 (BirdCNN_v5_configD)\n",
      "Average F1 score: 0.5920\n",
      "Average accuracy: 0.6120\n",
      "Total training time: 4.19 hours\n",
      "\n",
      "TOP 5 MODELS BY F1 SCORE:\n",
      "      model  config  best_val_f1  best_val_acc\n",
      " BirdCNN_v5 configD       0.6595        0.6818\n",
      "BirdCNN_v5c configC       0.6366        0.6476\n",
      " BirdCNN_v7 configA       0.6271        0.6476\n",
      "BirdCNN_v7b configB       0.6180        0.6250\n",
      "BirdCNN_v7e configB       0.6167        0.6410\n",
      "================================================================================\n"
     ]
    }
   ],
   "source": [
    "# Results table display - Comprehensive results for all model-config combinations\n",
    "print(\"=\"*80)\n",
    "print(\"BUILDING RESULTS TABLE\")\n",
    "print(\"=\"*80)\n",
    "\n",
    "# Create comprehensive results table\n",
    "table_data = []\n",
    "for config_id, data in building_results.items():\n",
    "    if data['status'] == 'success' and 'result' in data:\n",
    "        result = data['result']\n",
    "        \n",
    "        # Parse model name and config\n",
    "        parts = config_id.split('_config')\n",
    "        model_name = parts[0]\n",
    "        config_name = 'config' + parts[1] if len(parts) > 1 else 'unknown'\n",
    "        \n",
    "        table_data.append({\n",
    "            'model': model_name,\n",
    "            'config': config_name,\n",
    "            'config_id': config_id,\n",
    "            'best_val_acc': result.get('best_val_acc', 0),\n",
    "            'best_val_f1': result.get('best_val_f1', 0),\n",
    "            'training_time': data.get('training_time', 0)\n",
    "        })\n",
    "\n",
    "# Create DataFrame and sort by best_val_f1 (descending)\n",
    "if table_data:\n",
    "    results_table = pd.DataFrame(table_data)\n",
    "    results_table = results_table.sort_values('best_val_f1', ascending=False)\n",
    "\n",
    "    print(\"MODEL BUILDING RESULTS TABLE (sorted by Best Val F1)\")\n",
    "    print(\"=\" * 100)\n",
    "    print(results_table.to_string(index=False, float_format='%.4f'))\n",
    "    \n",
    "    # Summary statistics\n",
    "    print(f\"\\n{'='*60}\")\n",
    "    print(\"SUMMARY STATISTICS\")\n",
    "    print(f\"{'='*60}\")\n",
    "    print(f\"Total successful runs: {len(results_table)}\")\n",
    "    print(f\"Best F1 score: {results_table['best_val_f1'].max():.4f} ({results_table.loc[results_table['best_val_f1'].idxmax(), 'config_id']})\")\n",
    "    print(f\"Best accuracy: {results_table['best_val_acc'].max():.4f} ({results_table.loc[results_table['best_val_acc'].idxmax(), 'config_id']})\")\n",
    "    print(f\"Average F1 score: {results_table['best_val_f1'].mean():.4f}\")\n",
    "    print(f\"Average accuracy: {results_table['best_val_acc'].mean():.4f}\")\n",
    "    print(f\"Total training time: {results_table['training_time'].sum()/3600:.2f} hours\")\n",
    "    \n",
    "    # Top 5 models by F1\n",
    "    print(f\"\\nTOP 5 MODELS BY F1 SCORE:\")\n",
    "    top_5 = results_table.head(5)[['model', 'config', 'best_val_f1', 'best_val_acc']]\n",
    "    print(top_5.to_string(index=False, float_format='%.4f'))\n",
    "    \n",
    "else:\n",
    "    print(\"No successful results found to display.\")\n",
    "\n",
    "print(\"=\"*80)"
   ]
  },
  {
   "cell_type": "code",
   "execution_count": 16,
   "id": "4fccbea1",
   "metadata": {},
   "outputs": [
    {
     "name": "stdout",
     "output_type": "stream",
     "text": [
      "================================================================================\n",
      "CREATING ARCHITECTURE COMPARISON PLOTS\n",
      "================================================================================\n"
     ]
    },
    {
     "data": {
      "image/png": "[encoded data removed]",
      "text/plain": [
       "<Figure size 2000x1600 with 9 Axes>"
      ]
     },
     "metadata": {},
     "output_type": "display_data"
    }
   ],
   "source": [
    "# 4x4 plot grid: F1 scores for each architecture across all configs + highest F1\n",
    "print(\"=\"*80)\n",
    "print(\"CREATING ARCHITECTURE COMPARISON PLOTS\")\n",
    "print(\"=\"*80)\n",
    "\n",
    "# Prepare data for plotting\n",
    "models_f1_data = {}\n",
    "configs = ['configA', 'configB', 'configC', 'configD']\n",
    "\n",
    "for model_name in model_architectures.keys():\n",
    "    models_f1_data[model_name] = {\n",
    "        'configA': 0,\n",
    "        'configB': 0, \n",
    "        'configC': 0,\n",
    "        'configD': 0,\n",
    "        'max_f1': 0\n",
    "    }\n",
    "    \n",
    "    # Extract F1 scores for each config\n",
    "    for config in configs:\n",
    "        key = f\"{model_name}_{config}\"\n",
    "        if key in building_results and building_results[key]['status'] == 'success':\n",
    "            f1_score = building_results[key]['result'].get('best_val_f1', 0)\n",
    "            models_f1_data[model_name][config] = f1_score\n",
    "    \n",
    "    # Calculate max F1 across all configs\n",
    "    config_f1s = [models_f1_data[model_name][config] for config in configs]\n",
    "    models_f1_data[model_name]['max_f1'] = max(config_f1s)\n",
    "\n",
    "# Create 4x4 subplot grid\n",
    "fig, axes = plt.subplots(3, 3, figsize=(20, 16))\n",
    "fig.suptitle('Model Architecture Performance Comparison\\n(F1 Scores Across Configurations)', \n",
    "            fontsize=16, fontweight='bold')\n",
    "\n",
    "model_names = list(model_architectures.keys())\n",
    "\n",
    "for i, model_name in enumerate(model_names):\n",
    "    row = i // 3\n",
    "    col = i % 3\n",
    "    ax = axes[row, col]\n",
    "    \n",
    "    # Data for this model\n",
    "    data = models_f1_data[model_name]\n",
    "    \n",
    "    # Create bar plot with 5 bars: 4 configs + max\n",
    "    categories = ['A', 'B', 'C', 'D']\n",
    "    values = [data['configA'], data['configB'], data['configC'], data['configD']]\n",
    "    colors = ['skyblue', 'lightgreen', 'orange', 'lightcoral']\n",
    "    \n",
    "    bars = ax.bar(categories, values, color=colors, alpha=0.8, edgecolor='black', linewidth=0.5)\n",
    "    \n",
    "    # Customize subplot\n",
    "    ax.set_title(f'{model_name}', fontweight='bold', fontsize=10)\n",
    "    ax.set_ylabel('F1 Score', fontsize=8)\n",
    "    ax.set_ylim(0, max(1.0, max(values) * 1.1))\n",
    "    ax.grid(axis='y', alpha=0.3)\n",
    "    ax.tick_params(axis='x', labelsize=8)\n",
    "    ax.tick_params(axis='y', labelsize=8)\n",
    "    \n",
    "    # Add value labels on bars\n",
    "    for bar, value in zip(bars, values):\n",
    "        if value > 0:\n",
    "            ax.text(bar.get_x() + bar.get_width()/2, bar.get_height() + 0.01,\n",
    "                    f'{value:.3f}', ha='center', va='bottom', fontsize=7, fontweight='bold')\n",
    "    \n",
    "    # Highlight the best performing config\n",
    "    if data['max_f1'] > 0:\n",
    "        best_config_idx = values.index(data['max_f1'])  # Exclude 'Max' from search\n",
    "        bars[best_config_idx].set_edgecolor('red')\n",
    "        bars[best_config_idx].set_linewidth(2)\n",
    "\n",
    "plt.tight_layout()\n",
    "plt.subplots_adjust(top=0.93)\n",
    "plt.show()"
   ]
  }
 ],
 "metadata": {
  "kernelspec": {
   "display_name": "birds",
   "language": "python",
   "name": "python3"
  },
  "language_info": {
   "codemirror_mode": {
    "name": "ipython",
    "version": 3
   },
   "file_extension": ".py",
   "mimetype": "text/x-python",
   "name": "python",
   "nbconvert_exporter": "python",
   "pygments_lexer": "ipython3",
   "version": "3.13.4"
  }
 },
 "nbformat": 4,
 "nbformat_minor": 5
}
