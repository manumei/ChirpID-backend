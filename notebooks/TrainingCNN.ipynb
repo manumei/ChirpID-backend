{
 "cells": [
  {
   "cell_type": "markdown",
   "id": "078545a6",
   "metadata": {},
   "source": [
    "Here train the final model with cross validation and show the metrics. Once the final configuration and architecture is defined."
   ]
  },
  {
   "cell_type": "code",
   "execution_count": null,
   "id": "2798914f",
   "metadata": {},
   "outputs": [],
   "source": [
    "..."
   ]
  }
 ],
 "metadata": {
  "kernelspec": {
   "display_name": "birds",
   "language": "python",
   "name": "python3"
  },
  "language_info": {
   "codemirror_mode": {
    "name": "ipython",
    "version": 3
   },
   "file_extension": ".py",
   "mimetype": "text/x-python",
   "name": "python",
   "nbconvert_exporter": "python",
   "pygments_lexer": "ipython3",
   "version": "3.13.4"
  }
 },
 "nbformat": 4,
 "nbformat_minor": 5
}
