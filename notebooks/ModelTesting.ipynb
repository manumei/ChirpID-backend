{
 "cells": [
  {
   "cell_type": "markdown",
   "id": "f2dba602",
   "metadata": {},
   "source": [
    "este testea, sin re-entrenar, just con los pesos guardados del modelo after training"
   ]
  },
  {
   "cell_type": "code",
   "execution_count": 2,
   "id": "4b5cb85f",
   "metadata": {},
   "outputs": [],
   "source": [
    "import os, sys\n",
    "import pandas as pd\n",
    "import numpy as np\n",
    "import torch\n",
    "from torch.utils.data import TensorDataset, DataLoader\n",
    "import torch.nn as nn\n",
    "import torch.optim as optim\n",
    "import matplotlib.pyplot as plt\n",
    "from sklearn.model_selection import train_test_split\n",
    "from tqdm import tqdm\n",
    "import torch.nn.functional as F\n",
    "\n",
    "sys.path.append(os.path.abspath(os.path.join(os.getcwd(), '..')))\n",
    "from utils import util, models"
   ]
  },
  {
   "cell_type": "code",
   "execution_count": 4,
   "id": "17e03c18",
   "metadata": {},
   "outputs": [
    {
     "name": "stdout",
     "output_type": "stream",
     "text": [
      "audio.ogg\n"
     ]
    }
   ],
   "source": [
    "audio_path = os.path.join('audio.ogg')\n",
    "if not os.path.exists(audio_path):\n",
    "    print(f\"Audio file not found at {audio_path}. Please provide a valid path.\")\n",
    "    sys.exit(1)\n",
    "\n",
    "print(audio_path)"
   ]
  },
  {
   "cell_type": "code",
   "execution_count": null,
   "id": "b44801ca",
   "metadata": {},
   "outputs": [],
   "source": [
    "audio_matrices = util.audio_process(audio_path, reduce_noise=True, sr=32000, segment_sec=5.0, frame_len=2048, hop_len=512, mels=224, nfft=2048)\n",
    "\n",
    "if audio_matrices is None:\n",
    "    print(\"Failed to process audio file. Please check the file format and content.\")\n",
    "    sys.exit(1)"
   ]
  },
  {
   "cell_type": "code",
   "execution_count": null,
   "id": "ef8c7847",
   "metadata": {},
   "outputs": [],
   "source": [
    "print(len(audio_matrices))\n",
    "\n",
    "print(audio_matrices[0].shape)\n",
    "print(audio_matrices[1].shape)\n",
    "print(audio_matrices[2].shape)\n",
    "print(audio_matrices[-1].shape)"
   ]
  }
 ],
 "metadata": {
  "kernelspec": {
   "display_name": "birds",
   "language": "python",
   "name": "python3"
  },
  "language_info": {
   "codemirror_mode": {
    "name": "ipython",
    "version": 3
   },
   "file_extension": ".py",
   "mimetype": "text/x-python",
   "name": "python",
   "nbconvert_exporter": "python",
   "pygments_lexer": "ipython3",
   "version": "3.13.4"
  }
 },
 "nbformat": 4,
 "nbformat_minor": 5
}
