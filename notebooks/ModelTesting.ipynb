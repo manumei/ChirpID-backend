{
 "cells": [
  {
   "cell_type": "code",
   "execution_count": null,
   "id": "56e92077",
   "metadata": {},
   "outputs": [],
   "source": [
    "import os\n",
    "import sys\n",
    "import pandas as pd\n",
    "import numpy as np\n",
    "import torch\n",
    "import torch.nn as nn\n",
    "import torch.nn.functional as F\n",
    "from sklearn.metrics import confusion_matrix, f1_score, accuracy_score, log_loss, classification_report\n",
    "import matplotlib.pyplot as plt\n",
    "import seaborn as sns\n",
    "from tqdm import tqdm\n",
    "\n",
    "# Add parent directory to path for imports\n",
    "sys.path.append(os.path.abspath(os.path.join(os.getcwd(), '..')))\n",
    "\n",
    "# Import our custom modules\n",
    "from utils.inference import perform_audio_inference, perform_audio_inference_fcnn\n",
    "from utils.models import BirdCNN\n",
    "\n",
    "print(\"All imports successful!\")\n",
    "print(f\"PyTorch version: {torch.__version__}\")\n",
    "print(f\"CUDA available: {torch.cuda.is_available()}\")\n",
    "print(f\"Device: {'cuda' if torch.cuda.is_available() else 'cpu'}\")\n",
    "\n",
    "# Set plotting style\n",
    "plt.style.use('default')\n",
    "sns.set_palette(\"husl\")"
   ]
  },
  {
   "cell_type": "code",
   "execution_count": null,
   "id": "cf089cdb",
   "metadata": {},
   "outputs": [],
   "source": [
    "# Config\n",
    "NUM_CLASSES = 33\n",
    "TEST_AUDIO_DIR = os.path.join('..', 'database', 'audio', 'test')\n",
    "TEST_METADATA_PATH = os.path.join('..', 'database', 'meta', 'test_data.csv')\n",
    "\n",
    "# Load test metadata\n",
    "print(\"Loading test metadata...\")\n",
    "test_df = pd.read_csv(TEST_METADATA_PATH)\n",
    "\n",
    "\n",
    "# Verify audio files exist and create file mapping\n",
    "print(\"Verifying audio files...\")\n",
    "audio_files = os.listdir(TEST_AUDIO_DIR)\n",
    "print(f\"✓ Found {len(audio_files)} audio files in test directory\")\n",
    "\n",
    "# Create mapping of filename to full path and check if all metadata files exist\n",
    "test_files = []\n",
    "missing_files = []\n",
    "\n",
    "for _, row in test_df.iterrows():\n",
    "    filename = row['filename']\n",
    "    audio_path = os.path.join(TEST_AUDIO_DIR, filename)\n",
    "    \n",
    "    if os.path.exists(audio_path):\n",
    "        test_files.append({\n",
    "            'filename': filename,\n",
    "            'path': audio_path,\n",
    "            'class_id': row['class_id']\n",
    "        })\n",
    "    else:\n",
    "        missing_files.append(filename)\n",
    "\n",
    "print(f\"✓ Valid files: {len(test_files)}\")\n",
    "if missing_files:\n",
    "    print(f\"⚠ Missing files: {len(missing_files)}\")\n",
    "    print(f\"  First few missing: {missing_files[:5]}\")\n",
    "else:\n",
    "    print(\"✓ All metadata files found in audio directory\")"
   ]
  },
  {
   "cell_type": "code",
   "execution_count": null,
   "id": "f96ef4ed",
   "metadata": {},
   "outputs": [],
   "source": [
    "# Define the Configurations to try\n",
    "from utils.final_models import BirdCNN_v5, BirdCNN_v5c, BirdCNN_v7, BirdCNN_v7e\n",
    "from utils.fcnn_models import BirdFCNN, BirdFCNN_v1\n",
    "\n",
    "m1_path = os.path.join('..', 'models', 'cnn1_state_dict.pth')\n",
    "m2_path = os.path.join('..', 'models', 'cnn2_state_dict.pth')\n",
    "m3_path = os.path.join('..', 'models', 'cnn3_state_dict.pth')\n",
    "m4_path = os.path.join('..', 'models', 'cnn4_state_dict.pth')\n",
    "\n",
    "f1_path = os.path.join('..', 'models', 'fcnn1_state_dict.pth')\n",
    "f2_path = os.path.join('..', 'models', 'fcnn2_state_dict.pth')\n",
    "\n",
    "# Final Models ({'name': (Model Class, PTH Path)})\n",
    "final_cnn_models = {\n",
    "    'm0': (BirdCNN_v5, m1_path),\n",
    "    'm1': (BirdCNN_v5c, m2_path),\n",
    "    'm2': (BirdCNN_v7, m3_path),\n",
    "    'm3': (BirdCNN_v7e, m4_path),\n",
    "}\n",
    "\n",
    "final_fcnn_models = {\n",
    "    'f0': (BirdFCNN, f1_path),\n",
    "    'f1': (BirdFCNN_v1, f2_path),\n",
    "}\n",
    "\n",
    "# Storage for results\n",
    "all_predictions = []\n",
    "all_probabilities = []\n",
    "all_true_labels = []\n",
    "failed_files = []"
   ]
  },
  {
   "cell_type": "code",
   "execution_count": null,
   "id": "78e85ec5",
   "metadata": {},
   "outputs": [],
   "source": [
    "# Clear any previous results and verify model files\n",
    "print(\"Verifying model files...\")\n",
    "\n",
    "# Check CNN models\n",
    "print(\"\\nCNN Models:\")\n",
    "for name, (model_class, model_path) in final_cnn_models.items():\n",
    "    exists = os.path.exists(model_path)\n",
    "    status = \"✓\" if exists else \"❌\"\n",
    "    print(f\"  {status} {name}: {model_class.__name__} -> {model_path}\")\n",
    "    if not exists:\n",
    "        print(f\"    WARNING: Model file not found!\")\n",
    "\n",
    "# Check FCNN models\n",
    "print(\"\\nFCNN Models:\")\n",
    "for name, (model_class, model_path) in final_fcnn_models.items():\n",
    "    exists = os.path.exists(model_path)\n",
    "    status = \"✓\" if exists else \"❌\"\n",
    "    print(f\"  {status} {name}: {model_class.__name__} -> {model_path}\")\n",
    "    if not exists:\n",
    "        print(f\"    WARNING: Model file not found!\")\n",
    "\n",
    "print(f\"\\nTotal models to test: {len(final_cnn_models) + len(final_fcnn_models)}\")\n",
    "print(\"Ready to start testing...\")"
   ]
  },
  {
   "cell_type": "code",
   "execution_count": 17,
   "id": "f814590a",
   "metadata": {},
   "outputs": [
    {
     "name": "stderr",
     "output_type": "stream",
     "text": [
      "Processing m0:  39%|███▉      | 100/254 [00:13<00:22,  6.88it/s]"
     ]
    },
    {
     "name": "stdout",
     "output_type": "stream",
     "text": [
      "Processed 100/254 files\n"
     ]
    },
    {
     "name": "stderr",
     "output_type": "stream",
     "text": [
      "Processing m0:  44%|████▎     | 111/254 [00:15<00:18,  7.66it/s]"
     ]
    },
    {
     "name": "stdout",
     "output_type": "stream",
     "text": [
      "Processed 110/254 files\n"
     ]
    },
    {
     "name": "stderr",
     "output_type": "stream",
     "text": [
      "Processing m0:  48%|████▊     | 121/254 [00:16<00:16,  8.30it/s]"
     ]
    },
    {
     "name": "stdout",
     "output_type": "stream",
     "text": [
      "Processed 120/254 files\n"
     ]
    },
    {
     "name": "stderr",
     "output_type": "stream",
     "text": [
      "Processing m0:  52%|█████▏    | 131/254 [00:17<00:14,  8.63it/s]"
     ]
    },
    {
     "name": "stdout",
     "output_type": "stream",
     "text": [
      "Processed 130/254 files\n"
     ]
    },
    {
     "name": "stderr",
     "output_type": "stream",
     "text": [
      "Processing m0:  56%|█████▌    | 141/254 [00:18<00:14,  7.82it/s]"
     ]
    },
    {
     "name": "stdout",
     "output_type": "stream",
     "text": [
      "Processed 140/254 files\n"
     ]
    },
    {
     "name": "stderr",
     "output_type": "stream",
     "text": [
      "Processing m0:  59%|█████▉    | 151/254 [00:20<00:13,  7.81it/s]"
     ]
    },
    {
     "name": "stdout",
     "output_type": "stream",
     "text": [
      "Processed 150/254 files\n"
     ]
    },
    {
     "name": "stderr",
     "output_type": "stream",
     "text": [
      "Processing m0:  63%|██████▎   | 161/254 [00:21<00:12,  7.27it/s]"
     ]
    },
    {
     "name": "stdout",
     "output_type": "stream",
     "text": [
      "Processed 160/254 files\n"
     ]
    },
    {
     "name": "stderr",
     "output_type": "stream",
     "text": [
      "Processing m0:  67%|██████▋   | 170/254 [00:22<00:11,  7.59it/s]"
     ]
    },
    {
     "name": "stdout",
     "output_type": "stream",
     "text": [
      "Processed 170/254 files\n"
     ]
    },
    {
     "name": "stderr",
     "output_type": "stream",
     "text": [
      "Processing m0:  71%|███████   | 180/254 [00:24<00:10,  6.81it/s]"
     ]
    },
    {
     "name": "stdout",
     "output_type": "stream",
     "text": [
      "Processed 180/254 files\n"
     ]
    },
    {
     "name": "stderr",
     "output_type": "stream",
     "text": [
      "Processing m0:  75%|███████▌  | 191/254 [00:25<00:07,  8.13it/s]"
     ]
    },
    {
     "name": "stdout",
     "output_type": "stream",
     "text": [
      "Processed 190/254 files\n"
     ]
    },
    {
     "name": "stderr",
     "output_type": "stream",
     "text": [
      "Processing m0:  80%|███████▉  | 202/254 [00:26<00:04, 11.01it/s]"
     ]
    },
    {
     "name": "stdout",
     "output_type": "stream",
     "text": [
      "Processed 200/254 files\n"
     ]
    },
    {
     "name": "stderr",
     "output_type": "stream",
     "text": [
      "Processing m0:  83%|████████▎ | 212/254 [00:28<00:06,  6.34it/s]"
     ]
    },
    {
     "name": "stdout",
     "output_type": "stream",
     "text": [
      "Processed 210/254 files\n"
     ]
    },
    {
     "name": "stderr",
     "output_type": "stream",
     "text": [
      "Processing m0:  87%|████████▋ | 222/254 [00:29<00:03, 10.19it/s]"
     ]
    },
    {
     "name": "stdout",
     "output_type": "stream",
     "text": [
      "Processed 220/254 files\n",
      "Failed to process XC599219.ogg: No usable segments extracted from audio file: ..\\database\\audio\\test\\XC599219.ogg\n"
     ]
    },
    {
     "name": "stderr",
     "output_type": "stream",
     "text": [
      "Processing m0:  91%|█████████ | 231/254 [00:31<00:02,  7.77it/s]"
     ]
    },
    {
     "name": "stdout",
     "output_type": "stream",
     "text": [
      "Processed 230/254 files\n"
     ]
    },
    {
     "name": "stderr",
     "output_type": "stream",
     "text": [
      "Processing m0:  95%|█████████▍| 241/254 [00:32<00:01,  6.74it/s]"
     ]
    },
    {
     "name": "stdout",
     "output_type": "stream",
     "text": [
      "Processed 240/254 files\n"
     ]
    },
    {
     "name": "stderr",
     "output_type": "stream",
     "text": [
      "Processing m0:  99%|█████████▉| 251/254 [00:34<00:00,  8.03it/s]"
     ]
    },
    {
     "name": "stdout",
     "output_type": "stream",
     "text": [
      "Processed 250/254 files\n"
     ]
    },
    {
     "name": "stderr",
     "output_type": "stream",
     "text": [
      "Processing m0: 100%|██████████| 254/254 [00:34<00:00,  7.39it/s]\n"
     ]
    },
    {
     "name": "stdout",
     "output_type": "stream",
     "text": [
      "\n",
      "✓ m0 results:\n",
      "  Successfully processed: 251 files\n",
      "  Failed files: 3\n",
      "  Accuracy: 0.0239\n",
      "  F1 Score: 0.0041\n",
      "  Failed files: ['XC599531.ogg', 'XC147035.ogg', 'XC599219.ogg']\n",
      "\n",
      "==================================================\n",
      "Testing CNN model: m1\n",
      "Model class: BirdCNN_v5c\n",
      "Model path: ..\\models\\cnn2_state_dict.pth\n",
      "==================================================\n"
     ]
    },
    {
     "name": "stderr",
     "output_type": "stream",
     "text": [
      "Processing m1:   4%|▍         | 11/254 [00:01<00:30,  8.09it/s]"
     ]
    },
    {
     "name": "stdout",
     "output_type": "stream",
     "text": [
      "Processed 10/254 files\n"
     ]
    },
    {
     "name": "stderr",
     "output_type": "stream",
     "text": [
      "Processing m1:   8%|▊         | 21/254 [00:02<00:31,  7.47it/s]"
     ]
    },
    {
     "name": "stdout",
     "output_type": "stream",
     "text": [
      "Processed 20/254 files\n"
     ]
    },
    {
     "name": "stderr",
     "output_type": "stream",
     "text": [
      "Processing m1:  12%|█▏        | 31/254 [00:04<00:31,  7.14it/s]"
     ]
    },
    {
     "name": "stdout",
     "output_type": "stream",
     "text": [
      "Processed 30/254 files\n"
     ]
    },
    {
     "name": "stderr",
     "output_type": "stream",
     "text": [
      "Processing m1:  16%|█▌        | 40/254 [00:05<00:30,  7.00it/s]"
     ]
    },
    {
     "name": "stdout",
     "output_type": "stream",
     "text": [
      "Processed 40/254 files\n"
     ]
    },
    {
     "name": "stderr",
     "output_type": "stream",
     "text": [
      "Processing m1:  20%|██        | 51/254 [00:07<00:30,  6.66it/s]"
     ]
    },
    {
     "name": "stdout",
     "output_type": "stream",
     "text": [
      "Processed 50/254 files\n"
     ]
    },
    {
     "name": "stderr",
     "output_type": "stream",
     "text": [
      "Processing m1:  24%|██▍       | 61/254 [00:08<00:26,  7.33it/s]"
     ]
    },
    {
     "name": "stdout",
     "output_type": "stream",
     "text": [
      "Processed 60/254 files\n"
     ]
    },
    {
     "name": "stderr",
     "output_type": "stream",
     "text": [
      "Processing m1:  28%|██▊       | 70/254 [00:09<00:27,  6.79it/s]"
     ]
    },
    {
     "name": "stdout",
     "output_type": "stream",
     "text": [
      "Processed 70/254 files\n"
     ]
    },
    {
     "name": "stderr",
     "output_type": "stream",
     "text": [
      "Processing m1:  32%|███▏      | 81/254 [00:11<00:25,  6.91it/s]"
     ]
    },
    {
     "name": "stdout",
     "output_type": "stream",
     "text": [
      "Processed 80/254 files\n"
     ]
    },
    {
     "name": "stderr",
     "output_type": "stream",
     "text": [
      "Processing m1:  33%|███▎      | 85/254 [00:12<00:22,  7.52it/s]"
     ]
    },
    {
     "name": "stdout",
     "output_type": "stream",
     "text": [
      "Failed to process XC599531.ogg: No usable segments extracted from audio file: ..\\database\\audio\\test\\XC599531.ogg\n"
     ]
    },
    {
     "name": "stderr",
     "output_type": "stream",
     "text": [
      "Processing m1:  35%|███▌      | 90/254 [00:12<00:17,  9.44it/s]"
     ]
    },
    {
     "name": "stdout",
     "output_type": "stream",
     "text": [
      "Failed to process XC147035.ogg: No usable segments extracted from audio file: ..\\database\\audio\\test\\XC147035.ogg\n",
      "Processed 90/254 files\n"
     ]
    },
    {
     "name": "stderr",
     "output_type": "stream",
     "text": [
      "Processing m1:  39%|███▉      | 100/254 [00:14<00:24,  6.25it/s]"
     ]
    },
    {
     "name": "stdout",
     "output_type": "stream",
     "text": [
      "Processed 100/254 files\n"
     ]
    },
    {
     "name": "stderr",
     "output_type": "stream",
     "text": [
      "Processing m1:  44%|████▎     | 111/254 [00:15<00:19,  7.16it/s]"
     ]
    },
    {
     "name": "stdout",
     "output_type": "stream",
     "text": [
      "Processed 110/254 files\n"
     ]
    },
    {
     "name": "stderr",
     "output_type": "stream",
     "text": [
      "Processing m1:  48%|████▊     | 121/254 [00:17<00:16,  7.98it/s]"
     ]
    },
    {
     "name": "stdout",
     "output_type": "stream",
     "text": [
      "Processed 120/254 files\n"
     ]
    },
    {
     "name": "stderr",
     "output_type": "stream",
     "text": [
      "Processing m1:  52%|█████▏    | 131/254 [00:18<00:15,  8.01it/s]"
     ]
    },
    {
     "name": "stdout",
     "output_type": "stream",
     "text": [
      "Processed 130/254 files\n"
     ]
    },
    {
     "name": "stderr",
     "output_type": "stream",
     "text": [
      "Processing m1:  56%|█████▌    | 141/254 [00:20<00:15,  7.10it/s]"
     ]
    },
    {
     "name": "stdout",
     "output_type": "stream",
     "text": [
      "Processed 140/254 files\n"
     ]
    },
    {
     "name": "stderr",
     "output_type": "stream",
     "text": [
      "Processing m1:  59%|█████▉    | 151/254 [00:21<00:13,  7.39it/s]"
     ]
    },
    {
     "name": "stdout",
     "output_type": "stream",
     "text": [
      "Processed 150/254 files\n"
     ]
    },
    {
     "name": "stderr",
     "output_type": "stream",
     "text": [
      "Processing m1:  63%|██████▎   | 161/254 [00:23<00:13,  6.97it/s]"
     ]
    },
    {
     "name": "stdout",
     "output_type": "stream",
     "text": [
      "Processed 160/254 files\n"
     ]
    },
    {
     "name": "stderr",
     "output_type": "stream",
     "text": [
      "Processing m1:  67%|██████▋   | 171/254 [00:24<00:11,  7.09it/s]"
     ]
    },
    {
     "name": "stdout",
     "output_type": "stream",
     "text": [
      "Processed 170/254 files\n"
     ]
    },
    {
     "name": "stderr",
     "output_type": "stream",
     "text": [
      "Processing m1:  71%|███████▏  | 181/254 [00:25<00:10,  6.76it/s]"
     ]
    },
    {
     "name": "stdout",
     "output_type": "stream",
     "text": [
      "Processed 180/254 files\n"
     ]
    },
    {
     "name": "stderr",
     "output_type": "stream",
     "text": [
      "Processing m1:  75%|███████▌  | 191/254 [00:27<00:08,  7.08it/s]"
     ]
    },
    {
     "name": "stdout",
     "output_type": "stream",
     "text": [
      "Processed 190/254 files\n"
     ]
    },
    {
     "name": "stderr",
     "output_type": "stream",
     "text": [
      "Processing m1:  79%|███████▉  | 201/254 [00:28<00:06,  7.91it/s]"
     ]
    },
    {
     "name": "stdout",
     "output_type": "stream",
     "text": [
      "Processed 200/254 files\n"
     ]
    },
    {
     "name": "stderr",
     "output_type": "stream",
     "text": [
      "Processing m1:  83%|████████▎ | 211/254 [00:30<00:08,  4.84it/s]"
     ]
    },
    {
     "name": "stdout",
     "output_type": "stream",
     "text": [
      "Processed 210/254 files\n"
     ]
    },
    {
     "name": "stderr",
     "output_type": "stream",
     "text": [
      "Processing m1:  87%|████████▋ | 222/254 [00:32<00:03,  8.66it/s]"
     ]
    },
    {
     "name": "stdout",
     "output_type": "stream",
     "text": [
      "Processed 220/254 files\n",
      "Failed to process XC599219.ogg: No usable segments extracted from audio file: ..\\database\\audio\\test\\XC599219.ogg\n"
     ]
    },
    {
     "name": "stderr",
     "output_type": "stream",
     "text": [
      "Processing m1:  91%|█████████ | 231/254 [00:33<00:03,  6.72it/s]"
     ]
    },
    {
     "name": "stdout",
     "output_type": "stream",
     "text": [
      "Processed 230/254 files\n"
     ]
    },
    {
     "name": "stderr",
     "output_type": "stream",
     "text": [
      "Processing m1:  95%|█████████▍| 241/254 [00:35<00:02,  6.13it/s]"
     ]
    },
    {
     "name": "stdout",
     "output_type": "stream",
     "text": [
      "Processed 240/254 files\n"
     ]
    },
    {
     "name": "stderr",
     "output_type": "stream",
     "text": [
      "Processing m1:  99%|█████████▉| 251/254 [00:37<00:00,  7.19it/s]"
     ]
    },
    {
     "name": "stdout",
     "output_type": "stream",
     "text": [
      "Processed 250/254 files\n"
     ]
    },
    {
     "name": "stderr",
     "output_type": "stream",
     "text": [
      "Processing m1: 100%|██████████| 254/254 [00:37<00:00,  6.78it/s]\n"
     ]
    },
    {
     "name": "stdout",
     "output_type": "stream",
     "text": [
      "\n",
      "✓ m1 results:\n",
      "  Successfully processed: 251 files\n",
      "  Failed files: 3\n",
      "  Accuracy: 0.0319\n",
      "  F1 Score: 0.0044\n",
      "  Failed files: ['XC599531.ogg', 'XC147035.ogg', 'XC599219.ogg']\n",
      "\n",
      "==================================================\n",
      "Testing CNN model: m2\n",
      "Model class: BirdCNN_v7\n",
      "Model path: ..\\models\\cnn3_state_dict.pth\n",
      "==================================================\n"
     ]
    },
    {
     "name": "stderr",
     "output_type": "stream",
     "text": [
      "Processing m2:   4%|▍         | 11/254 [00:02<00:55,  4.41it/s]"
     ]
    },
    {
     "name": "stdout",
     "output_type": "stream",
     "text": [
      "Processed 10/254 files\n"
     ]
    },
    {
     "name": "stderr",
     "output_type": "stream",
     "text": [
      "Processing m2:   8%|▊         | 20/254 [00:04<00:55,  4.22it/s]"
     ]
    },
    {
     "name": "stdout",
     "output_type": "stream",
     "text": [
      "Processed 20/254 files\n"
     ]
    },
    {
     "name": "stderr",
     "output_type": "stream",
     "text": [
      "Processing m2:  12%|█▏        | 31/254 [00:07<00:49,  4.47it/s]"
     ]
    },
    {
     "name": "stdout",
     "output_type": "stream",
     "text": [
      "Processed 30/254 files\n"
     ]
    },
    {
     "name": "stderr",
     "output_type": "stream",
     "text": [
      "Processing m2:  16%|█▌        | 40/254 [00:09<01:00,  3.56it/s]"
     ]
    },
    {
     "name": "stdout",
     "output_type": "stream",
     "text": [
      "Processed 40/254 files\n"
     ]
    },
    {
     "name": "stderr",
     "output_type": "stream",
     "text": [
      "Processing m2:  20%|█▉        | 50/254 [00:12<00:57,  3.57it/s]"
     ]
    },
    {
     "name": "stdout",
     "output_type": "stream",
     "text": [
      "Processed 50/254 files\n"
     ]
    },
    {
     "name": "stderr",
     "output_type": "stream",
     "text": [
      "Processing m2:  24%|██▎       | 60/254 [00:15<00:41,  4.64it/s]"
     ]
    },
    {
     "name": "stdout",
     "output_type": "stream",
     "text": [
      "Processed 60/254 files\n"
     ]
    },
    {
     "name": "stderr",
     "output_type": "stream",
     "text": [
      "Processing m2:  28%|██▊       | 70/254 [00:17<00:45,  4.06it/s]"
     ]
    },
    {
     "name": "stdout",
     "output_type": "stream",
     "text": [
      "Processed 70/254 files\n"
     ]
    },
    {
     "name": "stderr",
     "output_type": "stream",
     "text": [
      "Processing m2:  31%|███▏      | 80/254 [00:20<00:44,  3.93it/s]"
     ]
    },
    {
     "name": "stdout",
     "output_type": "stream",
     "text": [
      "Processed 80/254 files\n"
     ]
    },
    {
     "name": "stderr",
     "output_type": "stream",
     "text": [
      "Processing m2:  33%|███▎      | 85/254 [00:22<00:43,  3.90it/s]"
     ]
    },
    {
     "name": "stdout",
     "output_type": "stream",
     "text": [
      "Failed to process XC599531.ogg: No usable segments extracted from audio file: ..\\database\\audio\\test\\XC599531.ogg\n"
     ]
    },
    {
     "name": "stderr",
     "output_type": "stream",
     "text": [
      "Processing m2:  35%|███▌      | 90/254 [00:23<00:30,  5.40it/s]"
     ]
    },
    {
     "name": "stdout",
     "output_type": "stream",
     "text": [
      "Failed to process XC147035.ogg: No usable segments extracted from audio file: ..\\database\\audio\\test\\XC147035.ogg\n",
      "Processed 90/254 files\n"
     ]
    },
    {
     "name": "stderr",
     "output_type": "stream",
     "text": [
      "Processing m2:  39%|███▉      | 100/254 [00:25<00:43,  3.55it/s]"
     ]
    },
    {
     "name": "stdout",
     "output_type": "stream",
     "text": [
      "Processed 100/254 files\n"
     ]
    },
    {
     "name": "stderr",
     "output_type": "stream",
     "text": [
      "Processing m2:  43%|████▎     | 110/254 [00:28<00:35,  4.02it/s]"
     ]
    },
    {
     "name": "stdout",
     "output_type": "stream",
     "text": [
      "Processed 110/254 files\n"
     ]
    },
    {
     "name": "stderr",
     "output_type": "stream",
     "text": [
      "Processing m2:  47%|████▋     | 120/254 [00:31<00:28,  4.66it/s]"
     ]
    },
    {
     "name": "stdout",
     "output_type": "stream",
     "text": [
      "Processed 120/254 files\n"
     ]
    },
    {
     "name": "stderr",
     "output_type": "stream",
     "text": [
      "Processing m2:  52%|█████▏    | 131/254 [00:33<00:27,  4.51it/s]"
     ]
    },
    {
     "name": "stdout",
     "output_type": "stream",
     "text": [
      "Processed 130/254 files\n"
     ]
    },
    {
     "name": "stderr",
     "output_type": "stream",
     "text": [
      "Processing m2:  55%|█████▌    | 140/254 [00:36<00:25,  4.47it/s]"
     ]
    },
    {
     "name": "stdout",
     "output_type": "stream",
     "text": [
      "Processed 140/254 files\n"
     ]
    },
    {
     "name": "stderr",
     "output_type": "stream",
     "text": [
      "Processing m2:  59%|█████▉    | 150/254 [00:38<00:21,  4.78it/s]"
     ]
    },
    {
     "name": "stdout",
     "output_type": "stream",
     "text": [
      "Processed 150/254 files\n"
     ]
    },
    {
     "name": "stderr",
     "output_type": "stream",
     "text": [
      "Processing m2:  63%|██████▎   | 160/254 [00:41<00:25,  3.69it/s]"
     ]
    },
    {
     "name": "stdout",
     "output_type": "stream",
     "text": [
      "Processed 160/254 files\n"
     ]
    },
    {
     "name": "stderr",
     "output_type": "stream",
     "text": [
      "Processing m2:  67%|██████▋   | 170/254 [00:43<00:21,  3.86it/s]"
     ]
    },
    {
     "name": "stdout",
     "output_type": "stream",
     "text": [
      "Processed 170/254 files\n"
     ]
    },
    {
     "name": "stderr",
     "output_type": "stream",
     "text": [
      "Processing m2:  71%|███████▏  | 181/254 [00:46<00:17,  4.07it/s]"
     ]
    },
    {
     "name": "stdout",
     "output_type": "stream",
     "text": [
      "Processed 180/254 files\n"
     ]
    },
    {
     "name": "stderr",
     "output_type": "stream",
     "text": [
      "Processing m2:  75%|███████▍  | 190/254 [00:49<00:16,  3.88it/s]"
     ]
    },
    {
     "name": "stdout",
     "output_type": "stream",
     "text": [
      "Processed 190/254 files\n"
     ]
    },
    {
     "name": "stderr",
     "output_type": "stream",
     "text": [
      "Processing m2:  79%|███████▉  | 201/254 [00:51<00:10,  5.02it/s]"
     ]
    },
    {
     "name": "stdout",
     "output_type": "stream",
     "text": [
      "Processed 200/254 files\n"
     ]
    },
    {
     "name": "stderr",
     "output_type": "stream",
     "text": [
      "Processing m2:  83%|████████▎ | 210/254 [00:54<00:17,  2.50it/s]"
     ]
    },
    {
     "name": "stdout",
     "output_type": "stream",
     "text": [
      "Processed 210/254 files\n"
     ]
    },
    {
     "name": "stderr",
     "output_type": "stream",
     "text": [
      "Processing m2:  87%|████████▋ | 220/254 [00:56<00:08,  4.12it/s]"
     ]
    },
    {
     "name": "stdout",
     "output_type": "stream",
     "text": [
      "Processed 220/254 files\n",
      "Failed to process XC599219.ogg: No usable segments extracted from audio file: ..\\database\\audio\\test\\XC599219.ogg\n"
     ]
    },
    {
     "name": "stderr",
     "output_type": "stream",
     "text": [
      "Processing m2:  91%|█████████ | 230/254 [00:59<00:05,  4.12it/s]"
     ]
    },
    {
     "name": "stdout",
     "output_type": "stream",
     "text": [
      "Processed 230/254 files\n"
     ]
    },
    {
     "name": "stderr",
     "output_type": "stream",
     "text": [
      "Processing m2:  94%|█████████▍| 240/254 [01:02<00:04,  3.50it/s]"
     ]
    },
    {
     "name": "stdout",
     "output_type": "stream",
     "text": [
      "Processed 240/254 files\n"
     ]
    },
    {
     "name": "stderr",
     "output_type": "stream",
     "text": [
      "Processing m2:  98%|█████████▊| 250/254 [01:05<00:00,  4.30it/s]"
     ]
    },
    {
     "name": "stdout",
     "output_type": "stream",
     "text": [
      "Processed 250/254 files\n"
     ]
    },
    {
     "name": "stderr",
     "output_type": "stream",
     "text": [
      "Processing m2: 100%|██████████| 254/254 [01:05<00:00,  3.85it/s]\n"
     ]
    },
    {
     "name": "stdout",
     "output_type": "stream",
     "text": [
      "\n",
      "✓ m2 results:\n",
      "  Successfully processed: 251 files\n",
      "  Failed files: 3\n",
      "  Accuracy: 0.0518\n",
      "  F1 Score: 0.0081\n",
      "  Failed files: ['XC599531.ogg', 'XC147035.ogg', 'XC599219.ogg']\n",
      "\n",
      "==================================================\n",
      "Testing CNN model: m3\n",
      "Model class: BirdCNN_v7e\n",
      "Model path: ..\\models\\cnn4_state_dict.pth\n",
      "==================================================\n"
     ]
    },
    {
     "name": "stderr",
     "output_type": "stream",
     "text": [
      "Processing m3:   4%|▍         | 10/254 [00:03<01:17,  3.15it/s]"
     ]
    },
    {
     "name": "stdout",
     "output_type": "stream",
     "text": [
      "Processed 10/254 files\n"
     ]
    },
    {
     "name": "stderr",
     "output_type": "stream",
     "text": [
      "Processing m3:   8%|▊         | 20/254 [00:05<01:05,  3.59it/s]"
     ]
    },
    {
     "name": "stdout",
     "output_type": "stream",
     "text": [
      "Processed 20/254 files\n"
     ]
    },
    {
     "name": "stderr",
     "output_type": "stream",
     "text": [
      "Processing m3:  12%|█▏        | 30/254 [00:08<00:58,  3.80it/s]"
     ]
    },
    {
     "name": "stdout",
     "output_type": "stream",
     "text": [
      "Processed 30/254 files\n"
     ]
    },
    {
     "name": "stderr",
     "output_type": "stream",
     "text": [
      "Processing m3:  16%|█▌        | 40/254 [00:11<01:04,  3.32it/s]"
     ]
    },
    {
     "name": "stdout",
     "output_type": "stream",
     "text": [
      "Processed 40/254 files\n"
     ]
    },
    {
     "name": "stderr",
     "output_type": "stream",
     "text": [
      "Processing m3:  20%|█▉        | 50/254 [00:14<01:02,  3.24it/s]"
     ]
    },
    {
     "name": "stdout",
     "output_type": "stream",
     "text": [
      "Processed 50/254 files\n"
     ]
    },
    {
     "name": "stderr",
     "output_type": "stream",
     "text": [
      "Processing m3:  24%|██▎       | 60/254 [00:17<00:48,  4.03it/s]"
     ]
    },
    {
     "name": "stdout",
     "output_type": "stream",
     "text": [
      "Processed 60/254 files\n"
     ]
    },
    {
     "name": "stderr",
     "output_type": "stream",
     "text": [
      "Processing m3:  28%|██▊       | 70/254 [00:20<00:48,  3.77it/s]"
     ]
    },
    {
     "name": "stdout",
     "output_type": "stream",
     "text": [
      "Processed 70/254 files\n"
     ]
    },
    {
     "name": "stderr",
     "output_type": "stream",
     "text": [
      "Processing m3:  31%|███▏      | 80/254 [00:23<00:46,  3.78it/s]"
     ]
    },
    {
     "name": "stdout",
     "output_type": "stream",
     "text": [
      "Processed 80/254 files\n"
     ]
    },
    {
     "name": "stderr",
     "output_type": "stream",
     "text": [
      "Processing m3:  33%|███▎      | 85/254 [00:24<00:51,  3.31it/s]"
     ]
    },
    {
     "name": "stdout",
     "output_type": "stream",
     "text": [
      "Failed to process XC599531.ogg: No usable segments extracted from audio file: ..\\database\\audio\\test\\XC599531.ogg\n"
     ]
    },
    {
     "name": "stderr",
     "output_type": "stream",
     "text": [
      "Processing m3:  35%|███▍      | 88/254 [00:25<00:46,  3.61it/s]"
     ]
    },
    {
     "name": "stdout",
     "output_type": "stream",
     "text": [
      "Failed to process XC147035.ogg: No usable segments extracted from audio file: ..\\database\\audio\\test\\XC147035.ogg\n"
     ]
    },
    {
     "name": "stderr",
     "output_type": "stream",
     "text": [
      "Processing m3:  35%|███▌      | 90/254 [00:25<00:34,  4.72it/s]"
     ]
    },
    {
     "name": "stdout",
     "output_type": "stream",
     "text": [
      "Processed 90/254 files\n"
     ]
    },
    {
     "name": "stderr",
     "output_type": "stream",
     "text": [
      "Processing m3:  39%|███▉      | 100/254 [00:28<00:45,  3.38it/s]"
     ]
    },
    {
     "name": "stdout",
     "output_type": "stream",
     "text": [
      "Processed 100/254 files\n"
     ]
    },
    {
     "name": "stderr",
     "output_type": "stream",
     "text": [
      "Processing m3:  43%|████▎     | 110/254 [00:31<00:43,  3.32it/s]"
     ]
    },
    {
     "name": "stdout",
     "output_type": "stream",
     "text": [
      "Processed 110/254 files\n"
     ]
    },
    {
     "name": "stderr",
     "output_type": "stream",
     "text": [
      "Processing m3:  47%|████▋     | 120/254 [00:34<00:35,  3.78it/s]"
     ]
    },
    {
     "name": "stdout",
     "output_type": "stream",
     "text": [
      "Processed 120/254 files\n"
     ]
    },
    {
     "name": "stderr",
     "output_type": "stream",
     "text": [
      "Processing m3:  51%|█████     | 130/254 [00:37<00:36,  3.40it/s]"
     ]
    },
    {
     "name": "stdout",
     "output_type": "stream",
     "text": [
      "Processed 130/254 files\n"
     ]
    },
    {
     "name": "stderr",
     "output_type": "stream",
     "text": [
      "Processing m3:  55%|█████▌    | 140/254 [00:41<00:31,  3.59it/s]"
     ]
    },
    {
     "name": "stdout",
     "output_type": "stream",
     "text": [
      "Processed 140/254 files\n"
     ]
    },
    {
     "name": "stderr",
     "output_type": "stream",
     "text": [
      "Processing m3:  59%|█████▉    | 150/254 [00:43<00:27,  3.83it/s]"
     ]
    },
    {
     "name": "stdout",
     "output_type": "stream",
     "text": [
      "Processed 150/254 files\n"
     ]
    },
    {
     "name": "stderr",
     "output_type": "stream",
     "text": [
      "Processing m3:  63%|██████▎   | 160/254 [00:47<00:29,  3.16it/s]"
     ]
    },
    {
     "name": "stdout",
     "output_type": "stream",
     "text": [
      "Processed 160/254 files\n"
     ]
    },
    {
     "name": "stderr",
     "output_type": "stream",
     "text": [
      "Processing m3:  67%|██████▋   | 170/254 [00:49<00:24,  3.41it/s]"
     ]
    },
    {
     "name": "stdout",
     "output_type": "stream",
     "text": [
      "Processed 170/254 files\n"
     ]
    },
    {
     "name": "stderr",
     "output_type": "stream",
     "text": [
      "Processing m3:  71%|███████   | 180/254 [00:52<00:23,  3.17it/s]"
     ]
    },
    {
     "name": "stdout",
     "output_type": "stream",
     "text": [
      "Processed 180/254 files\n"
     ]
    },
    {
     "name": "stderr",
     "output_type": "stream",
     "text": [
      "Processing m3:  75%|███████▍  | 190/254 [00:55<00:18,  3.55it/s]"
     ]
    },
    {
     "name": "stdout",
     "output_type": "stream",
     "text": [
      "Processed 190/254 files\n"
     ]
    },
    {
     "name": "stderr",
     "output_type": "stream",
     "text": [
      "Processing m3:  79%|███████▊  | 200/254 [00:58<00:13,  4.12it/s]"
     ]
    },
    {
     "name": "stdout",
     "output_type": "stream",
     "text": [
      "Processed 200/254 files\n"
     ]
    },
    {
     "name": "stderr",
     "output_type": "stream",
     "text": [
      "Processing m3:  83%|████████▎ | 210/254 [01:02<00:19,  2.21it/s]"
     ]
    },
    {
     "name": "stdout",
     "output_type": "stream",
     "text": [
      "Processed 210/254 files\n"
     ]
    },
    {
     "name": "stderr",
     "output_type": "stream",
     "text": [
      "Processing m3:  87%|████████▋ | 220/254 [01:05<00:09,  3.49it/s]"
     ]
    },
    {
     "name": "stdout",
     "output_type": "stream",
     "text": [
      "Processed 220/254 files\n",
      "Failed to process XC599219.ogg: No usable segments extracted from audio file: ..\\database\\audio\\test\\XC599219.ogg\n"
     ]
    },
    {
     "name": "stderr",
     "output_type": "stream",
     "text": [
      "Processing m3:  91%|█████████ | 230/254 [01:08<00:06,  3.65it/s]"
     ]
    },
    {
     "name": "stdout",
     "output_type": "stream",
     "text": [
      "Processed 230/254 files\n"
     ]
    },
    {
     "name": "stderr",
     "output_type": "stream",
     "text": [
      "Processing m3:  94%|█████████▍| 240/254 [01:11<00:04,  2.93it/s]"
     ]
    },
    {
     "name": "stdout",
     "output_type": "stream",
     "text": [
      "Processed 240/254 files\n"
     ]
    },
    {
     "name": "stderr",
     "output_type": "stream",
     "text": [
      "Processing m3:  98%|█████████▊| 250/254 [01:14<00:01,  3.55it/s]"
     ]
    },
    {
     "name": "stdout",
     "output_type": "stream",
     "text": [
      "Processed 250/254 files\n"
     ]
    },
    {
     "name": "stderr",
     "output_type": "stream",
     "text": [
      "Processing m3: 100%|██████████| 254/254 [01:15<00:00,  3.35it/s]"
     ]
    },
    {
     "name": "stdout",
     "output_type": "stream",
     "text": [
      "\n",
      "✓ m3 results:\n",
      "  Successfully processed: 251 files\n",
      "  Failed files: 3\n",
      "  Accuracy: 0.0677\n",
      "  F1 Score: 0.0296\n",
      "  Failed files: ['XC599531.ogg', 'XC147035.ogg', 'XC599219.ogg']\n",
      "\n",
      "============================================================\n",
      "CNN MODELS TESTING COMPLETED\n",
      "============================================================\n"
     ]
    },
    {
     "name": "stderr",
     "output_type": "stream",
     "text": [
      "\n"
     ]
    }
   ],
   "source": [
    "# Test all CNN models\n",
    "cnn_results = {}\n",
    "\n",
    "for model_name, (model_class, model_path) in final_cnn_models.items():\n",
    "    print(f\"\\n{'='*50}\")\n",
    "    print(f\"Testing CNN model: {model_name}\")\n",
    "    print(f\"Model class: {model_class.__name__}\")\n",
    "    print(f\"Model path: {model_path}\")\n",
    "    print(f\"{'='*50}\")\n",
    "    \n",
    "    # Storage for this model's results\n",
    "    all_predictions = []\n",
    "    all_probabilities = []\n",
    "    all_true_labels = []\n",
    "    failed_files = []\n",
    "    \n",
    "    # Process each test file\n",
    "    for i, file_info in enumerate(tqdm(test_files, desc=f\"Processing {model_name}\")):\n",
    "        try:\n",
    "            # Perform inference\n",
    "            probabilities = perform_audio_inference(\n",
    "                audio_path=file_info['path'],\n",
    "                model_class=model_class,\n",
    "                model_path=model_path,\n",
    "                reduce_noise=False\n",
    "            )\n",
    "            \n",
    "            # Get predicted class (argmax of probabilities)\n",
    "            predicted_class = np.argmax(probabilities)\n",
    "            \n",
    "            # Store results\n",
    "            all_probabilities.append(probabilities)\n",
    "            all_predictions.append(predicted_class)\n",
    "            all_true_labels.append(file_info['class_id'])\n",
    "            \n",
    "            # Progress update every 10 files (reduced for better feedback)\n",
    "            if (i + 1) % 10 == 0:\n",
    "                print(f\"Processed {i + 1}/{len(test_files)} files\")\n",
    "                \n",
    "        except Exception as e:\n",
    "            print(f\"Failed to process {file_info['filename']}: {str(e)}\")\n",
    "            failed_files.append(file_info['filename'])\n",
    "            continue\n",
    "    \n",
    "    # Calculate metrics for this model\n",
    "    if len(all_predictions) > 0:\n",
    "        accuracy = accuracy_score(all_true_labels, all_predictions)\n",
    "        f1 = f1_score(all_true_labels, all_predictions, average='weighted')\n",
    "        \n",
    "        # Store results\n",
    "        cnn_results[model_name] = {\n",
    "            'accuracy': accuracy,\n",
    "            'f1_score': f1,\n",
    "            'predictions': all_predictions,\n",
    "            'probabilities': all_probabilities,\n",
    "            'true_labels': all_true_labels,\n",
    "            'failed_files': failed_files,\n",
    "            'model_class': model_class.__name__\n",
    "        }\n",
    "        \n",
    "        print(f\"\\n✓ {model_name} results:\")\n",
    "        print(f\"  Successfully processed: {len(all_predictions)} files\")\n",
    "        print(f\"  Failed files: {len(failed_files)}\")\n",
    "        print(f\"  Accuracy: {accuracy:.4f}\")\n",
    "        print(f\"  F1 Score: {f1:.4f}\")\n",
    "        \n",
    "        if failed_files:\n",
    "            print(f\"  Failed files: {failed_files[:3]}{'...' if len(failed_files) > 3 else ''}\")\n",
    "    else:\n",
    "        print(f\"❌ No successful predictions for {model_name}\")\n",
    "\n",
    "print(f\"\\n{'='*60}\")\n",
    "print(\"CNN MODELS TESTING COMPLETED\")\n",
    "print(f\"{'='*60}\")"
   ]
  },
  {
   "cell_type": "code",
   "execution_count": 18,
   "id": "be4ca4e0",
   "metadata": {},
   "outputs": [
    {
     "name": "stdout",
     "output_type": "stream",
     "text": [
      "\n",
      "==================================================\n",
      "Testing FCNN model: f0\n",
      "Model class: BirdFCNN\n",
      "Model path: ..\\models\\fcnn1_state_dict.pth\n",
      "==================================================\n"
     ]
    },
    {
     "name": "stderr",
     "output_type": "stream",
     "text": [
      "Processing f0:   4%|▍         | 11/254 [00:02<00:48,  5.00it/s]"
     ]
    },
    {
     "name": "stdout",
     "output_type": "stream",
     "text": [
      "Processed 10/254 files\n"
     ]
    },
    {
     "name": "stderr",
     "output_type": "stream",
     "text": [
      "Processing f0:   8%|▊         | 21/254 [00:04<00:46,  4.99it/s]"
     ]
    },
    {
     "name": "stdout",
     "output_type": "stream",
     "text": [
      "Processed 20/254 files\n"
     ]
    },
    {
     "name": "stderr",
     "output_type": "stream",
     "text": [
      "Processing f0:  12%|█▏        | 31/254 [00:06<00:44,  5.04it/s]"
     ]
    },
    {
     "name": "stdout",
     "output_type": "stream",
     "text": [
      "Processed 30/254 files\n"
     ]
    },
    {
     "name": "stderr",
     "output_type": "stream",
     "text": [
      "Processing f0:  16%|█▌        | 40/254 [00:08<00:46,  4.59it/s]"
     ]
    },
    {
     "name": "stdout",
     "output_type": "stream",
     "text": [
      "Processed 40/254 files\n"
     ]
    },
    {
     "name": "stderr",
     "output_type": "stream",
     "text": [
      "Processing f0:  20%|█▉        | 50/254 [00:10<00:42,  4.81it/s]"
     ]
    },
    {
     "name": "stdout",
     "output_type": "stream",
     "text": [
      "Processed 50/254 files\n"
     ]
    },
    {
     "name": "stderr",
     "output_type": "stream",
     "text": [
      "Processing f0:  24%|██▎       | 60/254 [00:12<00:37,  5.19it/s]"
     ]
    },
    {
     "name": "stdout",
     "output_type": "stream",
     "text": [
      "Processed 60/254 files\n"
     ]
    },
    {
     "name": "stderr",
     "output_type": "stream",
     "text": [
      "Processing f0:  28%|██▊       | 70/254 [00:14<00:37,  4.97it/s]"
     ]
    },
    {
     "name": "stdout",
     "output_type": "stream",
     "text": [
      "Processed 70/254 files\n"
     ]
    },
    {
     "name": "stderr",
     "output_type": "stream",
     "text": [
      "Processing f0:  31%|███▏      | 80/254 [00:16<00:32,  5.37it/s]"
     ]
    },
    {
     "name": "stdout",
     "output_type": "stream",
     "text": [
      "Processed 80/254 files\n"
     ]
    },
    {
     "name": "stderr",
     "output_type": "stream",
     "text": [
      "Processing f0:  33%|███▎      | 85/254 [00:17<00:33,  5.09it/s]"
     ]
    },
    {
     "name": "stdout",
     "output_type": "stream",
     "text": [
      "Failed to process XC599531.ogg: No usable segments extracted from audio file: ..\\database\\audio\\test\\XC599531.ogg\n"
     ]
    },
    {
     "name": "stderr",
     "output_type": "stream",
     "text": [
      "Processing f0:  35%|███▌      | 90/254 [00:18<00:24,  6.78it/s]"
     ]
    },
    {
     "name": "stdout",
     "output_type": "stream",
     "text": [
      "Failed to process XC147035.ogg: No usable segments extracted from audio file: ..\\database\\audio\\test\\XC147035.ogg\n",
      "Processed 90/254 files\n"
     ]
    },
    {
     "name": "stderr",
     "output_type": "stream",
     "text": [
      "Processing f0:  39%|███▉      | 100/254 [00:20<00:31,  4.91it/s]"
     ]
    },
    {
     "name": "stdout",
     "output_type": "stream",
     "text": [
      "Processed 100/254 files\n"
     ]
    },
    {
     "name": "stderr",
     "output_type": "stream",
     "text": [
      "Processing f0:  43%|████▎     | 110/254 [00:22<00:28,  5.00it/s]"
     ]
    },
    {
     "name": "stdout",
     "output_type": "stream",
     "text": [
      "Processed 110/254 files\n"
     ]
    },
    {
     "name": "stderr",
     "output_type": "stream",
     "text": [
      "Processing f0:  48%|████▊     | 121/254 [00:24<00:25,  5.19it/s]"
     ]
    },
    {
     "name": "stdout",
     "output_type": "stream",
     "text": [
      "Processed 120/254 files\n"
     ]
    },
    {
     "name": "stderr",
     "output_type": "stream",
     "text": [
      "Processing f0:  52%|█████▏    | 131/254 [00:26<00:22,  5.37it/s]"
     ]
    },
    {
     "name": "stdout",
     "output_type": "stream",
     "text": [
      "Processed 130/254 files\n"
     ]
    },
    {
     "name": "stderr",
     "output_type": "stream",
     "text": [
      "Processing f0:  55%|█████▌    | 140/254 [00:28<00:23,  4.94it/s]"
     ]
    },
    {
     "name": "stdout",
     "output_type": "stream",
     "text": [
      "Processed 140/254 files\n"
     ]
    },
    {
     "name": "stderr",
     "output_type": "stream",
     "text": [
      "Processing f0:  59%|█████▉    | 150/254 [00:30<00:20,  5.05it/s]"
     ]
    },
    {
     "name": "stdout",
     "output_type": "stream",
     "text": [
      "Processed 150/254 files\n"
     ]
    },
    {
     "name": "stderr",
     "output_type": "stream",
     "text": [
      "Processing f0:  63%|██████▎   | 160/254 [00:32<00:21,  4.29it/s]"
     ]
    },
    {
     "name": "stdout",
     "output_type": "stream",
     "text": [
      "Processed 160/254 files\n"
     ]
    },
    {
     "name": "stderr",
     "output_type": "stream",
     "text": [
      "Processing f0:  67%|██████▋   | 170/254 [00:35<00:19,  4.37it/s]"
     ]
    },
    {
     "name": "stdout",
     "output_type": "stream",
     "text": [
      "Processed 170/254 files\n"
     ]
    },
    {
     "name": "stderr",
     "output_type": "stream",
     "text": [
      "Processing f0:  71%|███████▏  | 181/254 [00:37<00:15,  4.84it/s]"
     ]
    },
    {
     "name": "stdout",
     "output_type": "stream",
     "text": [
      "Processed 180/254 files\n"
     ]
    },
    {
     "name": "stderr",
     "output_type": "stream",
     "text": [
      "Processing f0:  75%|███████▍  | 190/254 [00:39<00:12,  5.00it/s]"
     ]
    },
    {
     "name": "stdout",
     "output_type": "stream",
     "text": [
      "Processed 190/254 files\n"
     ]
    },
    {
     "name": "stderr",
     "output_type": "stream",
     "text": [
      "Processing f0:  79%|███████▉  | 201/254 [00:41<00:09,  5.54it/s]"
     ]
    },
    {
     "name": "stdout",
     "output_type": "stream",
     "text": [
      "Processed 200/254 files\n"
     ]
    },
    {
     "name": "stderr",
     "output_type": "stream",
     "text": [
      "Processing f0:  83%|████████▎ | 211/254 [00:43<00:10,  3.94it/s]"
     ]
    },
    {
     "name": "stdout",
     "output_type": "stream",
     "text": [
      "Processed 210/254 files\n"
     ]
    },
    {
     "name": "stderr",
     "output_type": "stream",
     "text": [
      "Processing f0:  87%|████████▋ | 220/254 [00:45<00:06,  4.96it/s]"
     ]
    },
    {
     "name": "stdout",
     "output_type": "stream",
     "text": [
      "Processed 220/254 files\n",
      "Failed to process XC599219.ogg: No usable segments extracted from audio file: ..\\database\\audio\\test\\XC599219.ogg\n"
     ]
    },
    {
     "name": "stderr",
     "output_type": "stream",
     "text": [
      "Processing f0:  91%|█████████ | 230/254 [00:47<00:04,  5.04it/s]"
     ]
    },
    {
     "name": "stdout",
     "output_type": "stream",
     "text": [
      "Processed 230/254 files\n"
     ]
    },
    {
     "name": "stderr",
     "output_type": "stream",
     "text": [
      "Processing f0:  94%|█████████▍| 240/254 [00:50<00:03,  4.50it/s]"
     ]
    },
    {
     "name": "stdout",
     "output_type": "stream",
     "text": [
      "Processed 240/254 files\n"
     ]
    },
    {
     "name": "stderr",
     "output_type": "stream",
     "text": [
      "Processing f0:  98%|█████████▊| 250/254 [00:52<00:00,  4.98it/s]"
     ]
    },
    {
     "name": "stdout",
     "output_type": "stream",
     "text": [
      "Processed 250/254 files\n"
     ]
    },
    {
     "name": "stderr",
     "output_type": "stream",
     "text": [
      "Processing f0: 100%|██████████| 254/254 [00:53<00:00,  4.78it/s]\n"
     ]
    },
    {
     "name": "stdout",
     "output_type": "stream",
     "text": [
      "\n",
      "✓ f0 results:\n",
      "  Successfully processed: 251 files\n",
      "  Failed files: 3\n",
      "  Accuracy: 0.0438\n",
      "  F1 Score: 0.0232\n",
      "  Failed files: ['XC599531.ogg', 'XC147035.ogg', 'XC599219.ogg']\n",
      "\n",
      "==================================================\n",
      "Testing FCNN model: f1\n",
      "Model class: BirdFCNN_v1\n",
      "Model path: ..\\models\\fcnn2_state_dict.pth\n",
      "==================================================\n"
     ]
    },
    {
     "name": "stderr",
     "output_type": "stream",
     "text": [
      "Processing f1:   4%|▍         | 10/254 [00:03<01:28,  2.75it/s]"
     ]
    },
    {
     "name": "stdout",
     "output_type": "stream",
     "text": [
      "Processed 10/254 files\n"
     ]
    },
    {
     "name": "stderr",
     "output_type": "stream",
     "text": [
      "Processing f1:   8%|▊         | 20/254 [00:07<01:24,  2.76it/s]"
     ]
    },
    {
     "name": "stdout",
     "output_type": "stream",
     "text": [
      "Processed 20/254 files\n"
     ]
    },
    {
     "name": "stderr",
     "output_type": "stream",
     "text": [
      "Processing f1:  12%|█▏        | 30/254 [00:11<01:23,  2.67it/s]"
     ]
    },
    {
     "name": "stdout",
     "output_type": "stream",
     "text": [
      "Processed 30/254 files\n"
     ]
    },
    {
     "name": "stderr",
     "output_type": "stream",
     "text": [
      "Processing f1:  16%|█▌        | 40/254 [00:14<01:22,  2.59it/s]"
     ]
    },
    {
     "name": "stdout",
     "output_type": "stream",
     "text": [
      "Processed 40/254 files\n"
     ]
    },
    {
     "name": "stderr",
     "output_type": "stream",
     "text": [
      "Processing f1:  20%|█▉        | 50/254 [00:19<01:36,  2.12it/s]"
     ]
    },
    {
     "name": "stdout",
     "output_type": "stream",
     "text": [
      "Processed 50/254 files\n"
     ]
    },
    {
     "name": "stderr",
     "output_type": "stream",
     "text": [
      "Processing f1:  24%|██▎       | 60/254 [00:24<01:21,  2.39it/s]"
     ]
    },
    {
     "name": "stdout",
     "output_type": "stream",
     "text": [
      "Processed 60/254 files\n"
     ]
    },
    {
     "name": "stderr",
     "output_type": "stream",
     "text": [
      "Processing f1:  28%|██▊       | 70/254 [00:28<01:22,  2.23it/s]"
     ]
    },
    {
     "name": "stdout",
     "output_type": "stream",
     "text": [
      "Processed 70/254 files\n"
     ]
    },
    {
     "name": "stderr",
     "output_type": "stream",
     "text": [
      "Processing f1:  31%|███▏      | 80/254 [00:33<01:13,  2.36it/s]"
     ]
    },
    {
     "name": "stdout",
     "output_type": "stream",
     "text": [
      "Processed 80/254 files\n"
     ]
    },
    {
     "name": "stderr",
     "output_type": "stream",
     "text": [
      "Processing f1:  33%|███▎      | 85/254 [00:35<01:12,  2.35it/s]"
     ]
    },
    {
     "name": "stdout",
     "output_type": "stream",
     "text": [
      "Failed to process XC599531.ogg: No usable segments extracted from audio file: ..\\database\\audio\\test\\XC599531.ogg\n"
     ]
    },
    {
     "name": "stderr",
     "output_type": "stream",
     "text": [
      "Processing f1:  35%|███▍      | 88/254 [00:36<01:05,  2.55it/s]"
     ]
    },
    {
     "name": "stdout",
     "output_type": "stream",
     "text": [
      "Failed to process XC147035.ogg: No usable segments extracted from audio file: ..\\database\\audio\\test\\XC147035.ogg\n"
     ]
    },
    {
     "name": "stderr",
     "output_type": "stream",
     "text": [
      "Processing f1:  35%|███▌      | 90/254 [00:36<00:50,  3.22it/s]"
     ]
    },
    {
     "name": "stdout",
     "output_type": "stream",
     "text": [
      "Processed 90/254 files\n"
     ]
    },
    {
     "name": "stderr",
     "output_type": "stream",
     "text": [
      "Processing f1:  39%|███▉      | 100/254 [00:41<01:11,  2.17it/s]"
     ]
    },
    {
     "name": "stdout",
     "output_type": "stream",
     "text": [
      "Processed 100/254 files\n"
     ]
    },
    {
     "name": "stderr",
     "output_type": "stream",
     "text": [
      "Processing f1:  43%|████▎     | 110/254 [00:45<01:01,  2.32it/s]"
     ]
    },
    {
     "name": "stdout",
     "output_type": "stream",
     "text": [
      "Processed 110/254 files\n"
     ]
    },
    {
     "name": "stderr",
     "output_type": "stream",
     "text": [
      "Processing f1:  47%|████▋     | 120/254 [00:50<00:55,  2.40it/s]"
     ]
    },
    {
     "name": "stdout",
     "output_type": "stream",
     "text": [
      "Processed 120/254 files\n"
     ]
    },
    {
     "name": "stderr",
     "output_type": "stream",
     "text": [
      "Processing f1:  51%|█████     | 130/254 [00:54<00:54,  2.27it/s]"
     ]
    },
    {
     "name": "stdout",
     "output_type": "stream",
     "text": [
      "Processed 130/254 files\n"
     ]
    },
    {
     "name": "stderr",
     "output_type": "stream",
     "text": [
      "Processing f1:  55%|█████▌    | 140/254 [00:58<00:42,  2.68it/s]"
     ]
    },
    {
     "name": "stdout",
     "output_type": "stream",
     "text": [
      "Processed 140/254 files\n"
     ]
    },
    {
     "name": "stderr",
     "output_type": "stream",
     "text": [
      "Processing f1:  59%|█████▉    | 150/254 [01:02<00:37,  2.78it/s]"
     ]
    },
    {
     "name": "stdout",
     "output_type": "stream",
     "text": [
      "Processed 150/254 files\n"
     ]
    },
    {
     "name": "stderr",
     "output_type": "stream",
     "text": [
      "Processing f1:  63%|██████▎   | 160/254 [01:06<00:36,  2.54it/s]"
     ]
    },
    {
     "name": "stdout",
     "output_type": "stream",
     "text": [
      "Processed 160/254 files\n"
     ]
    },
    {
     "name": "stderr",
     "output_type": "stream",
     "text": [
      "Processing f1:  67%|██████▋   | 170/254 [01:10<00:30,  2.79it/s]"
     ]
    },
    {
     "name": "stdout",
     "output_type": "stream",
     "text": [
      "Processed 170/254 files\n"
     ]
    },
    {
     "name": "stderr",
     "output_type": "stream",
     "text": [
      "Processing f1:  71%|███████   | 180/254 [01:13<00:28,  2.55it/s]"
     ]
    },
    {
     "name": "stdout",
     "output_type": "stream",
     "text": [
      "Processed 180/254 files\n"
     ]
    },
    {
     "name": "stderr",
     "output_type": "stream",
     "text": [
      "Processing f1:  75%|███████▍  | 190/254 [01:17<00:23,  2.75it/s]"
     ]
    },
    {
     "name": "stdout",
     "output_type": "stream",
     "text": [
      "Processed 190/254 files\n"
     ]
    },
    {
     "name": "stderr",
     "output_type": "stream",
     "text": [
      "Processing f1:  79%|███████▊  | 200/254 [01:21<00:18,  2.88it/s]"
     ]
    },
    {
     "name": "stdout",
     "output_type": "stream",
     "text": [
      "Processed 200/254 files\n"
     ]
    },
    {
     "name": "stderr",
     "output_type": "stream",
     "text": [
      "Processing f1:  83%|████████▎ | 210/254 [01:25<00:21,  2.09it/s]"
     ]
    },
    {
     "name": "stdout",
     "output_type": "stream",
     "text": [
      "Processed 210/254 files\n"
     ]
    },
    {
     "name": "stderr",
     "output_type": "stream",
     "text": [
      "Processing f1:  87%|████████▋ | 220/254 [01:29<00:12,  2.71it/s]"
     ]
    },
    {
     "name": "stdout",
     "output_type": "stream",
     "text": [
      "Processed 220/254 files\n",
      "Failed to process XC599219.ogg: No usable segments extracted from audio file: ..\\database\\audio\\test\\XC599219.ogg\n"
     ]
    },
    {
     "name": "stderr",
     "output_type": "stream",
     "text": [
      "Processing f1:  91%|█████████ | 230/254 [01:32<00:08,  2.76it/s]"
     ]
    },
    {
     "name": "stdout",
     "output_type": "stream",
     "text": [
      "Processed 230/254 files\n"
     ]
    },
    {
     "name": "stderr",
     "output_type": "stream",
     "text": [
      "Processing f1:  94%|█████████▍| 240/254 [01:37<00:06,  2.12it/s]"
     ]
    },
    {
     "name": "stdout",
     "output_type": "stream",
     "text": [
      "Processed 240/254 files\n"
     ]
    },
    {
     "name": "stderr",
     "output_type": "stream",
     "text": [
      "Processing f1:  98%|█████████▊| 250/254 [01:41<00:01,  2.39it/s]"
     ]
    },
    {
     "name": "stdout",
     "output_type": "stream",
     "text": [
      "Processed 250/254 files\n"
     ]
    },
    {
     "name": "stderr",
     "output_type": "stream",
     "text": [
      "Processing f1: 100%|██████████| 254/254 [01:43<00:00,  2.45it/s]"
     ]
    },
    {
     "name": "stdout",
     "output_type": "stream",
     "text": [
      "\n",
      "✓ f1 results:\n",
      "  Successfully processed: 251 files\n",
      "  Failed files: 3\n",
      "  Accuracy: 0.0956\n",
      "  F1 Score: 0.0469\n",
      "  Failed files: ['XC599531.ogg', 'XC147035.ogg', 'XC599219.ogg']\n",
      "\n",
      "============================================================\n",
      "FCNN MODELS TESTING COMPLETED\n",
      "============================================================\n"
     ]
    },
    {
     "name": "stderr",
     "output_type": "stream",
     "text": [
      "\n"
     ]
    }
   ],
   "source": [
    "# Test all FCNN models\n",
    "fcnn_results = {}\n",
    "\n",
    "for model_name, (model_class, model_path) in final_fcnn_models.items():\n",
    "    print(f\"\\n{'='*50}\")\n",
    "    print(f\"Testing FCNN model: {model_name}\")\n",
    "    print(f\"Model class: {model_class.__name__}\")\n",
    "    print(f\"Model path: {model_path}\")\n",
    "    print(f\"{'='*50}\")\n",
    "    \n",
    "    # Storage for this model's results\n",
    "    all_predictions = []\n",
    "    all_probabilities = []\n",
    "    all_true_labels = []\n",
    "    failed_files = []\n",
    "    \n",
    "    # Process each test file\n",
    "    for i, file_info in enumerate(tqdm(test_files, desc=f\"Processing {model_name}\")):\n",
    "        try:\n",
    "            # Perform inference\n",
    "            probabilities = perform_audio_inference_fcnn(\n",
    "                audio_path=file_info['path'],\n",
    "                model_class=model_class,\n",
    "                model_path=model_path,\n",
    "                reduce_noise=False\n",
    "            )\n",
    "            \n",
    "            # Get predicted class (argmax of probabilities)\n",
    "            predicted_class = np.argmax(probabilities)\n",
    "            \n",
    "            # Store results\n",
    "            all_probabilities.append(probabilities)\n",
    "            all_predictions.append(predicted_class)\n",
    "            all_true_labels.append(file_info['class_id'])\n",
    "            \n",
    "            # Progress update every 10 files (reduced for better feedback)\n",
    "            if (i + 1) % 10 == 0:\n",
    "                print(f\"Processed {i + 1}/{len(test_files)} files\")\n",
    "                \n",
    "        except Exception as e:\n",
    "            print(f\"Failed to process {file_info['filename']}: {str(e)}\")\n",
    "            failed_files.append(file_info['filename'])\n",
    "            continue\n",
    "    \n",
    "    # Calculate metrics for this model\n",
    "    if len(all_predictions) > 0:\n",
    "        accuracy = accuracy_score(all_true_labels, all_predictions)\n",
    "        f1 = f1_score(all_true_labels, all_predictions, average='weighted')\n",
    "        \n",
    "        # Store results\n",
    "        fcnn_results[model_name] = {\n",
    "            'accuracy': accuracy,\n",
    "            'f1_score': f1,\n",
    "            'predictions': all_predictions,\n",
    "            'probabilities': all_probabilities,\n",
    "            'true_labels': all_true_labels,\n",
    "            'failed_files': failed_files,\n",
    "            'model_class': model_class.__name__\n",
    "        }\n",
    "        \n",
    "        print(f\"\\n✓ {model_name} results:\")\n",
    "        print(f\"  Successfully processed: {len(all_predictions)} files\")\n",
    "        print(f\"  Failed files: {len(failed_files)}\")\n",
    "        print(f\"  Accuracy: {accuracy:.4f}\")\n",
    "        print(f\"  F1 Score: {f1:.4f}\")\n",
    "        \n",
    "        if failed_files:\n",
    "            print(f\"  Failed files: {failed_files[:3]}{'...' if len(failed_files) > 3 else ''}\")\n",
    "    else:\n",
    "        print(f\"❌ No successful predictions for {model_name}\")\n",
    "\n",
    "print(f\"\\n{'='*60}\")\n",
    "print(\"FCNN MODELS TESTING COMPLETED\")\n",
    "print(f\"{'='*60}\")"
   ]
  },
  {
   "cell_type": "markdown",
   "id": "7a198a35",
   "metadata": {},
   "source": [
    "## Results"
   ]
  },
  {
   "cell_type": "code",
   "execution_count": 19,
   "id": "037cca01",
   "metadata": {},
   "outputs": [
    {
     "name": "stdout",
     "output_type": "stream",
     "text": [
      "================================================================================\n",
      "FINAL MODEL COMPARISON RESULTS\n",
      "================================================================================\n",
      "  Model Model_Type  Model_Class  F1_Score  Accuracy\n",
      "0    m0        CNN   BirdCNN_v5    0.0041    0.0239\n",
      "1    m1        CNN  BirdCNN_v5c    0.0044    0.0319\n",
      "2    m2        CNN   BirdCNN_v7    0.0081    0.0518\n",
      "3    m3        CNN  BirdCNN_v7e    0.0296    0.0677\n",
      "4    f0       FCNN     BirdFCNN    0.0232    0.0438\n",
      "5    f1       FCNN  BirdFCNN_v1    0.0469    0.0956\n",
      "================================================================================\n",
      "\n",
      "🏆 BEST MODEL: f1\n",
      "   Model Type: FCNN\n",
      "   Model Class: BirdFCNN_v1\n",
      "   F1 Score: 0.0469\n",
      "   Accuracy: 0.0956\n"
     ]
    },
    {
     "data": {
      "image/png": "[encoded data removed]",
      "text/plain": [
       "<Figure size 1200x800 with 1 Axes>"
      ]
     },
     "metadata": {},
     "output_type": "display_data"
    },
    {
     "name": "stdout",
     "output_type": "stream",
     "text": [
      "\n",
      "================================================================================\n",
      "DETAILED ANALYSIS\n",
      "================================================================================\n",
      "\n",
      "F1 Score Statistics:\n",
      "  Best F1 Score: 0.0469 (f1)\n",
      "  Worst F1 Score: 0.0041 (m0)\n",
      "  Average F1 Score: 0.0194\n",
      "  Standard Deviation: 0.0156\n",
      "\n",
      "Model Type Performance:\n",
      "  CNN Models - Average F1: 0.0115, Best: 0.0296\n",
      "  FCNN Models - Average F1: 0.0350, Best: 0.0469\n",
      "\n",
      "💾 Results saved to: ../models/test_results_comparison.csv\n"
     ]
    }
   ],
   "source": [
    "# Combine all results and create visualization\n",
    "all_results = {**cnn_results, **fcnn_results}\n",
    "\n",
    "# Extract F1 scores and model info for plotting\n",
    "model_names = []\n",
    "f1_scores = []\n",
    "model_types = []\n",
    "model_classes = []\n",
    "\n",
    "for model_name, results in all_results.items():\n",
    "    model_names.append(model_name)\n",
    "    f1_scores.append(results['f1_score'])\n",
    "    model_types.append('CNN' if model_name.startswith('m') else 'FCNN')\n",
    "    model_classes.append(results['model_class'])\n",
    "\n",
    "# Create a summary DataFrame\n",
    "results_df = pd.DataFrame({\n",
    "    'Model': model_names,\n",
    "    'Model_Type': model_types,\n",
    "    'Model_Class': model_classes,\n",
    "    'F1_Score': f1_scores,\n",
    "    'Accuracy': [all_results[name]['accuracy'] for name in model_names]\n",
    "})\n",
    "\n",
    "# Display results table\n",
    "print(\"=\"*80)\n",
    "print(\"FINAL MODEL COMPARISON RESULTS\")\n",
    "print(\"=\"*80)\n",
    "print(results_df.round(4))\n",
    "print(\"=\"*80)\n",
    "\n",
    "# Find the best model\n",
    "best_model_idx = np.argmax(f1_scores)\n",
    "best_model = model_names[best_model_idx]\n",
    "best_f1 = f1_scores[best_model_idx]\n",
    "\n",
    "print(f\"\\n🏆 BEST MODEL: {best_model}\")\n",
    "print(f\"   Model Type: {model_types[best_model_idx]}\")\n",
    "print(f\"   Model Class: {model_classes[best_model_idx]}\")\n",
    "print(f\"   F1 Score: {best_f1:.4f}\")\n",
    "print(f\"   Accuracy: {all_results[best_model]['accuracy']:.4f}\")\n",
    "\n",
    "# Create the main F1 Score comparison chart\n",
    "plt.figure(figsize=(12, 8))\n",
    "\n",
    "# Create colors - highlight the best model\n",
    "colors = ['#2E8B57' if i == best_model_idx else '#4682B4' for i in range(len(model_names))]\n",
    "edge_colors = ['#FFD700' if i == best_model_idx else '#2F4F4F' for i in range(len(model_names))]\n",
    "edge_widths = [3 if i == best_model_idx else 1 for i in range(len(model_names))]\n",
    "\n",
    "# Create the bar chart\n",
    "bars = plt.bar(model_names, f1_scores, color=colors, edgecolor=edge_colors, linewidth=edge_widths, alpha=0.8)\n",
    "\n",
    "# Customize the chart\n",
    "plt.title('F1 Score Comparison Across All Models\\n(Best Model Highlighted with Gold Edge)', \n",
    "          fontsize=16, fontweight='bold', pad=20)\n",
    "plt.xlabel('Model', fontsize=14, fontweight='bold')\n",
    "plt.ylabel('F1 Score', fontsize=14, fontweight='bold')\n",
    "plt.ylim(0, max(f1_scores) * 1.1)\n",
    "\n",
    "# Add value labels on top of bars\n",
    "for i, (bar, f1_score) in enumerate(zip(bars, f1_scores)):\n",
    "    height = bar.get_height()\n",
    "    plt.text(bar.get_x() + bar.get_width()/2., height + 0.005,\n",
    "             f'{f1_score:.4f}',\n",
    "             ha='center', va='bottom', fontweight='bold',\n",
    "             fontsize=11, color='black')\n",
    "\n",
    "# Add model type annotations below x-axis\n",
    "for i, (name, model_type) in enumerate(zip(model_names, model_types)):\n",
    "    plt.text(i, -max(f1_scores) * 0.05, model_type, \n",
    "             ha='center', va='top', fontsize=10, \n",
    "             style='italic', color='gray')\n",
    "\n",
    "# Add grid for better readability\n",
    "plt.grid(axis='y', alpha=0.3, linestyle='--')\n",
    "\n",
    "# Add legend\n",
    "from matplotlib.patches import Patch\n",
    "legend_elements = [\n",
    "    Patch(facecolor='#2E8B57', edgecolor='#FFD700', linewidth=3, label='Best Model'),\n",
    "    Patch(facecolor='#4682B4', edgecolor='#2F4F4F', linewidth=1, label='Other Models')\n",
    "]\n",
    "plt.legend(handles=legend_elements, loc='upper right')\n",
    "\n",
    "plt.tight_layout()\n",
    "plt.show()\n",
    "\n",
    "# Additional detailed analysis\n",
    "print(f\"\\n{'='*80}\")\n",
    "print(\"DETAILED ANALYSIS\")\n",
    "print(f\"{'='*80}\")\n",
    "\n",
    "print(f\"\\nF1 Score Statistics:\")\n",
    "print(f\"  Best F1 Score: {max(f1_scores):.4f} ({best_model})\")\n",
    "print(f\"  Worst F1 Score: {min(f1_scores):.4f} ({model_names[np.argmin(f1_scores)]})\")\n",
    "print(f\"  Average F1 Score: {np.mean(f1_scores):.4f}\")\n",
    "print(f\"  Standard Deviation: {np.std(f1_scores):.4f}\")\n",
    "\n",
    "print(f\"\\nModel Type Performance:\")\n",
    "cnn_f1_scores = [f1_scores[i] for i, t in enumerate(model_types) if t == 'CNN']\n",
    "fcnn_f1_scores = [f1_scores[i] for i, t in enumerate(model_types) if t == 'FCNN']\n",
    "\n",
    "if cnn_f1_scores:\n",
    "    print(f\"  CNN Models - Average F1: {np.mean(cnn_f1_scores):.4f}, Best: {max(cnn_f1_scores):.4f}\")\n",
    "if fcnn_f1_scores:\n",
    "    print(f\"  FCNN Models - Average F1: {np.mean(fcnn_f1_scores):.4f}, Best: {max(fcnn_f1_scores):.4f}\")\n",
    "\n",
    "# Save results to CSV for future reference\n",
    "results_df.to_csv('../models/test_results_comparison.csv', index=False)\n",
    "print(f\"\\n💾 Results saved to: ../models/test_results_comparison.csv\")"
   ]
  },
  {
   "cell_type": "code",
   "execution_count": 20,
   "id": "b3c3308a",
   "metadata": {},
   "outputs": [
    {
     "data": {
      "image/png": "[encoded data removed]",
      "text/plain": [
       "<Figure size 1800x1200 with 12 Axes>"
      ]
     },
     "metadata": {},
     "output_type": "display_data"
    },
    {
     "name": "stdout",
     "output_type": "stream",
     "text": [
      "\n",
      "============================================================\n",
      "DETAILED CONFUSION MATRIX FOR BEST MODEL: f1\n",
      "============================================================\n"
     ]
    },
    {
     "data": {
      "image/png": "[encoded data removed]",
      "text/plain": [
       "<Figure size 1400x1200 with 2 Axes>"
      ]
     },
     "metadata": {},
     "output_type": "display_data"
    },
    {
     "name": "stdout",
     "output_type": "stream",
     "text": [
      "\n",
      "CLASSIFICATION REPORT FOR BEST MODEL: f1\n",
      "============================================================\n",
      "              precision    recall  f1-score   support\n",
      "\n",
      "           0       0.00      0.00      0.00         8\n",
      "           1       0.00      0.00      0.00         7\n",
      "           2       0.00      0.00      0.00         3\n",
      "           3       0.00      0.00      0.00         8\n",
      "           4       0.00      0.00      0.00         6\n",
      "           5       0.00      0.00      0.00        11\n",
      "           6       0.33      0.20      0.25         5\n",
      "           7       0.75      0.50      0.60         6\n",
      "           8       0.00      0.00      0.00         7\n",
      "           9       0.00      0.00      0.00         8\n",
      "          10       0.00      0.00      0.00         5\n",
      "          11       0.00      0.00      0.00         5\n",
      "          12       0.00      0.00      0.00        10\n",
      "          13       0.00      0.00      0.00        11\n",
      "          14       0.13      0.75      0.22         4\n",
      "          15       0.00      0.00      0.00         8\n",
      "          16       0.00      0.00      0.00         3\n",
      "          17       0.00      0.00      0.00         3\n",
      "          18       0.00      0.00      0.00         7\n",
      "          19       0.00      0.00      0.00         8\n",
      "          20       0.00      0.00      0.00         8\n",
      "          21       0.00      0.00      0.00         6\n",
      "          22       0.00      0.00      0.00         8\n",
      "          23       0.00      0.00      0.00        11\n",
      "          24       0.00      0.00      0.00         4\n",
      "          25       0.06      0.67      0.11         9\n",
      "          26       0.00      0.00      0.00         5\n",
      "          27       0.00      0.00      0.00         8\n",
      "          28       0.00      0.00      0.00        18\n",
      "          29       0.09      0.67      0.16        12\n",
      "          30       0.33      0.30      0.32        10\n",
      "          31       0.00      0.00      0.00         3\n",
      "          32       0.00      0.00      0.00        16\n",
      "\n",
      "    accuracy                           0.10       251\n",
      "   macro avg       0.05      0.09      0.05       251\n",
      "weighted avg       0.05      0.10      0.05       251\n",
      "\n"
     ]
    }
   ],
   "source": [
    "from sklearn.metrics import confusion_matrix\n",
    "import seaborn as sns\n",
    "from sklearn.metrics import classification_report\n",
    "\n",
    "# Create confusion matrices for each model\n",
    "import matplotlib.pyplot as plt\n",
    "\n",
    "# Set up the subplot layout\n",
    "n_models = len(all_results)\n",
    "fig, axes = plt.subplots(2, 3, figsize=(18, 12))\n",
    "axes = axes.flatten()\n",
    "\n",
    "# Get class labels for better visualization (you can modify this based on your class mapping)\n",
    "class_labels = list(range(NUM_CLASSES))\n",
    "\n",
    "for idx, (model_name, results) in enumerate(all_results.items()):\n",
    "    # Get predictions and true labels for this model\n",
    "    y_true = results['true_labels']\n",
    "    y_pred = results['predictions']\n",
    "    \n",
    "    # Create confusion matrix\n",
    "    cm = confusion_matrix(y_true, y_pred, labels=class_labels)\n",
    "    \n",
    "    # Plot confusion matrix\n",
    "    ax = axes[idx]\n",
    "    sns.heatmap(cm, annot=True, fmt='d', cmap='Blues', ax=ax, \n",
    "                xticklabels=class_labels, yticklabels=class_labels,\n",
    "                cbar_kws={'shrink': 0.8})\n",
    "    \n",
    "    # Customize the plot\n",
    "    model_type = 'CNN' if model_name.startswith('m') else 'FCNN'\n",
    "    ax.set_title(f'{model_name} ({model_type})\\nF1: {results[\"f1_score\"]:.4f}, Acc: {results[\"accuracy\"]:.4f}', \n",
    "                fontsize=12, fontweight='bold')\n",
    "    ax.set_xlabel('Predicted Class', fontsize=10)\n",
    "    ax.set_ylabel('True Class', fontsize=10)\n",
    "    \n",
    "    # Rotate tick labels for better readability\n",
    "    ax.tick_params(axis='x', rotation=45)\n",
    "    ax.tick_params(axis='y', rotation=0)\n",
    "\n",
    "# Remove empty subplot if any\n",
    "if n_models < len(axes):\n",
    "    fig.delaxes(axes[-1])\n",
    "\n",
    "plt.tight_layout()\n",
    "plt.suptitle('Confusion Matrices for All Models', fontsize=16, fontweight='bold', y=1.02)\n",
    "plt.show()\n",
    "\n",
    "# Create a detailed confusion matrix for the best model\n",
    "print(f\"\\n{'='*60}\")\n",
    "print(f\"DETAILED CONFUSION MATRIX FOR BEST MODEL: {best_model}\")\n",
    "print(f\"{'='*60}\")\n",
    "\n",
    "best_results = all_results[best_model]\n",
    "y_true_best = best_results['true_labels']\n",
    "y_pred_best = best_results['predictions']\n",
    "\n",
    "# Create confusion matrix for best model\n",
    "cm_best = confusion_matrix(y_true_best, y_pred_best, labels=class_labels)\n",
    "\n",
    "# Plot detailed confusion matrix for best model\n",
    "plt.figure(figsize=(14, 12))\n",
    "sns.heatmap(cm_best, annot=True, fmt='d', cmap='viridis', \n",
    "            xticklabels=class_labels, yticklabels=class_labels,\n",
    "            cbar_kws={'shrink': 0.8})\n",
    "\n",
    "plt.title(f'Detailed Confusion Matrix - {best_model} ({model_types[best_model_idx]})\\n'\n",
    "          f'F1 Score: {best_results[\"f1_score\"]:.4f}, Accuracy: {best_results[\"accuracy\"]:.4f}', \n",
    "          fontsize=14, fontweight='bold')\n",
    "plt.xlabel('Predicted Class', fontsize=12)\n",
    "plt.ylabel('True Class', fontsize=12)\n",
    "plt.xticks(rotation=45)\n",
    "plt.yticks(rotation=0)\n",
    "plt.tight_layout()\n",
    "plt.show()\n",
    "\n",
    "# Print classification report for best model\n",
    "print(f\"\\nCLASSIFICATION REPORT FOR BEST MODEL: {best_model}\")\n",
    "print(\"=\"*60)\n",
    "print(classification_report(y_true_best, y_pred_best, labels=class_labels, zero_division=0))"
   ]
  },
  {
   "cell_type": "code",
   "execution_count": 21,
   "id": "73fc432a",
   "metadata": {},
   "outputs": [
    {
     "name": "stdout",
     "output_type": "stream",
     "text": [
      "🎯 MODEL TESTING SUMMARY\n",
      "============================================================\n",
      "Total models tested: 6\n",
      "CNN models: 4\n",
      "FCNN models: 2\n",
      "\n",
      "🏆 Champion: f1 (F1: 0.0469)\n",
      "🎯 Runner-up: m0 (F1: 0.0041)\n",
      "\n",
      "📊 Architecture Comparison:\n",
      "   CNN average F1: 0.0115\n",
      "   FCNN average F1: 0.0350\n",
      "   Winner: FCNN models perform better on average\n",
      "\n",
      "📈 Processing Statistics:\n",
      "   Total inference attempts: 1524\n",
      "   Successful inferences: 1506\n",
      "   Failed inferences: 18\n",
      "   Overall success rate: 98.82%\n",
      "\n",
      "💾 Results saved to: ../models/test_results_comparison.csv\n",
      "============================================================\n",
      "✨ Model testing completed successfully!\n"
     ]
    }
   ],
   "source": [
    "# Final Summary\n",
    "print(\"🎯 MODEL TESTING SUMMARY\")\n",
    "print(\"=\"*60)\n",
    "\n",
    "if all_results:\n",
    "    print(f\"Total models tested: {len(all_results)}\")\n",
    "    print(f\"CNN models: {len(cnn_results)}\")\n",
    "    print(f\"FCNN models: {len(fcnn_results)}\")\n",
    "    \n",
    "    # Best performers\n",
    "    best_model = max(all_results.keys(), key=lambda k: all_results[k]['f1_score'])\n",
    "    worst_model = min(all_results.keys(), key=lambda k: all_results[k]['f1_score'])\n",
    "    \n",
    "    print(f\"\\n🏆 Champion: {best_model} (F1: {all_results[best_model]['f1_score']:.4f})\")\n",
    "    print(f\"🎯 Runner-up: {worst_model} (F1: {all_results[worst_model]['f1_score']:.4f})\")\n",
    "    \n",
    "    # Model type comparison\n",
    "    cnn_scores = [results['f1_score'] for name, results in cnn_results.items()]\n",
    "    fcnn_scores = [results['f1_score'] for name, results in fcnn_results.items()]\n",
    "    \n",
    "    if cnn_scores and fcnn_scores:\n",
    "        avg_cnn = np.mean(cnn_scores)\n",
    "        avg_fcnn = np.mean(fcnn_scores)\n",
    "        winner = \"CNN\" if avg_cnn > avg_fcnn else \"FCNN\"\n",
    "        print(f\"\\n📊 Architecture Comparison:\")\n",
    "        print(f\"   CNN average F1: {avg_cnn:.4f}\")\n",
    "        print(f\"   FCNN average F1: {avg_fcnn:.4f}\")\n",
    "        print(f\"   Winner: {winner} models perform better on average\")\n",
    "    \n",
    "    # Failed files summary\n",
    "    total_failed = sum(len(results['failed_files']) for results in all_results.values())\n",
    "    total_files = len(test_files) * len(all_results)\n",
    "    success_rate = ((total_files - total_failed) / total_files) * 100\n",
    "    \n",
    "    print(f\"\\n📈 Processing Statistics:\")\n",
    "    print(f\"   Total inference attempts: {total_files}\")\n",
    "    print(f\"   Successful inferences: {total_files - total_failed}\")\n",
    "    print(f\"   Failed inferences: {total_failed}\")\n",
    "    print(f\"   Overall success rate: {success_rate:.2f}%\")\n",
    "    \n",
    "    print(f\"\\n💾 Results saved to: ../models/test_results_comparison.csv\")\n",
    "    print(\"=\"*60)\n",
    "    print(\"✨ Model testing completed successfully!\")\n",
    "else:\n",
    "    print(\"❌ No results available - check if models were tested properly\")\n",
    "    print(\"=\"*60)"
   ]
  }
 ],
 "metadata": {
  "kernelspec": {
   "display_name": "birds",
   "language": "python",
   "name": "python3"
  },
  "language_info": {
   "codemirror_mode": {
    "name": "ipython",
    "version": 3
   },
   "file_extension": ".py",
   "mimetype": "text/x-python",
   "name": "python",
   "nbconvert_exporter": "python",
   "pygments_lexer": "ipython3",
   "version": "3.13.4"
  }
 },
 "nbformat": 4,
 "nbformat_minor": 5
}
