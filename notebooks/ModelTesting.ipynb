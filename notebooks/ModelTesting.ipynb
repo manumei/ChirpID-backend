{
 "cells": [
  {
   "cell_type": "markdown",
   "id": "f2dba602",
   "metadata": {},
   "source": [
    "este testea, sin re-entrenar, just con los pesos guardados del modelo after training"
   ]
  }
 ],
 "metadata": {
  "language_info": {
   "name": "python"
  }
 },
 "nbformat": 4,
 "nbformat_minor": 5
}
