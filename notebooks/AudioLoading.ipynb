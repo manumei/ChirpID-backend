{
 "cells": [
  {
   "cell_type": "code",
   "execution_count": 6,
   "id": "2175c270",
   "metadata": {},
   "outputs": [],
   "source": [
    "import os, sys\n",
    "import shutil\n",
    "import pandas as pd\n",
    "from sklearn.model_selection import train_test_split\n",
    "\n",
    "sys.path.append(os.path.abspath(os.path.join(os.getcwd(), '..'))) # Para no tener problemas de relative imports with packages\n",
    "from utils import util"
   ]
  },
  {
   "cell_type": "code",
   "execution_count": 7,
   "id": "72bc338c",
   "metadata": {},
   "outputs": [],
   "source": [
    "# Functions\n",
    "def load_raw_audios(dataframe, source, dest_root, split_name):\n",
    "    '''Copies dataframe-selected audio files from source to dest_root/split_name/'''\n",
    "    dest = os.path.join(dest_root, split_name)\n",
    "    os.makedirs(dest, exist_ok=True)\n",
    "\n",
    "    for _, row in dataframe.iterrows():\n",
    "        primary_label = row['primary_label']\n",
    "        filename = row['filename']\n",
    "        \n",
    "        source_path = os.path.join(source, primary_label, filename)\n",
    "        destination_path = os.path.join(dest, filename)\n",
    "\n",
    "        if os.path.exists(source_path):\n",
    "            shutil.copy2(source_path, destination_path)"
   ]
  },
  {
   "cell_type": "code",
   "execution_count": 8,
   "id": "d4f45b4b",
   "metadata": {},
   "outputs": [],
   "source": [
    "# Paths\n",
    "df = pd.read_csv(os.path.join('..', 'database', 'meta', 'final_species.csv')) \n",
    "birdclef_dir = os.path.join('..', 'data', 'birdclef-2021', 'train_short_audio')\n",
    "audio_dir = os.path.join('..', 'database', 'audio')"
   ]
  },
  {
   "cell_type": "code",
   "execution_count": 9,
   "id": "097267c3",
   "metadata": {},
   "outputs": [],
   "source": [
    "# Load Metadata\n",
    "dev_df, test_df = train_test_split(\n",
    "    df,\n",
    "    test_size=0.2,\n",
    "    stratify=df['class_id'],\n",
    "    random_state=435\n",
    ")\n",
    "\n",
    "dev_df.to_csv(os.path.join('..', 'database', 'meta', 'split_dev.csv'), index=False)\n",
    "test_df.to_csv(os.path.join('..', 'database', 'meta', 'split_test.csv'), index=False)"
   ]
  },
  {
   "cell_type": "code",
   "execution_count": 10,
   "id": "45f4fc7d",
   "metadata": {},
   "outputs": [
    {
     "name": "stdout",
     "output_type": "stream",
     "text": [
      "Resetting raw audio files...\n",
      "Loading Dev Files...\n",
      "Loading Test Files...\n"
     ]
    }
   ],
   "source": [
    "# Main\n",
    "print(\"Resetting raw audio files...\")\n",
    "util.clean_dir(audio_dir)\n",
    "\n",
    "print(\"Loading Dev Files...\")\n",
    "load_raw_audios(dev_df, birdclef_dir, audio_dir, split_name='dev')\n",
    "\n",
    "print(\"Loading Test Files...\")\n",
    "load_raw_audios(test_df, birdclef_dir, audio_dir, split_name='test')"
   ]
  }
 ],
 "metadata": {
  "kernelspec": {
   "display_name": "birds",
   "language": "python",
   "name": "python3"
  },
  "language_info": {
   "codemirror_mode": {
    "name": "ipython",
    "version": 3
   },
   "file_extension": ".py",
   "mimetype": "text/x-python",
   "name": "python",
   "nbconvert_exporter": "python",
   "pygments_lexer": "ipython3",
   "version": "3.13.4"
  }
 },
 "nbformat": 4,
 "nbformat_minor": 5
}
