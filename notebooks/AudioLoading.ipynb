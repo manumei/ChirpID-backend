{
 "cells": [
  {
   "cell_type": "code",
   "execution_count": 4,
   "id": "c8f98959",
   "metadata": {},
   "outputs": [],
   "source": [
    "import os\n",
    "import sys\n",
    "import shutil\n",
    "import pandas as pd"
   ]
  },
  {
   "cell_type": "code",
   "execution_count": 5,
   "id": "72bc338c",
   "metadata": {},
   "outputs": [],
   "source": [
    "def load_raw_audios(dataframe, source_dir, dest_dir):\n",
    "    ''' Searches in the source_dir, the audio files present in the dataframe and copies them to the dest_dir.'''\n",
    "\n",
    "    source_dir = 'data/birdclef-2021/train_short_audio'\n",
    "    dest_dir = 'database/assets/raw'\n",
    "    os.makedirs(dest_dir, exist_ok=True)\n",
    "\n",
    "    for _, row in dataframe.iterrows():\n",
    "        primary_label = row['primary_label']\n",
    "        filename = row['filename']\n",
    "        \n",
    "        source_path = os.path.join(source_dir, primary_label, filename)\n",
    "        destination_path = os.path.join(dest_dir, filename)\n",
    "\n",
    "        if os.path.exists(source_path):\n",
    "            shutil.copy2(source_path, destination_path)\n",
    "\n",
    "def reset_raw_audios(dest_dir):\n",
    "    ''' Deletes the raw audio files in the dest_dir.'''\n",
    "\n",
    "    if os.path.exists(dest_dir):\n",
    "        shutil.rmtree(dest_dir)\n",
    "    os.makedirs(dest_dir, exist_ok=True)"
   ]
  },
  {
   "cell_type": "code",
   "execution_count": null,
   "id": "d4f45b4b",
   "metadata": {},
   "outputs": [],
   "source": [
    "df = pd.read_csv(os.path.join('..', 'database', 'meta', 'final_species.csv'))\n",
    "\n",
    "repo_root = os.path.abspath(os.path.join(os.getcwd(), '..'))\n",
    "os.chdir(repo_root)\n",
    "\n",
    "source_dir = os.path.join('..', 'data', 'birdclef-2021', 'train_short_audio')\n",
    "dest_dir = os.path.join('..', 'database', 'assets', 'raw')"
   ]
  },
  {
   "cell_type": "code",
   "execution_count": null,
   "id": "45f4fc7d",
   "metadata": {},
   "outputs": [],
   "source": [
    "# Reset, then load the raw audio files\n",
    "print(\"Resetting raw audio files...\")\n",
    "reset_raw_audios(dest_dir)\n",
    "\n",
    "print(\"Loading raw audio files...\")\n",
    "load_raw_audios(df, source_dir, dest_dir)"
   ]
  }
 ],
 "metadata": {
  "kernelspec": {
   "display_name": "birds",
   "language": "python",
   "name": "python3"
  },
  "language_info": {
   "codemirror_mode": {
    "name": "ipython",
    "version": 3
   },
   "file_extension": ".py",
   "mimetype": "text/x-python",
   "name": "python",
   "nbconvert_exporter": "python",
   "pygments_lexer": "ipython3",
   "version": "3.13.4"
  }
 },
 "nbformat": 4,
 "nbformat_minor": 5
}
