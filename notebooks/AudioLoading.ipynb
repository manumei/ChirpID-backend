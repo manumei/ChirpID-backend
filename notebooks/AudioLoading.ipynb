{
 "cells": [
  {
   "cell_type": "code",
   "execution_count": null,
   "id": "2175c270",
   "metadata": {},
   "outputs": [
    {
     "name": "stderr",
     "output_type": "stream",
     "text": [
      "c:\\Users\\manue\\miniconda3\\envs\\birds\\Lib\\site-packages\\tqdm\\auto.py:21: TqdmWarning: IProgress not found. Please update jupyter and ipywidgets. See https://ipywidgets.readthedocs.io/en/stable/user_install.html\n",
      "  from .autonotebook import tqdm as notebook_tqdm\n"
     ]
    }
   ],
   "source": [
    "import os, sys\n",
    "import shutil\n",
    "import pandas as pd\n",
    "import matplotlib.pyplot as plt\n",
    "import numpy as np\n",
    "from tabulate import tabulate\n",
    "\n",
    "sys.path.append(os.path.abspath(os.path.join(os.getcwd(), '..'))) # Para no tener problemas de relative imports with packages\n",
    "import utils.split as split\n",
    "from utils.data_processing import clean_dir"
   ]
  },
  {
   "cell_type": "code",
   "execution_count": null,
   "id": "f3f9255e",
   "metadata": {},
   "outputs": [],
   "source": [
    "CLASS_CAP = 100"
   ]
  },
  {
   "cell_type": "code",
   "execution_count": 2,
   "id": "72bc338c",
   "metadata": {},
   "outputs": [],
   "source": [
    "# Functions\n",
    "def load_raw_audios(dataframe, source, dest_root, split_name):\n",
    "    '''Copies dataframe-selected audio files from source to dest_root/split_name/'''\n",
    "    dest = os.path.join(dest_root, split_name)\n",
    "    os.makedirs(dest, exist_ok=True)\n",
    "\n",
    "    for _, row in dataframe.iterrows():\n",
    "        primary_label = row['primary_label']\n",
    "        filename = row['filename']\n",
    "        \n",
    "        source_path = os.path.join(source, primary_label, filename)\n",
    "        destination_path = os.path.join(dest, filename)\n",
    "\n",
    "        if os.path.exists(source_path):\n",
    "            shutil.copy2(source_path, destination_path)"
   ]
  },
  {
   "cell_type": "code",
   "execution_count": 3,
   "id": "d4f45b4b",
   "metadata": {},
   "outputs": [],
   "source": [
    "# Paths\n",
    "df = pd.read_csv(os.path.join('..', 'database', 'meta', 'final_species.csv')) \n",
    "birdclef_dir = os.path.join('..', 'data', 'birdclef-2021', 'train_short_audio')\n",
    "audio_dir = os.path.join('..', 'database', 'audio')"
   ]
  },
  {
   "cell_type": "code",
   "execution_count": null,
   "id": "59f12728",
   "metadata": {},
   "outputs": [
    {
     "data": {
      "text/plain": [
       "<module 'utils.split' from 'c:\\\\Users\\\\manue\\\\Desktop\\\\manum\\\\coding\\\\ChirpID-backend\\\\utils\\\\split.py'>"
      ]
     },
     "execution_count": 6,
     "metadata": {},
     "output_type": "execute_result"
    }
   ],
   "source": [
    "import importlib\n",
    "importlib.reload(utils.split)"
   ]
  },
  {
   "cell_type": "markdown",
   "id": "b17fdb3e",
   "metadata": {},
   "source": [
    "This one to test stratified seeds"
   ]
  },
  {
   "cell_type": "code",
   "execution_count": null,
   "id": "7a9569ce",
   "metadata": {},
   "outputs": [
    {
     "name": "stdout",
     "output_type": "stream",
     "text": [
      "New best split found! Seed: 7, Score: 0.970\n",
      "New best split found! Seed: 11, Score: 0.788\n",
      "New best split found! Seed: 14, Score: 0.310\n",
      "New best split found! Seed: 366, Score: 0.308\n",
      "New best split found! Seed: 802, Score: 0.303\n",
      "New best split found! Seed: 1522, Score: 0.301\n",
      "New best split found! Seed: 3110, Score: 0.265\n",
      "New best split found! Seed: 8599, Score: 0.265\n",
      "New best split found! Seed: 24769, Score: 0.254\n",
      "New best split found! Seed: 127764, Score: 0.240\n",
      "New best split found! Seed: 270291, Score: 0.240\n",
      "\n",
      "Best split found:\n",
      "Seed: 270291\n",
      "Stratification score: 0.240\n",
      "Author overlap: set()\n",
      "Segments in dev set: 4945\n",
      "Segments in test set: 1150\n",
      "Dev segment%: 81.13%\n",
      "Test segment%: 18.87%\n",
      "\n",
      "Segment distribution comparison:\n",
      "+----+------------------------+------------------------+-----------------------+-----------------------+------------------+\n",
      "|    |   Target_Test_Segments |   Actual_Test_Segments |   Target_Dev_Segments |   Actual_Dev_Segments |   Total_Segments |\n",
      "+====+========================+========================+=======================+=======================+==================+\n",
      "|  0 |                     29 |                     28 |                   118 |                   119 |              147 |\n",
      "+----+------------------------+------------------------+-----------------------+-----------------------+------------------+\n",
      "|  1 |                     23 |                     19 |                    90 |                    94 |              113 |\n",
      "+----+------------------------+------------------------+-----------------------+-----------------------+------------------+\n",
      "|  2 |                     21 |                     15 |                    84 |                    90 |              105 |\n",
      "+----+------------------------+------------------------+-----------------------+-----------------------+------------------+\n",
      "|  3 |                     16 |                     24 |                    64 |                    56 |               80 |\n",
      "+----+------------------------+------------------------+-----------------------+-----------------------+------------------+\n",
      "|  4 |                     18 |                     19 |                    70 |                    69 |               88 |\n",
      "+----+------------------------+------------------------+-----------------------+-----------------------+------------------+\n",
      "|  5 |                     76 |                     54 |                   302 |                   324 |              378 |\n",
      "+----+------------------------+------------------------+-----------------------+-----------------------+------------------+\n",
      "|  6 |                     26 |                     27 |                   106 |                   105 |              132 |\n",
      "+----+------------------------+------------------------+-----------------------+-----------------------+------------------+\n",
      "|  7 |                     34 |                     36 |                   135 |                   133 |              169 |\n",
      "+----+------------------------+------------------------+-----------------------+-----------------------+------------------+\n",
      "|  8 |                     37 |                     33 |                   146 |                   150 |              183 |\n",
      "+----+------------------------+------------------------+-----------------------+-----------------------+------------------+\n",
      "|  9 |                     17 |                     44 |                    70 |                    43 |               87 |\n",
      "+----+------------------------+------------------------+-----------------------+-----------------------+------------------+\n",
      "| 10 |                     32 |                     29 |                   130 |                   133 |              162 |\n",
      "+----+------------------------+------------------------+-----------------------+-----------------------+------------------+\n",
      "| 11 |                     33 |                     32 |                   132 |                   133 |              165 |\n",
      "+----+------------------------+------------------------+-----------------------+-----------------------+------------------+\n",
      "| 12 |                     35 |                     36 |                   139 |                   138 |              174 |\n",
      "+----+------------------------+------------------------+-----------------------+-----------------------+------------------+\n",
      "| 13 |                     54 |                     62 |                   214 |                   206 |              268 |\n",
      "+----+------------------------+------------------------+-----------------------+-----------------------+------------------+\n",
      "| 14 |                     17 |                     17 |                    67 |                    67 |               84 |\n",
      "+----+------------------------+------------------------+-----------------------+-----------------------+------------------+\n",
      "| 15 |                     39 |                     50 |                   156 |                   145 |              195 |\n",
      "+----+------------------------+------------------------+-----------------------+-----------------------+------------------+\n",
      "| 16 |                     18 |                     17 |                    71 |                    72 |               89 |\n",
      "+----+------------------------+------------------------+-----------------------+-----------------------+------------------+\n",
      "| 17 |                     22 |                      9 |                    89 |                   102 |              111 |\n",
      "+----+------------------------+------------------------+-----------------------+-----------------------+------------------+\n",
      "| 18 |                     22 |                     20 |                    87 |                    89 |              109 |\n",
      "+----+------------------------+------------------------+-----------------------+-----------------------+------------------+\n",
      "| 19 |                     34 |                     24 |                   138 |                   148 |              172 |\n",
      "+----+------------------------+------------------------+-----------------------+-----------------------+------------------+\n",
      "| 20 |                     91 |                     42 |                   362 |                   411 |              453 |\n",
      "+----+------------------------+------------------------+-----------------------+-----------------------+------------------+\n",
      "| 21 |                     27 |                     22 |                   108 |                   113 |              135 |\n",
      "+----+------------------------+------------------------+-----------------------+-----------------------+------------------+\n",
      "| 22 |                     61 |                     54 |                   245 |                   252 |              306 |\n",
      "+----+------------------------+------------------------+-----------------------+-----------------------+------------------+\n",
      "| 23 |                     41 |                     41 |                   162 |                   162 |              203 |\n",
      "+----+------------------------+------------------------+-----------------------+-----------------------+------------------+\n",
      "| 24 |                     19 |                     17 |                    74 |                    76 |               93 |\n",
      "+----+------------------------+------------------------+-----------------------+-----------------------+------------------+\n",
      "| 25 |                     22 |                     38 |                    89 |                    73 |              111 |\n",
      "+----+------------------------+------------------------+-----------------------+-----------------------+------------------+\n",
      "| 26 |                     30 |                     24 |                   119 |                   125 |              149 |\n",
      "+----+------------------------+------------------------+-----------------------+-----------------------+------------------+\n",
      "| 27 |                     34 |                     28 |                   136 |                   142 |              170 |\n",
      "+----+------------------------+------------------------+-----------------------+-----------------------+------------------+\n",
      "| 28 |                     68 |                     80 |                   272 |                   260 |              340 |\n",
      "+----+------------------------+------------------------+-----------------------+-----------------------+------------------+\n",
      "| 29 |                     93 |                     60 |                   373 |                   406 |              466 |\n",
      "+----+------------------------+------------------------+-----------------------+-----------------------+------------------+\n",
      "| 30 |                     44 |                     67 |                   176 |                   153 |              220 |\n",
      "+----+------------------------+------------------------+-----------------------+-----------------------+------------------+\n",
      "| 31 |                     15 |                     15 |                    58 |                    58 |               73 |\n",
      "+----+------------------------+------------------------+-----------------------+-----------------------+------------------+\n",
      "| 32 |                     73 |                     67 |                   292 |                   298 |              365 |\n",
      "+----+------------------------+------------------------+-----------------------+-----------------------+------------------+\n"
     ]
    }
   ],
   "source": [
    "dev_df, test_df, score, best_seed = split.search_best_group_seed(df, test_size=0.2, max_attempts=500_000, min_test_segments=8)"
   ]
  },
  {
   "cell_type": "markdown",
   "id": "01757022",
   "metadata": {},
   "source": [
    "This one to run with a good seed"
   ]
  },
  {
   "cell_type": "code",
   "execution_count": null,
   "id": "93ac66b5",
   "metadata": {},
   "outputs": [],
   "source": [
    "# test_size = 0.2\n",
    "# la_seed = \n",
    "# total_segments_per_class = df.groupby('class_id')['usable_segments'].sum().sort_index()\n",
    "# test_targets = (total_segments_per_class * test_size).round().astype(int)\n",
    "\n",
    "# dev_df, test_df, score = split.try_split_with_seed(df, test_size=test_size, seed=la_seed, min_test_segments=9, target_test_segments=test_targets)"
   ]
  },
  {
   "cell_type": "code",
   "execution_count": 9,
   "id": "4a42e557",
   "metadata": {},
   "outputs": [
    {
     "data": {
      "image/png": "[encoded data removed]",
      "text/plain": [
       "<Figure size 900x600 with 1 Axes>"
      ]
     },
     "metadata": {},
     "output_type": "display_data"
    }
   ],
   "source": [
    "# Calculate sum of unique_segments for each class_id in dev and test sets\n",
    "dev_segments = dev_df.groupby('class_id')['usable_segments'].sum().sort_index().clip(upper=CLASS_CAP)\n",
    "test_segments = test_df.groupby('class_id')['usable_segments'].sum().sort_index().clip(upper=CLASS_CAP)\n",
    "\n",
    "fig, ax = plt.subplots(1, 1, figsize=(9, 6))\n",
    "\n",
    "# Plot as two separate lines\n",
    "ax.plot(dev_segments.index, dev_segments.values, marker='o', linewidth=2, label='Dev', color='blue')\n",
    "ax.plot(test_segments.index, test_segments.values, marker='s', linewidth=2, label='Test', color='red')\n",
    "\n",
    "ax.set_title('Sum of Usable Segments: Dev vs Test Sets')\n",
    "ax.set_xlabel('Class ID')\n",
    "ax.set_ylabel('Sum of Unique Segments')\n",
    "ax.legend()\n",
    "ax.grid(True, alpha=0.3)\n",
    "\n",
    "plt.tight_layout()\n",
    "plt.show()"
   ]
  },
  {
   "cell_type": "code",
   "execution_count": 10,
   "id": "ef04211a",
   "metadata": {},
   "outputs": [
    {
     "name": "stdout",
     "output_type": "stream",
     "text": [
      "Samples per class_id comparison:\n",
      "+------------+---------------+----------------+-----------------+\n",
      "|   Class ID |   Dev Samples |   Test Samples |   Total Samples |\n",
      "+============+===============+================+=================+\n",
      "|          0 |            19 |              8 |              27 |\n",
      "+------------+---------------+----------------+-----------------+\n",
      "|          1 |            19 |              7 |              26 |\n",
      "+------------+---------------+----------------+-----------------+\n",
      "|          2 |            19 |              3 |              22 |\n",
      "+------------+---------------+----------------+-----------------+\n",
      "|          3 |            11 |              8 |              19 |\n",
      "+------------+---------------+----------------+-----------------+\n",
      "|          4 |            12 |              6 |              18 |\n",
      "+------------+---------------+----------------+-----------------+\n",
      "|          5 |            52 |             11 |              63 |\n",
      "+------------+---------------+----------------+-----------------+\n",
      "|          6 |            17 |              5 |              22 |\n",
      "+------------+---------------+----------------+-----------------+\n",
      "|          7 |            21 |              6 |              27 |\n",
      "+------------+---------------+----------------+-----------------+\n",
      "|          8 |            26 |              7 |              33 |\n",
      "+------------+---------------+----------------+-----------------+\n",
      "|          9 |            11 |              8 |              19 |\n",
      "+------------+---------------+----------------+-----------------+\n",
      "|         10 |            23 |              5 |              28 |\n",
      "+------------+---------------+----------------+-----------------+\n",
      "|         11 |            22 |              5 |              27 |\n",
      "+------------+---------------+----------------+-----------------+\n",
      "|         12 |            31 |             10 |              41 |\n",
      "+------------+---------------+----------------+-----------------+\n",
      "|         13 |            34 |             12 |              46 |\n",
      "+------------+---------------+----------------+-----------------+\n",
      "|         14 |            19 |              4 |              23 |\n",
      "+------------+---------------+----------------+-----------------+\n",
      "|         15 |            20 |              8 |              28 |\n",
      "+------------+---------------+----------------+-----------------+\n",
      "|         16 |            17 |              3 |              20 |\n",
      "+------------+---------------+----------------+-----------------+\n",
      "|         17 |            23 |              4 |              27 |\n",
      "+------------+---------------+----------------+-----------------+\n",
      "|         18 |            16 |              7 |              23 |\n",
      "+------------+---------------+----------------+-----------------+\n",
      "|         19 |            25 |              8 |              33 |\n",
      "+------------+---------------+----------------+-----------------+\n",
      "|         20 |            45 |              9 |              54 |\n",
      "+------------+---------------+----------------+-----------------+\n",
      "|         21 |            22 |              6 |              28 |\n",
      "+------------+---------------+----------------+-----------------+\n",
      "|         22 |            40 |              8 |              48 |\n",
      "+------------+---------------+----------------+-----------------+\n",
      "|         23 |            40 |             11 |              51 |\n",
      "+------------+---------------+----------------+-----------------+\n",
      "|         24 |            14 |              4 |              18 |\n",
      "+------------+---------------+----------------+-----------------+\n",
      "|         25 |            21 |              9 |              30 |\n",
      "+------------+---------------+----------------+-----------------+\n",
      "|         26 |            20 |              5 |              25 |\n",
      "+------------+---------------+----------------+-----------------+\n",
      "|         27 |            20 |              8 |              28 |\n",
      "+------------+---------------+----------------+-----------------+\n",
      "|         28 |            47 |             18 |              65 |\n",
      "+------------+---------------+----------------+-----------------+\n",
      "|         29 |            49 |             12 |              61 |\n",
      "+------------+---------------+----------------+-----------------+\n",
      "|         30 |            39 |             10 |              49 |\n",
      "+------------+---------------+----------------+-----------------+\n",
      "|         31 |            16 |              3 |              19 |\n",
      "+------------+---------------+----------------+-----------------+\n",
      "|         32 |            66 |             16 |              82 |\n",
      "+------------+---------------+----------------+-----------------+\n"
     ]
    }
   ],
   "source": [
    "# Print samples per class_id in dev and test sets using tabulate for fancy formatting\n",
    "dev_samples = dev_df.groupby('class_id').size().sort_index()\n",
    "test_samples = test_df.groupby('class_id').size().sort_index()\n",
    "\n",
    "comparison_data = []\n",
    "for class_id in dev_samples.index:\n",
    "    comparison_data.append([\n",
    "        class_id,\n",
    "        dev_samples[class_id],\n",
    "        test_samples[class_id],\n",
    "        dev_samples[class_id] + test_samples[class_id]\n",
    "    ])\n",
    "\n",
    "print(\"Samples per class_id comparison:\")\n",
    "print(tabulate(comparison_data, \n",
    "                headers=['Class ID', 'Dev Samples', 'Test Samples', 'Total Samples'], \n",
    "                tablefmt='grid'))"
   ]
  },
  {
   "cell_type": "code",
   "execution_count": null,
   "id": "45f4fc7d",
   "metadata": {},
   "outputs": [
    {
     "name": "stdout",
     "output_type": "stream",
     "text": [
      "Resetting ..\\database\\audio directory...\n",
      "Loading Dev Files...\n",
      "Loading Test Files...\n"
     ]
    }
   ],
   "source": [
    "# Main\n",
    "clean_dir(audio_dir)\n",
    "\n",
    "print(\"Loading Dev Files...\")\n",
    "load_raw_audios(dev_df, birdclef_dir, audio_dir, split_name='dev')\n",
    "\n",
    "print(\"Loading Test Files...\")\n",
    "load_raw_audios(test_df, birdclef_dir, audio_dir, split_name='test')"
   ]
  },
  {
   "cell_type": "code",
   "execution_count": 12,
   "id": "151f6cc9",
   "metadata": {},
   "outputs": [
    {
     "name": "stdout",
     "output_type": "stream",
     "text": [
      "✓ No overlapping filenames between dev and test sets\n",
      "\n",
      "Dev set: 876 unique filenames\n",
      "Test set: 254 unique filenames\n",
      "Total unique filenames: 1130\n"
     ]
    }
   ],
   "source": [
    "# Check that dev_df and test_df do not share any samples with the same filename\n",
    "dev_filenames = set(dev_df['filename'])\n",
    "test_filenames = set(test_df['filename'])\n",
    "\n",
    "overlap = dev_filenames & test_filenames\n",
    "\n",
    "if overlap:\n",
    "    print(f\"WARNING: Found {len(overlap)} overlapping filenames between dev and test sets:\")\n",
    "    for filename in sorted(overlap):\n",
    "        print(f\"  - {filename}\")\n",
    "else:\n",
    "    print(\"✓ No overlapping filenames between dev and test sets\")\n",
    "\n",
    "print(f\"\\nDev set: {len(dev_filenames)} unique filenames\")\n",
    "print(f\"Test set: {len(test_filenames)} unique filenames\")\n",
    "print(f\"Total unique filenames: {len(dev_filenames | test_filenames)}\")\n",
    "\n",
    "# Print sum of usable_segments for all samples\n",
    "dev_total_segments = dev_df['usable_segments'].sum()\n",
    "test_total_segments = test_df['usable_segments'].sum()\n",
    "total_segments = df['usable_segments'].sum()"
   ]
  },
  {
   "cell_type": "code",
   "execution_count": 13,
   "id": "cb188c76",
   "metadata": {},
   "outputs": [
    {
     "name": "stdout",
     "output_type": "stream",
     "text": [
      "\n",
      "Usable segments summary (capped at 100 per class):\n",
      "Dev set total segments: 2,987\n",
      "Test set total segments: 1,150\n",
      "Total segments in dataset: 4,137\n",
      "Dev percentage: 72.2%\n",
      "Test percentage: 27.8%\n",
      "\n",
      "Comparison with original values:\n",
      "Original dev segments: 4,945 → Capped: 2,987\n",
      "Original test segments: 1,150 → Capped: 1,150\n",
      "Original total segments: 6,095 → Capped: 4,137\n"
     ]
    }
   ],
   "source": [
    "# Simulate capping usable_segments at 100 for each class_id\n",
    "dev_capped_segments = dev_df.groupby('class_id')['usable_segments'].sum().sort_index().clip(upper=CLASS_CAP)\n",
    "test_capped_segments = test_df.groupby('class_id')['usable_segments'].sum().sort_index().clip(upper=CLASS_CAP)\n",
    "total_capped_segments = dev_capped_segments + test_capped_segments\n",
    "\n",
    "print(f\"\\nUsable segments summary (capped at 100 per class):\")\n",
    "print(f\"Dev set total segments: {dev_capped_segments.sum():,}\")\n",
    "print(f\"Test set total segments: {test_capped_segments.sum():,}\")\n",
    "print(f\"Total segments in dataset: {total_capped_segments.sum():,}\")\n",
    "print(f\"Dev percentage: {dev_capped_segments.sum()/total_capped_segments.sum():.1%}\")\n",
    "print(f\"Test percentage: {test_capped_segments.sum()/total_capped_segments.sum():.1%}\")\n",
    "\n",
    "print(f\"\\nComparison with original values:\")\n",
    "print(f\"Original dev segments: {dev_total_segments:,} → Capped: {dev_capped_segments.sum():,}\")\n",
    "print(f\"Original test segments: {test_total_segments:,} → Capped: {test_capped_segments.sum():,}\")\n",
    "print(f\"Original total segments: {total_segments:,} → Capped: {total_capped_segments.sum():,}\")"
   ]
  },
  {
   "cell_type": "code",
   "execution_count": 14,
   "id": "a1ba14c5",
   "metadata": {},
   "outputs": [
    {
     "name": "stdout",
     "output_type": "stream",
     "text": [
      "Unique authors per class_id in dev set:\n",
      "+------------+------------------+\n",
      "|   Class ID |   Unique Authors |\n",
      "+============+==================+\n",
      "|          0 |               13 |\n",
      "+------------+------------------+\n",
      "|          1 |               12 |\n",
      "+------------+------------------+\n",
      "|          2 |                8 |\n",
      "+------------+------------------+\n",
      "|          3 |                8 |\n",
      "+------------+------------------+\n",
      "|          4 |               11 |\n",
      "+------------+------------------+\n",
      "|          5 |               26 |\n",
      "+------------+------------------+\n",
      "|          6 |               13 |\n",
      "+------------+------------------+\n",
      "|          7 |               13 |\n",
      "+------------+------------------+\n",
      "|          8 |               18 |\n",
      "+------------+------------------+\n",
      "|          9 |               11 |\n",
      "+------------+------------------+\n",
      "|         10 |               14 |\n",
      "+------------+------------------+\n",
      "|         11 |               13 |\n",
      "+------------+------------------+\n",
      "|         12 |               15 |\n",
      "+------------+------------------+\n",
      "|         13 |               16 |\n",
      "+------------+------------------+\n",
      "|         14 |               13 |\n",
      "+------------+------------------+\n",
      "|         15 |               18 |\n",
      "+------------+------------------+\n",
      "|         16 |               10 |\n",
      "+------------+------------------+\n",
      "|         17 |               14 |\n",
      "+------------+------------------+\n",
      "|         18 |                9 |\n",
      "+------------+------------------+\n",
      "|         19 |               16 |\n",
      "+------------+------------------+\n",
      "|         20 |               15 |\n",
      "+------------+------------------+\n",
      "|         21 |               15 |\n",
      "+------------+------------------+\n",
      "|         22 |               19 |\n",
      "+------------+------------------+\n",
      "|         23 |               16 |\n",
      "+------------+------------------+\n",
      "|         24 |               11 |\n",
      "+------------+------------------+\n",
      "|         25 |               10 |\n",
      "+------------+------------------+\n",
      "|         26 |               16 |\n",
      "+------------+------------------+\n",
      "|         27 |               11 |\n",
      "+------------+------------------+\n",
      "|         28 |               28 |\n",
      "+------------+------------------+\n",
      "|         29 |               21 |\n",
      "+------------+------------------+\n",
      "|         30 |               19 |\n",
      "+------------+------------------+\n",
      "|         31 |               13 |\n",
      "+------------+------------------+\n",
      "|         32 |               28 |\n",
      "+------------+------------------+\n",
      "\n",
      "Total unique authors in dev set: 107\n"
     ]
    }
   ],
   "source": [
    "# Print unique authors for each class_id in the dev set\n",
    "dev_authors_by_class = dev_df.groupby('class_id')['author'].nunique().sort_index()\n",
    "\n",
    "print(\"Unique authors per class_id in dev set:\")\n",
    "print(tabulate([(class_id, count) for class_id, count in dev_authors_by_class.items()], \n",
    "                headers=['Class ID', 'Unique Authors'], \n",
    "                tablefmt='grid'))\n",
    "\n",
    "print(f\"\\nTotal unique authors in dev set: {dev_df['author'].nunique()}\")"
   ]
  },
  {
   "cell_type": "code",
   "execution_count": 15,
   "id": "a311f916",
   "metadata": {},
   "outputs": [],
   "source": [
    "# CSV with only dev species\n",
    "dev_data_path = os.path.join('..', 'database', 'meta', 'dev_data.csv')\n",
    "dev_df.to_csv(dev_data_path, index=False)\n",
    "\n",
    "# CSV with only test species\n",
    "test_data_path = os.path.join('..', 'database', 'meta', 'test_data.csv')\n",
    "test_df.to_csv(test_data_path, index=False)"
   ]
  }
 ],
 "metadata": {
  "kernelspec": {
   "display_name": "birds",
   "language": "python",
   "name": "python3"
  },
  "language_info": {
   "codemirror_mode": {
    "name": "ipython",
    "version": 3
   },
   "file_extension": ".py",
   "mimetype": "text/x-python",
   "name": "python",
   "nbconvert_exporter": "python",
   "pygments_lexer": "ipython3",
   "version": "3.13.4"
  }
 },
 "nbformat": 4,
 "nbformat_minor": 5
}
