{
 "cells": [
  {
   "cell_type": "code",
   "execution_count": null,
   "id": "c8f98959",
   "metadata": {},
   "outputs": [],
   "source": [
    "import os, sys\n",
    "import shutil\n",
    "import pandas as pd\n",
    "\n",
    "sys.path.append(os.path.abspath(os.path.join(os.getcwd(), '..'))) # Para no tener problemas de relative imports with packages\n",
    "from utils import util"
   ]
  },
  {
   "cell_type": "code",
   "execution_count": null,
   "id": "72bc338c",
   "metadata": {},
   "outputs": [],
   "source": [
    "# Functions\n",
    "def load_raw_audios(dataframe, source, dest):\n",
    "    ''' Searches in the source dir, the audio files present in the dataframe and copies them to the dest dir.'''\n",
    "    for _, row in dataframe.iterrows():\n",
    "        primary_label = row['primary_label']\n",
    "        filename = row['filename']\n",
    "        \n",
    "        source_path = os.path.join(source, primary_label, filename)\n",
    "        destination_path = os.path.join(dest, filename)\n",
    "\n",
    "        if os.path.exists(source_path):\n",
    "            shutil.copy2(source_path, destination_path)"
   ]
  },
  {
   "cell_type": "code",
   "execution_count": null,
   "id": "d4f45b4b",
   "metadata": {},
   "outputs": [],
   "source": [
    "df = pd.read_csv(os.path.join('..', 'database', 'meta', 'final_species.csv'))\n",
    "\n",
    "repo_root = os.path.abspath(os.path.join(os.getcwd(), '..'))\n",
    "os.chdir(repo_root)\n",
    "\n",
    "audios_dir = os.path.join('..', 'data', 'birdclef-2021', 'train_short_audio')\n",
    "oggs_dir = os.path.join('..', 'database', 'assets', 'raw')"
   ]
  },
  {
   "cell_type": "code",
   "execution_count": null,
   "id": "45f4fc7d",
   "metadata": {},
   "outputs": [
    {
     "name": "stdout",
     "output_type": "stream",
     "text": [
      "Resetting raw audio files...\n",
      "Loading raw audio files...\n"
     ]
    }
   ],
   "source": [
    "# Reset, then load the raw audio files\n",
    "print(\"Resetting raw audio files...\")\n",
    "util.clean_dir(oggs_dir)\n",
    "\n",
    "print(\"Loading raw audio files...\")\n",
    "load_raw_audios(df, audios_dir, oggs_dir)"
   ]
  }
 ],
 "metadata": {
  "kernelspec": {
   "display_name": "birds",
   "language": "python",
   "name": "python3"
  },
  "language_info": {
   "codemirror_mode": {
    "name": "ipython",
    "version": 3
   },
   "file_extension": ".py",
   "mimetype": "text/x-python",
   "name": "python",
   "nbconvert_exporter": "python",
   "pygments_lexer": "ipython3",
   "version": "3.13.4"
  }
 },
 "nbformat": 4,
 "nbformat_minor": 5
}
