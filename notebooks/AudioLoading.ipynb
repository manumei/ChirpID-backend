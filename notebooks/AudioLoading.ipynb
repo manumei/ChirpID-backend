{
 "cells": [
  {
   "cell_type": "code",
   "execution_count": null,
   "id": "2175c270",
   "metadata": {},
   "outputs": [],
   "source": [
    "import os, sys\n",
    "import shutil\n",
    "import pandas as pd\n",
    "import matplotlib.pyplot as plt\n",
    "import numpy as np\n",
    "from tabulate import tabulate\n",
    "\n",
    "sys.path.append(os.path.abspath(os.path.join(os.getcwd(), '..'))) # Para no tener problemas de relative imports with packages\n",
    "import utils.split as split\n",
    "from utils.data_processing import clean_dir"
   ]
  },
  {
   "cell_type": "code",
   "execution_count": null,
   "id": "f3f9255e",
   "metadata": {},
   "outputs": [],
   "source": [
    "CLASS_CAP = 105"
   ]
  },
  {
   "cell_type": "code",
   "execution_count": null,
   "id": "72bc338c",
   "metadata": {},
   "outputs": [],
   "source": [
    "# Functions\n",
    "def load_raw_audios(dataframe, source, dest_root, split_name):\n",
    "    '''Copies dataframe-selected audio files from source to dest_root/split_name/'''\n",
    "    dest = os.path.join(dest_root, split_name)\n",
    "    os.makedirs(dest, exist_ok=True)\n",
    "\n",
    "    for _, row in dataframe.iterrows():\n",
    "        primary_label = row['primary_label']\n",
    "        filename = row['filename']\n",
    "        \n",
    "        source_path = os.path.join(source, primary_label, filename)\n",
    "        destination_path = os.path.join(dest, filename)\n",
    "\n",
    "        if os.path.exists(source_path):\n",
    "            shutil.copy2(source_path, destination_path)"
   ]
  },
  {
   "cell_type": "code",
   "execution_count": null,
   "id": "d4f45b4b",
   "metadata": {},
   "outputs": [],
   "source": [
    "# Paths\n",
    "df = pd.read_csv(os.path.join('..', 'database', 'meta', 'final_species.csv')) \n",
    "birdclef_dir = os.path.join('..', 'data', 'birdclef-2021', 'train_short_audio')\n",
    "audio_dir = os.path.join('..', 'database', 'audio')"
   ]
  },
  {
   "cell_type": "markdown",
   "id": "b17fdb3e",
   "metadata": {},
   "source": [
    "This one to test stratified seeds"
   ]
  },
  {
   "cell_type": "code",
   "execution_count": null,
   "id": "7a9569ce",
   "metadata": {},
   "outputs": [],
   "source": [
    "dev_df, test_df, score, best_seed = split.search_best_group_seed(df, test_size=0.2, max_attempts=500_000, min_test_segments=8)"
   ]
  },
  {
   "cell_type": "markdown",
   "id": "01757022",
   "metadata": {},
   "source": [
    "This one to run with a good seed"
   ]
  },
  {
   "cell_type": "code",
   "execution_count": null,
   "id": "93ac66b5",
   "metadata": {},
   "outputs": [],
   "source": [
    "# test_size = 0.2\n",
    "# la_seed = \n",
    "# total_segments_per_class = df.groupby('class_id')['usable_segments'].sum().sort_index()\n",
    "# test_targets = (total_segments_per_class * test_size).round().astype(int)\n",
    "\n",
    "# dev_df, test_df, score = split.try_split_with_seed(df, test_size=test_size, seed=la_seed, min_test_segments=9, target_test_segments=test_targets)"
   ]
  },
  {
   "cell_type": "code",
   "execution_count": null,
   "id": "4a42e557",
   "metadata": {},
   "outputs": [],
   "source": [
    "# Calculate sum of unique_segments for each class_id in dev and test sets\n",
    "dev_segments = dev_df.groupby('class_id')['usable_segments'].sum().sort_index().clip(upper=CLASS_CAP)\n",
    "test_segments = test_df.groupby('class_id')['usable_segments'].sum().sort_index().clip(upper=CLASS_CAP)\n",
    "\n",
    "fig, ax = plt.subplots(1, 1, figsize=(9, 6))\n",
    "\n",
    "# Plot as two separate lines\n",
    "ax.plot(dev_segments.index, dev_segments.values, marker='o', linewidth=2, label='Dev', color='blue')\n",
    "ax.plot(test_segments.index, test_segments.values, marker='s', linewidth=2, label='Test', color='red')\n",
    "\n",
    "ax.set_title('Sum of Usable Segments: Dev vs Test Sets')\n",
    "ax.set_xlabel('Class ID')\n",
    "ax.set_ylabel('Sum of Unique Segments')\n",
    "ax.legend()\n",
    "ax.grid(True, alpha=0.3)\n",
    "\n",
    "plt.tight_layout()\n",
    "plt.show()"
   ]
  },
  {
   "cell_type": "code",
   "execution_count": null,
   "id": "ef04211a",
   "metadata": {},
   "outputs": [],
   "source": [
    "# Print samples per class_id in dev and test sets using tabulate for fancy formatting\n",
    "dev_samples = dev_df.groupby('class_id').size().sort_index()\n",
    "test_samples = test_df.groupby('class_id').size().sort_index()\n",
    "\n",
    "comparison_data = []\n",
    "for class_id in dev_samples.index:\n",
    "    comparison_data.append([\n",
    "        class_id,\n",
    "        dev_samples[class_id],\n",
    "        test_samples[class_id],\n",
    "        dev_samples[class_id] + test_samples[class_id]\n",
    "    ])\n",
    "\n",
    "print(\"Samples per class_id comparison:\")\n",
    "print(tabulate(comparison_data, \n",
    "                headers=['Class ID', 'Dev Samples', 'Test Samples', 'Total Samples'], \n",
    "                tablefmt='grid'))"
   ]
  },
  {
   "cell_type": "code",
   "execution_count": null,
   "id": "45f4fc7d",
   "metadata": {},
   "outputs": [],
   "source": [
    "# Main\n",
    "clean_dir(audio_dir)\n",
    "\n",
    "print(\"Loading Dev Files...\")\n",
    "load_raw_audios(dev_df, birdclef_dir, audio_dir, split_name='dev')\n",
    "\n",
    "print(\"Loading Test Files...\")\n",
    "load_raw_audios(test_df, birdclef_dir, audio_dir, split_name='test')"
   ]
  },
  {
   "cell_type": "code",
   "execution_count": null,
   "id": "151f6cc9",
   "metadata": {},
   "outputs": [],
   "source": [
    "# Check that dev_df and test_df do not share any samples with the same filename\n",
    "dev_filenames = set(dev_df['filename'])\n",
    "test_filenames = set(test_df['filename'])\n",
    "\n",
    "overlap = dev_filenames & test_filenames\n",
    "\n",
    "if overlap:\n",
    "    print(f\"WARNING: Found {len(overlap)} overlapping filenames between dev and test sets:\")\n",
    "    for filename in sorted(overlap):\n",
    "        print(f\"  - {filename}\")\n",
    "else:\n",
    "    print(\"✓ No overlapping filenames between dev and test sets\")\n",
    "\n",
    "print(f\"\\nDev set: {len(dev_filenames)} unique filenames\")\n",
    "print(f\"Test set: {len(test_filenames)} unique filenames\")\n",
    "print(f\"Total unique filenames: {len(dev_filenames | test_filenames)}\")\n",
    "\n",
    "# Print sum of usable_segments for all samples\n",
    "dev_total_segments = dev_df['usable_segments'].sum()\n",
    "test_total_segments = test_df['usable_segments'].sum()\n",
    "total_segments = df['usable_segments'].sum()"
   ]
  },
  {
   "cell_type": "code",
   "execution_count": null,
   "id": "cb188c76",
   "metadata": {},
   "outputs": [],
   "source": [
    "# Simulate capping usable_segments at 100 for each class_id\n",
    "dev_capped_segments = dev_df.groupby('class_id')['usable_segments'].sum().sort_index().clip(upper=CLASS_CAP)\n",
    "test_capped_segments = test_df.groupby('class_id')['usable_segments'].sum().sort_index().clip(upper=CLASS_CAP)\n",
    "total_capped_segments = dev_capped_segments + test_capped_segments\n",
    "\n",
    "print(f\"\\nUsable segments summary (capped at 100 per class):\")\n",
    "print(f\"Dev set total segments: {dev_capped_segments.sum():,}\")\n",
    "print(f\"Test set total segments: {test_capped_segments.sum():,}\")\n",
    "print(f\"Total segments in dataset: {total_capped_segments.sum():,}\")\n",
    "print(f\"Dev percentage: {dev_capped_segments.sum()/total_capped_segments.sum():.1%}\")\n",
    "print(f\"Test percentage: {test_capped_segments.sum()/total_capped_segments.sum():.1%}\")\n",
    "\n",
    "print(f\"\\nComparison with original values:\")\n",
    "print(f\"Original dev segments: {dev_total_segments:,} → Capped: {dev_capped_segments.sum():,}\")\n",
    "print(f\"Original test segments: {test_total_segments:,} → Capped: {test_capped_segments.sum():,}\")\n",
    "print(f\"Original total segments: {total_segments:,} → Capped: {total_capped_segments.sum():,}\")"
   ]
  },
  {
   "cell_type": "code",
   "execution_count": null,
   "id": "a1ba14c5",
   "metadata": {},
   "outputs": [],
   "source": [
    "# Print unique authors for each class_id in the dev set\n",
    "dev_authors_by_class = dev_df.groupby('class_id')['author'].nunique().sort_index()\n",
    "\n",
    "print(\"Unique authors per class_id in dev set:\")\n",
    "print(tabulate([(class_id, count) for class_id, count in dev_authors_by_class.items()], \n",
    "                headers=['Class ID', 'Unique Authors'], \n",
    "                tablefmt='grid'))\n",
    "\n",
    "print(f\"\\nTotal unique authors in dev set: {dev_df['author'].nunique()}\")"
   ]
  },
  {
   "cell_type": "code",
   "execution_count": null,
   "id": "a311f916",
   "metadata": {},
   "outputs": [],
   "source": [
    "# CSV with only dev species\n",
    "dev_data_path = os.path.join('..', 'database', 'meta', 'dev_data.csv')\n",
    "dev_df.to_csv(dev_data_path, index=False)\n",
    "\n",
    "# CSV with only test species\n",
    "test_data_path = os.path.join('..', 'database', 'meta', 'test_data.csv')\n",
    "test_df.to_csv(test_data_path, index=False)"
   ]
  }
 ],
 "metadata": {
  "kernelspec": {
   "display_name": "birds",
   "language": "python",
   "name": "python3"
  },
  "language_info": {
   "codemirror_mode": {
    "name": "ipython",
    "version": 3
   },
   "file_extension": ".py",
   "mimetype": "text/x-python",
   "name": "python",
   "nbconvert_exporter": "python",
   "pygments_lexer": "ipython3",
   "version": "3.13.4"
  }
 },
 "nbformat": 4,
 "nbformat_minor": 5
}
