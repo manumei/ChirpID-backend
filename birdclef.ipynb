{
 "cells": [
  {
   "cell_type": "code",
   "execution_count": 1,
   "id": "abb40dce",
   "metadata": {},
   "outputs": [],
   "source": [
    "import matplotlib.pyplot as plt\n",
    "import pandas as pd\n",
    "from collections import defaultdict"
   ]
  },
  {
   "cell_type": "code",
   "execution_count": null,
   "id": "125592be",
   "metadata": {},
   "outputs": [],
   "source": [
    "# Work is done, csv ya procesado\n",
    "# # Load original CSV\n",
    "# df = pd.read_csv('data/birdclef-2021/train_metadata.csv')\n",
    "\n",
    "# # Drop rows without coordinates\n",
    "# df = df.dropna(subset=['latitude', 'longitude', 'filename'])\n",
    "\n",
    "# # Keep only specified columns\n",
    "# cols = ['primary_label', 'latitude', 'longitude', 'scientific_name', 'common_name', 'filename', 'rating']\n",
    "# df = df[cols]\n",
    "\n",
    "# # Overwrite original file\n",
    "# df.to_csv('data/birdclef-2021/train_metadata.csv', index=False)\n",
    "# df.to_csv('database/train_metadata.csv', index=False)\n",
    "\n",
    "# # Preview\n",
    "# df.head(n=10)"
   ]
  },
  {
   "cell_type": "code",
   "execution_count": 7,
   "id": "82531a61",
   "metadata": {},
   "outputs": [
    {
     "data": {
      "application/vnd.microsoft.datawrangler.viewer.v0+json": {
       "columns": [
        {
         "name": "index",
         "rawType": "int64",
         "type": "integer"
        },
        {
         "name": "primary_label",
         "rawType": "object",
         "type": "string"
        },
        {
         "name": "latitude",
         "rawType": "float64",
         "type": "float"
        },
        {
         "name": "longitude",
         "rawType": "float64",
         "type": "float"
        },
        {
         "name": "scientific_name",
         "rawType": "object",
         "type": "string"
        },
        {
         "name": "common_name",
         "rawType": "object",
         "type": "string"
        },
        {
         "name": "filename",
         "rawType": "object",
         "type": "string"
        },
        {
         "name": "rating",
         "rawType": "float64",
         "type": "float"
        }
       ],
       "ref": "79a16995-5f2e-4242-b60d-e174b6c12ba9",
       "rows": [
        [
         "0",
         "acafly",
         "35.386",
         "-84.125",
         "Empidonax virescens",
         "Acadian Flycatcher",
         "XC109605.ogg",
         "2.5"
        ],
        [
         "1",
         "acafly",
         "9.1334",
         "-79.6501",
         "Empidonax virescens",
         "Acadian Flycatcher",
         "XC11209.ogg",
         "3.0"
        ],
        [
         "2",
         "acafly",
         "5.7813",
         "-75.7452",
         "Empidonax virescens",
         "Acadian Flycatcher",
         "XC127032.ogg",
         "3.0"
        ],
        [
         "3",
         "acafly",
         "4.6717",
         "-75.6283",
         "Empidonax virescens",
         "Acadian Flycatcher",
         "XC129974.ogg",
         "3.5"
        ],
        [
         "4",
         "acafly",
         "4.6717",
         "-75.6283",
         "Empidonax virescens",
         "Acadian Flycatcher",
         "XC129981.ogg",
         "3.5"
        ],
        [
         "5",
         "acafly",
         "4.6717",
         "-75.6283",
         "Empidonax virescens",
         "Acadian Flycatcher",
         "XC130056.ogg",
         "4.0"
        ],
        [
         "6",
         "acafly",
         "4.6717",
         "-75.6283",
         "Empidonax virescens",
         "Acadian Flycatcher",
         "XC130133.ogg",
         "4.0"
        ],
        [
         "7",
         "acafly",
         "4.6717",
         "-75.6283",
         "Empidonax virescens",
         "Acadian Flycatcher",
         "XC130140.ogg",
         "4.0"
        ],
        [
         "8",
         "acafly",
         "4.6717",
         "-75.6283",
         "Empidonax virescens",
         "Acadian Flycatcher",
         "XC130750.ogg",
         "4.0"
        ],
        [
         "9",
         "acafly",
         "4.6717",
         "-75.6283",
         "Empidonax virescens",
         "Acadian Flycatcher",
         "XC131193.ogg",
         "3.0"
        ]
       ],
       "shape": {
        "columns": 7,
        "rows": 10
       }
      },
      "text/html": [
       "<div>\n",
       "<style scoped>\n",
       "    .dataframe tbody tr th:only-of-type {\n",
       "        vertical-align: middle;\n",
       "    }\n",
       "\n",
       "    .dataframe tbody tr th {\n",
       "        vertical-align: top;\n",
       "    }\n",
       "\n",
       "    .dataframe thead th {\n",
       "        text-align: right;\n",
       "    }\n",
       "</style>\n",
       "<table border=\"1\" class=\"dataframe\">\n",
       "  <thead>\n",
       "    <tr style=\"text-align: right;\">\n",
       "      <th></th>\n",
       "      <th>primary_label</th>\n",
       "      <th>latitude</th>\n",
       "      <th>longitude</th>\n",
       "      <th>scientific_name</th>\n",
       "      <th>common_name</th>\n",
       "      <th>filename</th>\n",
       "      <th>rating</th>\n",
       "    </tr>\n",
       "  </thead>\n",
       "  <tbody>\n",
       "    <tr>\n",
       "      <th>0</th>\n",
       "      <td>acafly</td>\n",
       "      <td>35.3860</td>\n",
       "      <td>-84.1250</td>\n",
       "      <td>Empidonax virescens</td>\n",
       "      <td>Acadian Flycatcher</td>\n",
       "      <td>XC109605.ogg</td>\n",
       "      <td>2.5</td>\n",
       "    </tr>\n",
       "    <tr>\n",
       "      <th>1</th>\n",
       "      <td>acafly</td>\n",
       "      <td>9.1334</td>\n",
       "      <td>-79.6501</td>\n",
       "      <td>Empidonax virescens</td>\n",
       "      <td>Acadian Flycatcher</td>\n",
       "      <td>XC11209.ogg</td>\n",
       "      <td>3.0</td>\n",
       "    </tr>\n",
       "    <tr>\n",
       "      <th>2</th>\n",
       "      <td>acafly</td>\n",
       "      <td>5.7813</td>\n",
       "      <td>-75.7452</td>\n",
       "      <td>Empidonax virescens</td>\n",
       "      <td>Acadian Flycatcher</td>\n",
       "      <td>XC127032.ogg</td>\n",
       "      <td>3.0</td>\n",
       "    </tr>\n",
       "    <tr>\n",
       "      <th>3</th>\n",
       "      <td>acafly</td>\n",
       "      <td>4.6717</td>\n",
       "      <td>-75.6283</td>\n",
       "      <td>Empidonax virescens</td>\n",
       "      <td>Acadian Flycatcher</td>\n",
       "      <td>XC129974.ogg</td>\n",
       "      <td>3.5</td>\n",
       "    </tr>\n",
       "    <tr>\n",
       "      <th>4</th>\n",
       "      <td>acafly</td>\n",
       "      <td>4.6717</td>\n",
       "      <td>-75.6283</td>\n",
       "      <td>Empidonax virescens</td>\n",
       "      <td>Acadian Flycatcher</td>\n",
       "      <td>XC129981.ogg</td>\n",
       "      <td>3.5</td>\n",
       "    </tr>\n",
       "    <tr>\n",
       "      <th>5</th>\n",
       "      <td>acafly</td>\n",
       "      <td>4.6717</td>\n",
       "      <td>-75.6283</td>\n",
       "      <td>Empidonax virescens</td>\n",
       "      <td>Acadian Flycatcher</td>\n",
       "      <td>XC130056.ogg</td>\n",
       "      <td>4.0</td>\n",
       "    </tr>\n",
       "    <tr>\n",
       "      <th>6</th>\n",
       "      <td>acafly</td>\n",
       "      <td>4.6717</td>\n",
       "      <td>-75.6283</td>\n",
       "      <td>Empidonax virescens</td>\n",
       "      <td>Acadian Flycatcher</td>\n",
       "      <td>XC130133.ogg</td>\n",
       "      <td>4.0</td>\n",
       "    </tr>\n",
       "    <tr>\n",
       "      <th>7</th>\n",
       "      <td>acafly</td>\n",
       "      <td>4.6717</td>\n",
       "      <td>-75.6283</td>\n",
       "      <td>Empidonax virescens</td>\n",
       "      <td>Acadian Flycatcher</td>\n",
       "      <td>XC130140.ogg</td>\n",
       "      <td>4.0</td>\n",
       "    </tr>\n",
       "    <tr>\n",
       "      <th>8</th>\n",
       "      <td>acafly</td>\n",
       "      <td>4.6717</td>\n",
       "      <td>-75.6283</td>\n",
       "      <td>Empidonax virescens</td>\n",
       "      <td>Acadian Flycatcher</td>\n",
       "      <td>XC130750.ogg</td>\n",
       "      <td>4.0</td>\n",
       "    </tr>\n",
       "    <tr>\n",
       "      <th>9</th>\n",
       "      <td>acafly</td>\n",
       "      <td>4.6717</td>\n",
       "      <td>-75.6283</td>\n",
       "      <td>Empidonax virescens</td>\n",
       "      <td>Acadian Flycatcher</td>\n",
       "      <td>XC131193.ogg</td>\n",
       "      <td>3.0</td>\n",
       "    </tr>\n",
       "  </tbody>\n",
       "</table>\n",
       "</div>"
      ],
      "text/plain": [
       "  primary_label  latitude  longitude      scientific_name         common_name  \\\n",
       "0        acafly   35.3860   -84.1250  Empidonax virescens  Acadian Flycatcher   \n",
       "1        acafly    9.1334   -79.6501  Empidonax virescens  Acadian Flycatcher   \n",
       "2        acafly    5.7813   -75.7452  Empidonax virescens  Acadian Flycatcher   \n",
       "3        acafly    4.6717   -75.6283  Empidonax virescens  Acadian Flycatcher   \n",
       "4        acafly    4.6717   -75.6283  Empidonax virescens  Acadian Flycatcher   \n",
       "5        acafly    4.6717   -75.6283  Empidonax virescens  Acadian Flycatcher   \n",
       "6        acafly    4.6717   -75.6283  Empidonax virescens  Acadian Flycatcher   \n",
       "7        acafly    4.6717   -75.6283  Empidonax virescens  Acadian Flycatcher   \n",
       "8        acafly    4.6717   -75.6283  Empidonax virescens  Acadian Flycatcher   \n",
       "9        acafly    4.6717   -75.6283  Empidonax virescens  Acadian Flycatcher   \n",
       "\n",
       "       filename  rating  \n",
       "0  XC109605.ogg     2.5  \n",
       "1   XC11209.ogg     3.0  \n",
       "2  XC127032.ogg     3.0  \n",
       "3  XC129974.ogg     3.5  \n",
       "4  XC129981.ogg     3.5  \n",
       "5  XC130056.ogg     4.0  \n",
       "6  XC130133.ogg     4.0  \n",
       "7  XC130140.ogg     4.0  \n",
       "8  XC130750.ogg     4.0  \n",
       "9  XC131193.ogg     3.0  "
      ]
     },
     "execution_count": 7,
     "metadata": {},
     "output_type": "execute_result"
    }
   ],
   "source": [
    "df = pd.read_csv('database/train_metadata.csv')\n",
    "df.head(n=10)"
   ]
  },
  {
   "cell_type": "code",
   "execution_count": 8,
   "id": "78c241d0",
   "metadata": {},
   "outputs": [],
   "source": [
    "# Bounding box for Latin America (min_lat, max_lat, min_lon, max_lon)\n",
    "latin_america_bounds = {\n",
    "    \"lat\": (-57.0, 11),\n",
    "    \"lon\": (-80, -33)\n",
    "}"
   ]
  },
  {
   "cell_type": "code",
   "execution_count": null,
   "id": "b6212fce",
   "metadata": {},
   "outputs": [
    {
     "name": "stdout",
     "output_type": "stream",
     "text": [
      "Distinct species in region: 210\n"
     ]
    }
   ],
   "source": [
    "region_species = set()\n",
    "\n",
    "for _, row in df.iterrows():\n",
    "    lat, lon = row['latitude'], row['longitude']\n",
    "    if latin_america_bounds['lat'][0] <= lat <= latin_america_bounds['lat'][1] and \\\n",
    "        latin_america_bounds['lon'][0] <= lon <= latin_america_bounds['lon'][1]:\n",
    "        region_species.add(row['scientific_name'])\n",
    "\n",
    "print(f\"Distinct species in region: {len(region_species)}\")"
   ]
  },
  {
   "cell_type": "code",
   "execution_count": 13,
   "id": "664782f9",
   "metadata": {},
   "outputs": [],
   "source": [
    "def in_region(lat, lon):\n",
    "    return (latin_america_bounds['lat'][0] <= lat <= latin_america_bounds['lat'][1] and\n",
    "            latin_america_bounds['lon'][0] <= lon <= latin_america_bounds['lon'][1])\n",
    "\n",
    "df['region'] = df.apply(lambda row: 'Latin America' if in_region(row['latitude'], row['longitude']) else None, axis=1)\n",
    "region_df = df[df['region'].notna()][['primary_label', 'latitude', 'longitude', 'scientific_name', 'region']]\n",
    "\n",
    "# Add sample count per species\n",
    "species_counts = region_df['scientific_name'].value_counts().to_dict()\n",
    "region_df['amount_of_samples'] = region_df['scientific_name'].map(species_counts)\n",
    "\n",
    "# Save to CSV\n",
    "region_df.to_csv('latin_america_species.csv', index=False)\n"
   ]
  },
  {
   "cell_type": "code",
   "execution_count": null,
   "id": "99a227ad",
   "metadata": {},
   "outputs": [
    {
     "data": {
      "image/png": "[encoded data removed]",
      "text/plain": [
       "<Figure size 1200x600 with 1 Axes>"
      ]
     },
     "metadata": {},
     "output_type": "display_data"
    }
   ],
   "source": [
    "species_counts = region_df['scientific_name'].value_counts()\n",
    "\n",
    "plt.figure(figsize=(12, 6))\n",
    "species_counts.hist(bins=30, edgecolor='black')\n",
    "plt.xlabel('Number of Samples')\n",
    "plt.ylabel('Number of Species')\n",
    "plt.title('Distribution of Samples per Species')\n",
    "plt.grid(True)\n",
    "plt.tight_layout()\n",
    "plt.show()"
   ]
  },
  {
   "cell_type": "code",
   "execution_count": null,
   "id": "e6a9d604",
   "metadata": {},
   "outputs": [
    {
     "data": {
      "image/png": "[encoded data removed]",
      "text/plain": [
       "<Figure size 1200x600 with 1 Axes>"
      ]
     },
     "metadata": {},
     "output_type": "display_data"
    }
   ],
   "source": [
    "species_counts_filtered = species_counts[species_counts > 3]\n",
    "filtered_region_df = region_df[region_df['scientific_name'].isin(species_counts_filtered.index)]\n",
    "\n",
    "plt.figure(figsize=(12, 6))\n",
    "species_counts_filtered[species_counts_filtered <= 20].hist(bins=20, edgecolor='black')\n",
    "plt.xlabel('Number of Samples')\n",
    "plt.ylabel('Number of Species')\n",
    "plt.title('Distribution of Samples Species with 4+ Samples')\n",
    "plt.grid(True)\n",
    "plt.tight_layout()\n",
    "plt.show()"
   ]
  },
  {
   "cell_type": "code",
   "execution_count": 16,
   "id": "8319ac6d",
   "metadata": {},
   "outputs": [
    {
     "name": "stdout",
     "output_type": "stream",
     "text": [
      "Total samples: 17516\n",
      "Total distinct species: 190\n"
     ]
    }
   ],
   "source": [
    "# Save to CSV\n",
    "filtered_region_df.to_csv('final_species_america.csv', index=False)\n",
    "\n",
    "total_samples = len(filtered_region_df)\n",
    "total_species = filtered_region_df['scientific_name'].nunique()\n",
    "\n",
    "print(f\"Total samples: {total_samples}\")\n",
    "print(f\"Total distinct species: {total_species}\")"
   ]
  }
 ],
 "metadata": {
  "kernelspec": {
   "display_name": "birds",
   "language": "python",
   "name": "python3"
  },
  "language_info": {
   "codemirror_mode": {
    "name": "ipython",
    "version": 3
   },
   "file_extension": ".py",
   "mimetype": "text/x-python",
   "name": "python",
   "nbconvert_exporter": "python",
   "pygments_lexer": "ipython3",
   "version": "3.13.4"
  }
 },
 "nbformat": 4,
 "nbformat_minor": 5
}
